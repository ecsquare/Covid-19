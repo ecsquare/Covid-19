{
  "nbformat": 4,
  "nbformat_minor": 0,
  "metadata": {
    "colab": {
      "name": "RandomforstwithSparke.ipynb",
      "provenance": [],
      "collapsed_sections": [],
      "authorship_tag": "ABX9TyNaDT1kj/CDrE79MoHjQoP6",
      "include_colab_link": true
    },
    "kernelspec": {
      "name": "python3",
      "display_name": "Python 3"
    }
  },
  "cells": [
    {
      "cell_type": "markdown",
      "metadata": {
        "id": "view-in-github",
        "colab_type": "text"
      },
      "source": [
        "<a href=\"https://colab.research.google.com/github/ecsquare/Covid-19/blob/master/RandomforstwithSparke.ipynb\" target=\"_parent\"><img src=\"https://colab.research.google.com/assets/colab-badge.svg\" alt=\"Open In Colab\"/></a>"
      ]
    },
    {
      "cell_type": "code",
      "metadata": {
        "id": "ZgZyTAu82dhf",
        "colab_type": "code",
        "colab": {}
      },
      "source": [
        "!pip install pyspark"
      ],
      "execution_count": null,
      "outputs": []
    },
    {
      "cell_type": "code",
      "metadata": {
        "id": "_nO0NbdPo_OJ",
        "colab_type": "code",
        "colab": {}
      },
      "source": [
        "sc = SparkContext.getOrCreate(SparkConf().setMaster(\"local[*]\"))\n",
        "\n",
        "spark = SparkSession \\\n",
        "    .builder \\\n",
        "    .getOrCreate()"
      ],
      "execution_count": null,
      "outputs": []
    },
    {
      "cell_type": "code",
      "metadata": {
        "id": "aWJ7rF_1pHQq",
        "colab_type": "code",
        "colab": {}
      },
      "source": [
        "from pyspark import SparkContext, SparkConf\n",
        "from pyspark.sql import SparkSession\n",
        "import random\n",
        "import numpy as np\n",
        "from pyspark.sql import Row\n",
        "from sklearn import neighbors\n",
        "from pyspark.ml.feature import VectorAssembler\n"
      ],
      "execution_count": null,
      "outputs": []
    },
    {
      "cell_type": "code",
      "metadata": {
        "id": "EEKUPmIN8W-j",
        "colab_type": "code",
        "colab": {}
      },
      "source": [
        "from google.colab import drive\n",
        "drive.mount('/content/gdrive')"
      ],
      "execution_count": null,
      "outputs": []
    },
    {
      "cell_type": "code",
      "metadata": {
        "id": "yBpoltbw9eIL",
        "colab_type": "code",
        "colab": {
          "base_uri": "https://localhost:8080/",
          "height": 35
        },
        "outputId": "938a3ab9-fe3c-458f-da51-37324824d4c2"
      },
      "source": [
        "cd /content/gdrive/My\\ Drive/Colab\\ Notebooks/"
      ],
      "execution_count": 28,
      "outputs": [
        {
          "output_type": "stream",
          "text": [
            "/content/gdrive/My Drive/Colab Notebooks\n"
          ],
          "name": "stdout"
        }
      ]
    },
    {
      "cell_type": "code",
      "metadata": {
        "id": "S_CsjN70_Cd0",
        "colab_type": "code",
        "colab": {}
      },
      "source": [
        "path = '/content/gdrive/My Drive/Colab Notebooks/fow.json'\n",
        "df = spark.read.json(path)"
      ],
      "execution_count": 30,
      "outputs": []
    },
    {
      "cell_type": "code",
      "metadata": {
        "id": "-HR2bkgG_wiT",
        "colab_type": "code",
        "colab": {}
      },
      "source": [
        "df.printSchema()"
      ],
      "execution_count": null,
      "outputs": []
    },
    {
      "cell_type": "code",
      "metadata": {
        "id": "isX9iv4l_WFy",
        "colab_type": "code",
        "colab": {}
      },
      "source": [
        "df.createOrReplaceTempView(\"df\")"
      ],
      "execution_count": 31,
      "outputs": []
    },
    {
      "cell_type": "code",
      "metadata": {
        "id": "ZOKo2K49_iaB",
        "colab_type": "code",
        "colab": {}
      },
      "source": [
        "from pyspark.sql.functions import lit\n",
        "df_features = df.select(\"user.id\",\n",
        "                    \"favorite_count\",\n",
        "                     \"retweet_count\",\n",
        "                     \"user.default_profile\",\n",
        "                     \"user.description\",\n",
        "                     \"user.favourites_count\",\n",
        "                     \"user.followers_count\",\n",
        "                     \"user.friends_count\",\n",
        "                     \"user.geo_enabled\",\n",
        "                     \"user.has_extended_profile\",\n",
        "                     \"user.listed_count\",\n",
        "                     \"user.location\",\n",
        "                     \"user.protected\",\n",
        "                     \"user.statuses_count\",\n",
        "                     \"user.verified\")\n",
        "df_final = df_features.withColumn(\"target\", lit(0))"
      ],
      "execution_count": 88,
      "outputs": []
    },
    {
      "cell_type": "code",
      "metadata": {
        "id": "IDNJTH58TOmb",
        "colab_type": "code",
        "colab": {
          "base_uri": "https://localhost:8080/",
          "height": 350
        },
        "outputId": "60c02c83-cf89-4afd-c8b9-c3a029f4400c"
      },
      "source": [
        "df_final.printSchema()"
      ],
      "execution_count": 89,
      "outputs": [
        {
          "output_type": "stream",
          "text": [
            "root\n",
            " |-- id: long (nullable = true)\n",
            " |-- favorite_count: long (nullable = true)\n",
            " |-- retweet_count: long (nullable = true)\n",
            " |-- default_profile: boolean (nullable = true)\n",
            " |-- description: string (nullable = true)\n",
            " |-- favourites_count: long (nullable = true)\n",
            " |-- followers_count: long (nullable = true)\n",
            " |-- friends_count: long (nullable = true)\n",
            " |-- geo_enabled: boolean (nullable = true)\n",
            " |-- has_extended_profile: boolean (nullable = true)\n",
            " |-- listed_count: long (nullable = true)\n",
            " |-- location: string (nullable = true)\n",
            " |-- protected: boolean (nullable = true)\n",
            " |-- statuses_count: long (nullable = true)\n",
            " |-- verified: boolean (nullable = true)\n",
            " |-- target: integer (nullable = false)\n",
            "\n"
          ],
          "name": "stdout"
        }
      ]
    },
    {
      "cell_type": "code",
      "metadata": {
        "id": "uCyXvdeLbKOG",
        "colab_type": "code",
        "colab": {
          "base_uri": "https://localhost:8080/",
          "height": 35
        },
        "outputId": "16554a68-abff-4dd7-9d95-e1a3957a3525"
      },
      "source": [
        ""
      ],
      "execution_count": 97,
      "outputs": [
        {
          "output_type": "execute_result",
          "data": {
            "text/plain": [
              "MapPartitionsRDD[40] at javaToPython at NativeMethodAccessorImpl.java:0"
            ]
          },
          "metadata": {
            "tags": []
          },
          "execution_count": 97
        }
      ]
    },
    {
      "cell_type": "code",
      "metadata": {
        "id": "mQLZ12C8Vz-p",
        "colab_type": "code",
        "colab": {}
      },
      "source": [
        "from pyspark.sql.functions import translate, col\n",
        "from pyspark.sql import functions as F\n",
        "from pyspark.sql.types import *\n",
        "\n",
        "update_func = (F.when(F.col('description') == \"\", 0)\n",
        "                .otherwise(1))\n",
        "\n",
        "df_f2 = df_final.withColumn('description', update_func) "
      ],
      "execution_count": 143,
      "outputs": []
    },
    {
      "cell_type": "code",
      "metadata": {
        "id": "qskx7rhpkUYQ",
        "colab_type": "code",
        "colab": {
          "base_uri": "https://localhost:8080/",
          "height": 166
        },
        "outputId": "0206b46f-0613-4eb4-c2af-6dc6c1a727e6"
      },
      "source": [
        "df_f2.show()"
      ],
      "execution_count": 144,
      "outputs": [
        {
          "output_type": "stream",
          "text": [
            "+------------------+--------------+-------------+---------------+-----------+----------------+---------------+-------------+-----------+--------------------+------------+------------+---------+--------------+--------+------+\n",
            "|                id|favorite_count|retweet_count|default_profile|description|favourites_count|followers_count|friends_count|geo_enabled|has_extended_profile|listed_count|    location|protected|statuses_count|verified|target|\n",
            "+------------------+--------------+-------------+---------------+-----------+----------------+---------------+-------------+-----------+--------------------+------------+------------+---------+--------------+--------+------+\n",
            "|         512700138|          1283|          260|          false|          1|              35|        2645847|           47|      false|               false|        5821|            |    false|          4020|    true|     0|\n",
            "|720293443260456960|             0|           41|          false|          1|            7794|         478389|           50|       true|               false|        1327|New York, NY|    false|           811|    true|     0|\n",
            "+------------------+--------------+-------------+---------------+-----------+----------------+---------------+-------------+-----------+--------------------+------------+------------+---------+--------------+--------+------+\n",
            "\n"
          ],
          "name": "stdout"
        }
      ]
    },
    {
      "cell_type": "code",
      "metadata": {
        "id": "3-5Fleupof4T",
        "colab_type": "code",
        "colab": {}
      },
      "source": [
        ""
      ],
      "execution_count": null,
      "outputs": []
    },
    {
      "cell_type": "code",
      "metadata": {
        "id": "WnnL6SaxoJUD",
        "colab_type": "code",
        "colab": {}
      },
      "source": [
        "update_loc = (F.when(F.col('location') == \"\", 0)\n",
        "                .otherwise(1))\n",
        "\n",
        "df_f = df_f2.withColumn('location', update_loc) "
      ],
      "execution_count": 145,
      "outputs": []
    },
    {
      "cell_type": "code",
      "metadata": {
        "id": "nCyufNCioU7G",
        "colab_type": "code",
        "colab": {
          "base_uri": "https://localhost:8080/",
          "height": 166
        },
        "outputId": "2a9d9b36-4aef-4eb9-9eeb-30961f4a98d4"
      },
      "source": [
        "df_f.show()"
      ],
      "execution_count": 146,
      "outputs": [
        {
          "output_type": "stream",
          "text": [
            "+------------------+--------------+-------------+---------------+-----------+----------------+---------------+-------------+-----------+--------------------+------------+--------+---------+--------------+--------+------+\n",
            "|                id|favorite_count|retweet_count|default_profile|description|favourites_count|followers_count|friends_count|geo_enabled|has_extended_profile|listed_count|location|protected|statuses_count|verified|target|\n",
            "+------------------+--------------+-------------+---------------+-----------+----------------+---------------+-------------+-----------+--------------------+------------+--------+---------+--------------+--------+------+\n",
            "|         512700138|          1283|          260|          false|          1|              35|        2645847|           47|      false|               false|        5821|       0|    false|          4020|    true|     0|\n",
            "|720293443260456960|             0|           41|          false|          1|            7794|         478389|           50|       true|               false|        1327|       1|    false|           811|    true|     0|\n",
            "+------------------+--------------+-------------+---------------+-----------+----------------+---------------+-------------+-----------+--------------------+------------+--------+---------+--------------+--------+------+\n",
            "\n"
          ],
          "name": "stdout"
        }
      ]
    },
    {
      "cell_type": "code",
      "metadata": {
        "id": "inEIl_QNqPla",
        "colab_type": "code",
        "colab": {}
      },
      "source": [
        "splits = df_f.randomSplit([0.8, 0.2])\n",
        "df_train = splits[0]\n",
        "df_test = splits[1]"
      ],
      "execution_count": 149,
      "outputs": []
    },
    {
      "cell_type": "code",
      "metadata": {
        "id": "8LdXTLtSpPbz",
        "colab_type": "code",
        "colab": {}
      },
      "source": [
        "from pyspark.ml.feature import VectorAssembler\n",
        "from pyspark.ml.feature import Normalizer\n",
        "vectorAssembler = VectorAssembler(inputCols=[\"favorite_count\",\n",
        "                     \"retweet_count\",\n",
        "                     \"default_profile\",\n",
        "                     \"description\",\n",
        "                     \"favourites_count\",\n",
        "                     \"followers_count\",\n",
        "                     \"friends_count\",\n",
        "                     \"geo_enabled\",\n",
        "                     \"has_extended_profile\",\n",
        "                     \"listed_count\",\n",
        "                     \"location\",\n",
        "                     \"protected\",\n",
        "                     \"statuses_count\",],\n",
        "                    outputCol=\"features\")\n",
        "\n",
        "normalizer = Normalizer(inputCol=\"features\", outputCol=\"features_norm\", p=1.0)"
      ],
      "execution_count": 156,
      "outputs": []
    },
    {
      "cell_type": "code",
      "metadata": {
        "id": "8mOi1wGfrQRt",
        "colab_type": "code",
        "colab": {}
      },
      "source": [
        "from pyspark.ml.feature import OneHotEncoder\n",
        "encoder = OneHotEncoder(inputCol=\"target\", outputCol=\"targetOHE\")"
      ],
      "execution_count": 157,
      "outputs": []
    },
    {
      "cell_type": "code",
      "metadata": {
        "id": "yRLH6p8wqZso",
        "colab_type": "code",
        "colab": {}
      },
      "source": [
        "def classification_metrics(prediction):\n",
        "    from pyspark.ml.evaluation import MulticlassClassificationEvaluator\n",
        "    mcEval = MulticlassClassificationEvaluator().setMetricName(\"accuracy\") .setPredictionCol(\"prediction\").setLabelCol(\"HOURLYWindDirectionBucketized\")\n",
        "    accuracy = mcEval.evaluate(prediction)\n",
        "    print(\"Accuracy on test data = %g\" % accuracy)"
      ],
      "execution_count": 160,
      "outputs": []
    },
    {
      "cell_type": "code",
      "metadata": {
        "id": "6YI4A6tDrxDF",
        "colab_type": "code",
        "colab": {}
      },
      "source": [
        "#RF1\n",
        "from pyspark.ml import Pipeline\n",
        "from pyspark.ml.classification import RandomForestClassifier\n",
        "rf = RandomForestClassifier(labelCol=\"target\", numTrees=30)\n",
        "\n",
        "\n",
        "pipeline = Pipeline(stages=[vectorAssembler,normalizer])\n",
        "model = pipeline.fit(df_train)\n",
        "prediction = model.transform(df_test)\n",
        "classification_metrics(prediction)"
      ],
      "execution_count": null,
      "outputs": []
    }
  ]
}