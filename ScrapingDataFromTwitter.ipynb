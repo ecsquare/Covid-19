{
  "nbformat": 4,
  "nbformat_minor": 0,
  "metadata": {
    "colab": {
      "name": "ScrapingDataFromTwitter.ipynb",
      "provenance": [],
      "collapsed_sections": [],
      "authorship_tag": "ABX9TyO69a89n784QJgG447Tkl9S",
      "include_colab_link": true
    },
    "kernelspec": {
      "name": "python3",
      "display_name": "Python 3"
    }
  },
  "cells": [
    {
      "cell_type": "markdown",
      "metadata": {
        "id": "view-in-github",
        "colab_type": "text"
      },
      "source": [
        "<a href=\"https://colab.research.google.com/github/ecsquare/Covid-19/blob/master/ScrapingDataFromTwitter.ipynb\" target=\"_parent\"><img src=\"https://colab.research.google.com/assets/colab-badge.svg\" alt=\"Open In Colab\"/></a>"
      ]
    },
    {
      "cell_type": "code",
      "metadata": {
        "id": "fm_dLCvCmcc_",
        "colab_type": "code",
        "colab": {}
      },
      "source": [
        "import tweepy\n",
        "import tweepy\n",
        "from tweepy import User\n",
        "from tweepy import TweepError\n",
        "import sys\n",
        "import json\n",
        "\n",
        "def get_user_meta_data(ids):\n",
        "  consumer_key = sys.argv[1]\n",
        "  consumer_secret = sys.argv[2]\n",
        "  access_token = sys.argv[3]\n",
        "  access_token_secret = sys.argv[4]\n",
        "  auth = tweepy.OAuthHandler(consumer_key, consumer_secret)\n",
        "  auth.set_access_token(access_token, access_token_secret)\n",
        "  api = tweepy.API(auth, wait_on_rate_limit=True, wait_on_rate_limit_notify=True)\n",
        "  for i in range(len(ids)): \n",
        "    try:\n",
        "    \n",
        "      t = api.user_timeline(user_id = ids[i],count=200)\n",
        "      data= t[0]._json\n",
        "      with open('userinfo.json', 'a') as outfile:\n",
        "        \n",
        "        outfile.write(json.dumps(data))\n",
        "        outfile.write(\"\\n\")\n",
        "        outfile.close()\n",
        "\n",
        "    except Exception as ex:\n",
        "\t    i+=1\n",
        "if __name__ == \"__main__\":\n",
        "  # ids is list of users id\n",
        "  ids=[\"918\",\"14275416\",\"720293443260456960\"]\n",
        "  get_user_meta_data(ids)"
      ],
      "execution_count": 0,
      "outputs": []
    },
    {
      "cell_type": "code",
      "metadata": {
        "id": "YH3q-A0cqKY3",
        "colab_type": "code",
        "colab": {}
      },
      "source": [
        ""
      ],
      "execution_count": 0,
      "outputs": []
    }
  ]
}