{
  "nbformat": 4,
  "nbformat_minor": 0,
  "metadata": {
    "colab": {
      "name": "Short-text_based_topics.ipynb",
      "provenance": [],
      "collapsed_sections": [],
      "authorship_tag": "ABX9TyNjcKsiPX0cbVIvcsAH791L",
      "include_colab_link": true
    },
    "kernelspec": {
      "name": "python3",
      "display_name": "Python 3"
    }
  },
  "cells": [
    {
      "cell_type": "markdown",
      "metadata": {
        "id": "view-in-github",
        "colab_type": "text"
      },
      "source": [
        "<a href=\"https://colab.research.google.com/github/ecsquare/Covid-19/blob/master/Short_text_based_topics.ipynb\" target=\"_parent\"><img src=\"https://colab.research.google.com/assets/colab-badge.svg\" alt=\"Open In Colab\"/></a>"
      ]
    },
    {
      "cell_type": "markdown",
      "metadata": {
        "id": "TVQUBsPKHD-u",
        "colab_type": "text"
      },
      "source": [
        "Topic modeling for short texts is an increasingly impor-tant task due to the prevalence of short texts on the Web.Compared to normal documents, short texts lack of wordfrequency and context information, causing severe sparsityproblems for conventional topic models\n"
      ]
    },
    {
      "cell_type": "code",
      "metadata": {
        "id": "K3gpverDJOeq",
        "colab_type": "code",
        "colab": {}
      },
      "source": [
        "%matplotlib inline\n",
        "import pickle\n",
        "from pprint import pprint\n",
        "import random\n",
        "import warnings\n",
        "import time\n",
        "\n",
        "# numpy, pandas, matplotlib and regular expressions \n",
        "import numpy as np\n",
        "import pandas as pd\n",
        "import matplotlib.pyplot as plt\n",
        "import seaborn as sns\n",
        "import re\n",
        "\n",
        "# tqdm\n",
        "from tqdm import tqdm\n",
        "\n",
        "# spacy\n",
        "import spacy\n",
        "from spacy.lang.en import English\n",
        "import en_core_web_sm\n",
        "\n",
        "# gensim\n",
        "import gensim\n",
        "from gensim import corpora\n",
        "from gensim.models import CoherenceModel\n",
        "\n",
        "# nltk\n",
        "import nltk\n",
        "from nltk.corpus import wordnet as wn\n",
        "from nltk.corpus import words\n",
        "from nltk.stem.wordnet import WordNetLemmatizer\n",
        "\n",
        "# pyLDAvis\n",
        "import pyLDAvis\n",
        "import pyLDAvis.gensim\n"
      ],
      "execution_count": 0,
      "outputs": []
    },
    {
      "cell_type": "code",
      "metadata": {
        "id": "s4J_HnhOJSPR",
        "colab_type": "code",
        "colab": {}
      },
      "source": [
        "from google.colab import drive\n",
        "drive.mount('/content/gdrive')"
      ],
      "execution_count": 0,
      "outputs": []
    },
    {
      "cell_type": "code",
      "metadata": {
        "id": "OyYaSlp-K5n_",
        "colab_type": "code",
        "colab": {
          "base_uri": "https://localhost:8080/",
          "height": 35
        },
        "outputId": "572d8d4b-924f-4412-e0fc-cacb30b6d402"
      },
      "source": [
        "cd /content/gdrive/My\\ Drive/Colab\\ Notebooks/vegan_tweets_2020-05-/"
      ],
      "execution_count": 209,
      "outputs": [
        {
          "output_type": "stream",
          "text": [
            "/content/gdrive/My Drive/Colab Notebooks/vegan_tweets_2020-05-\n"
          ],
          "name": "stdout"
        }
      ]
    },
    {
      "cell_type": "code",
      "metadata": {
        "id": "m5O7GUXaLEsH",
        "colab_type": "code",
        "colab": {}
      },
      "source": [
        "ls"
      ],
      "execution_count": 0,
      "outputs": []
    },
    {
      "cell_type": "markdown",
      "metadata": {
        "id": "aZoYIlDRUTk-",
        "colab_type": "text"
      },
      "source": [
        "preparing Dataset\n"
      ]
    },
    {
      "cell_type": "code",
      "metadata": {
        "id": "zHOn0sRNSGDO",
        "colab_type": "code",
        "outputId": "1fefb727-71fd-41f3-9180-b5eb1e609808",
        "colab": {
          "base_uri": "https://localhost:8080/",
          "height": 363
        }
      },
      "source": [
        "import pandas as pd\n",
        "df1 = pd.read_json (r'vegan_2020-05-01.json',lines=True)\n",
        "df2 = pd.read_json(r'vegan_2020-05-02 2.json', lines=True)\n",
        "df3 = pd.read_json(r'vegan_2020-05-03.json', lines=True)\n",
        "df4 = pd.read_json(r'vegan_2020-05-04.json', lines=True)\n",
        "df5 = pd.read_json(r'vegan_2020-05-05.json', lines=True)\n",
        "df6 = pd.read_json(r'vegan_2020-05-06.json', lines=True)\n",
        "df7 = pd.read_json(r'vegan_2020-05-07 2.json', lines=True)\n",
        "\n",
        "frames = [df1, df2, df3,df4,df5,df6,df7]\n",
        "df=pd.concat(frames)\n",
        "df=df[['id','tweet','hashtags']]\n",
        "df.columns\n",
        "df.head(10)"
      ],
      "execution_count": 210,
      "outputs": [
        {
          "output_type": "execute_result",
          "data": {
            "text/html": [
              "<div>\n",
              "<style scoped>\n",
              "    .dataframe tbody tr th:only-of-type {\n",
              "        vertical-align: middle;\n",
              "    }\n",
              "\n",
              "    .dataframe tbody tr th {\n",
              "        vertical-align: top;\n",
              "    }\n",
              "\n",
              "    .dataframe thead th {\n",
              "        text-align: right;\n",
              "    }\n",
              "</style>\n",
              "<table border=\"1\" class=\"dataframe\">\n",
              "  <thead>\n",
              "    <tr style=\"text-align: right;\">\n",
              "      <th></th>\n",
              "      <th>id</th>\n",
              "      <th>tweet</th>\n",
              "      <th>hashtags</th>\n",
              "    </tr>\n",
              "  </thead>\n",
              "  <tbody>\n",
              "    <tr>\n",
              "      <th>0</th>\n",
              "      <td>1256372793752653825</td>\n",
              "      <td>how bout y’all compare shit that actually make...</td>\n",
              "      <td>[]</td>\n",
              "    </tr>\n",
              "    <tr>\n",
              "      <th>1</th>\n",
              "      <td>1256372790497644545</td>\n",
              "      <td>(  http://HappyCow.net  is an excellent search...</td>\n",
              "      <td>[]</td>\n",
              "    </tr>\n",
              "    <tr>\n",
              "      <th>2</th>\n",
              "      <td>1256372760638566401</td>\n",
              "      <td>Whew RT @_underhereye: Brussels Sprouts cooked...</td>\n",
              "      <td>[]</td>\n",
              "    </tr>\n",
              "    <tr>\n",
              "      <th>3</th>\n",
              "      <td>1256372759619350528</td>\n",
              "      <td>vegan labouyi (plantiain porridge). one of my ...</td>\n",
              "      <td>[]</td>\n",
              "    </tr>\n",
              "    <tr>\n",
              "      <th>4</th>\n",
              "      <td>1256372716141232129</td>\n",
              "      <td>Sounds a bit like a veterinarian vegan sort of...</td>\n",
              "      <td>[]</td>\n",
              "    </tr>\n",
              "    <tr>\n",
              "      <th>5</th>\n",
              "      <td>1256372705940705280</td>\n",
              "      <td>no girl has all three: synesthesia, internal m...</td>\n",
              "      <td>[]</td>\n",
              "    </tr>\n",
              "    <tr>\n",
              "      <th>6</th>\n",
              "      <td>1256372679784960006</td>\n",
              "      <td>I definitely need to do my hair in NYC again soon</td>\n",
              "      <td>[]</td>\n",
              "    </tr>\n",
              "    <tr>\n",
              "      <th>7</th>\n",
              "      <td>1256372662210879489</td>\n",
              "      <td>how u goin vegan but still beefin w me again?!...</td>\n",
              "      <td>[#newprofilepic]</td>\n",
              "    </tr>\n",
              "    <tr>\n",
              "      <th>8</th>\n",
              "      <td>1256372646117117952</td>\n",
              "      <td>Happy Friday! I had some @traderjoes herb pizz...</td>\n",
              "      <td>[#vegan]</td>\n",
              "    </tr>\n",
              "    <tr>\n",
              "      <th>9</th>\n",
              "      <td>1256372631130894336</td>\n",
              "      <td>Which do you prefer? Gummies or capsules? ⭐️⭐️...</td>\n",
              "      <td>[#hairtamin, #vegan, #vegeterian, #hairvitamins]</td>\n",
              "    </tr>\n",
              "  </tbody>\n",
              "</table>\n",
              "</div>"
            ],
            "text/plain": [
              "                    id  ...                                          hashtags\n",
              "0  1256372793752653825  ...                                                []\n",
              "1  1256372790497644545  ...                                                []\n",
              "2  1256372760638566401  ...                                                []\n",
              "3  1256372759619350528  ...                                                []\n",
              "4  1256372716141232129  ...                                                []\n",
              "5  1256372705940705280  ...                                                []\n",
              "6  1256372679784960006  ...                                                []\n",
              "7  1256372662210879489  ...                                  [#newprofilepic]\n",
              "8  1256372646117117952  ...                                          [#vegan]\n",
              "9  1256372631130894336  ...  [#hairtamin, #vegan, #vegeterian, #hairvitamins]\n",
              "\n",
              "[10 rows x 3 columns]"
            ]
          },
          "metadata": {
            "tags": []
          },
          "execution_count": 210
        }
      ]
    },
    {
      "cell_type": "markdown",
      "metadata": {
        "id": "xlI98BmDQA0p",
        "colab_type": "text"
      },
      "source": [
        "Data cleaning"
      ]
    },
    {
      "cell_type": "code",
      "metadata": {
        "id": "M3N-SIXQqfDX",
        "colab_type": "code",
        "colab": {}
      },
      "source": [
        "stop_words = ['twitter','the','a','an','and','but','if','or','because','as','what','which','this','that','these','those','then',\n",
        "              'just','so','than','such','both','through','about','for','is','of','while','during','to','What','Which',\n",
        "              'Is','If','While','This','me','my','it','you','your','they','i','u','www','vegan','are','in', 'no','up','s','ve','t','re','i',\"was\",'were','more','Twitter' ]"
      ],
      "execution_count": 0,
      "outputs": []
    },
    {
      "cell_type": "code",
      "metadata": {
        "id": "NIqaA9a7olcQ",
        "colab_type": "code",
        "colab": {}
      },
      "source": [
        "def clean_data(text, remove_stop_words=True, stem_words=True):\n",
        "    # Clean the text, with the option to remove stop_words and to stem words.\n",
        "   \n",
        "    text = re.sub(r\"[^A-Za-z0-9]\", \" \", text)\n",
        "    text = re.sub(r\"what's\", \"\", text)\n",
        "    text = re.sub(r\"What's\", \"\", text)\n",
        "    text = re.sub(r\"\\'s\", \" \", text)\n",
        "    text = re.sub(r\"\\'ve\", \" have \", text)\n",
        "    text = re.sub(r\"can't\", \"cannot \", text)\n",
        "    text = re.sub(r\"n't\", \" not \", text)\n",
        "    text = re.sub(r\"I'm\", \"I am\", text)\n",
        "    text = re.sub(r\" m \", \" am \", text)\n",
        "    text = re.sub(r\"\\'re\", \" are \", text)\n",
        "    text = re.sub(r\"\\'d\", \" would \", text)\n",
        "    text = re.sub(r\"\\'ll\", \" will \", text)\n",
        "    text = re.sub(r\"http\", \" \", text)\n",
        "    text = re.sub(r\"https\", \" \", text)\n",
        "    text = re.sub(r\"www\", \" \", text)\n",
        "\n",
        "    text = re.sub(r\".com\", \" \", text)\n",
        "    text = re.sub(r\".fr\", \" \", text)\n",
        "    text = re.sub(r\".org\", \" \", text)\n",
        "    text = re.sub(r\"img\", \" \", text)\n",
        "\n",
        "\n",
        "    #remove vegan \n",
        "    text = re.sub(r\"vegan\", \" \", text)\n",
        "    \n",
        "    # Remove punctuation from text\n",
        "    text = ''.join([c for c in text if c not in punctuation])\n",
        "    \n",
        "    # Optionally, remove stop words\n",
        "    if remove_stop_words:\n",
        "        text = text.split()\n",
        "        text = [w for w in text if not w in stop_words]\n",
        "        text = \" \".join(text)\n",
        "    \n",
        "    # Optionally, shorten words to their stems\n",
        "    if stem_words:\n",
        "        text = text.split()\n",
        "        stemmer = SnowballStemmer('english')\n",
        "        stemmed_words = [stemmer.stem(word) for word in text]\n",
        "        text = \" \".join(stemmed_words)\n",
        "    \n",
        "  \n",
        "    return(text)\n",
        "\n"
      ],
      "execution_count": 0,
      "outputs": []
    },
    {
      "cell_type": "code",
      "metadata": {
        "id": "NQUMJ3WGQAFB",
        "colab_type": "code",
        "outputId": "9237e48b-0a7e-4c69-e1df-6328f322c0d1",
        "colab": {
          "base_uri": "https://localhost:8080/",
          "height": 363
        }
      },
      "source": [
        "df['tweet'] = df['tweet'].apply(lambda x: clean_data(x))\n",
        "df['hashtags']=  df['hashtags'].apply(str)\n",
        "df['hashtags']=  df['hashtags'].apply(lambda x: clean_data(x))\n",
        "df.head(10)"
      ],
      "execution_count": 286,
      "outputs": [
        {
          "output_type": "execute_result",
          "data": {
            "text/html": [
              "<div>\n",
              "<style scoped>\n",
              "    .dataframe tbody tr th:only-of-type {\n",
              "        vertical-align: middle;\n",
              "    }\n",
              "\n",
              "    .dataframe tbody tr th {\n",
              "        vertical-align: top;\n",
              "    }\n",
              "\n",
              "    .dataframe thead th {\n",
              "        text-align: right;\n",
              "    }\n",
              "</style>\n",
              "<table border=\"1\" class=\"dataframe\">\n",
              "  <thead>\n",
              "    <tr style=\"text-align: right;\">\n",
              "      <th></th>\n",
              "      <th>id</th>\n",
              "      <th>tweet</th>\n",
              "      <th>hashtags</th>\n",
              "      <th>Tweet Length</th>\n",
              "    </tr>\n",
              "  </thead>\n",
              "  <tbody>\n",
              "    <tr>\n",
              "      <th>0</th>\n",
              "      <td>1256372793752653825</td>\n",
              "      <td>how bout y all pare shit actual make sen like ...</td>\n",
              "      <td></td>\n",
              "      <td>85</td>\n",
              "    </tr>\n",
              "    <tr>\n",
              "      <th>1</th>\n",
              "      <td>1256372790497644545</td>\n",
              "      <td>happycow net excel search tool vegetarian veg ...</td>\n",
              "      <td></td>\n",
              "      <td>160</td>\n",
              "    </tr>\n",
              "    <tr>\n",
              "      <th>2</th>\n",
              "      <td>1256372760638566401</td>\n",
              "      <td>whew rt underherey brussel sprout cook butter ...</td>\n",
              "      <td></td>\n",
              "      <td>81</td>\n",
              "    </tr>\n",
              "    <tr>\n",
              "      <th>3</th>\n",
              "      <td>1256372759619350528</td>\n",
              "      <td>labouyi plantiain porridg one favorit meal gro...</td>\n",
              "      <td></td>\n",
              "      <td>77</td>\n",
              "    </tr>\n",
              "    <tr>\n",
              "      <th>4</th>\n",
              "      <td>1256372716141232129</td>\n",
              "      <td>sound bit like veterinarian sort thing</td>\n",
              "      <td></td>\n",
              "      <td>38</td>\n",
              "    </tr>\n",
              "    <tr>\n",
              "      <th>5</th>\n",
              "      <td>1256372705940705280</td>\n",
              "      <td>girl has all three synesthesia intern monologu</td>\n",
              "      <td></td>\n",
              "      <td>46</td>\n",
              "    </tr>\n",
              "    <tr>\n",
              "      <th>6</th>\n",
              "      <td>1256372679784960006</td>\n",
              "      <td>definit need do hair nyc again soon</td>\n",
              "      <td></td>\n",
              "      <td>35</td>\n",
              "    </tr>\n",
              "    <tr>\n",
              "      <th>7</th>\n",
              "      <td>1256372662210879489</td>\n",
              "      <td>how goin still beefin w again newprofilep pic ...</td>\n",
              "      <td>newprofilep</td>\n",
              "      <td>56</td>\n",
              "    </tr>\n",
              "    <tr>\n",
              "      <th>8</th>\n",
              "      <td>1256372646117117952</td>\n",
              "      <td>happi iday had some traderjo herb pizza dough ...</td>\n",
              "      <td></td>\n",
              "      <td>224</td>\n",
              "    </tr>\n",
              "    <tr>\n",
              "      <th>9</th>\n",
              "      <td>1256372631130894336</td>\n",
              "      <td>do prefer gummi capsul hairtamin vegeterian ha...</td>\n",
              "      <td>hairtamin vegeterian hairvitamin</td>\n",
              "      <td>70</td>\n",
              "    </tr>\n",
              "  </tbody>\n",
              "</table>\n",
              "</div>"
            ],
            "text/plain": [
              "                    id  ... Tweet Length\n",
              "0  1256372793752653825  ...           85\n",
              "1  1256372790497644545  ...          160\n",
              "2  1256372760638566401  ...           81\n",
              "3  1256372759619350528  ...           77\n",
              "4  1256372716141232129  ...           38\n",
              "5  1256372705940705280  ...           46\n",
              "6  1256372679784960006  ...           35\n",
              "7  1256372662210879489  ...           56\n",
              "8  1256372646117117952  ...          224\n",
              "9  1256372631130894336  ...           70\n",
              "\n",
              "[10 rows x 4 columns]"
            ]
          },
          "metadata": {
            "tags": []
          },
          "execution_count": 286
        }
      ]
    },
    {
      "cell_type": "code",
      "metadata": {
        "id": "iPg302btkmRz",
        "colab_type": "code",
        "outputId": "6d660c16-a9e8-45dc-d15e-db0c09e7fbf8",
        "colab": {
          "base_uri": "https://localhost:8080/",
          "height": 363
        }
      },
      "source": [
        "df[\"Tweet Length\"]= df[\"tweet\"].str.len() \n",
        "df.head(10)"
      ],
      "execution_count": 277,
      "outputs": [
        {
          "output_type": "execute_result",
          "data": {
            "text/html": [
              "<div>\n",
              "<style scoped>\n",
              "    .dataframe tbody tr th:only-of-type {\n",
              "        vertical-align: middle;\n",
              "    }\n",
              "\n",
              "    .dataframe tbody tr th {\n",
              "        vertical-align: top;\n",
              "    }\n",
              "\n",
              "    .dataframe thead th {\n",
              "        text-align: right;\n",
              "    }\n",
              "</style>\n",
              "<table border=\"1\" class=\"dataframe\">\n",
              "  <thead>\n",
              "    <tr style=\"text-align: right;\">\n",
              "      <th></th>\n",
              "      <th>id</th>\n",
              "      <th>tweet</th>\n",
              "      <th>hashtags</th>\n",
              "      <th>Tweet Length</th>\n",
              "    </tr>\n",
              "  </thead>\n",
              "  <tbody>\n",
              "    <tr>\n",
              "      <th>0</th>\n",
              "      <td>1256372793752653825</td>\n",
              "      <td>how bout y all pare shit actual make sen like ...</td>\n",
              "      <td></td>\n",
              "      <td>85</td>\n",
              "    </tr>\n",
              "    <tr>\n",
              "      <th>1</th>\n",
              "      <td>1256372790497644545</td>\n",
              "      <td>happycow net excel search tool vegetarian veg ...</td>\n",
              "      <td></td>\n",
              "      <td>160</td>\n",
              "    </tr>\n",
              "    <tr>\n",
              "      <th>2</th>\n",
              "      <td>1256372760638566401</td>\n",
              "      <td>whew rt underherey brussel sprout cook butter ...</td>\n",
              "      <td></td>\n",
              "      <td>81</td>\n",
              "    </tr>\n",
              "    <tr>\n",
              "      <th>3</th>\n",
              "      <td>1256372759619350528</td>\n",
              "      <td>labouyi plantiain porridg one favorit meal gro...</td>\n",
              "      <td></td>\n",
              "      <td>77</td>\n",
              "    </tr>\n",
              "    <tr>\n",
              "      <th>4</th>\n",
              "      <td>1256372716141232129</td>\n",
              "      <td>sound bit like veterinarian sort thing</td>\n",
              "      <td></td>\n",
              "      <td>38</td>\n",
              "    </tr>\n",
              "    <tr>\n",
              "      <th>5</th>\n",
              "      <td>1256372705940705280</td>\n",
              "      <td>girl has all three synesthesia intern monologu</td>\n",
              "      <td></td>\n",
              "      <td>46</td>\n",
              "    </tr>\n",
              "    <tr>\n",
              "      <th>6</th>\n",
              "      <td>1256372679784960006</td>\n",
              "      <td>definit need do hair nyc again soon</td>\n",
              "      <td></td>\n",
              "      <td>35</td>\n",
              "    </tr>\n",
              "    <tr>\n",
              "      <th>7</th>\n",
              "      <td>1256372662210879489</td>\n",
              "      <td>how goin still beefin w again newprofilep pic ...</td>\n",
              "      <td>newprofilep</td>\n",
              "      <td>56</td>\n",
              "    </tr>\n",
              "    <tr>\n",
              "      <th>8</th>\n",
              "      <td>1256372646117117952</td>\n",
              "      <td>happi iday had some traderjo herb pizza dough ...</td>\n",
              "      <td></td>\n",
              "      <td>224</td>\n",
              "    </tr>\n",
              "    <tr>\n",
              "      <th>9</th>\n",
              "      <td>1256372631130894336</td>\n",
              "      <td>do prefer gummi capsul hairtamin vegeterian ha...</td>\n",
              "      <td>hairtamin vegeterian hairvitamin</td>\n",
              "      <td>70</td>\n",
              "    </tr>\n",
              "  </tbody>\n",
              "</table>\n",
              "</div>"
            ],
            "text/plain": [
              "                    id  ... Tweet Length\n",
              "0  1256372793752653825  ...           85\n",
              "1  1256372790497644545  ...          160\n",
              "2  1256372760638566401  ...           81\n",
              "3  1256372759619350528  ...           77\n",
              "4  1256372716141232129  ...           38\n",
              "5  1256372705940705280  ...           46\n",
              "6  1256372679784960006  ...           35\n",
              "7  1256372662210879489  ...           56\n",
              "8  1256372646117117952  ...          224\n",
              "9  1256372631130894336  ...           70\n",
              "\n",
              "[10 rows x 4 columns]"
            ]
          },
          "metadata": {
            "tags": []
          },
          "execution_count": 277
        }
      ]
    },
    {
      "cell_type": "code",
      "metadata": {
        "id": "N4thADMG2QHb",
        "colab_type": "code",
        "colab": {}
      },
      "source": [
        "df = df[df['Tweet Length'] >10]"
      ],
      "execution_count": 0,
      "outputs": []
    },
    {
      "cell_type": "code",
      "metadata": {
        "id": "aeTC46WFuU8e",
        "colab_type": "code",
        "colab": {}
      },
      "source": [
        "import matplotlib.pyplot as plt\n",
        "\n",
        "df['Tweet Length'].plot(kind='bar');"
      ],
      "execution_count": 0,
      "outputs": []
    },
    {
      "cell_type": "code",
      "metadata": {
        "id": "-KHC8utLk19Y",
        "colab_type": "code",
        "outputId": "ab002eec-e94f-49ad-98c0-2969fc029a66",
        "colab": {
          "base_uri": "https://localhost:8080/",
          "height": 35
        }
      },
      "source": [
        "print(\"mean=\", df['Tweet Length'].mean(), \"max=\", df['Tweet Length'].max(), \"min=\",df['Tweet Length'].min())"
      ],
      "execution_count": 279,
      "outputs": [
        {
          "output_type": "stream",
          "text": [
            "mean= 91.8621986664387 max= 447 min= 11\n"
          ],
          "name": "stdout"
        }
      ]
    },
    {
      "cell_type": "code",
      "metadata": {
        "id": "5cEUEY49vBP7",
        "colab_type": "code",
        "outputId": "a4c6b752-4ba2-41bb-ead6-138d123ab0b4",
        "colab": {
          "base_uri": "https://localhost:8080/",
          "height": 237
        }
      },
      "source": [
        "df.hashtags.value_counts()\n"
      ],
      "execution_count": 192,
      "outputs": [
        {
          "output_type": "execute_result",
          "data": {
            "text/plain": [
              "                                                                                 10068\n",
              "shopmycloset                                                                        26\n",
              "plantbasedparti                                                                     19\n",
              "recip food cook delici cook recip                                                   13\n",
              "travel armchairtravel                                                               13\n",
              "                                                                                 ...  \n",
              "tiramisu dair ee plantbas                                                            1\n",
              "blogger loofah plantlif                                                              1\n",
              "factoryfarm 4life                                                                    1\n",
              "daikon daikonradish kimchi kimche nappacabbag nappacabbagekimchi daikonkimchi        1\n",
              "invigor                                                                              1\n",
              "Name: hashtags, Length: 1478, dtype: int64"
            ]
          },
          "metadata": {
            "tags": []
          },
          "execution_count": 192
        }
      ]
    },
    {
      "cell_type": "code",
      "metadata": {
        "id": "QqIaCownsQqi",
        "colab_type": "code",
        "colab": {
          "base_uri": "https://localhost:8080/",
          "height": 35
        },
        "outputId": "c349cbb3-73fa-4b67-fc86-18fc80dff9f8"
      },
      "source": [
        "cd /content/gdrive/My\\ Drive/Colab\\ Notebooks/Topic_modeling"
      ],
      "execution_count": 219,
      "outputs": [
        {
          "output_type": "stream",
          "text": [
            "/content/gdrive/My Drive/Colab Notebooks/Topic_modeling\n"
          ],
          "name": "stdout"
        }
      ]
    },
    {
      "cell_type": "markdown",
      "metadata": {
        "id": "xi-xf9QhAYf2",
        "colab_type": "text"
      },
      "source": [
        "**BiTerM** "
      ]
    },
    {
      "cell_type": "code",
      "metadata": {
        "id": "HaV5v15c7iZX",
        "colab_type": "code",
        "outputId": "f1b17a9f-0408-4aae-ac20-9910ea3b93ab",
        "colab": {
          "base_uri": "https://localhost:8080/",
          "height": 35
        }
      },
      "source": [
        "data = df['tweet'].values.tolist()\n",
        "len(data)"
      ],
      "execution_count": 280,
      "outputs": [
        {
          "output_type": "execute_result",
          "data": {
            "text/plain": [
              "11698"
            ]
          },
          "metadata": {
            "tags": []
          },
          "execution_count": 280
        }
      ]
    },
    {
      "cell_type": "code",
      "metadata": {
        "id": "GfRtBfYs8A_W",
        "colab_type": "code",
        "colab": {}
      },
      "source": [
        "with open('TweetCorpus.txt', 'w') as f:\n",
        "    for i in data:\n",
        "        f.write(\"%s\\n\" % i)"
      ],
      "execution_count": 0,
      "outputs": []
    },
    {
      "cell_type": "code",
      "metadata": {
        "id": "1lKzfoTu_uDH",
        "colab_type": "code",
        "colab": {}
      },
      "source": [
        "from sklearn.feature_extraction.text import CountVectorizer\n",
        "vec = CountVectorizer(stop_words='english')\n",
        "X = vec.fit_transform(data).toarray()"
      ],
      "execution_count": 0,
      "outputs": []
    },
    {
      "cell_type": "markdown",
      "metadata": {
        "id": "WqiYHVcszQVJ",
        "colab_type": "text"
      },
      "source": [
        "Install biterm and pyLDavis"
      ]
    },
    {
      "cell_type": "code",
      "metadata": {
        "id": "jDxMRuwlALa8",
        "colab_type": "code",
        "colab": {}
      },
      "source": [
        "!pip install biterm\n"
      ],
      "execution_count": 0,
      "outputs": []
    },
    {
      "cell_type": "code",
      "metadata": {
        "id": "fNp-pJYB1Znf",
        "colab_type": "code",
        "colab": {}
      },
      "source": [
        "!pip install pyLDAvis"
      ],
      "execution_count": 0,
      "outputs": []
    },
    {
      "cell_type": "code",
      "metadata": {
        "id": "ASDkAA26A8a3",
        "colab_type": "code",
        "colab": {}
      },
      "source": [
        "import numpy as np \n",
        "from biterm.utility import vec_to_biterms\n",
        "\n",
        "vocab = np.array(vec.get_feature_names())\n",
        "biterms = vec_to_biterms(X[:50])"
      ],
      "execution_count": 0,
      "outputs": []
    },
    {
      "cell_type": "code",
      "metadata": {
        "id": "jRzxXu45ZeyM",
        "colab_type": "code",
        "colab": {}
      },
      "source": [
        "biterms"
      ],
      "execution_count": 0,
      "outputs": []
    },
    {
      "cell_type": "code",
      "metadata": {
        "id": "Qo8FTRSEBMeK",
        "colab_type": "code",
        "colab": {}
      },
      "source": [
        "from biterm.btm import oBTM\n",
        "\n",
        "btm = oBTM(num_topics=10, V=vocab)"
      ],
      "execution_count": 0,
      "outputs": []
    },
    {
      "cell_type": "code",
      "metadata": {
        "id": "-rOTtkFseDau",
        "colab_type": "code",
        "colab": {}
      },
      "source": [
        "topics = btm.fit_transform(biterms, iterations=100)"
      ],
      "execution_count": 0,
      "outputs": []
    },
    {
      "cell_type": "code",
      "metadata": {
        "id": "XO-cHqVXERip",
        "colab_type": "code",
        "colab": {}
      },
      "source": [
        "topics"
      ],
      "execution_count": 0,
      "outputs": []
    },
    {
      "cell_type": "code",
      "metadata": {
        "id": "giKtqKIpKNrR",
        "colab_type": "code",
        "colab": {}
      },
      "source": [
        "# Enabling pyLDAvis\n",
        "pyLDAvis.enable_notebook()"
      ],
      "execution_count": 0,
      "outputs": []
    },
    {
      "cell_type": "code",
      "metadata": {
        "id": "4yIhXq4Acgg5",
        "colab_type": "code",
        "outputId": "387bfcb2-a30b-4f94-b7e9-81ea2bfc1380",
        "colab": {
          "base_uri": "https://localhost:8080/",
          "height": 916
        }
      },
      "source": [
        "import pyLDAvis\n",
        "print(\"\\n\\n Visualize Topics ..\")\n",
        "\n",
        "vis = pyLDAvis.prepare(btm.phi_wz.T, topics, np.count_nonzero(X[:50], axis=1), vocab, np.sum(X[:50], axis=0))\n",
        "pyLDAvis.save_html(vis, 'testoutput_btm.html')\n",
        "vis"
      ],
      "execution_count": 251,
      "outputs": [
        {
          "output_type": "stream",
          "text": [
            "\n",
            "\n",
            " Visualize Topics ..\n"
          ],
          "name": "stdout"
        },
        {
          "output_type": "execute_result",
          "data": {
            "text/html": [
              "\n",
              "<link rel=\"stylesheet\" type=\"text/css\" href=\"https://cdn.rawgit.com/bmabey/pyLDAvis/files/ldavis.v1.0.0.css\">\n",
              "\n",
              "\n",
              "<div id=\"ldavis_el124139627370019480328813270\"></div>\n",
              "<script type=\"text/javascript\">\n",
              "\n",
              "var ldavis_el124139627370019480328813270_data = {\"mdsDat\": {\"x\": [-0.1371164326220552, 0.32556146197854774, 0.09640737848689848, -0.12910974431434702, -0.1139463141780005, 0.09301333300080719, -0.01548687712244456, 0.1119146078971646, -0.06385994660836058, -0.16737746651821012], \"y\": [-0.08129108808175992, 0.16839225136540395, -0.10420167356779227, 0.08956630834909644, 0.06785734922011251, 0.0548203788931772, -0.25232109648888235, -0.13171020584076373, 0.006980249739799778, 0.1819075264116089], \"topics\": [1, 2, 3, 4, 5, 6, 7, 8, 9, 10], \"cluster\": [1, 1, 1, 1, 1, 1, 1, 1, 1, 1], \"Freq\": [13.144217741316236, 13.008013193905754, 12.392888933617115, 11.76405385916185, 11.415696609420849, 9.582344078621169, 8.936114783672028, 8.499491741333474, 5.981697807431863, 5.275481251519663]}, \"tinfo\": {\"Term\": [\"with\", \"pic\", \"are\", \"re\", \"eat\", \"be\", \"good\", \"have\", \"would\", \"twitter\", \"food\", \"can\", \"some\", \"get\", \"make\", \"still\", \"in\", \"up\", \"cook\", \"pepper\", \"littl\", \"salt\", \"at\", \"one\", \"onion\", \"was\", \"don\", \"option\", \"fact\", \"like\", \"shit\", \"ppl\", \"she\", \"who\", \"doesn\", \"ariana\", \"enough\", \"petra\", \"except\", \"version\", \"credit\", \"grand\", \"brown\", \"face\", \"kim\", \"abort\", \"their\", \"children\", \"rzd1uyvszn\", \"convinc\", \"realli\", \"coven\", \"irish\", \"witch\", \"imho\", \"even\", \"bout\", \"vs\", \"pare\", \"altern\", \"sen\", \"get\", \"don\", \"pic\", \"twitter\", \"like\", \"go\", \"with\", \"should\", \"do\", \"how\", \"fact\", \"our\", \"status\", \"besid\", \"tarnish\", \"allow\", \"buy\", \"produc\", \"farm\", \"smithfield\", \"disrespect\", \"4ever\", \"johnoberg\", \"insidi\", \"suppli\", \"pork\", \"hog\", \"1255813063925776384\", \"utter\", \"china\", \"chine\", \"whore\", \"biden\", \"obama\", \"legaci\", \"primari\", \"environ\", \"2015\", \"shown\", \"will\", \"dirti\", \"disgust\", \"are\", \"own\", \"am\", \"anim\", \"read\", \"has\", \"in\", \"twitter\", \"food\", \"hey\", \"pop\", \"quit\", \"anyon\", \"makeup\", \"googl\", \"black\", \"look\", \"line\", \"keep\", \"hypoallergen\", \"tt\", \"potent\", \"naturalhealth\", \"elderberri\", \"selfsuffici\", \"offgrid\", \"booster\", \"healthylifestyl\", \"naturalcur\", \"naturalremedi\", \"backtonatur\", \"immuneboost\", \"homestead\", \"y3fdjcgswr\", \"2vs8gpu\", \"immun\", \"best\", \"ift\", \"antivir\", \"one\", \"some\", \"ve\", \"prefer\", \"search\", \"can\", \"not\", \"up\", \"shop\", \"mend\", \"be\", \"need\", \"pic\", \"good\", \"are\", \"wing\", \"linktr\", \"meatless\", \"half\", \"chefderricka\", \"accept\", \"order\", \"full\", \"glaze\", \"pre\", \"now\", \"igshid\", \"pick\", \"truffl\", \"instagram\", \"185bt92gvuurv\", \"link\", \"qhhxqpeti\", \"hennessi\", \"avail\", \"tri\", \"lben\", \"product\", \"type\", \"turn\", \"industri\", \"yogurt\", \"off\", \"cut\", \"less\", \"recip\", \"chee\", \"ee\", \"food\", \"option\", \"up\", \"pic\", \"twitter\", \"meat\", \"eat\", \"re\", \"paprika\", \"instead\", \"lemon\", \"oil\", \"peanut\", \"flash\", \"char\", \"lot\", \"raw\", \"beef\", \"daughter\", \"ie\", \"green\", \"smoke\", \"see\", \"bacon\", \"similar\", \"bread\", \"ani\", \"textur\", \"chicken\", \"peel\", \"stew\", \"eggplant\", \"pretti\", \"transit\", \"brah\", \"dinner\", \"classi\", \"moxiebread\", \"salad\", \"still\", \"amaz\", \"si9tlmu8k7\", \"healthi\", \"can\", \"curri\", \"good\", \"with\", \"too\", \"make\", \"salt\", \"use\", \"littl\", \"pepper\", \"in\", \"like\", \"meat\", \"donut\", \"realiz\", \"coupl\", \"also\", \"switch\", \"same\", \"ingredi\", \"overcharg\", \"could\", \"mad\", \"wish\", \"god\", \"intol\", \"cashew\", \"want\", \"hate\", \"fake\", \"underherey\", \"raspberri\", \"whew\", \"sprout\", \"ikbuu3vi5r\", \"vinaigrett\", \"butter\", \"brussel\", \"truck\", \"28\", \"day\", \"spent\", \"may\", \"would\", \"at\", \"least\", \"by\", \"have\", \"make\", \"do\", \"not\", \"more\", \"option\", \"us\", \"shop\", \"when\", \"made\", \"eat\", \"recycl\", \"decent\", \"sweater\", \"back\", \"cascad\", \"cascadeyarn\", \"worth\", \"oooh\", \"haven\", \"go8ng\", \"rebound\", \"knit\", \"htm\", \"custom\", \"bought\", \"imma\", \"safe\", \"smart\", \"brunch\", \"tx\", \"meet\", \"somethin\", \"poshmarkapp\", \"on\", \"zoe\", \"mk\", \"pixi\", \"leather\", \"discov\", \"a2\", \"via\", \"gray\", \"cdezvz3585\", \"be\", \"came\", \"poshmark\", \"posh\", \"was\", \"mend\", \"with\", \"more\", \"should\", \"one\", \"protein\", \"way\", \"between\", \"intercour\", \"work\", \"murder\", \"differ\", \"weak\", \"skinni\", \"super\", \"either\", \"seen\", \"ad\", \"gluten\", \"third\", \"sponsor\", \"calori\", \"lime\", \"120\", \"coconut\", \"om\", \"justsogood\", \"stop\", \"goodpop\", \"someon\", \"thisisajok\", \"pbr\", \"coff\", \"oh\", \"alcohol\", \"no\", \"eat\", \"are\", \"out\", \"have\", \"all\", \"need\", \"in\", \"get\", \"read\", \"ve\", \"anim\", \"good\", \"red\", \"had\", \"traderjo\", \"mozzarella\", \"braid\", \"iday\", \"fill\", \"os\", \"52stuu4wqh\", \"along\", \"pepperoni\", \"oliv\", \"sweet\", \"dough\", \"followyourheart\", \"jalap\", \"herb\", \"theherbivorousb\", \"kalamata\", \"hot\", \"synesthesia\", \"girl\", \"monologu\", \"intern\", \"three\", \"pizza\", \"lunch\", \"idg\", \"happi\", \"made\", \"onion\", \"was\", \"some\", \"in\", \"good\", \"twitter\", \"tomato\", \"hazelnut\", \"tomati\", \"packag\", \"lrg\", \"mayday\", \"rosemari\", \"nooch\", \"blend\", \"fuck\", \"sass\", \"love\", \"cherri\", \"saaaaauc\", \"clove\", \"ainib68von\", \"yellow\", \"tonight\", \"garlic\", \"down\", \"oregano\", \"updat\", \"r3nnztqqa0\", \"gone\", \"milk\", \"onion\", \"pepper\", \"littl\", \"salt\", \"cook\", \"food\", \"up\", \"pic\", \"twitter\"], \"Freq\": [5.0, 9.0, 4.0, 2.0, 4.0, 4.0, 6.0, 5.0, 2.0, 10.0, 4.0, 4.0, 3.0, 3.0, 5.0, 2.0, 6.0, 5.0, 3.0, 2.0, 2.0, 2.0, 2.0, 4.0, 1.0, 2.0, 2.0, 2.0, 1.0, 3.0, 1.5259503904677834, 1.2354315155572106, 1.2354315155572106, 1.2354315155572106, 1.2354315155572106, 1.2354315155572106, 1.2354315155572106, 1.2354315155572106, 1.2354315155572106, 1.2354315155572106, 1.2354315155572106, 1.2354315155572106, 1.2354315155572106, 1.2354315155572106, 1.2354315155572106, 1.017542359374281, 1.017542359374281, 1.017542359374281, 1.017542359374281, 1.017542359374281, 1.017542359374281, 1.017542359374281, 1.017542359374281, 1.017542359374281, 1.017542359374281, 1.017542359374281, 0.9449126406466378, 0.9449126406466378, 0.9449126406466378, 0.9449126406466378, 0.9449126406466378, 2.2522475777442152, 1.9617287028336423, 3.341693358658863, 3.486952796114149, 1.8890989841059993, 1.3080612342848537, 1.5259503904677834, 1.090172078101924, 1.090172078101924, 1.017542359374281, 1.9686020641624555, 1.2187774404535374, 1.2187774404535374, 1.2187774404535374, 1.2187774404535374, 1.2187774404535374, 1.2187774404535374, 1.2187774404535374, 1.2187774404535374, 1.2187774404535374, 1.2187774404535374, 1.2187774404535374, 1.2187774404535374, 1.2187774404535374, 1.2187774404535374, 1.2187774404535374, 1.2187774404535374, 1.2187774404535374, 1.2187774404535374, 1.2187774404535374, 1.2187774404535374, 1.2187774404535374, 1.2187774404535374, 1.2187774404535374, 1.2187774404535374, 1.2187774404535374, 1.2187774404535374, 1.2187774404535374, 1.2187774404535374, 1.2187774404535374, 1.2187774404535374, 1.2187774404535374, 1.5936897523079965, 1.3437482110716905, 1.3437482110716905, 1.3125055184171521, 1.281262825762614, 1.2500201331080756, 1.2500201331080756, 1.2187774404535374, 1.2187774404535374, 1.380511608385627, 1.2326524571840247, 1.2326524571840247, 1.2326524571840247, 1.2326524571840247, 1.2326524571840247, 1.2326524571840247, 1.2326524571840247, 1.2326524571840247, 1.2326524571840247, 1.2326524571840247, 1.035506922248555, 1.035506922248555, 1.035506922248555, 1.035506922248555, 1.035506922248555, 1.035506922248555, 1.035506922248555, 1.035506922248555, 1.035506922248555, 1.035506922248555, 1.035506922248555, 1.035506922248555, 1.035506922248555, 1.035506922248555, 1.035506922248555, 1.035506922248555, 1.035506922248555, 1.035506922248555, 1.035506922248555, 2.1198073643936386, 1.6762299107888314, 1.3312252246517595, 1.2326524571840247, 1.2326524571840247, 1.380511608385627, 1.281938840917892, 1.3312252246517595, 1.2326524571840247, 1.1833660734501572, 1.2326524571840247, 1.1833660734501572, 1.2326524571840247, 1.13407968971629, 1.0847933059824224, 1.3108656736304578, 1.3108656736304578, 1.3108656736304578, 1.3108656736304578, 1.3108656736304578, 1.3108656736304578, 1.3108656736304578, 1.3108656736304578, 1.3108656736304578, 1.3108656736304578, 1.3108656736304578, 1.3108656736304578, 1.3108656736304578, 1.3108656736304578, 1.3108656736304578, 1.3108656736304578, 1.3108656736304578, 1.3108656736304578, 1.3108656736304578, 1.3108656736304578, 0.953519283726653, 0.953519283726653, 0.953519283726653, 0.953519283726653, 0.953519283726653, 0.953519283726653, 0.953519283726653, 0.953519283726653, 0.953519283726653, 0.953519283726653, 1.2513079419798239, 1.3108656736304578, 1.3108656736304578, 1.7277697951848972, 1.3704234052810922, 1.4895388685823603, 1.6086543318836286, 1.6086543318836286, 1.013077015377287, 1.013077015377287, 2.574506364062992, 1.2380004646263303, 1.2380004646263303, 1.2380004646263303, 1.2380004646263303, 1.2380004646263303, 1.2380004646263303, 1.2380004646263303, 1.2380004646263303, 1.2380004646263303, 1.2380004646263303, 1.2380004646263303, 1.2380004646263303, 1.2380004646263303, 1.2380004646263303, 1.2380004646263303, 1.2380004646263303, 1.0894998091333679, 1.0894998091333679, 1.0894998091333679, 1.0894998091333679, 1.0894998091333679, 1.0894998091333679, 1.0894998091333679, 1.0894998091333679, 1.0894998091333679, 1.0894998091333679, 0.5944976241568263, 0.5944976241568263, 0.5944976241568263, 0.5944976241568263, 0.5944976241568263, 2.277505053077067, 0.5944976241568263, 0.5944976241568263, 0.5944976241568263, 2.327005271574721, 1.139000027631022, 2.327005271574721, 1.6835024311052174, 1.2380004646263303, 1.6340022126075633, 1.2875006831239846, 1.2380004646263303, 1.2380004646263303, 1.1885002461286762, 1.3370009016216384, 1.2380004646263303, 1.1885002461286762, 1.1813505274676088, 1.1813505274676088, 1.1813505274676088, 1.1813505274676088, 1.1813505274676088, 1.1813505274676088, 1.1813505274676088, 1.1813505274676088, 1.1813505274676088, 1.1813505274676088, 1.1813505274676088, 0.8439824567962307, 0.8439824567962307, 0.8439824567962307, 0.8439824567962307, 0.8439824567962307, 0.8439824567962307, 0.6752984214605416, 0.6752984214605416, 0.6752984214605416, 0.6752984214605416, 0.6752984214605416, 0.6752984214605416, 0.6752984214605416, 0.6752984214605416, 0.45038637434628964, 0.45038637434628964, 0.45038637434628964, 0.45038637434628964, 0.45038637434628964, 2.1934547394817425, 1.7998586570318018, 1.4624905863604238, 1.4062625745818609, 2.13722672770318, 2.13722672770318, 1.2375785392461718, 1.4062625745818609, 1.1813505274676088, 1.2375785392461718, 0.9564384803533569, 1.1813505274676088, 0.9002104685747938, 0.9002104685747938, 0.8439824567962307, 1.1618974950991143, 1.1618974950991143, 1.1618974950991143, 1.1618974950991143, 1.1618974950991143, 1.1618974950991143, 1.1618974950991143, 1.1618974950991143, 1.1618974950991143, 1.1618974950991143, 1.1618974950991143, 1.1618974950991143, 1.1618974950991143, 1.1618974950991143, 1.1618974950991143, 0.7923708042452388, 0.7923708042452388, 0.7923708042452388, 0.7923708042452388, 0.7923708042452388, 0.7923708042452388, 0.7923708042452388, 0.7395812769803993, 0.7395812769803993, 0.7395812769803993, 0.7395812769803993, 0.7395812769803993, 0.7395812769803993, 0.7395812769803993, 0.7395812769803993, 0.7395812769803993, 0.7395812769803993, 0.7395812769803993, 2.059319458601383, 1.1618974950991143, 0.7395812769803993, 0.7395812769803993, 1.2146870223639537, 1.2146870223639537, 1.6897927677475075, 1.1618974950991143, 1.1091079678342748, 1.0563184405694357, 1.0823666296867622, 1.0823666296867622, 1.0823666296867622, 1.0823666296867622, 1.0823666296867622, 1.0823666296867622, 1.0823666296867622, 1.0823666296867622, 1.0823666296867622, 1.0823666296867622, 1.0823666296867622, 1.0823666296867622, 0.8471717949004167, 0.8471717949004167, 0.8471717949004167, 0.8471717949004167, 0.8471717949004167, 0.8471717949004167, 0.8471717949004167, 0.8471717949004167, 0.8471717949004167, 0.8471717949004167, 0.8471717949004167, 0.8471717949004167, 0.8471717949004167, 0.8471717949004167, 0.5649379931568019, 0.5649379931568019, 0.5649379931568019, 0.5649379931568019, 1.6468342331739914, 2.211301836661221, 2.0231459688321443, 1.1764445636013003, 1.599795266216722, 1.317561464473108, 1.2234835305585694, 1.317561464473108, 1.0823666296867622, 0.9882886957722241, 0.9882886957722241, 0.941249728814955, 0.9882886957722241, 1.0071990704012816, 1.0071990704012816, 1.0071990704012816, 1.0071990704012816, 1.0071990704012816, 1.0071990704012816, 1.0071990704012816, 1.0071990704012816, 1.0071990704012816, 1.0071990704012816, 1.0071990704012816, 1.0071990704012816, 1.0071990704012816, 1.0071990704012816, 1.0071990704012816, 1.0071990704012816, 1.0071990704012816, 1.0071990704012816, 1.0071990704012816, 1.0071990704012816, 0.2205706180416428, 0.2205706180416428, 0.2205706180416428, 0.2205706180416428, 0.2205706180416428, 1.0071990704012816, 1.0386642084956674, 1.070129346590053, 1.0071990704012816, 0.9757339323068964, 1.0071990704012816, 0.9757339323068964, 1.0071990704012816, 1.133059622778824, 1.070129346590053, 1.1015944846844385, 0.9480314344550372, 0.9480314344550372, 0.9480314344550372, 0.9480314344550372, 0.9480314344550372, 0.9480314344550372, 0.9480314344550372, 0.9480314344550372, 0.9480314344550372, 0.9480314344550372, 0.9480314344550372, 0.9480314344550372, 0.9480314344550372, 0.9480314344550372, 0.9480314344550372, 0.9480314344550372, 0.9480314344550372, 0.9480314344550372, 0.9480314344550372, 0.9480314344550372, 0.9480314344550372, 0.12667797574690767, 0.12667797574690767, 0.12667797574690767, 0.9480314344550372, 0.9480314344550372, 0.9796219520976577, 0.9480314344550372, 0.9164409168124169, 1.0112124697402778, 0.9480314344550372, 0.9164409168124169, 1.200755575596, 1.1691650579533799], \"Total\": [5.0, 9.0, 4.0, 2.0, 4.0, 4.0, 6.0, 5.0, 2.0, 10.0, 4.0, 4.0, 3.0, 3.0, 5.0, 2.0, 6.0, 5.0, 3.0, 2.0, 2.0, 2.0, 2.0, 4.0, 1.0, 2.0, 2.0, 2.0, 1.0, 3.0, 1.5300373823505269, 1.2395185074399542, 1.2395185074399542, 1.2395185074399542, 1.2395185074399542, 1.2395185074399542, 1.2395185074399542, 1.2395185074399542, 1.2395185074399542, 1.2395185074399542, 1.2395185074399542, 1.2395185074399542, 1.2395185074399542, 1.2395185074399542, 1.2395185074399542, 1.0216293512570245, 1.0216293512570245, 1.0216293512570245, 1.0216293512570245, 1.0216293512570245, 1.0216293512570245, 1.0216293512570245, 1.0216293512570245, 1.0216293512570245, 1.0216293512570245, 1.0216293512570245, 0.9489996325293817, 0.9489996325293817, 0.9489996325293817, 0.9489996325293817, 0.9489996325293817, 3.633949112047353, 2.955820064669469, 9.35618414750364, 10.574260673068627, 3.4680595091014745, 2.044622990340978, 5.846263826577195, 2.202839142546294, 2.331275329113054, 2.329041744453764, 1.97310292630593, 1.223278302597012, 1.223278302597012, 1.223278302597012, 1.223278302597012, 1.223278302597012, 1.223278302597012, 1.223278302597012, 1.223278302597012, 1.223278302597012, 1.223278302597012, 1.223278302597012, 1.223278302597012, 1.223278302597012, 1.223278302597012, 1.223278302597012, 1.223278302597012, 1.223278302597012, 1.223278302597012, 1.223278302597012, 1.223278302597012, 1.223278302597012, 1.223278302597012, 1.223278302597012, 1.223278302597012, 1.223278302597012, 1.223278302597012, 1.223278302597012, 1.223278302597012, 1.223278302597012, 1.223278302597012, 1.223278302597012, 4.824282099060396, 2.3832631316263817, 2.3832631316263817, 2.257785719706009, 2.2735819940087403, 2.496246469959718, 6.207605406376806, 10.574260673068627, 4.404220155751081, 1.3848320336183084, 1.236972882416706, 1.236972882416706, 1.236972882416706, 1.236972882416706, 1.236972882416706, 1.236972882416706, 1.236972882416706, 1.236972882416706, 1.236972882416706, 1.236972882416706, 1.0398273474812363, 1.0398273474812363, 1.0398273474812363, 1.0398273474812363, 1.0398273474812363, 1.0398273474812363, 1.0398273474812363, 1.0398273474812363, 1.0398273474812363, 1.0398273474812363, 1.0398273474812363, 1.0398273474812363, 1.0398273474812363, 1.0398273474812363, 1.0398273474812363, 1.0398273474812363, 1.0398273474812363, 1.0398273474812363, 1.0398273474812363, 4.991979111110255, 3.3435313007871543, 2.3233639559870927, 1.8906403509654945, 1.955554813471086, 4.134693005623475, 3.2855707210508758, 5.212695568894041, 3.1363430608209093, 2.401845625774144, 4.076831762108897, 3.605371525108249, 9.35618414750364, 6.296793897108719, 4.824282099060396, 1.3150833853839716, 1.3150833853839716, 1.3150833853839716, 1.3150833853839716, 1.3150833853839716, 1.3150833853839716, 1.3150833853839716, 1.3150833853839716, 1.3150833853839716, 1.3150833853839716, 1.3150833853839716, 1.3150833853839716, 1.3150833853839716, 1.3150833853839716, 1.3150833853839716, 1.3150833853839716, 1.3150833853839716, 1.3150833853839716, 1.3150833853839716, 1.3150833853839716, 0.9577369954801668, 0.9577369954801668, 0.9577369954801668, 0.9577369954801668, 0.9577369954801668, 0.9577369954801668, 0.9577369954801668, 0.9577369954801668, 0.9577369954801668, 0.9577369954801668, 1.5525269647192625, 2.1585035620624167, 2.1617847906148158, 4.404220155751081, 2.6116573761629924, 5.212695568894041, 9.35618414750364, 10.574260673068627, 2.931597158350933, 4.860128490542773, 2.578824650948036, 1.2423187515113738, 1.2423187515113738, 1.2423187515113738, 1.2423187515113738, 1.2423187515113738, 1.2423187515113738, 1.2423187515113738, 1.2423187515113738, 1.2423187515113738, 1.2423187515113738, 1.2423187515113738, 1.2423187515113738, 1.2423187515113738, 1.2423187515113738, 1.2423187515113738, 1.2423187515113738, 1.0938180960184114, 1.0938180960184114, 1.0938180960184114, 1.0938180960184114, 1.0938180960184114, 1.0938180960184114, 1.0938180960184114, 1.0938180960184114, 1.0938180960184114, 1.0938180960184114, 0.5988159110418699, 0.5988159110418699, 0.5988159110418699, 0.5988159110418699, 0.5988159110418699, 2.6987274615165497, 0.5988159110418699, 0.5988159110418699, 0.5988159110418699, 4.134693005623475, 1.5006647044198704, 6.296793897108719, 5.846263826577195, 1.806786354998603, 5.877970881846129, 2.207943981645019, 1.960900682565754, 2.190034280789985, 2.1721245799349513, 6.207605406376806, 3.4680595091014745, 2.931597158350933, 1.1856015364198433, 1.1856015364198433, 1.1856015364198433, 1.1856015364198433, 1.1856015364198433, 1.1856015364198433, 1.1856015364198433, 1.1856015364198433, 1.1856015364198433, 1.1856015364198433, 1.1856015364198433, 0.8482334657484653, 0.8482334657484653, 0.8482334657484653, 0.8482334657484653, 0.8482334657484653, 0.8482334657484653, 0.6795494304127762, 0.6795494304127762, 0.6795494304127762, 0.6795494304127762, 0.6795494304127762, 0.6795494304127762, 0.6795494304127762, 0.6795494304127762, 0.45463738329852416, 0.45463738329852416, 0.45463738329852416, 0.45463738329852416, 0.45463738329852416, 2.8538022941792804, 2.4602062117293397, 2.060352755748885, 2.0353674366248606, 5.508411176792047, 5.877970881846129, 2.331275329113054, 3.2855707210508758, 2.3469711362463093, 2.6116573761629924, 1.616786035050895, 3.1363430608209093, 1.643514859234779, 1.8798807584529806, 4.860128490542773, 1.166182888896486, 1.166182888896486, 1.166182888896486, 1.166182888896486, 1.166182888896486, 1.166182888896486, 1.166182888896486, 1.166182888896486, 1.166182888896486, 1.166182888896486, 1.166182888896486, 1.166182888896486, 1.166182888896486, 1.166182888896486, 1.166182888896486, 0.7966561980426106, 0.7966561980426106, 0.7966561980426106, 0.7966561980426106, 0.7966561980426106, 0.7966561980426106, 0.7966561980426106, 0.7438666707777711, 0.7438666707777711, 0.7438666707777711, 0.7438666707777711, 0.7438666707777711, 0.7438666707777711, 0.7438666707777711, 0.7438666707777711, 0.7438666707777711, 0.7438666707777711, 0.7438666707777711, 4.076831762108897, 1.9160075126054044, 0.7438666707777711, 0.7438666707777711, 2.194391697087278, 2.401845625774144, 5.846263826577195, 2.3469711362463093, 2.202839142546294, 4.991979111110255, 1.0867095290872095, 1.0867095290872095, 1.0867095290872095, 1.0867095290872095, 1.0867095290872095, 1.0867095290872095, 1.0867095290872095, 1.0867095290872095, 1.0867095290872095, 1.0867095290872095, 1.0867095290872095, 1.0867095290872095, 0.8515146943008642, 0.8515146943008642, 0.8515146943008642, 0.8515146943008642, 0.8515146943008642, 0.8515146943008642, 0.8515146943008642, 0.8515146943008642, 0.8515146943008642, 0.8515146943008642, 0.8515146943008642, 0.8515146943008642, 0.8515146943008642, 0.8515146943008642, 0.5692808925572495, 0.5692808925572495, 0.5692808925572495, 0.5692808925572495, 1.8714330992351378, 4.860128490542773, 4.824282099060396, 2.707033009609381, 5.508411176792047, 4.10569404338387, 3.605371525108249, 6.207605406376806, 3.633949112047353, 2.2735819940087403, 2.3233639559870927, 2.257785719706009, 6.296793897108719, 1.0116977080903578, 1.0116977080903578, 1.0116977080903578, 1.0116977080903578, 1.0116977080903578, 1.0116977080903578, 1.0116977080903578, 1.0116977080903578, 1.0116977080903578, 1.0116977080903578, 1.0116977080903578, 1.0116977080903578, 1.0116977080903578, 1.0116977080903578, 1.0116977080903578, 1.0116977080903578, 1.0116977080903578, 1.0116977080903578, 1.0116977080903578, 1.0116977080903578, 0.2250692557307191, 0.2250692557307191, 0.2250692557307191, 0.2250692557307191, 0.2250692557307191, 1.2499286346928944, 1.4367589286346847, 1.5450176538518203, 1.4615218023188619, 1.8798807584529806, 1.959413237368969, 2.194391697087278, 3.3435313007871543, 6.207605406376806, 6.296793897108719, 10.574260673068627, 0.9525288183486311, 0.9525288183486311, 0.9525288183486311, 0.9525288183486311, 0.9525288183486311, 0.9525288183486311, 0.9525288183486311, 0.9525288183486311, 0.9525288183486311, 0.9525288183486311, 0.9525288183486311, 0.9525288183486311, 0.9525288183486311, 0.9525288183486311, 0.9525288183486311, 0.9525288183486311, 0.9525288183486311, 0.9525288183486311, 0.9525288183486311, 0.9525288183486311, 0.9525288183486311, 0.13117535964050162, 0.13117535964050162, 0.13117535964050162, 1.9054525247587777, 1.959413237368969, 2.1721245799349513, 2.190034280789985, 2.207943981645019, 3.504132741348842, 4.404220155751081, 5.212695568894041, 9.35618414750364, 10.574260673068627], \"Category\": [\"Default\", \"Default\", \"Default\", \"Default\", \"Default\", \"Default\", \"Default\", \"Default\", \"Default\", \"Default\", \"Default\", \"Default\", \"Default\", \"Default\", \"Default\", \"Default\", \"Default\", \"Default\", \"Default\", \"Default\", \"Default\", \"Default\", \"Default\", \"Default\", \"Default\", \"Default\", \"Default\", \"Default\", \"Default\", \"Default\", \"Topic1\", \"Topic1\", \"Topic1\", \"Topic1\", \"Topic1\", \"Topic1\", \"Topic1\", \"Topic1\", \"Topic1\", \"Topic1\", \"Topic1\", \"Topic1\", \"Topic1\", \"Topic1\", \"Topic1\", \"Topic1\", \"Topic1\", \"Topic1\", \"Topic1\", \"Topic1\", \"Topic1\", \"Topic1\", \"Topic1\", \"Topic1\", \"Topic1\", \"Topic1\", \"Topic1\", \"Topic1\", \"Topic1\", \"Topic1\", \"Topic1\", \"Topic1\", \"Topic1\", \"Topic1\", \"Topic1\", \"Topic1\", \"Topic1\", \"Topic1\", \"Topic1\", \"Topic1\", \"Topic1\", \"Topic2\", \"Topic2\", \"Topic2\", \"Topic2\", \"Topic2\", \"Topic2\", \"Topic2\", \"Topic2\", \"Topic2\", \"Topic2\", \"Topic2\", \"Topic2\", \"Topic2\", \"Topic2\", \"Topic2\", \"Topic2\", \"Topic2\", \"Topic2\", \"Topic2\", \"Topic2\", \"Topic2\", \"Topic2\", \"Topic2\", \"Topic2\", \"Topic2\", \"Topic2\", \"Topic2\", \"Topic2\", \"Topic2\", \"Topic2\", \"Topic2\", \"Topic2\", \"Topic2\", \"Topic2\", \"Topic2\", \"Topic2\", \"Topic2\", \"Topic2\", \"Topic2\", \"Topic2\", \"Topic2\", \"Topic3\", \"Topic3\", \"Topic3\", \"Topic3\", \"Topic3\", \"Topic3\", \"Topic3\", \"Topic3\", \"Topic3\", \"Topic3\", \"Topic3\", \"Topic3\", \"Topic3\", \"Topic3\", \"Topic3\", \"Topic3\", \"Topic3\", \"Topic3\", \"Topic3\", \"Topic3\", \"Topic3\", \"Topic3\", \"Topic3\", \"Topic3\", \"Topic3\", \"Topic3\", \"Topic3\", \"Topic3\", \"Topic3\", \"Topic3\", \"Topic3\", \"Topic3\", \"Topic3\", \"Topic3\", \"Topic3\", \"Topic3\", \"Topic3\", \"Topic3\", \"Topic3\", \"Topic3\", \"Topic3\", \"Topic3\", \"Topic3\", \"Topic3\", \"Topic3\", \"Topic4\", \"Topic4\", \"Topic4\", \"Topic4\", \"Topic4\", \"Topic4\", \"Topic4\", \"Topic4\", \"Topic4\", \"Topic4\", \"Topic4\", \"Topic4\", \"Topic4\", \"Topic4\", \"Topic4\", \"Topic4\", \"Topic4\", \"Topic4\", \"Topic4\", \"Topic4\", \"Topic4\", \"Topic4\", \"Topic4\", \"Topic4\", \"Topic4\", \"Topic4\", \"Topic4\", \"Topic4\", \"Topic4\", \"Topic4\", \"Topic4\", \"Topic4\", \"Topic4\", \"Topic4\", \"Topic4\", \"Topic4\", \"Topic4\", \"Topic4\", \"Topic4\", \"Topic4\", \"Topic5\", \"Topic5\", \"Topic5\", \"Topic5\", \"Topic5\", \"Topic5\", \"Topic5\", \"Topic5\", \"Topic5\", \"Topic5\", \"Topic5\", \"Topic5\", \"Topic5\", \"Topic5\", \"Topic5\", \"Topic5\", \"Topic5\", \"Topic5\", \"Topic5\", \"Topic5\", \"Topic5\", \"Topic5\", \"Topic5\", \"Topic5\", \"Topic5\", \"Topic5\", \"Topic5\", \"Topic5\", \"Topic5\", \"Topic5\", \"Topic5\", \"Topic5\", \"Topic5\", \"Topic5\", \"Topic5\", \"Topic5\", \"Topic5\", \"Topic5\", \"Topic5\", \"Topic5\", \"Topic5\", \"Topic5\", \"Topic5\", \"Topic5\", \"Topic5\", \"Topic5\", \"Topic5\", \"Topic5\", \"Topic5\", \"Topic6\", \"Topic6\", \"Topic6\", \"Topic6\", \"Topic6\", \"Topic6\", \"Topic6\", \"Topic6\", \"Topic6\", \"Topic6\", \"Topic6\", \"Topic6\", \"Topic6\", \"Topic6\", \"Topic6\", \"Topic6\", \"Topic6\", \"Topic6\", \"Topic6\", \"Topic6\", \"Topic6\", \"Topic6\", \"Topic6\", \"Topic6\", \"Topic6\", \"Topic6\", \"Topic6\", \"Topic6\", \"Topic6\", \"Topic6\", \"Topic6\", \"Topic6\", \"Topic6\", \"Topic6\", \"Topic6\", \"Topic6\", \"Topic6\", \"Topic6\", \"Topic6\", \"Topic6\", \"Topic6\", \"Topic6\", \"Topic6\", \"Topic6\", \"Topic6\", \"Topic7\", \"Topic7\", \"Topic7\", \"Topic7\", \"Topic7\", \"Topic7\", \"Topic7\", \"Topic7\", \"Topic7\", \"Topic7\", \"Topic7\", \"Topic7\", \"Topic7\", \"Topic7\", \"Topic7\", \"Topic7\", \"Topic7\", \"Topic7\", \"Topic7\", \"Topic7\", \"Topic7\", \"Topic7\", \"Topic7\", \"Topic7\", \"Topic7\", \"Topic7\", \"Topic7\", \"Topic7\", \"Topic7\", \"Topic7\", \"Topic7\", \"Topic7\", \"Topic7\", \"Topic7\", \"Topic7\", \"Topic7\", \"Topic7\", \"Topic7\", \"Topic7\", \"Topic7\", \"Topic7\", \"Topic7\", \"Topic7\", \"Topic8\", \"Topic8\", \"Topic8\", \"Topic8\", \"Topic8\", \"Topic8\", \"Topic8\", \"Topic8\", \"Topic8\", \"Topic8\", \"Topic8\", \"Topic8\", \"Topic8\", \"Topic8\", \"Topic8\", \"Topic8\", \"Topic8\", \"Topic8\", \"Topic8\", \"Topic8\", \"Topic8\", \"Topic8\", \"Topic8\", \"Topic8\", \"Topic8\", \"Topic8\", \"Topic8\", \"Topic8\", \"Topic8\", \"Topic8\", \"Topic8\", \"Topic8\", \"Topic8\", \"Topic8\", \"Topic8\", \"Topic8\", \"Topic8\", \"Topic8\", \"Topic8\", \"Topic8\", \"Topic8\", \"Topic8\", \"Topic8\", \"Topic9\", \"Topic9\", \"Topic9\", \"Topic9\", \"Topic9\", \"Topic9\", \"Topic9\", \"Topic9\", \"Topic9\", \"Topic9\", \"Topic9\", \"Topic9\", \"Topic9\", \"Topic9\", \"Topic9\", \"Topic9\", \"Topic9\", \"Topic9\", \"Topic9\", \"Topic9\", \"Topic9\", \"Topic9\", \"Topic9\", \"Topic9\", \"Topic9\", \"Topic9\", \"Topic9\", \"Topic9\", \"Topic9\", \"Topic9\", \"Topic9\", \"Topic9\", \"Topic9\", \"Topic9\", \"Topic9\", \"Topic9\", \"Topic10\", \"Topic10\", \"Topic10\", \"Topic10\", \"Topic10\", \"Topic10\", \"Topic10\", \"Topic10\", \"Topic10\", \"Topic10\", \"Topic10\", \"Topic10\", \"Topic10\", \"Topic10\", \"Topic10\", \"Topic10\", \"Topic10\", \"Topic10\", \"Topic10\", \"Topic10\", \"Topic10\", \"Topic10\", \"Topic10\", \"Topic10\", \"Topic10\", \"Topic10\", \"Topic10\", \"Topic10\", \"Topic10\", \"Topic10\", \"Topic10\", \"Topic10\", \"Topic10\", \"Topic10\"], \"logprob\": [30.0, 29.0, 28.0, 27.0, 26.0, 25.0, 24.0, 23.0, 22.0, 21.0, 20.0, 19.0, 18.0, 17.0, 16.0, 15.0, 14.0, 13.0, 12.0, 11.0, 10.0, 9.0, 8.0, 7.0, 6.0, 5.0, 4.0, 3.0, 2.0, 1.0, -4.1007, -4.3119, -4.3119, -4.3119, -4.3119, -4.3119, -4.3119, -4.3119, -4.3119, -4.3119, -4.3119, -4.3119, -4.3119, -4.3119, -4.3119, -4.5059, -4.5059, -4.5059, -4.5059, -4.5059, -4.5059, -4.5059, -4.5059, -4.5059, -4.5059, -4.5059, -4.58, -4.58, -4.58, -4.58, -4.58, -3.7114, -3.8495, -3.3168, -3.2743, -3.8872, -4.2548, -4.1007, -4.437, -4.437, -4.5059, -3.8356, -4.3151, -4.3151, -4.3151, -4.3151, -4.3151, -4.3151, -4.3151, -4.3151, -4.3151, -4.3151, -4.3151, -4.3151, -4.3151, -4.3151, -4.3151, -4.3151, -4.3151, -4.3151, -4.3151, -4.3151, -4.3151, -4.3151, -4.3151, -4.3151, -4.3151, -4.3151, -4.3151, -4.3151, -4.3151, -4.3151, -4.3151, -4.0469, -4.2174, -4.2174, -4.241, -4.2651, -4.2897, -4.2897, -4.3151, -4.3151, -4.142, -4.2553, -4.2553, -4.2553, -4.2553, -4.2553, -4.2553, -4.2553, -4.2553, -4.2553, -4.2553, -4.4296, -4.4296, -4.4296, -4.4296, -4.4296, -4.4296, -4.4296, -4.4296, -4.4296, -4.4296, -4.4296, -4.4296, -4.4296, -4.4296, -4.4296, -4.4296, -4.4296, -4.4296, -4.4296, -3.7131, -3.9479, -4.1784, -4.2553, -4.2553, -4.142, -4.2161, -4.1784, -4.2553, -4.2961, -4.2553, -4.2961, -4.2553, -4.3386, -4.3831, -4.1417, -4.1417, -4.1417, -4.1417, -4.1417, -4.1417, -4.1417, -4.1417, -4.1417, -4.1417, -4.1417, -4.1417, -4.1417, -4.1417, -4.1417, -4.1417, -4.1417, -4.1417, -4.1417, -4.1417, -4.46, -4.46, -4.46, -4.46, -4.46, -4.46, -4.46, -4.46, -4.46, -4.46, -4.1882, -4.1417, -4.1417, -3.8656, -4.0973, -4.0139, -3.937, -3.937, -4.3994, -4.3994, -3.4367, -4.1688, -4.1688, -4.1688, -4.1688, -4.1688, -4.1688, -4.1688, -4.1688, -4.1688, -4.1688, -4.1688, -4.1688, -4.1688, -4.1688, -4.1688, -4.1688, -4.2966, -4.2966, -4.2966, -4.2966, -4.2966, -4.2966, -4.2966, -4.2966, -4.2966, -4.2966, -4.9024, -4.9024, -4.9024, -4.9024, -4.9024, -3.5592, -4.9024, -4.9024, -4.9024, -3.5377, -4.2522, -3.5377, -3.8615, -4.1688, -3.8913, -4.1296, -4.1688, -4.1688, -4.2096, -4.0919, -4.1688, -4.2096, -4.0406, -4.0406, -4.0406, -4.0406, -4.0406, -4.0406, -4.0406, -4.0406, -4.0406, -4.0406, -4.0406, -4.3769, -4.3769, -4.3769, -4.3769, -4.3769, -4.3769, -4.5999, -4.5999, -4.5999, -4.5999, -4.5999, -4.5999, -4.5999, -4.5999, -5.0049, -5.0049, -5.0049, -5.0049, -5.0049, -3.4218, -3.6196, -3.8271, -3.8663, -3.4478, -3.4478, -3.9941, -3.8663, -4.0406, -3.9941, -4.2518, -4.0406, -4.3124, -4.3124, -4.3769, -3.9874, -3.9874, -3.9874, -3.9874, -3.9874, -3.9874, -3.9874, -3.9874, -3.9874, -3.9874, -3.9874, -3.9874, -3.9874, -3.9874, -3.9874, -4.3702, -4.3702, -4.3702, -4.3702, -4.3702, -4.3702, -4.3702, -4.4391, -4.4391, -4.4391, -4.4391, -4.4391, -4.4391, -4.4391, -4.4391, -4.4391, -4.4391, -4.4391, -3.4151, -3.9874, -4.4391, -4.4391, -3.943, -3.943, -3.6128, -3.9874, -4.0339, -4.0826, -4.0082, -4.0082, -4.0082, -4.0082, -4.0082, -4.0082, -4.0082, -4.0082, -4.0082, -4.0082, -4.0082, -4.0082, -4.2532, -4.2532, -4.2532, -4.2532, -4.2532, -4.2532, -4.2532, -4.2532, -4.2532, -4.2532, -4.2532, -4.2532, -4.2532, -4.2532, -4.6584, -4.6584, -4.6584, -4.6584, -3.5885, -3.2938, -3.3827, -3.9248, -3.6175, -3.8116, -3.8856, -3.8116, -4.0082, -4.0991, -4.0991, -4.1479, -4.0991, -3.7289, -3.7289, -3.7289, -3.7289, -3.7289, -3.7289, -3.7289, -3.7289, -3.7289, -3.7289, -3.7289, -3.7289, -3.7289, -3.7289, -3.7289, -3.7289, -3.7289, -3.7289, -3.7289, -3.7289, -5.2476, -5.2476, -5.2476, -5.2476, -5.2476, -3.7289, -3.6981, -3.6683, -3.7289, -3.7606, -3.7289, -3.7606, -3.7289, -3.6111, -3.6683, -3.6393, -3.6638, -3.6638, -3.6638, -3.6638, -3.6638, -3.6638, -3.6638, -3.6638, -3.6638, -3.6638, -3.6638, -3.6638, -3.6638, -3.6638, -3.6638, -3.6638, -3.6638, -3.6638, -3.6638, -3.6638, -3.6638, -5.6765, -5.6765, -5.6765, -3.6638, -3.6638, -3.631, -3.6638, -3.6977, -3.5993, -3.6638, -3.6977, -3.4275, -3.4541], \"loglift\": [30.0, 29.0, 28.0, 27.0, 26.0, 25.0, 24.0, 23.0, 22.0, 21.0, 20.0, 19.0, 18.0, 17.0, 16.0, 15.0, 14.0, 13.0, 12.0, 11.0, 10.0, 9.0, 8.0, 7.0, 6.0, 5.0, 4.0, 3.0, 2.0, 1.0, 2.0265, 2.0259, 2.0259, 2.0259, 2.0259, 2.0259, 2.0259, 2.0259, 2.0259, 2.0259, 2.0259, 2.0259, 2.0259, 2.0259, 2.0259, 2.0252, 2.0252, 2.0252, 2.0252, 2.0252, 2.0252, 2.0252, 2.0252, 2.0252, 2.0252, 2.0252, 2.0249, 2.0249, 2.0249, 2.0249, 2.0249, 1.5508, 1.6192, 0.9996, 0.9198, 1.4217, 1.5825, 0.686, 1.3258, 1.2691, 1.2011, 2.0373, 2.0359, 2.0359, 2.0359, 2.0359, 2.0359, 2.0359, 2.0359, 2.0359, 2.0359, 2.0359, 2.0359, 2.0359, 2.0359, 2.0359, 2.0359, 2.0359, 2.0359, 2.0359, 2.0359, 2.0359, 2.0359, 2.0359, 2.0359, 2.0359, 2.0359, 2.0359, 2.0359, 2.0359, 2.0359, 2.0359, 2.0359, 0.932, 1.4666, 1.4666, 1.4972, 1.4661, 1.348, 0.437, -0.121, 0.7549, 2.0849, 2.0845, 2.0845, 2.0845, 2.0845, 2.0845, 2.0845, 2.0845, 2.0845, 2.0845, 2.0845, 2.0839, 2.0839, 2.0839, 2.0839, 2.0839, 2.0839, 2.0839, 2.0839, 2.0839, 2.0839, 2.0839, 2.0839, 2.0839, 2.0839, 2.0839, 2.0839, 2.0839, 2.0839, 2.0839, 1.2315, 1.3976, 1.5311, 1.6603, 1.6265, 0.9911, 1.1469, 0.723, 1.1542, 1.3802, 0.8919, 0.974, 0.0612, 0.3738, 0.5958, 2.1369, 2.1369, 2.1369, 2.1369, 2.1369, 2.1369, 2.1369, 2.1369, 2.1369, 2.1369, 2.1369, 2.1369, 2.1369, 2.1369, 2.1369, 2.1369, 2.1369, 2.1369, 2.1369, 2.1369, 2.1357, 2.1357, 2.1357, 2.1357, 2.1357, 2.1357, 2.1357, 2.1357, 2.1357, 2.1357, 1.9244, 1.6414, 1.6399, 1.2044, 1.4953, 0.8875, 0.3795, 0.2571, 1.0776, 0.572, 2.1685, 2.1667, 2.1667, 2.1667, 2.1667, 2.1667, 2.1667, 2.1667, 2.1667, 2.1667, 2.1667, 2.1667, 2.1667, 2.1667, 2.1667, 2.1667, 2.1667, 2.1662, 2.1662, 2.1662, 2.1662, 2.1662, 2.1662, 2.1662, 2.1662, 2.1662, 2.1662, 2.1629, 2.1629, 2.1629, 2.1629, 2.1629, 2.0005, 2.1629, 2.1629, 2.1629, 1.5953, 1.8944, 1.1747, 0.9253, 1.7921, 0.89, 1.6308, 1.7103, 1.5998, 1.5672, 0.6348, 1.1401, 1.2673, 2.3417, 2.3417, 2.3417, 2.3417, 2.3417, 2.3417, 2.3417, 2.3417, 2.3417, 2.3417, 2.3417, 2.3402, 2.3402, 2.3402, 2.3402, 2.3402, 2.3402, 2.339, 2.339, 2.339, 2.339, 2.339, 2.339, 2.339, 2.339, 2.3359, 2.3359, 2.3359, 2.3359, 2.3359, 2.0821, 2.0327, 2.0025, 1.9755, 1.3985, 1.3335, 1.712, 1.4966, 1.6588, 1.5984, 1.8203, 1.3688, 1.7433, 1.6089, 0.5946, 2.4114, 2.4114, 2.4114, 2.4114, 2.4114, 2.4114, 2.4114, 2.4114, 2.4114, 2.4114, 2.4114, 2.4114, 2.4114, 2.4114, 2.4114, 2.4097, 2.4097, 2.4097, 2.4097, 2.4097, 2.4097, 2.4097, 2.4093, 2.4093, 2.4093, 2.4093, 2.4093, 2.4093, 2.4093, 2.4093, 2.4093, 2.4093, 2.4093, 1.7321, 1.9149, 2.4093, 2.4093, 1.8237, 1.7333, 1.1739, 1.712, 1.7289, 0.862, 2.4612, 2.4612, 2.4612, 2.4612, 2.4612, 2.4612, 2.4612, 2.4612, 2.4612, 2.4612, 2.4612, 2.4612, 2.4601, 2.4601, 2.4601, 2.4601, 2.4601, 2.4601, 2.4601, 2.4601, 2.4601, 2.4601, 2.4601, 2.4601, 2.4601, 2.4601, 2.4575, 2.4575, 2.4575, 2.4575, 2.3373, 1.6777, 1.5962, 1.6318, 1.2288, 1.3286, 1.3844, 0.9152, 1.254, 1.632, 1.6104, 1.5902, 0.6133, 2.812, 2.812, 2.812, 2.812, 2.812, 2.812, 2.812, 2.812, 2.812, 2.812, 2.812, 2.812, 2.812, 2.812, 2.812, 2.812, 2.812, 2.812, 2.812, 2.812, 2.7963, 2.7963, 2.7963, 2.7963, 2.7963, 2.6006, 2.492, 2.4492, 2.4442, 2.1607, 2.151, 2.006, 1.6166, 1.1156, 1.0442, 0.5548, 2.9374, 2.9374, 2.9374, 2.9374, 2.9374, 2.9374, 2.9374, 2.9374, 2.9374, 2.9374, 2.9374, 2.9374, 2.9374, 2.9374, 2.9374, 2.9374, 2.9374, 2.9374, 2.9374, 2.9374, 2.9374, 2.9072, 2.9072, 2.9072, 2.244, 2.2161, 2.1458, 2.1048, 2.0628, 1.6993, 1.4062, 1.2037, 0.889, 0.74]}, \"token.table\": {\"Topic\": [8, 2, 4, 2, 3, 2, 9, 7, 1, 4, 8, 10, 8, 1, 4, 7, 8, 2, 9, 6, 1, 2, 3, 5, 5, 2, 8, 3, 3, 2, 3, 8, 1, 2, 6, 4, 7, 3, 5, 2, 3, 7, 5, 2, 3, 8, 2, 3, 10, 3, 7, 1, 5, 9, 5, 1, 7, 6, 6, 2, 2, 6, 8, 2, 7, 3, 5, 7, 7, 6, 7, 5, 4, 6, 4, 10, 5, 1, 2, 2, 5, 10, 8, 8, 1, 4, 5, 6, 10, 6, 6, 1, 1, 5, 7, 4, 5, 7, 8, 5, 2, 7, 2, 2, 1, 6, 1, 1, 5, 6, 9, 10, 3, 4, 6, 8, 4, 8, 5, 8, 3, 1, 2, 1, 1, 1, 2, 6, 2, 9, 5, 9, 2, 4, 6, 10, 10, 4, 10, 1, 8, 4, 8, 1, 7, 7, 6, 3, 4, 5, 8, 9, 8, 3, 1, 7, 5, 9, 4, 9, 2, 5, 6, 2, 3, 6, 8, 7, 10, 5, 3, 4, 9, 3, 2, 3, 9, 1, 4, 7, 3, 9, 9, 5, 3, 4, 6, 1, 7, 3, 3, 2, 5, 6, 8, 9, 4, 6, 2, 4, 5, 8, 6, 1, 9, 2, 8, 9, 3, 1, 7, 4, 2, 6, 7, 2, 5, 4, 1, 5, 8, 3, 4, 4, 5, 10, 3, 5, 10, 10, 9, 6, 6, 9, 1, 3, 5, 6, 3, 10, 1, 4, 5, 4, 7, 3, 7, 4, 10, 7, 6, 7, 5, 9, 8, 3, 3, 3, 1, 3, 7, 8, 8, 10, 2, 3, 6, 4, 2, 4, 3, 8, 5, 9, 8, 7, 1, 3, 5, 7, 9, 10, 7, 4, 6, 4, 10, 9, 2, 6, 7, 8, 6, 2, 3, 10, 5, 1, 8, 5, 5, 5, 10, 9, 1, 1, 3, 4, 5, 9, 10, 4, 7, 9, 3, 2, 7, 7, 7, 3, 1, 4, 1, 3, 5, 2, 2, 4, 8, 4, 3, 6, 5, 5, 2, 8, 6, 1, 7, 4, 7, 9, 10, 1, 10, 7, 5, 5, 10, 6, 10, 2, 3, 5, 8, 3, 1, 1, 1, 2, 3, 6, 1, 7, 2, 5, 5, 8, 7, 2, 5, 2, 3, 9, 8, 7, 8, 6, 2, 5, 5, 8, 8, 2, 7, 9, 6, 2, 5, 9, 1, 8, 8, 10, 10, 10, 5, 8, 9, 5, 4, 4, 3, 4, 1, 2, 3, 4, 6, 9, 10, 7, 4, 6, 1, 3, 4, 7, 10, 2, 6, 2, 5, 2, 3, 8, 1, 7, 6, 1, 6, 7, 9, 8, 8, 6, 7, 6, 1, 2, 2, 4, 6, 1, 1, 5, 7, 9, 8, 7, 2, 6, 3, 10, 4, 7], \"Freq\": [1.1743778547721357, 0.8174754656213606, 0.7604080555759016, 0.8174754656213606, 0.9616981150017744, 0.8174754656213606, 0.9884375461199394, 1.3443269328822345, 0.9788285729747178, 0.7604080555759016, 1.1743778547721357, 1.0498370030774167, 1.7566020800521343, 0.2435641792674377, 0.2435641792674377, 0.2435641792674377, 0.2435641792674377, 0.8174754656213606, 0.9884375461199394, 0.8434536977909934, 1.05374118779655, 0.4195927787955088, 0.4195927787955088, 1.6699623065461244, 0.9142287951169239, 0.44291182784618377, 0.44291182784618377, 0.9616981150017744, 0.8084251596900605, 0.4145694548810757, 0.20728472744053786, 0.4145694548810757, 0.8067648800705325, 0.40646999232518616, 0.8129399846503723, 0.7604080555759016, 0.8574984331542213, 0.9616981150017744, 0.8049463946216904, 0.24528851283348316, 0.24528851283348316, 0.4905770256669663, 0.8049463946216904, 0.8174754656213606, 0.9616981150017744, 0.9202091020955324, 0.8174754656213606, 0.8084251596900605, 1.0498370030774167, 0.9616981150017744, 0.8574984331542213, 1.05374118779655, 1.6699623065461244, 0.9884375461199394, 0.9142287951169239, 0.8067648800705325, 1.2552466201317538, 1.471563296569278, 1.471563296569278, 0.8174754656213606, 0.4913117808636291, 0.4913117808636291, 1.1743778547721357, 0.521918621623874, 0.521918621623874, 0.24185592464541603, 0.48371184929083205, 0.8574984331542213, 0.8574984331542213, 1.1789207103702504, 1.3443269328822345, 0.8049463946216904, 0.46328392390722556, 0.46328392390722556, 0.7604080555759016, 1.0498370030774167, 0.9142287951169239, 0.9788285729747178, 0.8174754656213606, 0.8174754656213606, 1.6699623065461244, 1.0498370030774167, 1.1743778547721357, 1.7566020800521343, 0.9788285729747178, 0.28537731696062146, 0.28537731696062146, 0.28537731696062146, 0.28537731696062146, 0.8434536977909934, 0.8434536977909934, 0.9788285729747178, 0.8067648800705325, 0.666371373335246, 0.8574984331542213, 1.0441279857824062, 0.8049463946216904, 0.8574984331542213, 0.9202091020955324, 1.6699623065461244, 0.8174754656213606, 1.3443269328822345, 0.8174754656213606, 0.8174754656213606, 0.428949763038266, 0.428949763038266, 0.8067648800705325, 0.6766311738342055, 0.33831558691710273, 0.8434536977909934, 0.9884375461199394, 1.0498370030774167, 0.20575587701968787, 0.20575587701968787, 0.20575587701968787, 0.41151175403937573, 0.46258073622379314, 0.46258073622379314, 0.9142287951169239, 0.9202091020955324, 0.9616981150017744, 0.8067648800705325, 0.8174754656213606, 0.9788285729747178, 0.8067648800705325, 0.8067648800705325, 1.0136318654924035, 1.1789207103702504, 0.8174754656213606, 0.9884375461199394, 0.8049463946216904, 0.9884375461199394, 0.22705495289425726, 0.4541099057885145, 0.22705495289425726, 0.22705495289425726, 1.0498370030774167, 0.7604080555759016, 1.0498370030774167, 0.55036543945251, 0.275182719726255, 0.7604080555759016, 1.1743778547721357, 0.48908772166023223, 0.48908772166023223, 0.8574984331542213, 1.1789207103702504, 0.15881097846622663, 0.15881097846622663, 0.31762195693245326, 0.15881097846622663, 0.15881097846622663, 1.1743778547721357, 0.8084251596900605, 0.8067648800705325, 1.3443269328822345, 0.8049463946216904, 0.9884375461199394, 0.7604080555759016, 0.6842183253191244, 0.4006014678575137, 0.4006014678575137, 1.1789207103702504, 0.18154055096924945, 0.18154055096924945, 0.3630811019384989, 0.3630811019384989, 0.8574984331542213, 1.0498370030774167, 1.6699623065461244, 0.9616981150017744, 0.7604080555759016, 0.9884375461199394, 0.7221092347114372, 0.8174754656213606, 0.9616981150017744, 0.9884375461199394, 0.4293611320541326, 0.4293611320541326, 0.8574984331542213, 0.8084251596900605, 0.9884375461199394, 0.6472417952681259, 0.8049463946216904, 0.9616981150017744, 0.7604080555759016, 1.471563296569278, 0.9788285729747178, 1.2552466201317538, 0.9616981150017744, 0.9616981150017744, 0.1610927136207374, 0.1610927136207374, 0.1610927136207374, 0.1610927136207374, 0.1610927136207374, 1.0441279857824062, 0.8434536977909934, 0.8174754656213606, 0.7604080555759016, 0.8049463946216904, 0.9202091020955324, 1.1789207103702504, 0.9788285729747178, 0.9884375461199394, 0.8174754656213606, 1.1743778547721357, 0.9884375461199394, 0.8084251596900605, 0.8067648800705325, 0.8574984331542213, 1.0441279857824062, 0.4853537809046324, 0.4853537809046324, 1.3443269328822345, 0.8174754656213606, 0.8049463946216904, 1.0441279857824062, 0.5766913730145801, 0.28834568650729003, 1.1743778547721357, 0.8084251596900605, 0.7604080555759016, 0.7604080555759016, 0.45661385703938934, 0.45661385703938934, 0.8084251596900605, 0.8049463946216904, 1.0498370030774167, 1.0498370030774167, 0.6960109869999378, 0.8434536977909934, 0.5319486331797634, 0.5319486331797634, 0.1701267359265863, 0.1701267359265863, 0.3402534718531726, 0.3402534718531726, 0.8084251596900605, 1.0498370030774167, 0.3411109869415056, 0.3411109869415056, 0.3411109869415056, 0.7604080555759016, 1.2552466201317538, 0.41634649174327676, 0.41634649174327676, 0.5248097168553679, 0.5248097168553679, 1.3443269328822345, 0.42608108150804813, 0.42608108150804813, 1.6699623065461244, 0.9884375461199394, 0.9202091020955324, 0.9616981150017744, 0.9616981150017744, 0.9616981150017744, 0.2773639257524162, 0.2773639257524162, 0.2773639257524162, 0.2773639257524162, 1.0686997044229944, 1.0498370030774167, 0.3043611247181294, 0.3043611247181294, 0.3043611247181294, 0.7604080555759016, 0.8174754656213606, 1.0441279857824062, 0.9616981150017744, 1.7566020800521343, 0.8049463946216904, 0.9884375461199394, 1.1743778547721357, 1.3443269328822345, 0.20032135105981888, 0.40064270211963776, 0.20032135105981888, 0.20032135105981888, 0.5103568664988528, 0.5103568664988528, 0.8574984331542213, 0.38289861799145525, 0.38289861799145525, 0.7604080555759016, 1.0498370030774167, 0.9884375461199394, 0.8174754656213606, 0.369408129287754, 0.369408129287754, 0.369408129287754, 0.8434536977909934, 0.4195927787955088, 0.4195927787955088, 1.0498370030774167, 0.8049463946216904, 1.05374118779655, 1.7566020800521343, 0.8049463946216904, 0.9142287951169239, 0.460378750481221, 0.460378750481221, 0.9884375461199394, 0.8067648800705325, 0.3206435393643296, 0.10688117978810986, 0.21376235957621972, 0.10688117978810986, 0.10688117978810986, 0.10688117978810986, 0.7604080555759016, 1.3443269328822345, 0.8000456764043161, 0.8084251596900605, 0.8174754656213606, 1.3443269328822345, 1.3443269328822345, 1.3443269328822345, 0.9616981150017744, 0.8067648800705325, 0.7604080555759016, 0.5289213252479931, 0.5289213252479931, 0.9142287951169239, 0.8174754656213606, 0.8174754656213606, 1.0441279857824062, 0.9202091020955324, 0.7604080555759016, 0.8084251596900605, 1.471563296569278, 0.8049463946216904, 1.163320661952386, 0.4398345881675538, 0.4398345881675538, 0.8434536977909934, 0.9788285729747178, 0.8574984331542213, 0.6441111959564748, 0.8574984331542213, 0.9884375461199394, 1.0498370030774167, 0.9788285729747178, 1.0498370030774167, 1.2552466201317538, 1.6699623065461244, 0.4529100413385282, 0.4529100413385282, 0.8434536977909934, 1.0498370030774167, 0.5113638304134325, 0.5113638304134325, 0.8049463946216904, 0.9202091020955324, 0.9616981150017744, 1.05374118779655, 0.8067648800705325, 1.3071576048210607, 0.31884267141945216, 0.31884267141945216, 0.31884267141945216, 0.4539596108883763, 0.4539596108883763, 0.8174754656213606, 1.6699623065461244, 0.9142287951169239, 0.9202091020955324, 1.2552466201317538, 0.8174754656213606, 0.8049463946216904, 0.299084982325296, 0.598169964650592, 0.299084982325296, 1.1743778547721357, 1.2552466201317538, 1.1743778547721357, 1.471563296569278, 0.8174754656213606, 0.9142287951169239, 0.7410900242872617, 1.1743778547721357, 0.9202091020955324, 0.8174754656213606, 0.8574984331542213, 0.9884375461199394, 0.8434536977909934, 0.8174754656213606, 0.9142287951169239, 0.9884375461199394, 0.9788285729747178, 1.1743778547721357, 1.1743778547721357, 1.0498370030774167, 1.0498370030774167, 1.0498370030774167, 0.5534688687643832, 0.5534688687643832, 0.9884375461199394, 0.9142287951169239, 1.0441279857824062, 0.7604080555759016, 0.9616981150017744, 1.0441279857824062, 0.28370777804264274, 0.09456925934754758, 0.09456925934754758, 0.18913851869509515, 0.09456925934754758, 0.09456925934754758, 0.09456925934754758, 1.2552466201317538, 1.0441279857824062, 1.471563296569278, 0.19183932512141053, 0.19183932512141053, 0.19183932512141053, 0.19183932512141053, 0.19183932512141053, 0.6185110325798434, 0.6185110325798434, 0.5099697342608618, 0.5099697342608618, 0.8174754656213606, 0.4304103958499886, 0.4304103958499886, 0.8067648800705325, 1.3443269328822345, 1.471563296569278, 1.05374118779655, 1.1789207103702504, 0.4557071562599094, 0.4557071562599094, 0.9202091020955324, 0.9202091020955324, 0.6084520589400696, 0.6084520589400696, 1.471563296569278, 0.8067648800705325, 0.8174754656213606, 0.8174754656213606, 0.7604080555759016, 0.8434536977909934, 0.9788285729747178, 0.34209882744394343, 0.34209882744394343, 0.34209882744394343, 0.17104941372197172, 0.9202091020955324, 0.8574984331542213, 0.35040969798070337, 0.7008193959614067, 0.9616981150017744, 1.0498370030774167, 1.0441279857824062, 1.3443269328822345], \"Term\": [\"120\", \"1255813063925776384\", \"185bt92gvuurv\", \"2015\", \"2vs8gpu\", \"4ever\", \"52stuu4wqh\", \"a2\", \"abort\", \"accept\", \"ad\", \"ainib68von\", \"alcohol\", \"all\", \"all\", \"all\", \"all\", \"allow\", \"along\", \"also\", \"altern\", \"am\", \"am\", \"amaz\", \"ani\", \"anim\", \"anim\", \"antivir\", \"anyon\", \"are\", \"are\", \"are\", \"ariana\", \"at\", \"at\", \"avail\", \"back\", \"backtonatur\", \"bacon\", \"be\", \"be\", \"be\", \"beef\", \"besid\", \"best\", \"between\", \"biden\", \"black\", \"blend\", \"booster\", \"bought\", \"bout\", \"brah\", \"braid\", \"bread\", \"brown\", \"brunch\", \"brussel\", \"butter\", \"buy\", \"by\", \"by\", \"calori\", \"came\", \"came\", \"can\", \"can\", \"cascad\", \"cascadeyarn\", \"cashew\", \"cdezvz3585\", \"char\", \"chee\", \"chee\", \"chefderricka\", \"cherri\", \"chicken\", \"children\", \"china\", \"chine\", \"classi\", \"clove\", \"coconut\", \"coff\", \"convinc\", \"cook\", \"cook\", \"cook\", \"cook\", \"could\", \"coupl\", \"coven\", \"credit\", \"curri\", \"custom\", \"cut\", \"daughter\", \"decent\", \"differ\", \"dinner\", \"dirti\", \"discov\", \"disgust\", \"disrespect\", \"do\", \"do\", \"doesn\", \"don\", \"don\", \"donut\", \"dough\", \"down\", \"eat\", \"eat\", \"eat\", \"eat\", \"ee\", \"ee\", \"eggplant\", \"either\", \"elderberri\", \"enough\", \"environ\", \"even\", \"except\", \"face\", \"fact\", \"fake\", \"farm\", \"fill\", \"flash\", \"followyourheart\", \"food\", \"food\", \"food\", \"food\", \"fuck\", \"full\", \"garlic\", \"get\", \"get\", \"glaze\", \"gluten\", \"go\", \"go\", \"go8ng\", \"god\", \"good\", \"good\", \"good\", \"good\", \"good\", \"goodpop\", \"googl\", \"grand\", \"gray\", \"green\", \"had\", \"half\", \"happi\", \"has\", \"has\", \"hate\", \"have\", \"have\", \"have\", \"have\", \"haven\", \"hazelnut\", \"healthi\", \"healthylifestyl\", \"hennessi\", \"herb\", \"hey\", \"hog\", \"homestead\", \"hot\", \"how\", \"how\", \"htm\", \"hypoallergen\", \"iday\", \"idg\", \"ie\", \"ift\", \"igshid\", \"ikbuu3vi5r\", \"imho\", \"imma\", \"immun\", \"immuneboost\", \"in\", \"in\", \"in\", \"in\", \"in\", \"industri\", \"ingredi\", \"insidi\", \"instagram\", \"instead\", \"intercour\", \"intol\", \"irish\", \"jalap\", \"johnoberg\", \"justsogood\", \"kalamata\", \"keep\", \"kim\", \"knit\", \"lben\", \"least\", \"least\", \"leather\", \"legaci\", \"lemon\", \"less\", \"like\", \"like\", \"lime\", \"line\", \"link\", \"linktr\", \"littl\", \"littl\", \"look\", \"lot\", \"love\", \"lrg\", \"lunch\", \"mad\", \"made\", \"made\", \"make\", \"make\", \"make\", \"make\", \"makeup\", \"mayday\", \"meat\", \"meat\", \"meat\", \"meatless\", \"meet\", \"mend\", \"mend\", \"milk\", \"milk\", \"mk\", \"more\", \"more\", \"moxiebread\", \"mozzarella\", \"murder\", \"naturalcur\", \"naturalhealth\", \"naturalremedi\", \"need\", \"need\", \"need\", \"need\", \"no\", \"nooch\", \"not\", \"not\", \"not\", \"now\", \"obama\", \"off\", \"offgrid\", \"oh\", \"oil\", \"oliv\", \"om\", \"on\", \"one\", \"one\", \"one\", \"one\", \"onion\", \"onion\", \"oooh\", \"option\", \"option\", \"order\", \"oregano\", \"os\", \"our\", \"out\", \"out\", \"out\", \"overcharg\", \"own\", \"own\", \"packag\", \"paprika\", \"pare\", \"pbr\", \"peanut\", \"peel\", \"pepper\", \"pepper\", \"pepperoni\", \"petra\", \"pic\", \"pic\", \"pic\", \"pic\", \"pic\", \"pic\", \"pick\", \"pixi\", \"pizza\", \"pop\", \"pork\", \"posh\", \"poshmark\", \"poshmarkapp\", \"potent\", \"ppl\", \"pre\", \"prefer\", \"prefer\", \"pretti\", \"primari\", \"produc\", \"product\", \"protein\", \"qhhxqpeti\", \"quit\", \"raspberri\", \"raw\", \"re\", \"read\", \"read\", \"realiz\", \"realli\", \"rebound\", \"recip\", \"recycl\", \"red\", \"rosemari\", \"rzd1uyvszn\", \"saaaaauc\", \"safe\", \"salad\", \"salt\", \"salt\", \"same\", \"sass\", \"search\", \"search\", \"see\", \"seen\", \"selfsuffici\", \"sen\", \"she\", \"shit\", \"shop\", \"shop\", \"shop\", \"should\", \"should\", \"shown\", \"si9tlmu8k7\", \"similar\", \"skinni\", \"smart\", \"smithfield\", \"smoke\", \"some\", \"some\", \"some\", \"someon\", \"somethin\", \"sponsor\", \"sprout\", \"status\", \"stew\", \"still\", \"stop\", \"super\", \"suppli\", \"sweater\", \"sweet\", \"switch\", \"tarnish\", \"textur\", \"theherbivorousb\", \"their\", \"third\", \"thisisajok\", \"tomati\", \"tomato\", \"tonight\", \"too\", \"too\", \"traderjo\", \"transit\", \"tri\", \"truffl\", \"tt\", \"turn\", \"twitter\", \"twitter\", \"twitter\", \"twitter\", \"twitter\", \"twitter\", \"twitter\", \"tx\", \"type\", \"underherey\", \"up\", \"up\", \"up\", \"up\", \"up\", \"us\", \"us\", \"use\", \"use\", \"utter\", \"ve\", \"ve\", \"version\", \"via\", \"vinaigrett\", \"vs\", \"want\", \"was\", \"was\", \"way\", \"weak\", \"when\", \"when\", \"whew\", \"who\", \"whore\", \"will\", \"wing\", \"wish\", \"witch\", \"with\", \"with\", \"with\", \"with\", \"work\", \"worth\", \"would\", \"would\", \"y3fdjcgswr\", \"yellow\", \"yogurt\", \"zoe\"]}, \"R\": 30, \"lambda.step\": 0.01, \"plot.opts\": {\"xlab\": \"PC1\", \"ylab\": \"PC2\"}, \"topic.order\": [3, 10, 7, 9, 2, 6, 8, 5, 1, 4]};\n",
              "\n",
              "function LDAvis_load_lib(url, callback){\n",
              "  var s = document.createElement('script');\n",
              "  s.src = url;\n",
              "  s.async = true;\n",
              "  s.onreadystatechange = s.onload = callback;\n",
              "  s.onerror = function(){console.warn(\"failed to load library \" + url);};\n",
              "  document.getElementsByTagName(\"head\")[0].appendChild(s);\n",
              "}\n",
              "\n",
              "if(typeof(LDAvis) !== \"undefined\"){\n",
              "   // already loaded: just create the visualization\n",
              "   !function(LDAvis){\n",
              "       new LDAvis(\"#\" + \"ldavis_el124139627370019480328813270\", ldavis_el124139627370019480328813270_data);\n",
              "   }(LDAvis);\n",
              "}else if(typeof define === \"function\" && define.amd){\n",
              "   // require.js is available: use it to load d3/LDAvis\n",
              "   require.config({paths: {d3: \"https://cdnjs.cloudflare.com/ajax/libs/d3/3.5.5/d3.min\"}});\n",
              "   require([\"d3\"], function(d3){\n",
              "      window.d3 = d3;\n",
              "      LDAvis_load_lib(\"https://cdn.rawgit.com/bmabey/pyLDAvis/files/ldavis.v1.0.0.js\", function(){\n",
              "        new LDAvis(\"#\" + \"ldavis_el124139627370019480328813270\", ldavis_el124139627370019480328813270_data);\n",
              "      });\n",
              "    });\n",
              "}else{\n",
              "    // require.js not available: dynamically load d3 & LDAvis\n",
              "    LDAvis_load_lib(\"https://cdnjs.cloudflare.com/ajax/libs/d3/3.5.5/d3.min.js\", function(){\n",
              "         LDAvis_load_lib(\"https://cdn.rawgit.com/bmabey/pyLDAvis/files/ldavis.v1.0.0.js\", function(){\n",
              "                 new LDAvis(\"#\" + \"ldavis_el124139627370019480328813270\", ldavis_el124139627370019480328813270_data);\n",
              "            })\n",
              "         });\n",
              "}\n",
              "</script>"
            ],
            "text/plain": [
              "PreparedData(topic_coordinates=              x         y  topics  cluster       Freq\n",
              "topic                                                \n",
              "2     -0.137116 -0.081291       1        1  13.144218\n",
              "9      0.325561  0.168392       2        1  13.008013\n",
              "6      0.096407 -0.104202       3        1  12.392889\n",
              "8     -0.129110  0.089566       4        1  11.764054\n",
              "1     -0.113946  0.067857       5        1  11.415697\n",
              "5      0.093013  0.054820       6        1   9.582344\n",
              "7     -0.015487 -0.252321       7        1   8.936115\n",
              "4      0.111915 -0.131710       8        1   8.499492\n",
              "0     -0.063860  0.006980       9        1   5.981698\n",
              "3     -0.167377  0.181908      10        1   5.275481, topic_info=          Term      Freq      Total Category  logprob  loglift\n",
              "20442     with  5.000000   5.000000  Default  30.0000  30.0000\n",
              "14636      pic  9.000000   9.000000  Default  29.0000  29.0000\n",
              "3299       are  4.000000   4.000000  Default  28.0000  28.0000\n",
              "15750       re  2.000000   2.000000  Default  27.0000  27.0000\n",
              "7115       eat  4.000000   4.000000  Default  26.0000  26.0000\n",
              "...        ...       ...        ...      ...      ...      ...\n",
              "5763      cook  1.011212   3.504133  Topic10  -3.5993   1.6993\n",
              "8256      food  0.948031   4.404220  Topic10  -3.6638   1.4062\n",
              "19440       up  0.916441   5.212696  Topic10  -3.6977   1.2037\n",
              "14636      pic  1.200756   9.356184  Topic10  -3.4275   0.8890\n",
              "19150  twitter  1.169165  10.574261  Topic10  -3.4541   0.7400\n",
              "\n",
              "[447 rows x 6 columns], token_table=       Topic      Freq                 Term\n",
              "term                                       \n",
              "230        8  1.174378                  120\n",
              "267        2  0.817475  1255813063925776384\n",
              "859        4  0.760408        185bt92gvuurv\n",
              "1162       2  0.817475                 2015\n",
              "1419       3  0.961698              2vs8gpu\n",
              "...      ...       ...                  ...\n",
              "20557      6  0.700819                would\n",
              "20746      3  0.961698           y3fdjcgswr\n",
              "20857     10  1.049837               yellow\n",
              "20980      4  1.044128               yogurt\n",
              "21216      7  1.344327                  zoe\n",
              "\n",
              "[456 rows x 3 columns], R=30, lambda_step=0.01, plot_opts={'xlab': 'PC1', 'ylab': 'PC2'}, topic_order=[3, 10, 7, 9, 2, 6, 8, 5, 1, 4])"
            ]
          },
          "metadata": {
            "tags": []
          },
          "execution_count": 251
        }
      ]
    },
    {
      "cell_type": "markdown",
      "metadata": {
        "id": "GBE74PDNz7rz",
        "colab_type": "text"
      },
      "source": [
        "Methode 2: **GSDMM**"
      ]
    },
    {
      "cell_type": "code",
      "metadata": {
        "id": "g2s9JFnhSNp-",
        "colab_type": "code",
        "colab": {}
      },
      "source": [
        "\n",
        "import random\n",
        "\n",
        "class GibbsSamplingDMM(object):\n",
        "\t\n",
        "\tnumDocuments = 0\n",
        "\tnumWordsInCorpus = 0\n",
        "\tword2IdVocabulary = {}\n",
        "\tid2WordVocabulary = {}\n",
        "\tdocuments = []\n",
        "\toccurenceToIndexCount = []\n",
        "\ttopicAssignments = []\n",
        "\tdocTopicCount = []\n",
        "\ttopicWordCount = []\n",
        "\tsumTopicWordCount = []\n",
        "\tmultiPros = []\n",
        "\tbetaSum=0.\n",
        "\n",
        "\tdef __init__(self, paramters):\n",
        "\t\tsuper(GibbsSamplingDMM, self).__init__()\n",
        "\t\tself.corpus = paramters[\"corpus\"]\n",
        "\t\tself.output = paramters[\"output\"]\n",
        "\t\tself.ntopics = int(paramters[\"ntopics\"])\n",
        "\t\tself.alpha = float(paramters[\"alpha\"])\n",
        "\t\tself.beta = float(paramters[\"beta\"])\n",
        "\t\tself.niters = int(paramters[\"niters\"])\n",
        "\t\tself.twords = int(paramters[\"twords\"])\n",
        "\t\tself.name = paramters[\"name\"]\n",
        "\n",
        "\tdef analyseCorpus(self):\n",
        "\t\tindexWord=0\n",
        "\t\tdata = open(self.corpus).read().splitlines()[:50]\n",
        "\t\tfor doc in data:\n",
        "\t\t\tdocument = []\n",
        "\t\t\twordOccurenceToIndexInDocCount = {}\n",
        "\t\t\twordOccurenceToIndexInDoc = []\n",
        "\t\t\tif doc.rstrip!=None:\n",
        "\t\t\t\twords = doc.rstrip().split()\n",
        "\t\t\t\tfor word in words:\n",
        "\n",
        "\t\t\t\t\tif word in self.word2IdVocabulary:\n",
        "\t\t\t\t\t\tdocument.append(self.word2IdVocabulary[word])\n",
        "\t\t\t\t\telse:\n",
        "\t\t\t\t\t\tself.word2IdVocabulary[word]=indexWord\n",
        "\t\t\t\t\t\tself.id2WordVocabulary[indexWord]=word\n",
        "\t\t\t\t\t\tdocument.append(indexWord)\n",
        "\t\t\t\t\t\tindexWord+=1\n",
        "\n",
        "\t\t\t\t\tif word in wordOccurenceToIndexInDocCount:\n",
        "\t\t\t\t\t\twordOccurenceToIndexInDocCount[word]+=1\n",
        "\t\t\t\t\telse:\n",
        "\t\t\t\t\t\twordOccurenceToIndexInDocCount[word]=1\n",
        "\n",
        "\t\t\t\t\twordOccurenceToIndexInDoc.append(wordOccurenceToIndexInDocCount[word])\n",
        "\n",
        "\t\t\t\tself.numWordsInCorpus+=len(document)\n",
        "\t\t\t\tself.numDocuments+=1\n",
        "\t\t\t\tself.documents.append(document)\n",
        "\t\t\t\tself.occurenceToIndexCount.append(wordOccurenceToIndexInDoc)\n",
        "\n",
        "\t\tself.betaSum=len(self.word2IdVocabulary)*self.beta\n",
        "\n",
        "\n",
        "\tdef topicAssigmentInitialise(self):\n",
        "\t\tself.docTopicCount = [0 for x in range(self.ntopics)]\n",
        "\t\tself.sumTopicWordCount = [0 for x in range(self.ntopics)]\n",
        "\n",
        "\t\tfor i in range(self.ntopics):\n",
        "\t\t\t\tself.topicWordCount.append([0 for x in range(len(self.word2IdVocabulary))])\n",
        "\n",
        "\t\tfor i in range (self.numDocuments):\n",
        "\t\t\ttopic = random.randint(0,self.ntopics-1)\n",
        "\t\t\tself.docTopicCount[topic]+=1\n",
        "\t\t\t\n",
        "\t\t\tfor j in range (len(self.documents[i])):\n",
        "\t\t\t\tself.topicWordCount[topic][self.documents[i][j]]+=1\n",
        "\t\t\t\tself.sumTopicWordCount[topic]+=1\n",
        "\n",
        "\t\t\tself.topicAssignments.append(topic)\n",
        "\n",
        "\tdef nextDiscrete(self,a):\n",
        "\t\tb = 0.\n",
        "\n",
        "\t\tfor i in range(len(a)):\n",
        "\t\t\tb+=a[i]\n",
        "\n",
        "\t\tr = random.uniform(0.,1.)*b\n",
        "\t\t\n",
        "\t\tb=0.\n",
        "\t\tfor i in range (len(a)):\n",
        "\t\t\tb+=a[i]\n",
        "\t\t\tif(b>r):\n",
        "\t\t\t\treturn i\n",
        "\t\treturn len(a)-1\n",
        "\n",
        "\tdef sampleInSingleIteration(self,x):\n",
        "\t\tprint (\"iteration: \"+str(x))\n",
        "\t\tfor d in range(self.numDocuments):\n",
        "\t\t\ttopic = self.topicAssignments[d]\n",
        "\t\t\tself.docTopicCount[topic]-=1\n",
        "\t\t\tdocSize = len(self.documents[d])\n",
        "\t\t\tdocument = self.documents[d]\n",
        "\n",
        "\t\t\tfor w in range(docSize):\n",
        "\t\t\t\tword = document[w]\n",
        "\t\t\t\tself.topicWordCount[topic][word]-=1\n",
        "\t\t\t\tself.sumTopicWordCount[topic]-=1\n",
        "\t\t\t\n",
        "\n",
        "\t\t\tfor t in range(self.ntopics):\n",
        "\t\t\t\tself.multiPros[t] = self.docTopicCount[t]+self.alpha\n",
        "\n",
        "\t\t\t\tfor w in range(docSize):\n",
        "\t\t\t\t\tword = document[w]\n",
        "\t\t\t\t\tself.multiPros[t] *= (self.topicWordCount[t][word]+self.beta+self.occurenceToIndexCount[d][w]-1)/(self.sumTopicWordCount[t]+w+self.betaSum)\n",
        "\t\t\t\t\n",
        "\t\t\t\t\t\n",
        "\t\t\t#print self.multiPros\n",
        "\t\t\ttopic = self.nextDiscrete(self.multiPros)\n",
        "\t\t\t#print topic\n",
        "\n",
        "\t\t\tself.docTopicCount[topic]+=1\n",
        "\n",
        "\t\t\tfor w in range(docSize):\n",
        "\t\t\t\tword = document[w]\n",
        "\t\t\t\tself.topicWordCount[topic][word]+=1\n",
        "\t\t\t\tself.sumTopicWordCount[topic]+=1\n",
        "\n",
        "\t\t\tself.topicAssignments[d] = topic\n",
        "\n",
        "\tdef inference(self):\n",
        "\t\tself.multiPros = [0 for x in range(self.ntopics)]\n",
        "\t\t[self.sampleInSingleIteration(x) for x in range(self.niters)]\n",
        "\n",
        "\tdef writeTopicAssignments(self):\n",
        "\t\tfile = open(self.output+self.name+\"topicAssignments.txt\",\"w\")\n",
        "\t\t#for i in range(self.numDocuments):\n",
        "\t\t[file.write(str(self.topicAssignments[i])+\"\\n\") for i in range(self.numDocuments)]\n",
        "\n",
        "\n",
        "\n",
        "\tdef writeTopTopicalWords(self):\n",
        "\t\tfile = open(self.output+self.name+\"topWords.txt\",\"w\") \n",
        "\t\tfor t in range(self.ntopics):\n",
        "\t\t\twordCount = {w:self.topicWordCount[t][w] for w in range(len(self.word2IdVocabulary))}\n",
        "\t\t\t\n",
        "\t\t\tcount =0\n",
        "\t\t\tstring=\"Topic \"+str(t)+\": \"\n",
        "\t\t\t\n",
        "\t\t\tfor index in sorted(wordCount, key=wordCount.get, reverse=True):\n",
        "\t\t\t\tstring += self.id2WordVocabulary[index]+\" \"\n",
        "\t\t\t\tcount+=1\n",
        "\t\t\t\tif count>=self.twords:\n",
        "\t\t\t\t\tfile.write(string+\"\\n\") \n",
        "\t\t\t\t\t# print string\n",
        "\t\t\t\t\tbreak\n",
        "\t\tfile.close()"
      ],
      "execution_count": 0,
      "outputs": []
    },
    {
      "cell_type": "code",
      "metadata": {
        "id": "I21IX6ExSQ2d",
        "colab_type": "code",
        "colab": {}
      },
      "source": [
        "params = {\"corpus\":\"TweetCorpus.txt\", \n",
        "          \"output\": \"outGSDMM\", \n",
        "          \"ntopics\": \"20\", \n",
        "          \"alpha\":\"0.1\",\n",
        "          \"beta\":\"0.1\", \n",
        "          \"niters\":\"300\",\n",
        "          \"twords\":\"20\",\n",
        "          \"name\":\"\"}\n",
        "\n",
        "model = GibbsSamplingDMM(params)\n",
        "model.analyseCorpus()\n",
        "model.topicAssigmentInitialise()\n",
        "model.inference()\n",
        "\t\n",
        "print (\"Writing Results\")\n",
        "model.writeTopTopicalWords()\n",
        "model.writeTopicAssignments()"
      ],
      "execution_count": 0,
      "outputs": []
    },
    {
      "cell_type": "markdown",
      "metadata": {
        "id": "OmivnfF60fR5",
        "colab_type": "text"
      },
      "source": [
        "Method 3: **LDA ** \n"
      ]
    },
    {
      "cell_type": "markdown",
      "metadata": {
        "id": "XMSY3ftnPc7F",
        "colab_type": "text"
      },
      "source": [
        "Firstly, I am creating a dictionary from our data, then I am converting it into a bag-of-words corpus and then saving the dictionary and corpus for future use using pickle library"
      ]
    },
    {
      "cell_type": "code",
      "metadata": {
        "id": "IP-ZRi59Q2Nj",
        "colab_type": "code",
        "colab": {}
      },
      "source": [
        "\n",
        "parser = English()\n",
        "def tokenize(text):\n",
        "    lda_tokens = []\n",
        "    tokens = parser(text)\n",
        "    for token in tokens:\n",
        "        if token.orth_.isspace():\n",
        "            continue\n",
        "        elif token.like_url:\n",
        "            lda_tokens.append('URL')\n",
        "        elif token.orth_.startswith('@'):\n",
        "            lda_tokens.append('SCREEN_NAME')\n",
        "        else:\n",
        "            lda_tokens.append(token.lower_)\n",
        "    return lda_tokens"
      ],
      "execution_count": 0,
      "outputs": []
    },
    {
      "cell_type": "code",
      "metadata": {
        "id": "ULoeKYqGQ5xN",
        "colab_type": "code",
        "colab": {}
      },
      "source": [
        "text_data = []\n",
        "for row in tqdm(data):\n",
        "    tokens = tokenize(row)\n",
        "    text_data.append(tokens)"
      ],
      "execution_count": 0,
      "outputs": []
    },
    {
      "cell_type": "code",
      "metadata": {
        "id": "JxFiSj9EJ6cO",
        "colab_type": "code",
        "colab": {}
      },
      "source": [
        "print(\"Generating corpus and dictionary...\")\n",
        "\n",
        "dictionary = corpora.Dictionary(text_data)\n",
        "corpus = [dictionary.doc2bow(text) for text in text_data]\n",
        "pickle.dump(corpus, open('corpus.pkl', 'wb'))\n",
        "dictionary.save('dictionary.gensim')"
      ],
      "execution_count": 0,
      "outputs": []
    },
    {
      "cell_type": "code",
      "metadata": {
        "id": "FrRtOBaoFgn4",
        "colab_type": "code",
        "colab": {}
      },
      "source": [
        "%%time\n",
        "print(\"Training LDA model on train dataframe...\")\n",
        "\n",
        "NUM_TOPICS = 20\n",
        "start_time = time.time()\n",
        "ldamodel = gensim.models.ldamodel.LdaModel(corpus, \n",
        "                                           num_topics=NUM_TOPICS, \n",
        "                                           random_state=89, \n",
        "                                           update_every=1,  \n",
        "                                           id2word=dictionary, \n",
        "                                           passes=42, \n",
        "                                           alpha='auto', \n",
        "                                           per_word_topics=True)\n",
        "\n",
        "ldamodel.save('model' + str(NUM_TOPICS) + '.gensim')\n",
        "train_time = time.time() - start_time\n",
        "print(\"Training Time --- %s seconds \" % (round(train_time, 2)))"
      ],
      "execution_count": 0,
      "outputs": []
    },
    {
      "cell_type": "code",
      "metadata": {
        "id": "s1ZdN5Ht0j8D",
        "colab_type": "code",
        "colab": {}
      },
      "source": [
        "print(\"Allocated models of each topic...\")\n",
        "\n",
        "topics_train = []\n",
        "topics = ldamodel.print_topics()\n",
        "for topic in topics:\n",
        "    pprint(topic)\n",
        "    topics_train.append(topic)\n",
        "    \n",
        "\n",
        "with open(\"results_train.txt\", 'w') as f:\n",
        "    pprint(topics_train, stream=f)"
      ],
      "execution_count": 0,
      "outputs": []
    },
    {
      "cell_type": "code",
      "metadata": {
        "id": "AfuV-kblJl6j",
        "colab_type": "code",
        "colab": {}
      },
      "source": [
        "# Compute Perplexity\n",
        "print('\\nPerplexity: ', ldamodel.log_perplexity(corpus))  # a measure of how good the model is. lower the better.\n",
        "\n",
        "# Compute Coherence Score\n",
        "coherence_model_lda = CoherenceModel(model=ldamodel, texts=text_data, dictionary=dictionary, coherence='c_v')\n",
        "coherence_lda = coherence_model_lda.get_coherence()\n",
        "print('\\nCoherence Score: ', coherence_lda)"
      ],
      "execution_count": 0,
      "outputs": []
    },
    {
      "cell_type": "code",
      "metadata": {
        "id": "0Lt4U_0LKaPM",
        "colab_type": "code",
        "outputId": "a560bc7c-89b0-4add-b647-d11081f221ba",
        "colab": {
          "base_uri": "https://localhost:8080/",
          "height": 881
        }
      },
      "source": [
        "# Visualizing our optimal model with 100 topics\n",
        "vis = pyLDAvis.gensim.prepare(ldamodel, corpus, dictionary)\n",
        "pyLDAvis.save_html(vis, 'testoutput_LDA.html')\n",
        "vis"
      ],
      "execution_count": 0,
      "outputs": [
        {
          "output_type": "execute_result",
          "data": {
            "text/html": [
              "\n",
              "<link rel=\"stylesheet\" type=\"text/css\" href=\"https://cdn.rawgit.com/bmabey/pyLDAvis/files/ldavis.v1.0.0.css\">\n",
              "\n",
              "\n",
              "<div id=\"ldavis_el1241396267915291123337660042\"></div>\n",
              "<script type=\"text/javascript\">\n",
              "\n",
              "var ldavis_el1241396267915291123337660042_data = {\"mdsDat\": {\"x\": [-0.3041788690093062, -0.2237557945180977, -0.12829978325033173, -0.15811312438158953, 0.07800319547482072, -0.11862235918156298, 0.08221505383349942, 0.03231579425047241, 0.01571814623738611, 0.06452003305919313, 0.05611202323170343, -0.05516455596988334, 0.020658985552825724, 0.10769373410915165, 0.07271339463417105, 0.04462687555844495, 0.055451097641472505, 0.12122218945666337, 0.13148043406063117, 0.10540352921033636], \"y\": [0.29662306351697765, -0.12935409387892124, -0.044577083552502936, -0.17051321914400888, 0.1964448729557525, -0.04088055953691152, 0.19257938030931437, -0.003978271932090461, 0.0011584107462765192, 0.015482117416544181, -0.03029523850254898, -0.11643427471827383, -0.03626368959197856, 0.017145567516626364, -0.03257229556454882, 0.035781383425612955, -0.06949817478158685, -0.03283120912246848, -0.017067178818011616, -0.030949506743250584], \"topics\": [1, 2, 3, 4, 5, 6, 7, 8, 9, 10, 11, 12, 13, 14, 15, 16, 17, 18, 19, 20], \"cluster\": [1, 1, 1, 1, 1, 1, 1, 1, 1, 1, 1, 1, 1, 1, 1, 1, 1, 1, 1, 1], \"Freq\": [51.687068939208984, 5.103079319000244, 4.143746376037598, 3.649071216583252, 3.460646390914917, 3.3903074264526367, 2.7835450172424316, 2.4076828956604004, 2.3487443923950195, 2.3315229415893555, 2.185483932495117, 2.1849350929260254, 2.081486463546753, 1.9649600982666016, 1.8817845582962036, 1.8392798900604248, 1.7335753440856934, 1.6875799894332886, 1.665504813194275, 1.4700007438659668]}, \"tinfo\": {\"Term\": [\"twitter\", \"s\", \"i\", \"pic\", \"go\", \"with\", \"be\", \"meat\", \"how\", \"on\", \"we\", \"b\", \"anim\", \"status\", \"recip\", \"instagram\", \"p\", \"ee\", \"was\", \"igshid\", \"he\", \"she\", \"still\", \"out\", \"t\", \"are\", \"food\", \"plant\", \"can\", \"diet\", \"i\", \"t\", \"am\", \"have\", \"all\", \"not\", \"like\", \"good\", \"some\", \"don\", \"one\", \"re\", \"tri\", \"think\", \"there\", \"ve\", \"know\", \"will\", \"would\", \"them\", \"been\", \"need\", \"realli\", \"had\", \"thing\", \"say\", \"even\", \"too\", \"got\", \"year\", \"eat\", \"on\", \"do\", \"make\", \"in\", \"are\", \"can\", \"up\", \"be\", \"more\", \"at\", \"get\", \"was\", \"go\", \"we\", \"no\", \"s\", \"peopl\", \"food\", \"with\", \"out\", \"om\", \"meat\", \"chocol\", \"gluten\", \"butter\", \"05\", \"mac\", \"sugar\", \"carrot\", \"snack\", \"browni\", \"peanut\", \"foodi\", \"vinegar\", \"joe\", \"doubl\", \"school\", \"grain\", \"bath\", \"trader\", \"melt\", \"ginger\", \"stew\", \"liquid\", \"similar\", \"stir\", \"artisan\", \"herbal\", \"02\", \"toronto\", \"hahaha\", \"bike\", \"recip\", \"lemon\", \"cake\", \"glute\", \"chip\", \"ee\", \"chili\", \"ingredi\", \"2020\", \"cupcak\", \"blog\", \"powder\", \"bake\", \"green\", \"flavor\", \"oil\", \"pic\", \"anic\", \"healthi\", \"twitter\", \"ly\", \"plantba\", \"bit\", \"s\", \"protein\", \"with\", \"food\", \"new\", \"delici\", \"b\", \"instagram\", \"igshid\", \"p\", \"gift\", \"pm\", \"pesto\", \"lavend\", \"cider\", \"soft\", \"goodearthbeauti\", \"seat\", \"valu\", \"repost\", \"expect\", \"crispi\", \"amzn\", \"gg\", \"walnut\", \"kit\", \"chatwithvera\", \"saturday\", \"shot\", \"war\", \"bs\", \"da\", \"meetedgar\", \"animallov\", \"appli\", \"instagr\", \"mother\", \"oliv\", \"giveaway\", \"yum\", \"win\", \"fashion\", \"pack\", \"launch\", \"box\", \"s\", \"plantba\", \"herb\", \"day\", \"beauti\", \"our\", \"o\", \"delici\", \"2\", \"with\", \"natur\", \"ee\", \"1\", \"2020\", \"new\", \"status\", \"v\", \"stick\", \"mine\", \"climat\", \"cross\", \"worst\", \"wfpb\", \"govern\", \"offend\", \"edo\", \"90\", \"hydrat\", \"ebay\", \"quesadilla\", \"project\", \"habit\", \"paint\", \"crisi\", \"meme\", \"draw\", \"cult\", \"encourag\", \"relax\", \"eak\", \"kebab\", \"valid\", \"mountain\", \"aag\", \"somebodi\", \"twitter\", \"pic\", \"oreo\", \"s\", \"watch\", \"truth\", \"youtub\", \"shape\", \"look\", \"time\", \"video\", \"lif\", \"passion\", \"plant\", \"eater\", \"consum\", \"abus\", \"worker\", \"factori\", \"ignor\", \"three\", \"base\", \"worri\", \"lower\", \"gf\", \"risk\", \"often\", \"nutrient\", \"dad\", \"journey\", \"individu\", \"door\", \"toward\", \"biscuit\", \"unfortun\", \"nobodi\", \"sit\", \"cuz\", \"assum\", \"b12\", \"deep\", \"although\", \"wingfestuk\", \"farm\", \"etc\", \"power\", \"fish\", \"million\", \"shortag\", \"meat\", \"anim\", \"kill\", \"goe\", \"diet\", \"industri\", \"grow\", \"nutrit\", \"health\", \"state\", \"human\", \"support\", \"product\", \"cow\", \"their\", \"sausag\", \"roll\", \"soup\", \"roast\", \"bowl\", \"slice\", \"seed\", \"pre\", \"dinner\", \"stuf\", \"waffl\", \"plate\", \"ift\", \"tt\", \"chop\", \"io\", \"prep\", \"incr\", \"mothersday\", \"cheesecak\", \"plantbasedparti\", \"bun\", \"italian\", \"dri\", \"heaven\", \"favourit\", \"oven\", \"classic\", \"leftov\", \"rock\", \"pasta\", \"breakfast\", \"esh\", \"deliveri\", \"dair\", \"takeout\", \"rice\", \"mushroom\", \"featur\", \"version\", \"order\", \"onlin\", \"avail\", \"strawberri\", \"top\", \"dude\", \"corn\", \"dish\", \"with\", \"our\", \"meal\", \"pic\", \"perfect\", \"twitter\", \"delici\", \"made\", \"bean\", \"om\", \"peta\", \"suffer\", \"against\", \"matter\", \"reduc\", \"answer\", \"animalright\", \"action\", \"research\", \"death\", \"movement\", \"thread\", \"supermarket\", \"involv\", \"victim\", \"yo\", \"ban\", \"logic\", \"wholefood\", \"profit\", \"mit\", \"peach\", \"approv\", \"holocaust\", \"click\", \"antinat\", \"lab\", \"creatur\", \"record\", \"shark\", \"save\", \"babi\", \"imposs\", \"scienc\", \"type\", \"anim\", \"brand\", \"ya\", \"human\", \"import\", \"earth\", \"basic\", \"market\", \"support\", \"must\", \"respon\", \"wor\", \"stop\", \"by\", \"kill\", \"live\", \"diet\", \"their\", \"whi\", \"game\", \"makeup\", \"review\", \"direct\", \"wrap\", \"servic\", \"attempt\", \"opinion\", \"huge\", \"las\", \"beer\", \"ig\", \"item\", \"success\", \"build\", \"public\", \"ot\", \"view\", \"cuisin\", \"patient\", \"king\", \"tend\", \"convinc\", \"announc\", \"emerg\", \"changer\", \"popular\", \"blue\", \"plinki\", \"event\", \"pare\", \"bite\", \"new\", \"facebook\", \"pani\", \"cruelti\", \"skin\", \"origin\", \"vega\", \"8\", \"open\", \"age\", \"chickpea\", \"bag\", \"our\", \"ee\", \"anoth\", \"product\", \"cruelt\", \"link\", \"om\", \"e\", \"onion\", \"almond\", \"season\", \"style\", \"flour\", \"cashew\", \"dress\", \"fire\", \"explain\", \"queso\", \"wheat\", \"dip\", \"figur\", \"flower\", \"cucumb\", \"appar\", \"chorizo\", \"yellow\", \"22\", \"cruel\", \"viva\", \"everybodi\", \"pan\", \"whenev\", \"german\", \"shout\", \"07\", \"tortilla\", \"dye\", \"model\", \"pickl\", \"grill\", \"sushi\", \"salad\", \"color\", \"sauc\", \"pepper\", \"dessert\", \"potato\", \"join\", \"bbq\", \"avocado\", \"black\", \"tomato\", \"1\", \"garlic\", \"red\", \"20\", \"with\", \"bean\", \"4\", \"w\", \"chee\", \"covid\", \"19\", \"exist\", \"suppli\", \"mental\", \"per\", \"protect\", \"collect\", \"mask\", \"requir\", \"slaughterh\", \"result\", \"four\", \"proper\", \"prove\", \"mapl\", \"un\", \"quot\", \"trend\", \"ben\", \"woo\", \"biggest\", \"increa\", \"blame\", \"recycl\", \"pink\", \"moistur\", \"jerri\", \"dirti\", \"losangel\", \"tinyurl\", \"sustain\", \"site\", \"ow\", \"yesterday\", \"our\", \"rang\", \"rt\", \"peac\", \"lip\", \"es\", \"water\", \"offer\", \"environ\", \"health\", \"limit\", \"we\", \"each\", \"planet\", \"help\", \"face\", \"mayo\", \"vitamin\", \"smell\", \"gir\", \"cinco\", \"mend\", \"c\", \"gummi\", \"cold\", \"cbd\", \"design\", \"larg\", \"bill\", \"tuesday\", \"rai\", \"europ\", \"cincodemayo\", \"virus\", \"forev\", \"intak\", \"bone\", \"afford\", \"thousand\", \"cloth\", \"kimchi\", \"park\", \"episod\", \"mash\", \"anybodi\", \"lazi\", \"r\", \"de\", \"bottl\", \"omega\", \"provid\", \"bakeri\", \"supplement\", \"articl\", \"hand\", \"taco\", \"iend\", \"3\", \"s\", \"health\", \"youtu\", \"soap\", \"women\", \"music\", \"respect\", \"offici\", \"ec\", \"accept\", \"throne\", \"nam\", \"along\", \"christian\", \"turkey\", \"sexi\", \"hqhap4jiyt\", \"rrkxtr\", \"mv\", \"mistic\", \"gnyy\", \"depend\", \"kookcao\", \"1258118492928249856\", \"jp08\", \"shirt\", \"joy\", \"chat\", \"thick\", \"accord\", \"gov\", \"nih\", \"youtub\", \"men\", \"nail\", \"via\", \"sunday\", \"dlvr\", \"eco\", \"inspir\", \"etsi\", \"g\", \"video\", \"iend\", \"s\", \"pic\", \"be\", \"twitter\", \"ly\", \"bag\", \"over\", \"social\", \"medium\", \"smoothi\", \"dough\", \"reviveoldpost\", \"api\", \"hummus\", \"detox\", \"rawpassionuk\", \"travel\", \"skinni\", \"archiv\", \"fudg\", \"twist\", \"sperm\", \"spaghetti\", \"squash\", \"moisturi\", \"etsyfu\", \"idiot\", \"trait\", \"cater\", \"function\", \"scrub\", \"korean\", \"armchairtravel\", \"justinpluslauren\", \"php\", \"skinfood\", \"caninecar\", \"cooki\", \"safe\", \"select\", \"utm\", \"bunch\", \"sourc\", \"campaign\", \"keto\", \"raw\", \"uk\", \"passion\", \"spinach\", \"co\", \"etsi\", \"yoga\", \"restaur\", \"s\", \"athlet\", \"drink\", \"food\", \"share\", \"diet\", \"he\", \"hit\", \"covid19\", \"took\", \"piec\", \"cafe\", \"avoid\", \"oatmeal\", \"shred\", \"bo\", \"luck\", \"under\", \"situat\", \"nigga\", \"attent\", \"lime\", \"household\", \"jesus\", \"opportun\", \"turmer\", \"earlier\", \"16\", \"crap\", \"varieti\", \"exampl\", \"protest\", \"neighbor\", \"13\", \"pantri\", \"probiot\", \"mention\", \"bacon\", \"wtf\", \"birthday\", \"past\", \"celebr\", \"9\", \"joke\", \"dark\", \"chick\", \"becaus\", \"him\", \"was\", \"no\", \"ingredi\", \"poshmark\", \"content\", \"between\", \"li\", \"poshmarkapp\", \"sh\", \"pure\", \"later\", \"surviv\", \"remind\", \"3dsh\", \"3dext1\", \"26rfuid\", \"26ext\", \"referr\", \"shopmycloset\", \"trk\", \"3dbranch\", \"plastic\", \"whip\", \"mg\", \"trash\", \"capsul\", \"app\", \"boost\", \"delight\", \"candl\", \"feminist\", \"arbonn\", \"aliv\", \"leather\", \"50\", \"step\", \"check\", \"ad\", \"list\", \"utm\", \"via\", \"out\", \"sourc\", \"on\", \"campaign\", \"s\", \"beef\", \"beefin\", \"banana\", \"goin\", \"disea\", \"muffin\", \"lentil\", \"chemic\", \"blueberri\", \"wit\", \"secret\", \"tf\", \"jam\", \"access\", \"infecti\", \"hospit\", \"loaf\", \"theecologist\", \"tick\", \"pumpkin\", \"futur\", \"3in4\", \"southern\", \"tough\", \"goodi\", \"itself\", \"lucki\", \"thug\", \"marshmallow\", \"manufactur\", \"treat\", \"nut\", \"oat\", \"pandem\", \"bread\", \"still\", \"again\", \"how\", \"curri\", \"with\", \"go\", \"w\", \"spici\", \"u\", \"kitchen\", \"cream\", \"ice\", \"coff\", \"buff\", \"ta\", \"simpl\", \"stock\", \"asparagus\", \"0\", \"emot\", \"weightloss\", \"relat\", \"chilli\", \"hello\", \"note\", \"sour\", \"thrive\", \"son\", \"dalgona\", \"fli\", \"aye\", \"sprinkl\", \"shoe\", \"3c3dpck\", \"dalgonacoff\", \"trade\", \"negat\", \"tattoo\", \"asap\", \"wave\", \"net\", \"creami\", \"fit\", \"sleep\", \"otherwi\", \"coconut\", \"paleo\", \"recip\", \"tofu\", \"avocado\", \"ly\", \"milk\", \"cup\", \"keto\", \"strawberri\", \"easi\", \"s\", \"nutrit\", \"protein\", \"she\", \"her\", \"pancak\", \"toast\", \"pls\", \"fulli\", \"cute\", \"sun\", \"yeast\", \"daughter\", \"woman\", \"info\", \"brunch\", \"fave\", \"dream\", \"insult\", \"00\", \"wash\", \"crack\", \"defend\", \"room\", \"karen\", \"muslim\", \"advic\", \"flat\", \"virtual\", \"progress\", \"squar\", \"minor\", \"island\", \"send\", \"idk\", \"obvious\", \"energi\", \"size\", \"queen\", \"bee\", \"omg\", \"donut\", \"effect\", \"crazi\", \"bet\", \"challeng\", \"spring\", \"suggest\", \"tire\", \"slutti\", \"depress\", \"pinterest\", \"eye\", \"profil\", \"pin\", \"btw\", \"phone\", \"basil\", \"accid\", \"isol\", \"boot\", \"seri\", \"fanci\", \"troll\", \"difficult\", \"fear\", \"60\", \"associ\", \"gym\", \"ur\", \"meet\", \"coupl\", \"eaten\", \"meatbal\", \"experi\", \"self\", \"entir\", \"studi\", \"term\", \"key\", \"second\", \"health\", \"has\", \"countri\", \"nutrit\", \"30\", \"head\", \"scratch\", \"mini\", \"indian\", \"class\", \"hippi\", \"movi\", \"seitan\", \"artist\", \"japan\", \"massiv\", \"guacamol\", \"whilst\", \"pur\", \"constant\", \"magic\", \"palm\", \"butcher\", \"rli\", \"press\", \"propaganda\", \"concern\", \"greek\", \"popul\", \"concept\", \"drugstor\", \"finna\", \"enchilada\", \"theyr\", \"scoop\", \"code\", \"art\", \"sprout\", \"left\", \"vegnew\", \"kale\", \"clean\", \"impress\", \"beauti\", \"refer\", \"homemad\", \"om\", \"skincar\", \"off\", \"5\"], \"Freq\": [2489.0, 4604.0, 7900.0, 1883.0, 1306.0, 1715.0, 1873.0, 920.0, 680.0, 1826.0, 1116.0, 644.0, 635.0, 542.0, 615.0, 516.0, 530.0, 701.0, 875.0, 477.0, 363.0, 347.0, 385.0, 681.0, 1979.0, 1671.0, 1017.0, 326.0, 1190.0, 465.0, 7899.47607421875, 1978.8614501953125, 1648.9190673828125, 1458.4404296875, 1165.2861328125, 1510.2208251953125, 1154.09814453125, 745.3276977539062, 728.9057006835938, 693.1271362304688, 633.7471923828125, 596.2423706054688, 590.1279296875, 538.3843994140625, 519.4013671875, 519.003662109375, 518.0210571289062, 497.5495910644531, 457.9207763671875, 418.0530090332031, 402.8399658203125, 401.5010986328125, 372.4473876953125, 358.8069763183594, 358.60430908203125, 358.4342041015625, 358.39068603515625, 356.9416809082031, 350.8203125, 322.3941650390625, 1146.66748046875, 1785.5296630859375, 956.4324340820312, 1032.89501953125, 2105.997802734375, 1626.226806640625, 1164.0506591796875, 538.4227905273438, 1796.3758544921875, 521.4542236328125, 718.9381103515625, 704.2135620117188, 834.8914184570312, 1193.6805419921875, 1006.819091796875, 625.2559204101562, 2850.56591796875, 588.9004516601562, 832.1652221679688, 1138.024169921875, 621.1657104492188, 638.2229614257812, 641.8931884765625, 228.95095825195312, 178.64559936523438, 146.01931762695312, 106.4188003540039, 81.73319244384766, 70.72600555419922, 63.88861083984375, 63.358516693115234, 54.19923782348633, 43.18351364135742, 40.930641174316406, 31.077524185180664, 27.33031463623047, 26.771032333374023, 23.512006759643555, 23.15877914428711, 22.825044631958008, 21.107675552368164, 20.819238662719727, 20.68558120727539, 20.093116760253906, 19.641000747680664, 19.3267765045166, 15.393790245056152, 14.616061210632324, 14.257303237915039, 13.721840858459473, 13.28577709197998, 13.217491149902344, 13.010157585144043, 543.7583618164062, 64.10488891601562, 154.3780517578125, 92.66717529296875, 85.67948150634766, 540.179443359375, 37.62791442871094, 89.11936950683594, 130.29690551757812, 32.639991760253906, 54.6650505065918, 37.902462005615234, 107.75984191894531, 78.9702377319336, 41.4695930480957, 63.74213790893555, 463.7721862792969, 64.55244445800781, 116.31837463378906, 465.6470947265625, 79.43460845947266, 71.76561737060547, 69.5406723022461, 285.685546875, 70.89471435546875, 117.7846908569336, 99.21231079101562, 70.33695220947266, 67.87860870361328, 643.8291015625, 515.3728637695312, 476.96722412109375, 522.4418334960938, 52.188446044921875, 37.2161750793457, 36.55434036254883, 29.67550277709961, 28.469877243041992, 27.971927642822266, 23.70943832397461, 22.44066619873047, 21.45513916015625, 21.297786712646484, 18.980606079101562, 18.41897201538086, 18.04564094543457, 17.71514129638672, 16.609556198120117, 15.562784194946289, 15.2150239944458, 14.978623390197754, 13.118610382080078, 13.023299217224121, 12.791542053222656, 12.704056739807129, 12.604145050048828, 12.553844451904297, 12.35161304473877, 11.896994590759277, 76.07081604003906, 25.9221134185791, 45.80888366699219, 33.42334747314453, 59.48649215698242, 24.529747009277344, 35.30327224731445, 30.945125579833984, 40.17036437988281, 602.5923461914062, 62.1600456237793, 21.932270050048828, 79.59241485595703, 39.6360969543457, 65.82472229003906, 24.815988540649414, 45.3403205871582, 47.57087326049805, 77.42933654785156, 38.653804779052734, 50.80000305175781, 34.74313735961914, 33.685813903808594, 30.58746337890625, 541.4866333007812, 50.54266357421875, 38.8630256652832, 32.392398834228516, 26.112470626831055, 24.377086639404297, 22.48429298400879, 20.247480392456055, 18.251407623291016, 17.946271896362305, 17.016023635864258, 16.84662628173828, 16.266101837158203, 16.154382705688477, 15.517621040344238, 15.395374298095703, 14.578566551208496, 14.027087211608887, 13.149532318115234, 13.002823829650879, 12.87100887298584, 12.575026512145996, 12.339068412780762, 12.273030281066895, 12.252467155456543, 11.329261779785156, 10.743575096130371, 10.415104866027832, 10.310302734375, 10.132320404052734, 1850.5517578125, 1218.5830078125, 14.562410354614258, 498.405517578125, 50.169822692871094, 21.546369552612305, 34.82465744018555, 13.7096529006958, 25.23579216003418, 21.94804573059082, 15.538186073303223, 13.949295043945312, 14.008489608764648, 325.3416748046875, 76.73015594482422, 67.40927124023438, 67.06449127197266, 48.43199920654297, 45.434410095214844, 44.884971618652344, 35.978271484375, 279.1224670410156, 31.505441665649414, 29.42084503173828, 29.33531951904297, 28.50033187866211, 27.603885650634766, 26.187088012695312, 25.766761779785156, 25.340330123901367, 24.85890007019043, 24.39558219909668, 24.29513168334961, 22.511262893676758, 22.464067459106445, 22.32046127319336, 22.238567352294922, 21.78067398071289, 21.712505340576172, 21.712505340576172, 20.65601921081543, 19.98455238342285, 19.75082015991211, 88.45464324951172, 62.574066162109375, 40.2801513671875, 65.50791931152344, 26.196914672851562, 43.19450378417969, 277.65228271484375, 212.43197631835938, 61.55073928833008, 32.995750427246094, 146.48629760742188, 41.47401809692383, 33.457672119140625, 44.86484146118164, 62.596187591552734, 31.26793098449707, 40.23805618286133, 37.08066940307617, 37.14641571044922, 30.16586685180664, 31.537429809570312, 111.79954528808594, 95.25721740722656, 74.98057556152344, 68.56109619140625, 51.71809768676758, 36.74822235107422, 35.819923400878906, 34.19548034667969, 136.4879913330078, 29.67547035217285, 26.64967155456543, 26.08416175842285, 25.553192138671875, 25.553192138671875, 25.174165725708008, 25.131860733032227, 24.781726837158203, 24.025772094726562, 23.20753288269043, 23.11570930480957, 22.645776748657227, 22.03888702392578, 21.268800735473633, 20.37454605102539, 20.11064910888672, 19.917572021484375, 19.455488204956055, 19.051715850830078, 17.51198387145996, 15.60856819152832, 76.4855728149414, 84.44194793701172, 67.35616302490234, 60.82052993774414, 33.84577178955078, 29.550580978393555, 86.53215026855469, 54.927772521972656, 39.7597770690918, 47.23982238769531, 106.60037994384766, 46.21659851074219, 52.47026824951172, 40.07036209106445, 47.82505798339844, 28.999095916748047, 35.1615104675293, 49.44063949584961, 158.3975830078125, 82.65210723876953, 60.082313537597656, 114.68768310546875, 40.873817443847656, 90.44869232177734, 46.15198516845703, 53.26957702636719, 40.26907730102539, 41.5466194152832, 75.86894226074219, 49.724647521972656, 47.938201904296875, 41.93474197387695, 36.879676818847656, 34.91858673095703, 34.23124694824219, 29.93336296081543, 28.90315818786621, 27.348506927490234, 21.282569885253906, 21.19467544555664, 20.10877799987793, 19.47148323059082, 19.32388687133789, 18.900962829589844, 18.325769424438477, 16.944244384765625, 16.401845932006836, 15.989960670471191, 15.588088989257812, 14.918963432312012, 14.82817554473877, 14.729411125183105, 13.928312301635742, 13.434988021850586, 13.43313217163086, 13.407044410705566, 13.292499542236328, 13.066052436828613, 67.50947570800781, 61.28208541870117, 27.396488189697266, 27.62215232849121, 45.085750579833984, 413.3828125, 63.77522659301758, 27.08279800415039, 96.94720458984375, 31.662933349609375, 37.803951263427734, 29.474750518798828, 36.221343994140625, 61.3369026184082, 32.09257125854492, 23.7935733795166, 25.632793426513672, 57.84902572631836, 71.33235168457031, 36.155189514160156, 45.65221405029297, 47.554718017578125, 37.458099365234375, 31.479045867919922, 47.763851165771484, 40.37743377685547, 35.08821105957031, 32.57522201538086, 28.634014129638672, 28.27755355834961, 26.674808502197266, 26.41812515258789, 24.804101943969727, 24.634523391723633, 24.590009689331055, 23.586332321166992, 20.986679077148438, 20.97919273376465, 19.902992248535156, 18.588836669921875, 18.02346420288086, 17.845287322998047, 17.13579750061035, 16.418720245361328, 16.243221282958984, 16.018535614013672, 15.135075569152832, 15.123735427856445, 15.041749954223633, 14.916114807128906, 14.624606132507324, 14.586200714111328, 14.46583366394043, 14.322824478149414, 18.13779067993164, 26.08193016052246, 186.49832153320312, 24.55038070678711, 40.3524284362793, 79.53916931152344, 58.55927658081055, 25.82658576965332, 25.123754501342773, 36.697635650634766, 40.72016906738281, 24.41588020324707, 28.834569931030273, 31.920461654663086, 79.23629760742188, 98.72863006591797, 34.154476165771484, 50.87149429321289, 30.39087677001953, 27.580890655517578, 41.988197326660156, 28.57950210571289, 68.82115173339844, 55.99528884887695, 48.79690933227539, 48.393035888671875, 32.14289474487305, 31.348892211914062, 29.1993408203125, 25.44839859008789, 24.792049407958984, 21.707122802734375, 20.142892837524414, 19.93452262878418, 19.196958541870117, 17.97364616394043, 17.8806209564209, 17.878507614135742, 15.547113418579102, 14.95873737335205, 14.142596244812012, 14.114811897277832, 14.004884719848633, 13.6561279296875, 12.624361038208008, 12.286666870117188, 12.267251014709473, 12.235029220581055, 11.886773109436035, 11.736237525939941, 11.655183792114258, 10.592796325683594, 17.740428924560547, 42.22820281982422, 25.993568420410156, 87.24189758300781, 33.0420036315918, 87.77255249023438, 58.52600860595703, 43.04941177368164, 62.52053451538086, 27.906076431274414, 28.5352783203125, 34.744590759277344, 55.538516998291016, 29.854007720947266, 55.03861618041992, 29.180500030517578, 31.233022689819336, 29.103866577148438, 74.67110443115234, 30.771745681762695, 28.810096740722656, 28.93741226196289, 30.30043601989746, 70.2471923828125, 64.23136138916016, 37.3110237121582, 36.4268684387207, 35.424293518066406, 30.2196044921875, 30.15038299560547, 30.117578506469727, 30.098318099975586, 21.819578170776367, 21.37332534790039, 20.190019607543945, 18.935758590698242, 16.93714714050293, 16.826120376586914, 16.500490188598633, 16.434703826904297, 16.055755615234375, 15.406643867492676, 14.906303405761719, 14.702012062072754, 14.566987037658691, 13.299653053283691, 13.14038372039795, 13.053370475769043, 12.77043628692627, 12.542586326599121, 12.536831855773926, 12.442758560180664, 12.076904296875, 28.84248924255371, 37.653465270996094, 17.470396041870117, 23.49260139465332, 24.12871742248535, 183.4671173095703, 24.364051818847656, 19.20366668701172, 22.950796127319336, 23.265417098999023, 35.00743865966797, 32.394168853759766, 27.156681060791016, 32.7335205078125, 51.32686996459961, 20.53803825378418, 94.25762939453125, 22.059192657470703, 22.563554763793945, 26.732046127319336, 21.04698371887207, 84.29074096679688, 72.2918472290039, 53.14899444580078, 44.570228576660156, 37.807029724121094, 35.485713958740234, 32.34652328491211, 27.910877227783203, 27.84417152404785, 27.368186950683594, 25.88788414001465, 23.572206497192383, 23.48348617553711, 22.873083114624023, 22.857751846313477, 22.80897331237793, 22.66028594970703, 21.99054527282715, 19.147933959960938, 18.719715118408203, 18.016193389892578, 17.52742576599121, 15.56810188293457, 15.084699630737305, 14.980897903442383, 14.896465301513672, 14.725032806396484, 14.40088176727295, 14.112736701965332, 13.858084678649902, 92.25712585449219, 53.842044830322266, 35.21822738647461, 26.541582107543945, 39.02396774291992, 22.589595794677734, 40.69737243652344, 31.416614532470703, 31.33159065246582, 54.3396110534668, 54.195858001708984, 42.7829475402832, 37.91230773925781, 23.726057052612305, 118.44139099121094, 101.5032958984375, 42.320655822753906, 33.635738372802734, 31.224018096923828, 27.610626220703125, 24.126970291137695, 21.83855438232422, 21.704051971435547, 21.157007217407227, 20.402565002441406, 19.29180908203125, 18.753971099853516, 16.734943389892578, 15.180426597595215, 15.180426597595215, 15.180426597595215, 15.180426597595215, 15.180426597595215, 12.971992492675781, 12.940815925598145, 12.35934829711914, 12.160011291503906, 12.117330551147461, 10.863645553588867, 10.74618911743164, 10.577622413635254, 10.132040023803711, 10.102293014526367, 9.671117782592773, 83.94419860839844, 30.417490005493164, 14.591410636901855, 83.97970581054688, 24.845073699951172, 23.573301315307617, 29.353775024414062, 28.318471908569336, 39.271087646484375, 38.52934265136719, 39.19944381713867, 54.201873779296875, 139.94216918945312, 85.67797088623047, 76.046875, 81.84769439697266, 26.171140670776367, 18.878395080566406, 20.251100540161133, 68.70038604736328, 61.15460968017578, 43.161521911621094, 33.99223709106445, 31.996232986450195, 25.915435791015625, 24.31000328063965, 23.549877166748047, 23.49103355407715, 21.814477920532227, 19.066471099853516, 17.516529083251953, 14.18270206451416, 13.95821475982666, 13.796327590942383, 13.63234806060791, 13.151045799255371, 13.133685111999512, 12.721940994262695, 12.173531532287598, 11.579297065734863, 10.90900993347168, 10.507878303527832, 9.287172317504883, 9.197426795959473, 8.9404878616333, 8.9404878616333, 8.8616943359375, 8.82726001739502, 8.82726001739502, 117.6612777709961, 41.370121002197266, 16.89725685119629, 170.97073364257812, 21.912572860717773, 86.53273010253906, 61.682132720947266, 37.25426483154297, 76.30697631835938, 57.08248519897461, 34.9660530090332, 28.94377899169922, 42.336265563964844, 35.61498260498047, 16.213388442993164, 29.745357513427734, 102.45140075683594, 15.580058097839355, 21.39251708984375, 31.984970092773438, 21.481422424316406, 17.95779800415039, 362.59326171875, 78.86835479736328, 38.101280212402344, 34.346435546875, 32.90212631225586, 23.128923416137695, 22.207162857055664, 22.19390296936035, 20.80908203125, 19.971778869628906, 19.109888076782227, 18.826839447021484, 18.157546997070312, 17.108135223388672, 16.322399139404297, 16.293821334838867, 15.902153968811035, 15.228893280029297, 14.312424659729004, 13.988568305969238, 13.931744575500488, 13.849678039550781, 13.290945053100586, 13.26203727722168, 13.1458740234375, 13.045989990234375, 12.97761344909668, 12.878210067749023, 12.553838729858398, 12.342395782470703, 29.241600036621094, 82.539306640625, 19.54970359802246, 26.452707290649414, 27.163755416870117, 30.630090713500977, 20.98810386657715, 27.278499603271484, 17.89607810974121, 16.167522430419922, 23.487651824951172, 29.761611938476562, 39.976524353027344, 24.38922691345215, 18.539976119995117, 44.09370422363281, 39.219547271728516, 31.343101501464844, 25.805606842041016, 23.205720901489258, 22.91626739501953, 22.44175910949707, 22.4235897064209, 21.608545303344727, 21.391393661499023, 20.927772521972656, 20.927772521972656, 20.927772521972656, 20.927772521972656, 20.927772521972656, 20.927772521972656, 20.927772521972656, 20.927772521972656, 17.71581268310547, 17.225265502929688, 16.8621768951416, 16.699356079101562, 16.311676025390625, 15.840359687805176, 15.435769081115723, 14.580443382263184, 14.462546348571777, 12.713799476623535, 12.47851848602295, 12.196090698242188, 82.2814712524414, 35.24970626831055, 29.562671661376953, 71.47484588623047, 45.30278015136719, 41.53133773803711, 64.35250091552734, 39.88985061645508, 45.81528854370117, 28.651521682739258, 40.63585662841797, 23.09031867980957, 38.1707763671875, 146.43701171875, 80.95025634765625, 74.62317657470703, 51.84203338623047, 41.5370979309082, 32.85843276977539, 30.016111373901367, 28.764060974121094, 25.754037857055664, 24.710617065429688, 22.03437614440918, 18.972761154174805, 17.383752822875977, 15.78011703491211, 14.66814136505127, 13.852363586425781, 13.54887580871582, 13.324650764465332, 13.165043830871582, 13.092883110046387, 77.48914337158203, 11.74746036529541, 11.6510648727417, 10.786755561828613, 10.505181312561035, 9.415581703186035, 9.22866153717041, 8.833828926086426, 8.743002891540527, 8.281576156616211, 68.43604278564453, 48.108402252197266, 31.851150512695312, 72.2911605834961, 81.02407836914062, 157.36741638183594, 92.45053100585938, 188.6852264404297, 29.85891342163086, 148.98703002929688, 112.5244140625, 29.405582427978516, 16.53059196472168, 24.411640167236328, 17.35250473022461, 151.39259338378906, 110.3897476196289, 67.32292175292969, 51.462188720703125, 45.28141784667969, 35.57332229614258, 30.044076919555664, 19.165307998657227, 17.833765029907227, 17.469463348388672, 17.437503814697266, 15.11892318725586, 14.552436828613281, 14.308560371398926, 14.005393028259277, 13.440703392028809, 12.740583419799805, 12.528032302856445, 11.686858177185059, 11.161822319030762, 10.997514724731445, 10.740805625915527, 10.443262100219727, 10.114592552185059, 10.114592552185059, 9.694392204284668, 9.591699600219727, 9.357320785522461, 8.934755325317383, 8.843408584594727, 24.587854385375977, 24.706655502319336, 54.822021484375, 12.565457344055176, 13.30230712890625, 30.223405838012695, 16.566665649414062, 70.56941223144531, 27.86552619934082, 20.86518096923828, 32.38820266723633, 33.09455108642578, 16.71295166015625, 18.556489944458008, 18.42074966430664, 23.184240341186523, 37.10251998901367, 15.963472366333008, 16.118183135986328, 346.77587890625, 205.8763427734375, 39.98744201660156, 34.13050079345703, 30.673498153686523, 29.08598518371582, 24.543432235717773, 24.475740432739258, 24.447162628173828, 22.53400230407715, 22.075775146484375, 21.007415771484375, 20.230440139770508, 19.21250343322754, 18.187244415283203, 14.109126091003418, 13.992219924926758, 13.479601860046387, 13.33161735534668, 13.270254135131836, 11.779415130615234, 11.700225830078125, 11.146441459655762, 10.227746963500977, 10.219948768615723, 10.083065032958984, 9.96777057647705, 9.744058609008789, 9.451704025268555, 9.35374641418457, 34.90205764770508, 36.06083297729492, 17.362030029296875, 22.872638702392578, 18.264598846435547, 16.71368980407715, 10.8510103225708, 54.105892181396484, 42.37696075439453, 28.703510284423828, 27.735820770263672, 26.57979393005371, 25.67671775817871, 25.158885955810547, 24.284303665161133, 21.484724044799805, 20.963459014892578, 19.92925453186035, 19.41010093688965, 18.759517669677734, 18.330873489379883, 17.597047805786133, 17.33404541015625, 16.533355712890625, 16.33449363708496, 15.339958190917969, 14.675950050354004, 14.334853172302246, 14.252986907958984, 13.950849533081055, 13.585519790649414, 12.960783004760742, 12.691192626953125, 12.287821769714355, 12.120268821716309, 11.47201156616211, 41.12462615966797, 36.19054412841797, 28.730266571044922, 25.07098388671875, 22.45131492614746, 33.60176467895508, 28.81427001953125, 24.848506927490234, 33.322025299072266, 20.811920166015625, 16.999862670898438, 17.973899841308594, 29.733434677124023, 26.943649291992188, 17.89651870727539, 20.088943481445312, 18.313974380493164, 26.91200065612793, 23.205501556396484, 21.692934036254883, 19.252368927001953, 16.49101448059082, 16.05694007873535, 13.818799018859863, 13.711442947387695, 12.631343841552734, 11.157954216003418, 11.148260116577148, 11.020037651062012, 11.006184577941895, 10.782824516296387, 10.77271556854248, 10.515222549438477, 9.945685386657715, 9.843755722045898, 9.79028606414795, 9.49365234375, 9.232568740844727, 9.231208801269531, 9.051860809326172, 8.86581802368164, 8.758429527282715, 8.492650032043457, 8.002279281616211, 7.990494728088379, 7.938384532928467, 7.645935535430908, 37.667049407958984, 23.25172996520996, 13.227550506591797, 19.477554321289062, 16.209556579589844, 21.59415626525879, 26.56288719177246, 11.737933158874512, 34.51985549926758, 13.02963924407959, 25.467994689941406, 18.826614379882812, 12.769566535949707, 11.340919494628906, 10.708985328674316], \"Total\": [2489.0, 4604.0, 7900.0, 1883.0, 1306.0, 1715.0, 1873.0, 920.0, 680.0, 1826.0, 1116.0, 644.0, 635.0, 542.0, 615.0, 516.0, 530.0, 701.0, 875.0, 477.0, 363.0, 347.0, 385.0, 681.0, 1979.0, 1671.0, 1017.0, 326.0, 1190.0, 465.0, 7900.2568359375, 1979.6416015625, 1649.69921875, 1459.2205810546875, 1166.06640625, 1511.2337646484375, 1154.8782958984375, 746.1092529296875, 729.68603515625, 693.907470703125, 634.5275268554688, 597.022705078125, 590.9100952148438, 539.1647338867188, 520.1817016601562, 519.7839965820312, 518.8013916015625, 498.3303527832031, 458.70111083984375, 418.8333435058594, 403.62030029296875, 402.28143310546875, 373.22772216796875, 359.5873107910156, 359.3846435546875, 359.21453857421875, 359.1710205078125, 357.7220153808594, 351.60064697265625, 323.17449951171875, 1156.748779296875, 1826.9058837890625, 968.952392578125, 1048.3883056640625, 2173.59765625, 1671.3123779296875, 1190.9725341796875, 542.4026489257812, 1873.166015625, 525.8543090820312, 737.6694946289062, 727.576904296875, 875.6067504882812, 1306.9478759765625, 1116.5255126953125, 654.6127319335938, 4604.8876953125, 610.6686401367188, 1017.295166015625, 1715.946533203125, 681.6886596679688, 810.5853271484375, 920.28125, 229.73684692382812, 179.43148803710938, 146.80520629882812, 107.20468139648438, 82.51907348632812, 71.51188659667969, 64.67449188232422, 64.14437866210938, 54.985107421875, 43.969383239746094, 41.71651077270508, 31.86339569091797, 28.116186141967773, 27.556903839111328, 24.29787826538086, 23.944650650024414, 23.610916137695312, 21.89354705810547, 21.60511016845703, 21.471452713012695, 20.87898826599121, 20.42687225341797, 20.112648010253906, 16.179658889770508, 15.401928901672363, 15.043170928955078, 14.507708549499512, 14.07164478302002, 14.003358840942383, 13.796025276184082, 615.0758056640625, 69.7861328125, 173.62911987304688, 104.86878204345703, 98.57002258300781, 701.196044921875, 42.368858337402344, 109.74943542480469, 180.17958068847656, 36.897438049316406, 70.51641082763672, 45.28647994995117, 173.71018981933594, 124.340576171875, 54.69614791870117, 102.6510238647461, 1883.381591796875, 106.0796890258789, 265.42242431640625, 2489.156005859375, 183.36349487304688, 178.90402221679688, 171.62161254882812, 4604.8876953125, 189.84300231933594, 1715.946533203125, 1017.295166015625, 288.1242980957031, 226.67047119140625, 644.6163330078125, 516.1600952148438, 477.7544860839844, 530.1528930664062, 52.97571563720703, 38.00344467163086, 37.341609954833984, 30.46277618408203, 29.257150650024414, 28.759201049804688, 24.49671173095703, 23.22793960571289, 22.242412567138672, 22.085060119628906, 19.767879486083984, 19.20624542236328, 18.832914352416992, 18.50241470336914, 17.42998504638672, 16.350055694580078, 16.00229263305664, 15.765892028808594, 13.905879020690918, 13.810567855834961, 13.578810691833496, 13.491325378417969, 13.391413688659668, 13.341113090515137, 13.13888168334961, 12.684263229370117, 82.4114990234375, 28.640867233276367, 53.86406326293945, 38.245338439941406, 82.15890502929688, 29.10503387451172, 45.02725601196289, 38.91357421875, 64.12533569335938, 4604.8876953125, 178.90402221679688, 29.75761604309082, 480.5050354003906, 114.11500549316406, 431.5105895996094, 40.639713287353516, 226.67047119140625, 300.3026123046875, 1715.946533203125, 192.3056182861328, 701.196044921875, 214.7346649169922, 180.17958068847656, 288.1242980957031, 542.2726440429688, 51.32867431640625, 39.6490364074707, 33.178409576416016, 26.898483276367188, 25.16309928894043, 23.270305633544922, 21.033493041992188, 19.03742027282715, 18.732284545898438, 17.80203628540039, 17.632638931274414, 17.052114486694336, 16.94039535522461, 16.303632736206055, 16.181385040283203, 15.36457633972168, 14.81309700012207, 13.935542106628418, 13.788833618164062, 13.657018661499023, 13.36103630065918, 13.125078201293945, 13.059040069580078, 13.038476943969727, 12.11527156829834, 11.529584884643555, 11.201114654541016, 11.096312522888184, 10.918330192565918, 2489.156005859375, 1883.381591796875, 17.75889015197754, 4604.8876953125, 141.31179809570312, 41.53738021850586, 119.5159912109375, 19.12779998779297, 409.64605712890625, 513.0958251953125, 125.81295013427734, 37.37629318237305, 62.82262420654297, 326.1264953613281, 77.5150146484375, 68.19412994384766, 67.84934997558594, 49.21684265136719, 46.21925354003906, 45.66981506347656, 36.76311492919922, 285.51434326171875, 32.290287017822266, 30.2056884765625, 30.120162963867188, 29.285175323486328, 28.388729095458984, 26.97193145751953, 26.551605224609375, 26.125173568725586, 25.64374351501465, 25.1804256439209, 25.079975128173828, 23.296106338500977, 23.248910903930664, 23.105304718017578, 23.02341079711914, 22.56551742553711, 22.49734878540039, 22.49734878540039, 21.44086265563965, 20.76939582824707, 20.535663604736328, 95.09095764160156, 72.66061401367188, 44.819976806640625, 83.6202392578125, 28.399646759033203, 54.040435791015625, 920.28125, 635.3466186523438, 105.45403289794922, 42.301570892333984, 465.3542175292969, 60.882022857666016, 45.439029693603516, 97.22727966308594, 225.4058380126953, 43.467342376708984, 137.9271240234375, 130.87730407714844, 308.34796142578125, 61.140174865722656, 410.8113098144531, 112.58625030517578, 96.0439224243164, 75.76728057861328, 69.3478012084961, 52.504791259765625, 37.534915924072266, 36.60661697387695, 34.982173919677734, 139.9332275390625, 30.462162017822266, 27.436363220214844, 26.870853424072266, 26.33988380432129, 26.33988380432129, 25.960857391357422, 25.91855239868164, 25.568418502807617, 24.812463760375977, 23.994224548339844, 23.902400970458984, 23.43246841430664, 22.825578689575195, 22.055492401123047, 21.161237716674805, 20.897340774536133, 20.70426368713379, 20.24217987060547, 19.838407516479492, 18.298675537109375, 16.395259857177734, 86.61048889160156, 97.72145080566406, 80.3700942993164, 72.32206726074219, 37.99775695800781, 33.2173957824707, 128.82345581054688, 73.03976440429688, 51.172725677490234, 67.58518981933594, 228.03387451171875, 70.45413208007812, 90.17569732666016, 59.23943328857422, 82.2925033569336, 34.181732177734375, 50.32986831665039, 104.88530731201172, 1715.946533203125, 431.5105895996094, 271.7544860839844, 1883.381591796875, 102.3045425415039, 2489.156005859375, 226.67047119140625, 576.3765869140625, 141.00033569335938, 810.5853271484375, 76.6553726196289, 50.511070251464844, 48.72462463378906, 42.72116470336914, 37.666099548339844, 35.70500946044922, 35.017669677734375, 30.719783782958984, 29.689579010009766, 28.13492774963379, 22.06899070739746, 21.981096267700195, 20.895198822021484, 20.257904052734375, 20.110307693481445, 19.6873836517334, 19.11219024658203, 17.73066520690918, 17.18826675415039, 16.776382446289062, 16.374509811401367, 15.705381393432617, 15.614593505859375, 15.515829086303711, 14.714730262756348, 14.221405982971191, 14.219550132751465, 14.193462371826172, 14.078917503356934, 13.852470397949219, 73.17496490478516, 67.87045288085938, 29.892139434814453, 30.86708641052246, 52.99677276611328, 635.3466186523438, 81.34272766113281, 31.254751205444336, 137.9271240234375, 41.569698333740234, 54.6531982421875, 39.18014907836914, 54.08441925048828, 130.87730407714844, 48.6033935546875, 29.3837833404541, 34.33562469482422, 193.8932342529297, 432.1637878417969, 105.45403289794922, 268.2184143066406, 465.3542175292969, 410.8113098144531, 388.0626220703125, 48.5511360168457, 41.16471862792969, 35.87549591064453, 33.36250686645508, 29.421297073364258, 29.064836502075195, 27.46209144592285, 27.205408096313477, 25.591384887695312, 25.42180633544922, 25.37729263305664, 24.373615264892578, 21.773962020874023, 21.766475677490234, 20.690275192260742, 19.37611961364746, 18.810747146606445, 18.632570266723633, 17.923080444335938, 17.206003189086914, 17.03050422668457, 16.805818557739258, 15.922354698181152, 15.911014556884766, 15.829029083251953, 15.703393936157227, 15.411885261535645, 15.373479843139648, 15.25311279296875, 15.110103607177734, 19.667879104614258, 29.616762161254883, 288.1242980957031, 28.11464500427246, 50.371681213378906, 116.18425750732422, 86.12103271484375, 32.02057647705078, 32.45745849609375, 56.854705810546875, 84.2327880859375, 34.746341705322266, 47.95534896850586, 59.493980407714844, 431.5105895996094, 701.196044921875, 73.380859375, 308.34796142578125, 71.55667114257812, 65.04305267333984, 810.5853271484375, 369.6642761230469, 69.60926818847656, 56.78340530395508, 49.585025787353516, 49.18115234375, 32.93101119995117, 32.13700485229492, 29.98745346069336, 26.23651123046875, 25.580162048339844, 22.495235443115234, 20.931005477905273, 20.72263526916504, 19.985071182250977, 18.76175880432129, 18.668733596801758, 18.6666202545166, 16.335227966308594, 15.746849060058594, 14.930707931518555, 14.902923583984375, 14.792996406555176, 14.444239616394043, 13.41247272491455, 13.07477855682373, 13.055362701416016, 13.023140907287598, 12.674884796142578, 12.524349212646484, 12.4432954788208, 11.380908012390137, 19.57748794555664, 49.67777633666992, 29.598955154418945, 125.75597381591797, 42.96782302856445, 140.83663940429688, 88.81922149658203, 63.748756408691406, 106.67671966552734, 37.98408889770508, 39.47282028198242, 56.35951614379883, 132.70138549804688, 57.63568115234375, 214.7346649169922, 55.94842529296875, 82.1086654663086, 68.74531555175781, 1715.946533203125, 141.00033569335938, 131.09202575683594, 149.36451721191406, 491.8299865722656, 71.03462982177734, 65.018798828125, 38.09846496582031, 37.21430969238281, 36.211734771728516, 31.00704002380371, 30.93781852722168, 30.905014038085938, 30.885753631591797, 22.607013702392578, 22.1607608795166, 20.977455139160156, 19.723194122314453, 17.72458267211914, 17.613555908203125, 17.287925720214844, 17.222139358520508, 16.843191146850586, 16.19407844543457, 15.693737030029297, 15.489445686340332, 15.35442066192627, 14.08708667755127, 13.927817344665527, 13.840804100036621, 13.557869911193848, 13.3300199508667, 13.324265480041504, 13.230192184448242, 12.864337921142578, 34.600433349609375, 48.597679138183594, 19.711149215698242, 29.384597778320312, 30.572593688964844, 431.5105895996094, 33.086578369140625, 23.787994384765625, 32.399471282958984, 33.72467803955078, 68.51054382324219, 60.2984733581543, 44.413875579833984, 80.88679504394531, 225.4058380126953, 28.311328887939453, 1116.5255126953125, 39.404781341552734, 50.66014862060547, 240.6894073486328, 58.54378890991211, 85.0783462524414, 73.0794677734375, 53.936607360839844, 45.35784149169922, 38.594642639160156, 36.2733268737793, 33.13413619995117, 28.698486328125, 28.63178062438965, 28.15579605102539, 26.675493240356445, 24.35981559753418, 24.271095275878906, 23.66069221496582, 23.645360946655273, 23.596582412719727, 23.447895050048828, 22.778154373168945, 19.935543060302734, 19.50732421875, 18.803802490234375, 18.315034866333008, 16.355710983276367, 15.872306823730469, 15.768505096435547, 15.684072494506836, 15.512639999389648, 15.188488960266113, 14.900343894958496, 14.645691871643066, 100.83051300048828, 58.807945251464844, 40.10920333862305, 29.729930877685547, 46.70905303955078, 25.33935546875, 53.5317497253418, 60.6850471496582, 62.96536636352539, 211.70262145996094, 383.2741394042969, 212.13282775878906, 4604.8876953125, 225.4058380126953, 119.23193359375, 102.29383850097656, 43.111202239990234, 34.42628479003906, 32.014564514160156, 28.401172637939453, 24.917516708374023, 22.629100799560547, 22.494598388671875, 21.947553634643555, 21.193111419677734, 20.082355499267578, 19.544517517089844, 17.525489807128906, 15.97097110748291, 15.97097110748291, 15.97097110748291, 15.97097110748291, 15.97097110748291, 13.762537002563477, 13.73136043548584, 13.149892807006836, 12.950555801391602, 12.907875061035156, 11.654190063476562, 11.536733627319336, 11.36816692352295, 10.922584533691406, 10.892837524414062, 10.461662292480469, 119.5159912109375, 38.23225021362305, 16.804651260375977, 161.37261962890625, 34.03071212768555, 31.818559646606445, 42.80197525024414, 45.83540725708008, 75.63658905029297, 86.12355041503906, 125.81295013427734, 383.2741394042969, 4604.8876953125, 1883.381591796875, 1873.166015625, 2489.156005859375, 183.36349487304688, 59.493980407714844, 238.0596466064453, 69.48977661132812, 61.944007873535156, 43.95092010498047, 34.78163528442383, 32.78562927246094, 26.704832077026367, 25.09939956665039, 24.33927345275879, 24.28042984008789, 22.60387420654297, 19.855867385864258, 18.305925369262695, 14.972095489501953, 14.747608184814453, 14.585721015930176, 14.421741485595703, 13.940439224243164, 13.923078536987305, 13.511334419250488, 12.96292495727539, 12.368690490722656, 11.698403358459473, 11.297271728515625, 10.076565742492676, 9.986820220947266, 9.729881286621094, 9.729881286621094, 9.651087760925293, 9.616653442382812, 9.616653442382812, 137.6085205078125, 49.06059646606445, 19.14625358581543, 236.07286071777344, 25.65915298461914, 122.85417938232422, 85.52204895019531, 56.5617790222168, 146.59027099609375, 104.1400375366211, 62.82262420654297, 49.57189178466797, 95.63545989990234, 75.63658905029297, 21.130739212036133, 126.03675079345703, 4604.8876953125, 21.745121002197266, 92.79966735839844, 1017.295166015625, 101.79425811767578, 465.3542175292969, 363.3811340332031, 79.6562728881836, 38.889198303222656, 35.13435363769531, 33.69004440307617, 23.916841506958008, 22.995080947875977, 22.981821060180664, 21.597000122070312, 20.75969696044922, 19.89780616760254, 19.614757537841797, 18.945465087890625, 17.896053314208984, 17.11031723022461, 17.08173942565918, 16.690073013305664, 16.016809463500977, 15.100341796875, 14.776485443115234, 14.719661712646484, 14.637595176696777, 14.078862190246582, 14.049954414367676, 13.933791160583496, 13.833907127380371, 13.765530586242676, 13.66612720489502, 13.341755867004395, 13.1303129196167, 33.05600357055664, 109.73683166503906, 22.574779510498047, 32.79150390625, 35.02812957763672, 42.63294982910156, 27.827892303466797, 41.597660064697266, 24.058055877685547, 20.622753143310547, 53.49399185180664, 110.1099624633789, 875.6067504882812, 654.6127319335938, 109.74943542480469, 44.883331298828125, 40.00917434692383, 32.13272476196289, 26.595230102539062, 23.995344161987305, 23.705890655517578, 23.231382369995117, 23.213212966918945, 22.398168563842773, 22.18101692199707, 21.717395782470703, 21.717395782470703, 21.717395782470703, 21.717395782470703, 21.717395782470703, 21.717395782470703, 21.717395782470703, 21.717395782470703, 18.505435943603516, 18.014890670776367, 17.65180015563965, 17.48897933959961, 17.101299285888672, 16.62998390197754, 16.225393295288086, 15.37006664276123, 15.252169609069824, 13.503422737121582, 13.268141746520996, 12.985713958740234, 90.1563949584961, 41.10905838012695, 34.758663177490234, 132.35643005371094, 74.47959899902344, 74.12033081054688, 236.07286071777344, 161.37261962890625, 681.6886596679688, 122.85417938232422, 1826.9058837890625, 85.52204895019531, 4604.8876953125, 147.2284393310547, 81.74166870117188, 75.41459655761719, 52.63345718383789, 42.328521728515625, 33.64985656738281, 30.807533264160156, 29.555482864379883, 26.545459747314453, 25.502038955688477, 22.82579803466797, 19.764183044433594, 18.175174713134766, 16.5715389251709, 15.459563255310059, 14.64378547668457, 14.34029769897461, 14.116072654724121, 13.956465721130371, 13.884305000305176, 82.38251495361328, 12.5388822555542, 12.442486763000488, 11.578177452087402, 11.296603202819824, 10.207003593444824, 10.0200834274292, 9.625250816345215, 9.534424781799316, 9.072998046875, 81.08324432373047, 61.32107925415039, 39.845672607421875, 100.39682006835938, 142.7243194580078, 385.59185791015625, 211.09327697753906, 680.5568237304688, 58.588890075683594, 1715.946533203125, 1306.9478759765625, 149.36451721191406, 35.68077850341797, 251.06588745117188, 55.93247985839844, 152.1836395263672, 111.1807861328125, 68.11396026611328, 52.25323486328125, 46.07246398925781, 36.3643684387207, 30.835121154785156, 19.95635223388672, 18.62480926513672, 18.260507583618164, 18.228548049926758, 15.909966468811035, 15.343480110168457, 15.099603652954102, 14.796436309814453, 14.231746673583984, 13.53162670135498, 13.319075584411621, 12.477901458740234, 11.952865600585938, 11.788558006286621, 11.531848907470703, 11.234305381774902, 10.905635833740234, 10.905635833740234, 10.485435485839844, 10.382742881774902, 10.148364067077637, 9.725798606872559, 9.634451866149902, 27.50619888305664, 30.565841674804688, 80.54376220703125, 14.717367172241211, 16.16069221496582, 57.91790008544922, 26.784120559692383, 615.0758056640625, 101.39161682128906, 56.35951614379883, 183.36349487304688, 196.53472900390625, 38.33257293701172, 56.5617790222168, 59.23943328857422, 177.82302856445312, 4604.8876953125, 97.22727966308594, 189.84300231933594, 347.565673828125, 206.66616821289062, 40.77726364135742, 34.92032241821289, 31.46331787109375, 29.875804901123047, 25.333251953125, 25.265560150146484, 25.236984252929688, 23.323822021484375, 22.865596771240234, 21.797237396240234, 21.020259857177734, 20.002323150634766, 18.977066040039062, 14.898945808410645, 14.782039642333984, 14.269421577453613, 14.121437072753906, 14.060073852539062, 12.569234848022461, 12.490045547485352, 11.936261177062988, 11.017566680908203, 11.00976848602295, 10.872884750366211, 10.757590293884277, 10.533878326416016, 10.241523742675781, 10.143566131591797, 41.13357162475586, 45.454994201660156, 21.843303680419922, 34.04592514038086, 25.84703254699707, 26.678592681884766, 16.976909637451172, 54.895164489746094, 43.16623306274414, 29.49278450012207, 28.525094985961914, 27.369068145751953, 26.465991973876953, 25.94816017150879, 25.073577880859375, 22.273998260498047, 21.75273323059082, 20.718528747558594, 20.19937515258789, 19.548791885375977, 19.120147705078125, 18.386322021484375, 18.123319625854492, 17.322629928588867, 17.123767852783203, 16.12923240661621, 15.465224266052246, 15.124127388000488, 15.042261123657227, 14.740123748779297, 14.374794006347656, 13.750057220458984, 13.480466842651367, 13.077095985412598, 12.90954303741455, 12.261285781860352, 44.3569221496582, 39.190425872802734, 31.263038635253906, 29.143722534179688, 26.637664794921875, 44.3360710144043, 39.988624572753906, 33.42437744140625, 56.4131965637207, 28.84954833984375, 22.14202880859375, 27.035785675048828, 225.4058380126953, 349.4232482910156, 29.30968475341797, 97.22727966308594, 72.16415405273438, 27.703969955444336, 23.99747085571289, 22.48490333557129, 20.04433822631836, 17.282983779907227, 16.848909378051758, 14.610769271850586, 14.503413200378418, 13.423314094543457, 11.94992446899414, 11.940230369567871, 11.812007904052734, 11.798154830932617, 11.57479476928711, 11.564685821533203, 11.3071928024292, 10.737655639648438, 10.635725975036621, 10.582256317138672, 10.285622596740723, 10.02453899383545, 10.023179054260254, 9.843831062316895, 9.657788276672363, 9.550399780273438, 9.28462028503418, 8.794249534606934, 8.782464981079102, 8.730354309082031, 8.437905311584473, 47.97587585449219, 30.48184585571289, 16.648632049560547, 28.7018985748291, 22.553598403930664, 34.28041076660156, 47.301002502441406, 15.10260009765625, 114.11500549316406, 20.024654388427734, 94.19061279296875, 810.5853271484375, 61.04510498046875, 192.21533203125, 159.5609130859375], \"Category\": [\"Default\", \"Default\", \"Default\", \"Default\", \"Default\", \"Default\", \"Default\", \"Default\", \"Default\", \"Default\", \"Default\", \"Default\", \"Default\", \"Default\", \"Default\", \"Default\", \"Default\", \"Default\", \"Default\", \"Default\", \"Default\", \"Default\", \"Default\", \"Default\", \"Default\", \"Default\", \"Default\", \"Default\", \"Default\", \"Default\", \"Topic1\", \"Topic1\", \"Topic1\", \"Topic1\", \"Topic1\", \"Topic1\", \"Topic1\", \"Topic1\", \"Topic1\", \"Topic1\", \"Topic1\", \"Topic1\", \"Topic1\", \"Topic1\", \"Topic1\", \"Topic1\", \"Topic1\", \"Topic1\", \"Topic1\", \"Topic1\", \"Topic1\", \"Topic1\", \"Topic1\", \"Topic1\", \"Topic1\", \"Topic1\", \"Topic1\", \"Topic1\", \"Topic1\", \"Topic1\", \"Topic1\", \"Topic1\", \"Topic1\", \"Topic1\", \"Topic1\", \"Topic1\", \"Topic1\", \"Topic1\", \"Topic1\", \"Topic1\", \"Topic1\", \"Topic1\", \"Topic1\", \"Topic1\", \"Topic1\", \"Topic1\", \"Topic1\", \"Topic1\", \"Topic1\", \"Topic1\", \"Topic1\", \"Topic1\", \"Topic1\", \"Topic2\", \"Topic2\", \"Topic2\", \"Topic2\", \"Topic2\", \"Topic2\", \"Topic2\", \"Topic2\", \"Topic2\", \"Topic2\", \"Topic2\", \"Topic2\", \"Topic2\", \"Topic2\", \"Topic2\", \"Topic2\", \"Topic2\", \"Topic2\", \"Topic2\", \"Topic2\", \"Topic2\", \"Topic2\", \"Topic2\", \"Topic2\", \"Topic2\", \"Topic2\", \"Topic2\", \"Topic2\", \"Topic2\", \"Topic2\", \"Topic2\", \"Topic2\", \"Topic2\", \"Topic2\", \"Topic2\", \"Topic2\", \"Topic2\", \"Topic2\", \"Topic2\", \"Topic2\", \"Topic2\", \"Topic2\", \"Topic2\", \"Topic2\", \"Topic2\", \"Topic2\", \"Topic2\", \"Topic2\", \"Topic2\", \"Topic2\", \"Topic2\", \"Topic2\", \"Topic2\", \"Topic2\", \"Topic2\", \"Topic2\", \"Topic2\", \"Topic2\", \"Topic2\", \"Topic3\", \"Topic3\", \"Topic3\", \"Topic3\", \"Topic3\", \"Topic3\", \"Topic3\", \"Topic3\", \"Topic3\", \"Topic3\", \"Topic3\", \"Topic3\", \"Topic3\", \"Topic3\", \"Topic3\", \"Topic3\", \"Topic3\", \"Topic3\", \"Topic3\", \"Topic3\", \"Topic3\", \"Topic3\", \"Topic3\", \"Topic3\", \"Topic3\", \"Topic3\", \"Topic3\", \"Topic3\", \"Topic3\", \"Topic3\", \"Topic3\", \"Topic3\", \"Topic3\", \"Topic3\", \"Topic3\", \"Topic3\", \"Topic3\", \"Topic3\", \"Topic3\", \"Topic3\", \"Topic3\", \"Topic3\", \"Topic3\", \"Topic3\", \"Topic3\", \"Topic3\", \"Topic3\", \"Topic3\", \"Topic3\", \"Topic3\", \"Topic3\", \"Topic3\", \"Topic3\", \"Topic3\", \"Topic4\", \"Topic4\", \"Topic4\", \"Topic4\", \"Topic4\", \"Topic4\", \"Topic4\", \"Topic4\", \"Topic4\", \"Topic4\", \"Topic4\", \"Topic4\", \"Topic4\", \"Topic4\", \"Topic4\", \"Topic4\", \"Topic4\", \"Topic4\", \"Topic4\", \"Topic4\", \"Topic4\", \"Topic4\", \"Topic4\", \"Topic4\", \"Topic4\", \"Topic4\", \"Topic4\", \"Topic4\", \"Topic4\", \"Topic4\", \"Topic4\", \"Topic4\", \"Topic4\", \"Topic4\", \"Topic4\", \"Topic4\", \"Topic4\", \"Topic4\", \"Topic4\", \"Topic4\", \"Topic4\", \"Topic4\", \"Topic4\", \"Topic5\", \"Topic5\", \"Topic5\", \"Topic5\", \"Topic5\", \"Topic5\", \"Topic5\", \"Topic5\", \"Topic5\", \"Topic5\", \"Topic5\", \"Topic5\", \"Topic5\", \"Topic5\", \"Topic5\", \"Topic5\", \"Topic5\", \"Topic5\", \"Topic5\", \"Topic5\", \"Topic5\", \"Topic5\", \"Topic5\", \"Topic5\", \"Topic5\", \"Topic5\", \"Topic5\", \"Topic5\", \"Topic5\", \"Topic5\", \"Topic5\", \"Topic5\", \"Topic5\", \"Topic5\", \"Topic5\", \"Topic5\", \"Topic5\", \"Topic5\", \"Topic5\", \"Topic5\", \"Topic5\", \"Topic5\", \"Topic5\", \"Topic5\", \"Topic5\", \"Topic5\", \"Topic5\", \"Topic5\", \"Topic5\", \"Topic5\", \"Topic5\", \"Topic6\", \"Topic6\", \"Topic6\", \"Topic6\", \"Topic6\", \"Topic6\", \"Topic6\", \"Topic6\", \"Topic6\", \"Topic6\", \"Topic6\", \"Topic6\", \"Topic6\", \"Topic6\", \"Topic6\", \"Topic6\", \"Topic6\", \"Topic6\", \"Topic6\", \"Topic6\", \"Topic6\", \"Topic6\", \"Topic6\", \"Topic6\", \"Topic6\", \"Topic6\", \"Topic6\", \"Topic6\", \"Topic6\", \"Topic6\", \"Topic6\", \"Topic6\", \"Topic6\", \"Topic6\", \"Topic6\", \"Topic6\", \"Topic6\", \"Topic6\", \"Topic6\", \"Topic6\", \"Topic6\", \"Topic6\", \"Topic6\", \"Topic6\", \"Topic6\", \"Topic6\", \"Topic6\", \"Topic6\", \"Topic6\", \"Topic6\", \"Topic6\", \"Topic6\", \"Topic6\", \"Topic6\", \"Topic6\", \"Topic6\", \"Topic6\", \"Topic6\", \"Topic7\", \"Topic7\", \"Topic7\", \"Topic7\", \"Topic7\", \"Topic7\", \"Topic7\", \"Topic7\", \"Topic7\", \"Topic7\", \"Topic7\", \"Topic7\", \"Topic7\", \"Topic7\", \"Topic7\", \"Topic7\", \"Topic7\", \"Topic7\", \"Topic7\", \"Topic7\", \"Topic7\", \"Topic7\", \"Topic7\", \"Topic7\", \"Topic7\", \"Topic7\", \"Topic7\", \"Topic7\", \"Topic7\", \"Topic7\", \"Topic7\", \"Topic7\", \"Topic7\", \"Topic7\", \"Topic7\", \"Topic7\", \"Topic7\", \"Topic7\", \"Topic7\", \"Topic7\", \"Topic7\", \"Topic7\", \"Topic7\", \"Topic7\", \"Topic7\", \"Topic7\", \"Topic7\", \"Topic7\", \"Topic7\", \"Topic7\", \"Topic7\", \"Topic7\", \"Topic7\", \"Topic7\", \"Topic8\", \"Topic8\", \"Topic8\", \"Topic8\", \"Topic8\", \"Topic8\", \"Topic8\", \"Topic8\", \"Topic8\", \"Topic8\", \"Topic8\", \"Topic8\", \"Topic8\", \"Topic8\", \"Topic8\", \"Topic8\", \"Topic8\", \"Topic8\", \"Topic8\", \"Topic8\", \"Topic8\", \"Topic8\", \"Topic8\", \"Topic8\", \"Topic8\", \"Topic8\", \"Topic8\", \"Topic8\", \"Topic8\", \"Topic8\", \"Topic8\", \"Topic8\", \"Topic8\", \"Topic8\", \"Topic8\", \"Topic8\", \"Topic8\", \"Topic8\", \"Topic8\", \"Topic8\", \"Topic8\", \"Topic8\", \"Topic8\", \"Topic8\", \"Topic8\", \"Topic8\", \"Topic8\", \"Topic8\", \"Topic8\", \"Topic8\", \"Topic8\", \"Topic8\", \"Topic9\", \"Topic9\", \"Topic9\", \"Topic9\", \"Topic9\", \"Topic9\", \"Topic9\", \"Topic9\", \"Topic9\", \"Topic9\", \"Topic9\", \"Topic9\", \"Topic9\", \"Topic9\", \"Topic9\", \"Topic9\", \"Topic9\", \"Topic9\", \"Topic9\", \"Topic9\", \"Topic9\", \"Topic9\", \"Topic9\", \"Topic9\", \"Topic9\", \"Topic9\", \"Topic9\", \"Topic9\", \"Topic9\", \"Topic9\", \"Topic9\", \"Topic9\", \"Topic9\", \"Topic9\", \"Topic9\", \"Topic9\", \"Topic9\", \"Topic9\", \"Topic9\", \"Topic9\", \"Topic9\", \"Topic9\", \"Topic9\", \"Topic9\", \"Topic9\", \"Topic9\", \"Topic9\", \"Topic9\", \"Topic9\", \"Topic9\", \"Topic9\", \"Topic9\", \"Topic9\", \"Topic10\", \"Topic10\", \"Topic10\", \"Topic10\", \"Topic10\", \"Topic10\", \"Topic10\", \"Topic10\", \"Topic10\", \"Topic10\", \"Topic10\", \"Topic10\", \"Topic10\", \"Topic10\", \"Topic10\", \"Topic10\", \"Topic10\", \"Topic10\", \"Topic10\", \"Topic10\", \"Topic10\", \"Topic10\", \"Topic10\", \"Topic10\", \"Topic10\", \"Topic10\", \"Topic10\", \"Topic10\", \"Topic10\", \"Topic10\", \"Topic10\", \"Topic10\", \"Topic10\", \"Topic10\", \"Topic10\", \"Topic10\", \"Topic10\", \"Topic10\", \"Topic10\", \"Topic10\", \"Topic10\", \"Topic10\", \"Topic10\", \"Topic10\", \"Topic10\", \"Topic10\", \"Topic10\", \"Topic10\", \"Topic10\", \"Topic10\", \"Topic10\", \"Topic11\", \"Topic11\", \"Topic11\", \"Topic11\", \"Topic11\", \"Topic11\", \"Topic11\", \"Topic11\", \"Topic11\", \"Topic11\", \"Topic11\", \"Topic11\", \"Topic11\", \"Topic11\", \"Topic11\", \"Topic11\", \"Topic11\", \"Topic11\", \"Topic11\", \"Topic11\", \"Topic11\", \"Topic11\", \"Topic11\", \"Topic11\", \"Topic11\", \"Topic11\", \"Topic11\", \"Topic11\", \"Topic11\", \"Topic11\", \"Topic11\", \"Topic11\", \"Topic11\", \"Topic11\", \"Topic11\", \"Topic11\", \"Topic11\", \"Topic11\", \"Topic11\", \"Topic11\", \"Topic11\", \"Topic11\", \"Topic11\", \"Topic11\", \"Topic12\", \"Topic12\", \"Topic12\", \"Topic12\", \"Topic12\", \"Topic12\", \"Topic12\", \"Topic12\", \"Topic12\", \"Topic12\", \"Topic12\", \"Topic12\", \"Topic12\", \"Topic12\", \"Topic12\", \"Topic12\", \"Topic12\", \"Topic12\", \"Topic12\", \"Topic12\", \"Topic12\", \"Topic12\", \"Topic12\", \"Topic12\", \"Topic12\", \"Topic12\", \"Topic12\", \"Topic12\", \"Topic12\", \"Topic12\", \"Topic12\", \"Topic12\", \"Topic12\", \"Topic12\", \"Topic12\", \"Topic12\", \"Topic12\", \"Topic12\", \"Topic12\", \"Topic12\", \"Topic12\", \"Topic12\", \"Topic12\", \"Topic12\", \"Topic12\", \"Topic12\", \"Topic12\", \"Topic12\", \"Topic12\", \"Topic13\", \"Topic13\", \"Topic13\", \"Topic13\", \"Topic13\", \"Topic13\", \"Topic13\", \"Topic13\", \"Topic13\", \"Topic13\", \"Topic13\", \"Topic13\", \"Topic13\", \"Topic13\", \"Topic13\", \"Topic13\", \"Topic13\", \"Topic13\", \"Topic13\", \"Topic13\", \"Topic13\", \"Topic13\", \"Topic13\", \"Topic13\", \"Topic13\", \"Topic13\", \"Topic13\", \"Topic13\", \"Topic13\", \"Topic13\", \"Topic13\", \"Topic13\", \"Topic13\", \"Topic13\", \"Topic13\", \"Topic13\", \"Topic13\", \"Topic13\", \"Topic13\", \"Topic13\", \"Topic13\", \"Topic13\", \"Topic13\", \"Topic13\", \"Topic13\", \"Topic13\", \"Topic13\", \"Topic13\", \"Topic13\", \"Topic13\", \"Topic13\", \"Topic13\", \"Topic14\", \"Topic14\", \"Topic14\", \"Topic14\", \"Topic14\", \"Topic14\", \"Topic14\", \"Topic14\", \"Topic14\", \"Topic14\", \"Topic14\", \"Topic14\", \"Topic14\", \"Topic14\", \"Topic14\", \"Topic14\", \"Topic14\", \"Topic14\", \"Topic14\", \"Topic14\", \"Topic14\", \"Topic14\", \"Topic14\", \"Topic14\", \"Topic14\", \"Topic14\", \"Topic14\", \"Topic14\", \"Topic14\", \"Topic14\", \"Topic14\", \"Topic14\", \"Topic14\", \"Topic14\", \"Topic14\", \"Topic14\", \"Topic14\", \"Topic14\", \"Topic14\", \"Topic14\", \"Topic14\", \"Topic14\", \"Topic14\", \"Topic14\", \"Topic14\", \"Topic15\", \"Topic15\", \"Topic15\", \"Topic15\", \"Topic15\", \"Topic15\", \"Topic15\", \"Topic15\", \"Topic15\", \"Topic15\", \"Topic15\", \"Topic15\", \"Topic15\", \"Topic15\", \"Topic15\", \"Topic15\", \"Topic15\", \"Topic15\", \"Topic15\", \"Topic15\", \"Topic15\", \"Topic15\", \"Topic15\", \"Topic15\", \"Topic15\", \"Topic15\", \"Topic15\", \"Topic15\", \"Topic15\", \"Topic15\", \"Topic15\", \"Topic15\", \"Topic15\", \"Topic15\", \"Topic15\", \"Topic15\", \"Topic15\", \"Topic15\", \"Topic15\", \"Topic15\", \"Topic15\", \"Topic15\", \"Topic15\", \"Topic16\", \"Topic16\", \"Topic16\", \"Topic16\", \"Topic16\", \"Topic16\", \"Topic16\", \"Topic16\", \"Topic16\", \"Topic16\", \"Topic16\", \"Topic16\", \"Topic16\", \"Topic16\", \"Topic16\", \"Topic16\", \"Topic16\", \"Topic16\", \"Topic16\", \"Topic16\", \"Topic16\", \"Topic16\", \"Topic16\", \"Topic16\", \"Topic16\", \"Topic16\", \"Topic16\", \"Topic16\", \"Topic16\", \"Topic16\", \"Topic16\", \"Topic16\", \"Topic16\", \"Topic16\", \"Topic16\", \"Topic16\", \"Topic16\", \"Topic16\", \"Topic16\", \"Topic16\", \"Topic16\", \"Topic16\", \"Topic16\", \"Topic16\", \"Topic16\", \"Topic17\", \"Topic17\", \"Topic17\", \"Topic17\", \"Topic17\", \"Topic17\", \"Topic17\", \"Topic17\", \"Topic17\", \"Topic17\", \"Topic17\", \"Topic17\", \"Topic17\", \"Topic17\", \"Topic17\", \"Topic17\", \"Topic17\", \"Topic17\", \"Topic17\", \"Topic17\", \"Topic17\", \"Topic17\", \"Topic17\", \"Topic17\", \"Topic17\", \"Topic17\", \"Topic17\", \"Topic17\", \"Topic17\", \"Topic17\", \"Topic17\", \"Topic17\", \"Topic17\", \"Topic17\", \"Topic17\", \"Topic17\", \"Topic17\", \"Topic17\", \"Topic17\", \"Topic17\", \"Topic17\", \"Topic17\", \"Topic17\", \"Topic17\", \"Topic17\", \"Topic17\", \"Topic17\", \"Topic17\", \"Topic17\", \"Topic18\", \"Topic18\", \"Topic18\", \"Topic18\", \"Topic18\", \"Topic18\", \"Topic18\", \"Topic18\", \"Topic18\", \"Topic18\", \"Topic18\", \"Topic18\", \"Topic18\", \"Topic18\", \"Topic18\", \"Topic18\", \"Topic18\", \"Topic18\", \"Topic18\", \"Topic18\", \"Topic18\", \"Topic18\", \"Topic18\", \"Topic18\", \"Topic18\", \"Topic18\", \"Topic18\", \"Topic18\", \"Topic18\", \"Topic18\", \"Topic18\", \"Topic18\", \"Topic18\", \"Topic18\", \"Topic18\", \"Topic18\", \"Topic18\", \"Topic19\", \"Topic19\", \"Topic19\", \"Topic19\", \"Topic19\", \"Topic19\", \"Topic19\", \"Topic19\", \"Topic19\", \"Topic19\", \"Topic19\", \"Topic19\", \"Topic19\", \"Topic19\", \"Topic19\", \"Topic19\", \"Topic19\", \"Topic19\", \"Topic19\", \"Topic19\", \"Topic19\", \"Topic19\", \"Topic19\", \"Topic19\", \"Topic19\", \"Topic19\", \"Topic19\", \"Topic19\", \"Topic19\", \"Topic19\", \"Topic19\", \"Topic19\", \"Topic19\", \"Topic19\", \"Topic19\", \"Topic19\", \"Topic19\", \"Topic19\", \"Topic19\", \"Topic19\", \"Topic19\", \"Topic19\", \"Topic19\", \"Topic19\", \"Topic19\", \"Topic19\", \"Topic20\", \"Topic20\", \"Topic20\", \"Topic20\", \"Topic20\", \"Topic20\", \"Topic20\", \"Topic20\", \"Topic20\", \"Topic20\", \"Topic20\", \"Topic20\", \"Topic20\", \"Topic20\", \"Topic20\", \"Topic20\", \"Topic20\", \"Topic20\", \"Topic20\", \"Topic20\", \"Topic20\", \"Topic20\", \"Topic20\", \"Topic20\", \"Topic20\", \"Topic20\", \"Topic20\", \"Topic20\", \"Topic20\", \"Topic20\", \"Topic20\", \"Topic20\", \"Topic20\", \"Topic20\", \"Topic20\", \"Topic20\", \"Topic20\", \"Topic20\", \"Topic20\", \"Topic20\", \"Topic20\", \"Topic20\", \"Topic20\", \"Topic20\", \"Topic20\"], \"logprob\": [30.0, 29.0, 28.0, 27.0, 26.0, 25.0, 24.0, 23.0, 22.0, 21.0, 20.0, 19.0, 18.0, 17.0, 16.0, 15.0, 14.0, 13.0, 12.0, 11.0, 10.0, 9.0, 8.0, 7.0, 6.0, 5.0, 4.0, 3.0, 2.0, 1.0, -2.638400077819824, -4.02269983291626, -4.205100059509277, -4.3277997970581055, -4.552199840545654, -4.292900085449219, -4.5619001388549805, -4.999100208282471, -5.021399974822998, -5.071700096130371, -5.161300182342529, -5.222300052642822, -5.232600212097168, -5.324399948120117, -5.360300064086914, -5.361000061035156, -5.3628997802734375, -5.403299808502197, -5.486299991607666, -5.577400207519531, -5.6143999099731445, -5.617700099945068, -5.69290018081665, -5.730199813842773, -5.7307000160217285, -5.731200218200684, -5.731299877166748, -5.735400199890137, -5.752699851989746, -5.837200164794922, -4.568299770355225, -4.125500202178955, -4.74970006942749, -4.672800064086914, -3.960400104522705, -4.218900203704834, -4.553299903869629, -5.3242998123168945, -4.1194000244140625, -5.356299877166748, -5.035200119018555, -5.0559000968933105, -4.885700225830078, -4.528200149536133, -4.698400020599365, -5.174799919128418, -3.6577000617980957, -5.2347002029418945, -4.888899803161621, -4.575900077819824, -5.181399822235107, -5.154300212860107, -5.148499965667725, -3.8640999794006348, -4.112199783325195, -4.313899993896484, -4.630199909210205, -4.894100189208984, -5.03879976272583, -5.140500068664551, -5.148799896240234, -5.304900169372559, -5.532100200653076, -5.585700035095215, -5.861100196838379, -5.98960018157959, -6.010300159454346, -6.140100002288818, -6.155200004577637, -6.1697001457214355, -6.248000144958496, -6.26170015335083, -6.268199920654297, -6.2972002029418945, -6.320000171661377, -6.336100101470947, -6.563600063323975, -6.615499973297119, -6.6402997970581055, -6.678599834442139, -6.710899829864502, -6.716100215911865, -6.731900215148926, -2.9990999698638916, -5.1371002197265625, -4.258200168609619, -4.768599987030029, -4.8470001220703125, -3.00570011138916, -5.6697998046875, -4.807600021362305, -4.427800178527832, -5.812099933624268, -5.29640007019043, -5.662600040435791, -4.617700099945068, -4.928500175476074, -5.5725998878479, -5.1427998542785645, -3.1582000255584717, -5.130099773406982, -4.541299819946289, -3.1542000770568848, -4.922699928283691, -5.024199962615967, -5.055699825286865, -3.642699956893921, -5.036399841308594, -4.52869987487793, -4.700300216674805, -5.044300079345703, -5.079899787902832, -2.6219000816345215, -2.8445000648498535, -2.9219000339508057, -2.8308000564575195, -5.134500026702881, -5.472599983215332, -5.490600109100342, -5.698999881744385, -5.740499973297119, -5.758200168609619, -5.923500061035156, -5.978499889373779, -6.023399829864502, -6.030700206756592, -6.145899772644043, -6.176000118255615, -6.196400165557861, -6.214900016784668, -6.279399871826172, -6.3445000648498535, -6.367099761962891, -6.382699966430664, -6.5152997970581055, -6.522600173950195, -6.540599822998047, -6.547399997711182, -6.555300235748291, -6.559299945831299, -6.5756001472473145, -6.613100051879883, -4.757699966430664, -5.8343000411987305, -5.264900207519531, -5.580100059509277, -5.003600120544434, -5.889500141143799, -5.525400161743164, -5.657100200653076, -5.396200180053711, -2.6881000995635986, -4.95959997177124, -6.001399993896484, -4.712399959564209, -5.409599781036377, -4.902400016784668, -5.877900123596191, -5.275199890136719, -5.227099895477295, -4.739999771118164, -5.434700012207031, -5.161499977111816, -5.541399955749512, -5.572299957275391, -5.668799877166748, -2.6679000854492188, -5.039400100708008, -5.302199840545654, -5.484300136566162, -5.69980001449585, -5.768599987030029, -5.849400043487549, -5.95419979095459, -6.058000087738037, -6.07480001449585, -6.1280999183654785, -6.1381001472473145, -6.173099994659424, -6.179999828338623, -6.220200061798096, -6.2281999588012695, -6.282700061798096, -6.321199893951416, -6.385799884796143, -6.39709997177124, -6.407199859619141, -6.430500030517578, -6.44950008392334, -6.454800128936768, -6.456500053405762, -6.534800052642822, -6.587900161743164, -6.61899995803833, -6.6290998458862305, -6.646500110626221, -1.4390000104904175, -1.8567999601364136, -6.28380012512207, -2.7507998943328857, -5.046800136566162, -5.892000198364258, -5.411900043487549, -6.344099998474121, -5.734000205993652, -5.873499870300293, -6.218900203704834, -6.3267998695373535, -6.3225998878479, -3.124300003051758, -4.568900108337402, -4.698400020599365, -4.70359992980957, -5.0289998054504395, -5.092899799346924, -5.105100154876709, -5.326300144195557, -3.277600049972534, -5.459000110626221, -5.527500152587891, -5.530399799346924, -5.559299945831299, -5.591300010681152, -5.643899917602539, -5.660099983215332, -5.676799774169922, -5.696000099182129, -5.714799880981445, -5.718900203704834, -5.795199871063232, -5.797299861907959, -5.803699970245361, -5.807400226593018, -5.828199863433838, -5.831299781799316, -5.831299781799316, -5.881199836730957, -5.9141998291015625, -5.926000118255615, -4.426700115203857, -4.772900104522705, -5.2133002281188965, -4.7270002365112305, -5.643599987030029, -5.143499851226807, -3.2827999591827393, -3.550600051879883, -4.789299964904785, -5.412799835205078, -3.922300100326538, -5.184100151062012, -5.398900032043457, -5.105599880218506, -4.772500038146973, -5.466599941253662, -5.214399814605713, -5.29610013961792, -5.294300079345703, -5.502500057220459, -5.458000183105469, -4.171999931335449, -4.332099914550781, -4.571400165557861, -4.660900115966797, -4.94290018081665, -5.284599781036377, -5.310200214385986, -5.356599807739258, -3.972399950027466, -5.4984002113342285, -5.605899810791016, -5.627299785614014, -5.647900104522705, -5.647900104522705, -5.662899971008301, -5.6645002365112305, -5.678599834442139, -5.709499835968018, -5.744200229644775, -5.748199939727783, -5.768700122833252, -5.795899868011475, -5.831399917602539, -5.8744001388549805, -5.887400150299072, -5.89709997177124, -5.920499801635742, -5.941500186920166, -6.0258002281188965, -6.140900135040283, -4.551599979400635, -4.452600002288818, -4.678699970245361, -4.780700206756592, -5.3668999671936035, -5.502600193023682, -4.428199768066406, -4.882699966430664, -5.2058000564575195, -5.033400058746338, -4.219600200653076, -5.055300235748291, -4.928400039672852, -5.197999954223633, -5.021100044250488, -5.521399974822998, -5.328700065612793, -4.9878997802734375, -3.8236000537872314, -4.473999977111816, -4.793000221252441, -4.146500110626221, -5.178199768066406, -4.383900165557861, -5.056700229644775, -4.913300037384033, -5.1930999755859375, -5.161900043487549, -4.362500190734863, -4.784999847412109, -4.821599960327148, -4.955399990081787, -5.083799839019775, -5.138500213623047, -5.158299922943115, -5.292500019073486, -5.327499866485596, -5.382800102233887, -5.633600234985352, -5.637700080871582, -5.690299987792969, -5.722499847412109, -5.730100154876709, -5.752299785614014, -5.783199787139893, -5.861499786376953, -5.894100189208984, -5.91949987411499, -5.945000171661377, -5.988800048828125, -5.994900226593018, -6.0015997886657715, -6.057600021362305, -6.093599796295166, -6.093800067901611, -6.095699787139893, -6.104300022125244, -6.121500015258789, -4.4791998863220215, -4.576000213623047, -5.381100177764893, -5.372900009155273, -4.882900238037109, -2.667099952697754, -4.536099910736084, -5.392600059509277, -4.117300033569336, -5.236299991607666, -5.059100151062012, -5.3078999519348145, -5.101799964904785, -4.575099945068359, -5.222899913787842, -5.52209997177124, -5.4475998878479, -4.633600234985352, -4.424099922180176, -5.103700160980225, -4.8703999519348145, -4.829599857330322, -5.068299770355225, -5.242199897766113, -4.680099964141846, -4.848100185394287, -4.98859977722168, -5.062900066375732, -5.191800117492676, -5.2042999267578125, -5.262700080871582, -5.27239990234375, -5.335400104522705, -5.342299938201904, -5.344099998474121, -5.385700225830078, -5.502500057220459, -5.502900123596191, -5.555500030517578, -5.623899936676025, -5.654699802398682, -5.664700031280518, -5.7052001953125, -5.748000144958496, -5.758699893951416, -5.77269983291626, -5.829400062561035, -5.8302001953125, -5.835599899291992, -5.843999862670898, -5.863699913024902, -5.866300106048584, -5.874599933624268, -5.8846001625061035, -5.648399829864502, -5.285200119018555, -3.318000078201294, -5.345699787139893, -4.848800182342529, -4.170199871063232, -4.476399898529053, -5.295000076293945, -5.3225998878479, -4.943699836730957, -4.839700222015381, -5.351200103759766, -5.184800148010254, -5.083199977874756, -4.173999786376953, -3.9539999961853027, -5.015500068664551, -4.617099761962891, -5.132299900054932, -5.229300022125244, -4.809000015258789, -5.193699836730957, -4.29010009765625, -4.496399879455566, -4.633999824523926, -4.642300128936768, -5.051400184631348, -5.076499938964844, -5.147500038146973, -5.284999847412109, -5.311100006103516, -5.443999767303467, -5.518799781799316, -5.529200077056885, -5.56689977645874, -5.632699966430664, -5.637899875640869, -5.638000011444092, -5.7778000831604, -5.816299915313721, -5.872399806976318, -5.8744001388549805, -5.882199764251709, -5.907400131225586, -5.986000061035156, -6.0131001472473145, -6.014699935913086, -6.017300128936768, -6.046199798583984, -6.059000015258789, -6.065899848937988, -6.161499977111816, -5.6458001136779785, -4.778500080108643, -5.263800144195557, -4.0528998374938965, -5.023900032043457, -4.046899795532227, -4.452199935913086, -4.759300231933594, -4.386099815368652, -5.192800045013428, -5.170499801635742, -4.973599910736084, -4.5046000480651855, -5.12529993057251, -4.513599872589111, -5.148099899291992, -5.0802001953125, -5.1508002281188965, -4.208499908447266, -5.09499979019165, -5.160900115966797, -5.156499862670898, -5.110499858856201, -4.26230001449585, -4.351799964904785, -4.894999980926514, -4.919000148773193, -4.946899890899658, -5.105800151824951, -5.108099937438965, -5.1092000007629395, -5.109799861907959, -5.43149995803833, -5.452099800109863, -5.509099960327148, -5.573200225830078, -5.684800148010254, -5.691299915313721, -5.710899829864502, -5.714900016784668, -5.7382001876831055, -5.7795000076293945, -5.8125, -5.826300144195557, -5.8354997634887695, -5.926499843597412, -5.938600063323975, -5.945199966430664, -5.967100143432617, -5.985099792480469, -5.985599994659424, -5.993100166320801, -6.0229997634887695, -5.152400016784668, -4.885799884796143, -5.653800010681152, -5.357600212097168, -5.330900192260742, -3.3022000789642334, -5.321199893951416, -5.559199810028076, -5.380899906158447, -5.367300033569336, -4.958700180053711, -5.036300182342529, -5.212699890136719, -5.025899887084961, -4.576099872589111, -5.492000102996826, -3.9681999683380127, -5.420499801635742, -5.397900104522705, -5.228400230407715, -5.46750020980835, -4.0152997970581055, -4.168900012969971, -4.476500034332275, -4.652500152587891, -4.8171000480651855, -4.880499839782715, -4.973100185394287, -5.12060022354126, -5.123000144958496, -5.140200138092041, -5.195799827575684, -5.2895002365112305, -5.293300151824951, -5.3196001052856445, -5.320300102233887, -5.322400093078613, -5.328999996185303, -5.359000205993652, -5.497399806976318, -5.519999980926514, -5.558300018310547, -5.5858001708984375, -5.704400062561035, -5.735899925231934, -5.742800235748291, -5.748499870300293, -5.760000228881836, -5.782299995422363, -5.802499771118164, -5.820700168609619, -3.924999952316284, -4.463500022888184, -4.888000011444092, -5.170899868011475, -4.785399913787842, -5.332099914550781, -4.7434000968933105, -5.002299785614014, -5.005000114440918, -4.4542999267578125, -4.456999778747559, -4.693399906158447, -4.814300060272217, -5.2829999923706055, -3.6749000549316406, -3.829200029373169, -4.704100131988525, -4.933700084686279, -5.008200168609619, -5.131100177764893, -5.265999794006348, -5.365699768066406, -5.371799945831299, -5.39739990234375, -5.433700084686279, -5.489699840545654, -5.517899990081787, -5.631800174713135, -5.729300022125244, -5.729300022125244, -5.729300022125244, -5.729300022125244, -5.729300022125244, -5.886499881744385, -5.888999938964844, -5.934899806976318, -5.951200008392334, -5.954699993133545, -6.063899993896484, -6.07480001449585, -6.09060001373291, -6.133600234985352, -6.136600017547607, -6.180200099945068, -4.019199848175049, -5.034299850463867, -5.768899917602539, -4.018799781799316, -5.236700057983398, -5.2891998291015625, -5.069900035858154, -5.105800151824951, -4.778800010681152, -4.797900199890137, -4.780700206756592, -4.456600189208984, -3.5081000328063965, -3.998699903488159, -4.118000030517578, -4.04449987411499, -5.184700012207031, -5.511300086975098, -5.441100120544434, -4.17110013961792, -4.287399768829346, -4.635900020599365, -4.87470006942749, -4.935200214385986, -5.145999908447266, -5.20989990234375, -5.241700172424316, -5.244200229644775, -5.318299770355225, -5.452899932861328, -5.537700176239014, -5.748799800872803, -5.764800071716309, -5.776400089263916, -5.788400173187256, -5.8242998123168945, -5.825699806213379, -5.857500076293945, -5.901599884033203, -5.951600074768066, -6.011199951171875, -6.048699855804443, -6.1722002029418945, -6.1819000244140625, -6.21019983291626, -6.21019983291626, -6.219099998474121, -6.2230000495910645, -6.2230000495910645, -3.632999897003174, -4.678299903869629, -5.573699951171875, -3.2592999935150146, -5.313799858093262, -3.9402999877929688, -4.278800010681152, -4.783100128173828, -4.066100120544434, -4.356299877166748, -4.846499919891357, -5.0355000495910645, -4.655200004577637, -4.828100204467773, -5.614999771118164, -5.008200168609619, -3.771399974822998, -5.654799938201904, -5.337800025939941, -4.9355998039245605, -5.333600044250488, -5.512800216674805, -2.449899911880493, -3.975399971008301, -4.703000068664551, -4.806700229644775, -4.849699974060059, -5.202099800109863, -5.242800235748291, -5.2434000968933105, -5.307799816131592, -5.348899841308594, -5.39300012588501, -5.407899856567383, -5.4440999031066895, -5.503699779510498, -5.5507001876831055, -5.5524001121521, -5.5767998695373535, -5.619999885559082, -5.68209981918335, -5.704999923706055, -5.709099769592285, -5.715000152587891, -5.756100177764893, -5.758299827575684, -5.767099857330322, -5.774700164794922, -5.78000020980835, -5.787700176239014, -5.813199996948242, -5.8302001953125, -4.967599868774414, -3.9298999309539795, -5.370299816131592, -5.06790018081665, -5.041299819946289, -4.921199798583984, -5.299300193786621, -5.037099838256836, -5.458600044250488, -5.560200214385986, -5.186699867248535, -4.949999809265137, -4.654900074005127, -5.149099826812744, -5.423299789428711, -4.513700008392334, -4.630799770355225, -4.855000019073486, -5.0493998527526855, -5.155600070953369, -5.168099880218506, -5.189000129699707, -5.189899921417236, -5.226900100708008, -5.236999988555908, -5.258900165557861, -5.258900165557861, -5.258900165557861, -5.258900165557861, -5.258900165557861, -5.258900165557861, -5.258900165557861, -5.258900165557861, -5.42549991607666, -5.45359992980957, -5.474899768829346, -5.484600067138672, -5.5081000328063965, -5.537399768829346, -5.563300132751465, -5.620299816131592, -5.628399848937988, -5.757299900054932, -5.776000022888184, -5.798900127410889, -3.8898000717163086, -4.737500190734863, -4.91349983215332, -4.030600070953369, -4.486599922180176, -4.573500156402588, -4.1356000900268555, -4.613900184631348, -4.475399971008301, -4.944799900054932, -4.595300197601318, -5.160600185394287, -4.657899856567383, -3.2904999256134033, -3.8833000659942627, -3.9646999835968018, -4.32889986038208, -4.55049991607666, -4.784900188446045, -4.875400066375732, -4.918000221252441, -5.028500080108643, -5.069900035858154, -5.184500217437744, -5.334099769592285, -5.421599864959717, -5.518400192260742, -5.591400146484375, -5.64870023727417, -5.67080020904541, -5.6875, -5.6996002197265625, -5.705100059509277, -3.927000045776367, -5.813499927520752, -5.821700096130371, -5.898799896240234, -5.925300121307373, -6.034800052642822, -6.054800033569336, -6.098499774932861, -6.10890007019043, -6.163099765777588, -4.051199913024902, -4.40369987487793, -4.816100120544434, -3.9964001178741455, -3.8824000358581543, -3.2184998989105225, -3.750499963760376, -3.0369999408721924, -4.8805999755859375, -3.2732999324798584, -3.553999900817871, -4.895899772644043, -5.47189998626709, -5.082099914550781, -5.423399925231934, -3.1981000900268555, -3.5139000415802, -4.008399963378906, -4.277100086212158, -4.40500020980835, -4.646299839019775, -4.815299987792969, -5.264800071716309, -5.3368000984191895, -5.357500076293945, -5.359300136566162, -5.501999855041504, -5.540200233459473, -5.55709981918335, -5.578499794006348, -5.619699954986572, -5.673099994659424, -5.690000057220459, -5.759500026702881, -5.8053998947143555, -5.820300102233887, -5.843900203704834, -5.872000217437744, -5.9039998054504395, -5.9039998054504395, -5.946400165557861, -5.956999778747559, -5.981800079345703, -6.0279998779296875, -6.038300037384033, -5.015699863433838, -5.010900020599365, -4.213799953460693, -5.686999797821045, -5.630000114440918, -4.809299945831299, -5.4105000495910645, -3.9612998962402344, -4.890500068664551, -5.179900169372559, -4.740099906921387, -4.718599796295166, -5.401800155639648, -5.297100067138672, -5.304500102996826, -5.07450008392334, -4.604300022125244, -5.4475998878479, -5.438000202178955, -2.342400074005127, -2.863800048828125, -4.502500057220459, -4.660900115966797, -4.767600059509277, -4.820799827575684, -4.990600109100342, -4.9934000968933105, -4.994500160217285, -5.076000213623047, -5.09660005569458, -5.146200180053711, -5.183899879455566, -5.235499858856201, -5.290299892425537, -5.5441999435424805, -5.552499771118164, -5.589900016784668, -5.600900173187256, -5.605500221252441, -5.724699974060059, -5.731400012969971, -5.779900074005127, -5.865900039672852, -5.866700172424316, -5.880199909210205, -5.89169979095459, -5.914400100708008, -5.944900035858154, -5.9552998542785645, -4.638500213623047, -4.605800151824951, -5.3368000984191895, -5.061100006103516, -5.286099910736084, -5.374800205230713, -5.80679988861084, -4.1869001388549805, -4.431300163269043, -4.820899963378906, -4.855199813842773, -4.89769983291626, -4.932300090789795, -4.952700138092041, -4.98799991607666, -5.110499858856201, -5.1350998878479, -5.185699939727783, -5.212100028991699, -5.246200084686279, -5.2692999839782715, -5.310100078582764, -5.325200080871582, -5.372499942779541, -5.3846001625061035, -5.447400093078613, -5.491700172424316, -5.515200138092041, -5.520899772644043, -5.542300224304199, -5.568900108337402, -5.616000175476074, -5.63700008392334, -5.669300079345703, -5.683000087738037, -5.73799991607666, -4.461299896240234, -4.589099884033203, -4.819900035858154, -4.956200122833252, -5.066500186920166, -4.663300037384033, -4.816999912261963, -4.965099811553955, -4.6717000007629395, -5.142399787902832, -5.344699859619141, -5.289000034332275, -4.785600185394287, -4.884099960327148, -5.293300151824951, -5.177700042724609, -5.270199775695801, -4.76039981842041, -4.908599853515625, -4.97599983215332, -5.095399856567383, -5.250199794769287, -5.276899814605713, -5.427000045776367, -5.434800148010254, -5.5167999267578125, -5.640900135040283, -5.64169979095459, -5.653299808502197, -5.654600143432617, -5.675099849700928, -5.676000118255615, -5.700200080871582, -5.755899906158447, -5.766200065612793, -5.771599769592285, -5.8024001121521, -5.8302998542785645, -5.830399990081787, -5.849999904632568, -5.870800018310547, -5.882999897003174, -5.91379976272583, -5.973299980163574, -5.974800109863281, -5.981299877166748, -6.018799781799316, -4.424200057983398, -4.906599998474121, -5.470699787139893, -5.083799839019775, -5.267399787902832, -4.980599880218506, -4.773499965667725, -5.590199947357178, -4.511499881744385, -5.485799789428711, -4.8155999183654785, -5.117700099945068, -5.50600004196167, -5.624599933624268, -5.6819000244140625], \"loglift\": [30.0, 29.0, 28.0, 27.0, 26.0, 25.0, 24.0, 23.0, 22.0, 21.0, 20.0, 19.0, 18.0, 17.0, 16.0, 15.0, 14.0, 13.0, 12.0, 11.0, 10.0, 9.0, 8.0, 7.0, 6.0, 5.0, 4.0, 3.0, 2.0, 1.0, 0.6599000096321106, 0.659600019454956, 0.659500002861023, 0.6593999862670898, 0.6593000292778015, 0.6593000292778015, 0.6593000292778015, 0.6589000225067139, 0.6589000225067139, 0.6588000059127808, 0.6586999893188477, 0.6586999893188477, 0.6585999727249146, 0.6585000157356262, 0.6585000157356262, 0.6585000157356262, 0.6585000157356262, 0.6583999991416931, 0.65829998254776, 0.6581000089645386, 0.6579999923706055, 0.6579999923706055, 0.6578999757766724, 0.657800018787384, 0.657800018787384, 0.657800018787384, 0.657800018787384, 0.657800018787384, 0.6577000021934509, 0.6575000286102295, 0.651199996471405, 0.6370999813079834, 0.6470000147819519, 0.6450999975204468, 0.6284000277519226, 0.6326000094413757, 0.6370999813079834, 0.6525999903678894, 0.6180999875068665, 0.6516000032424927, 0.6341999769210815, 0.6273000240325928, 0.6122999787330627, 0.5692999958992004, 0.5565000176429749, 0.6140999794006348, 0.18039999902248383, 0.6237000226974487, 0.45910000801086426, 0.2493000030517578, 0.5669999718666077, 0.42089998722076416, 0.299699991941452, 2.97189998626709, 2.970900058746338, 2.9700000286102295, 2.9679999351501465, 2.9658000469207764, 2.9642999172210693, 2.963099956512451, 2.9630000591278076, 2.960900068283081, 2.9572999477386475, 2.9563000202178955, 2.9504001140594482, 2.947000026702881, 2.9463999271392822, 2.9423999786376953, 2.941999912261963, 2.941499948501587, 2.938800096511841, 2.9382998943328857, 2.937999963760376, 2.937000036239624, 2.9361000061035156, 2.935499906539917, 2.92549991607666, 2.9230000972747803, 2.9217000007629395, 2.919600009918213, 2.9179000854492188, 2.91759991645813, 2.9166998863220215, 2.852099895477295, 2.890399932861328, 2.857800006866455, 2.851599931716919, 2.835200071334839, 2.714400053024292, 2.8566999435424805, 2.7671000957489014, 2.65120005607605, 2.8526999950408936, 2.7207000255584717, 2.797300100326538, 2.49780011177063, 2.521399974822998, 2.698499917984009, 2.498800039291382, 1.5738999843597412, 2.478600025177002, 2.1503000259399414, 1.2991000413894653, 2.1387999057769775, 2.0618999004364014, 2.071899890899658, 0.19529999792575836, 1.9903000593185425, 0.29649999737739563, 0.6477000117301941, 1.5651999711990356, 1.7695000171661377, 3.182300090789795, 3.181999921798706, 3.1819000244140625, 3.1689000129699707, 3.168600082397461, 3.162600040435791, 3.1623001098632812, 3.157399892807007, 3.1563000679016113, 3.1558001041412354, 3.150899887084961, 3.1491000652313232, 3.1475000381469727, 3.1473000049591064, 3.142899990081787, 3.141700029373169, 3.140899896621704, 3.1401000022888184, 3.1354000568389893, 3.134200096130371, 3.1331000328063965, 3.1322999000549316, 3.1252999305725098, 3.1249001026153564, 3.123800039291382, 3.1233999729156494, 3.122999906539917, 3.1226999759674072, 3.121799945831299, 3.119499921798706, 3.1034998893737793, 3.0838000774383545, 3.0216000080108643, 3.048799991607666, 2.8606998920440674, 3.012500047683716, 2.9402999877929688, 2.954400062561035, 2.71589994430542, 1.149899959564209, 2.1263999938964844, 2.8784000873565674, 1.385699987411499, 2.1261000633239746, 1.3033000230789185, 2.6902999877929688, 1.5743000507354736, 1.340999960899353, 0.0851999968290329, 1.5791000127792358, 0.5587000250816345, 1.3621000051498413, 1.506700038909912, 0.9408000111579895, 3.3092000484466553, 3.295300006866455, 3.2906999588012695, 3.2867000102996826, 3.2809998989105225, 3.2790000438690186, 3.2762999534606934, 3.272599935531616, 3.2685000896453857, 3.2678000926971436, 3.265500068664551, 3.2651000022888184, 3.2634999752044678, 3.263200044631958, 3.2613000869750977, 3.2609000205993652, 3.25819993019104, 3.256200075149536, 3.2525999546051025, 3.252000093460083, 3.2513999938964844, 3.2500998973846436, 3.2488999366760254, 3.2486000061035156, 3.248500108718872, 3.2435998916625977, 3.2400999069213867, 3.2379000186920166, 3.2372000217437744, 3.2360000610351562, 3.01419997215271, 2.8752999305725098, 3.112299919128418, 1.0872000455856323, 2.275099992752075, 2.6542999744415283, 2.0776000022888184, 2.9776999950408936, 0.5236999988555908, 0.15889999270439148, 1.2192000150680542, 2.3250999450683594, 1.809999942779541, 3.361299991607666, 3.3534998893737793, 3.352099895477295, 3.352099895477295, 3.347599983215332, 3.34660005569458, 3.346400022506714, 3.342099905014038, 3.341099977493286, 3.339099884033203, 3.337399959564209, 3.3373000621795654, 3.3364999294281006, 3.335700035095215, 3.334199905395508, 3.333699941635132, 3.333199977874756, 3.3326001167297363, 3.3320000171661377, 3.331899881362915, 3.329400062561035, 3.329400062561035, 3.329200029373169, 3.3289999961853027, 3.3282999992370605, 3.328200101852417, 3.328200101852417, 3.3264000415802, 3.325200080871582, 3.324700117111206, 3.2913999557495117, 3.2142999172210693, 3.2569000720977783, 3.1196000576019287, 3.2829999923706055, 3.139699935913086, 2.1654000282287598, 2.268199920654297, 2.8252999782562256, 3.115299940109253, 2.2077999114990234, 2.97979998588562, 3.0576000213623047, 2.5903000831604004, 2.0824999809265137, 3.0343000888824463, 2.1317999362945557, 2.10260009765625, 1.2474000453948975, 2.6572999954223633, 0.7968000173568726, 3.37719988822937, 3.375999927520752, 3.373800039291382, 3.37280011177063, 3.3691999912261963, 3.363100051879883, 3.362499952316284, 3.3615000247955322, 3.359299898147583, 3.358099937438965, 3.3552000522613525, 3.3545000553131104, 3.3538999557495117, 3.3538999557495117, 3.3534998893737793, 3.3533999919891357, 3.3529999256134033, 3.3519999980926514, 3.3508999347686768, 3.350800037384033, 3.350100040435791, 3.3492000102996826, 3.347899913787842, 3.346400022506714, 3.345900058746338, 3.3454999923706055, 3.344599962234497, 3.3438000679016113, 3.3403000831604004, 3.335099935531616, 3.2599000930786133, 3.2381999492645264, 3.2076001167297363, 3.2109999656677246, 3.2685000896453857, 3.2672998905181885, 2.986299991607666, 3.099299907684326, 3.1319000720977783, 3.026099920272827, 2.623800039291382, 2.962599992752075, 2.8427000045776367, 2.993299961090088, 2.8415000438690186, 3.2197999954223633, 3.025599956512451, 2.632200002670288, 1.0016000270843506, 1.731600046157837, 1.875100016593933, 0.5856000185012817, 2.4667999744415283, 0.06930000334978104, 1.7927000522613525, 1.0029000043869019, 2.1310999393463135, 0.4133000075817108, 3.5710999965667725, 3.5657999515533447, 3.565200090408325, 3.5629000663757324, 3.56030011177063, 3.5592000484466553, 3.5587000846862793, 3.555500030517578, 3.5546000003814697, 3.553100109100342, 3.5452001094818115, 3.5450000762939453, 3.543100118637085, 3.5418999195098877, 3.541599988937378, 3.5406999588012695, 3.539400100708008, 3.536099910736084, 3.534600019454956, 3.533400058746338, 3.5322000980377197, 3.530100107192993, 3.5297999382019043, 3.529400110244751, 3.5264999866485596, 3.524600028991699, 3.524600028991699, 3.524399995803833, 3.5239999294281006, 3.5230000019073486, 3.5009000301361084, 3.479300022125244, 3.49429988861084, 3.470400094985962, 3.419800043106079, 3.151599884033203, 3.338099956512451, 3.438199996948242, 3.2288999557495117, 3.3092000484466553, 3.212899923324585, 3.296799898147583, 3.180500030517578, 2.8236000537872314, 3.1663999557495117, 3.3703999519348145, 3.289099931716919, 2.371999979019165, 1.7799999713897705, 2.510999917984009, 1.8107000589370728, 1.3005000352859497, 1.1864999532699585, 1.069599986076355, 3.710200071334839, 3.707200050354004, 3.7042999267578125, 3.7026000022888184, 3.699399948120117, 3.6989998817443848, 3.6974000930786133, 3.6970999240875244, 3.6953001022338867, 3.694999933242798, 3.694999933242798, 3.693700075149536, 3.68969988822937, 3.68969988822937, 3.687700033187866, 3.684999942779541, 3.683799982070923, 3.683300018310547, 3.6816000938415527, 3.6796998977661133, 3.6791999340057373, 3.678499937057495, 3.675800085067749, 3.675800085067749, 3.67549991607666, 3.675100088119507, 3.674099922180176, 3.6738998889923096, 3.6735000610351562, 3.6730000972747803, 3.6454999446868896, 3.599400043487549, 3.2915000915527344, 3.59089994430542, 3.504699945449829, 3.347599983215332, 3.3408000469207764, 3.5114998817443848, 3.470400094985962, 3.2887001037597656, 2.9995999336242676, 3.373699903488159, 3.2177999019622803, 3.1038999557495117, 2.031599998474121, 1.7661000490188599, 2.961699962615967, 1.9246000051498413, 2.8701999187469482, 2.8685998916625977, 0.7660999894142151, 1.166599988937378, 3.7399001121520996, 3.737299919128418, 3.735300064086914, 3.735100030899048, 3.727099895477295, 3.7265000343322754, 3.7246999740600586, 3.7207999229431152, 3.7200000286102295, 3.71560001373291, 3.712899923324585, 3.7125000953674316, 3.7111001014709473, 3.708400011062622, 3.708199977874756, 3.708199977874756, 3.7018001079559326, 3.699899911880493, 3.6970999240875244, 3.697000026702881, 3.696500062942505, 3.695199966430664, 3.690700054168701, 3.6891000270843506, 3.688999891281128, 3.6888999938964844, 3.6870999336242676, 3.686300039291382, 3.6858999729156494, 3.679500102996826, 3.6528000831604004, 3.5887999534606934, 3.6214001178741455, 3.3856000900268555, 3.488600015640259, 3.27839994430542, 3.334199905395508, 3.3587000370025635, 3.2170000076293945, 3.443000078201294, 3.426800012588501, 3.2676000595092773, 2.8803000450134277, 3.0934998989105225, 2.389899969100952, 3.100399971008301, 2.7846999168395996, 2.8917999267578125, 0.6166999936103821, 2.229099988937378, 2.2360999584198, 2.109999895095825, 0.9642999768257141, 3.747499942779541, 3.746500015258789, 3.737799882888794, 3.737299919128418, 3.7367000579833984, 3.7328999042510986, 3.7328999042510986, 3.732800006866455, 3.732800006866455, 3.7232000827789307, 3.7225000858306885, 3.720400094985962, 3.717900037765503, 3.713200092315674, 3.712899923324585, 3.7119998931884766, 3.7118000984191895, 3.7107999324798584, 3.7088000774383545, 3.707200050354004, 3.7065000534057617, 3.7060000896453857, 3.7011001110076904, 3.700500011444092, 3.7000999450683594, 3.6988000869750977, 3.6977999210357666, 3.697700023651123, 3.6972999572753906, 3.695499897003174, 3.5766000747680664, 3.503499984741211, 3.638000011444092, 3.534899950027466, 3.521899938583374, 2.90339994430542, 3.4526000022888184, 3.544600009918213, 3.4138998985290527, 3.387399911880493, 3.0871999263763428, 3.1373000144958496, 3.266700029373169, 2.8540000915527344, 2.2790000438690186, 3.437700033187866, 1.2867000102996826, 3.178499937057495, 2.9498000144958496, 1.5609999895095825, 2.735599994659424, 3.813999891281128, 3.8125, 3.8085999488830566, 3.805799961090088, 3.8027000427246094, 3.8013999462127686, 3.799299955368042, 3.7955000400543213, 3.7953999042510986, 3.7950000762939453, 3.7934000492095947, 3.7904999256134033, 3.790299892425537, 3.7894999980926514, 3.7894999980926514, 3.789400100708008, 3.7892000675201416, 3.788100004196167, 3.7829999923706055, 3.782099962234497, 3.7804999351501465, 3.779400110244751, 3.7739999294281006, 3.77239990234375, 3.7720999717712402, 3.7718000411987305, 3.771199941635132, 3.7701001167297363, 3.7690000534057617, 3.7681000232696533, 3.734499931335449, 3.735100030899048, 3.6933000087738037, 3.70989990234375, 3.6435999870300293, 3.7084999084472656, 3.5492000579833984, 3.1649999618530273, 3.1254000663757324, 2.463399887084961, 1.8672000169754028, 2.2223000526428223, -0.9763000011444092, 1.5720000267028809, 3.8169000148773193, 3.8157999515533447, 3.8050999641418457, 3.8004000186920166, 3.7985999584198, 3.7953999042510986, 3.791300058364868, 3.7880001068115234, 3.7878000736236572, 3.786900043487549, 3.785599946975708, 3.783400058746338, 3.7822999954223633, 3.777400016784668, 3.7727999687194824, 3.7727999687194824, 3.7727999687194824, 3.7727999687194824, 3.7727999687194824, 3.764400005340576, 3.7643001079559326, 3.7616000175476074, 3.7606000900268555, 3.7604000568389893, 3.7532999515533447, 3.7525999546051025, 3.751499891281128, 3.748500108718872, 3.748199939727783, 3.744999885559082, 3.4702999591827393, 3.594899892807007, 3.6823999881744385, 3.1703999042510986, 3.509000062942505, 3.5236001014709473, 3.4463999271392822, 3.3420000076293945, 3.168100118637085, 3.019200086593628, 2.6575000286102295, 1.8674999475479126, 0.32989999651908875, 0.7333999872207642, 0.6194999814033508, 0.40869998931884766, 1.8767999410629272, 2.6756999492645264, 1.3593000173568726, 3.8606998920440674, 3.859299898147583, 3.8540000915527344, 3.849100112915039, 3.8477001190185547, 3.842099905014038, 3.840100049972534, 3.839099884033203, 3.8389999866485596, 3.8364999294281006, 3.8315000534057617, 3.828000068664551, 3.8178999423980713, 3.8171000480651855, 3.8164000511169434, 3.8157999515533447, 3.813800096511841, 3.813699960708618, 3.8118999004364014, 3.809299945831299, 3.8060998916625977, 3.8022000789642334, 3.7997000217437744, 3.7904999256134033, 3.7897000312805176, 3.7874999046325684, 3.7874999046325684, 3.786799907684326, 3.786400079727173, 3.786400079727173, 3.7155001163482666, 3.7016000747680664, 3.7471001148223877, 3.5494000911712646, 3.714200019836426, 3.5216000080108643, 3.545300006866455, 3.4544999599456787, 3.2191998958587646, 3.2708001136779785, 3.2862000465393066, 3.3340001106262207, 3.0571999549865723, 3.1189000606536865, 3.6071999073028564, 2.4282000064849854, 0.066600002348423, 3.5387001037597656, 2.4047000408172607, 0.4124999940395355, 2.3162999153137207, 0.6172999739646912, 3.927500009536743, 3.919800043106079, 3.9091999530792236, 3.9070000648498535, 3.9059998989105225, 3.896199941635132, 3.8947999477386475, 3.8947999477386475, 3.8924999237060547, 3.8910000324249268, 3.8893001079559326, 3.888700008392334, 3.887200117111206, 3.884700059890747, 3.8826000690460205, 3.882499933242798, 3.8812999725341797, 3.879300117492676, 3.8761000633239746, 3.8749001026153564, 3.8747000694274902, 3.8743999004364014, 3.8721001148223877, 3.871999979019165, 3.871500015258789, 3.8710999488830566, 3.870800018310547, 3.870300054550171, 3.868799924850464, 3.867799997329712, 3.8071000576019287, 3.64490008354187, 3.785799980163574, 3.714900016784668, 3.6754000186920166, 3.599100112915039, 3.647599935531616, 3.5078001022338867, 3.6338000297546387, 3.686300039291382, 3.106600046157837, 2.6214001178741455, 0.8431000113487244, 0.6398000121116638, 2.151400089263916, 3.955199956893921, 3.953000068664551, 3.9481000900268555, 3.9428000450134277, 3.939500093460083, 3.9391000270843506, 3.9384000301361084, 3.9382998943328857, 3.9370999336242676, 3.9367001056671143, 3.9358999729156494, 3.9358999729156494, 3.9358999729156494, 3.9358999729156494, 3.9358999729156494, 3.9358999729156494, 3.9358999729156494, 3.9358999729156494, 3.92930006980896, 3.928100109100342, 3.9272000789642334, 3.9267001152038574, 3.9256999492645264, 3.924299955368042, 3.923099994659424, 3.9202001094818115, 3.919800043106079, 3.9126999378204346, 3.911600112915039, 3.9102001190185547, 3.8815999031066895, 3.819200038909912, 3.811000108718872, 3.356800079345703, 3.475800037384033, 3.393699884414673, 2.6731998920440674, 2.5754001140594482, 1.2730000019073486, 2.517199993133545, 0.1671999990940094, 2.663599967956543, -0.8198999762535095, 3.9904000759124756, 3.9860999584198, 3.9851999282836914, 3.980600118637085, 3.976900100708008, 3.9719998836517334, 3.9697999954223633, 3.9686999320983887, 3.9655001163482666, 3.9642999172210693, 3.9605000019073486, 3.954900026321411, 3.9512999057769775, 3.946899890899658, 3.94320011138916, 3.940200090408325, 3.938999891281128, 3.9381000995635986, 3.9374001026153564, 3.9370999336242676, 3.9346001148223877, 3.9305999279022217, 3.9300999641418457, 3.924999952316284, 3.9231998920440674, 3.91510009765625, 3.9135000705718994, 3.9100000858306885, 3.90910005569458, 3.9045000076293945, 3.826200008392334, 3.7530999183654785, 3.771899938583374, 3.6673998832702637, 3.4296000003814697, 3.099600076675415, 3.1702001094818115, 2.7130000591278076, 3.321700096130371, 1.551900029182434, 1.5434999465942383, 2.3705999851226807, 3.2263998985290527, 1.6650999784469604, 2.8254001140594482, 4.049799919128418, 4.047800064086914, 4.043300151824951, 4.039700031280518, 4.037700176239014, 4.0329999923706055, 4.0289998054504395, 4.014500141143799, 4.011600017547607, 4.010700225830078, 4.0106000900268555, 4.004000186920166, 4.002099990844727, 4.001200199127197, 4.0, 3.99780011177063, 3.9946999549865723, 3.993799924850464, 3.989500045776367, 3.9865000247955322, 3.9855000972747803, 3.9839000701904297, 3.9820001125335693, 3.9797000885009766, 3.9797000885009766, 3.9765000343322754, 3.9756999015808105, 3.97379994392395, 3.9702000617980957, 3.9693000316619873, 3.9428000450134277, 3.8422000408172607, 3.670300006866455, 3.896899938583374, 3.860300064086914, 3.404599905014038, 3.5745999813079834, 1.889799952507019, 2.763400077819824, 3.061300039291382, 2.3213000297546387, 2.2734999656677246, 3.224900007247925, 2.940500020980835, 2.886899948120117, 2.017699956893921, -0.7662000060081482, 2.248199939727783, 1.5887000560760498, 4.079599857330322, 4.078000068664551, 4.062300205230713, 4.059000015258789, 4.05649995803833, 4.055099964141846, 4.05019998550415, 4.050099849700928, 4.050099849700928, 4.047399997711182, 4.0467000007629395, 4.045000076293945, 4.043600082397461, 4.041600227355957, 4.039400100708008, 4.027400016784668, 4.0269999504089355, 4.024899959564209, 4.0243000984191895, 4.024099826812744, 4.017000198364258, 4.016600131988525, 4.013400077819824, 4.007500171661377, 4.007400035858154, 4.006499767303467, 4.0055999755859375, 4.003900051116943, 4.0015997886657715, 4.000800132751465, 3.91759991645813, 3.850399971008301, 3.852299928665161, 3.6840999126434326, 3.734600067138672, 3.6142001152038574, 3.6342999935150146, 4.080599784851074, 4.076600074768066, 4.06790018081665, 4.066999912261963, 4.065800189971924, 4.064799785614014, 4.064199924468994, 4.0630998611450195, 4.059000015258789, 4.05810022354126, 4.05620002746582, 4.055200099945068, 4.053800106048584, 4.0528998374938965, 4.051199913024902, 4.05049991607666, 4.048399925231934, 4.047900199890137, 4.044899940490723, 4.042699813842773, 4.041399955749512, 4.041100025177002, 4.039999961853027, 4.038599967956543, 4.035900115966797, 4.0346999168396, 4.032800197601318, 4.0320000648498535, 4.028500080108643, 4.019400119781494, 4.015399932861328, 4.0106000900268555, 3.944499969482422, 3.924099922180176, 3.8178000450134277, 3.7672998905181885, 3.7985999584198, 3.5685999393463135, 3.7685000896453857, 3.8308000564575195, 3.686800003051758, 2.0694000720977783, 1.5325000286102295, 3.6017000675201416, 2.518199920654297, 2.72379994392395, 4.190899848937988, 4.186299800872803, 4.184000015258789, 4.179599761962891, 4.172999858856201, 4.171800136566162, 4.1641998291015625, 4.16379976272583, 4.15910005569458, 4.151299953460693, 4.151299953460693, 4.1504998207092285, 4.150400161743164, 4.14900016784668, 4.14900016784668, 4.147299766540527, 4.1433000564575195, 4.142499923706055, 4.142099857330322, 4.139800071716309, 4.137599945068359, 4.137599945068359, 4.136000156402588, 4.134300231933594, 4.133299827575684, 4.13070011138916, 4.125500202178955, 4.125400066375732, 4.124800205230713, 4.121300220489502, 3.9779999256134033, 3.949199914932251, 3.9899001121520996, 3.832200050354004, 3.8896000385284424, 3.7578001022338867, 3.642899990081787, 3.967900037765503, 3.024199962615967, 3.7901999950408936, 2.9119999408721924, 0.45739999413490295, 2.655400037765503, 1.3897000551223755, 1.5185999870300293]}, \"token.table\": {\"Topic\": [17, 18, 2, 2, 9, 1, 2, 3, 9, 20, 12, 14, 14, 10, 1, 3, 6, 9, 4, 9, 10, 12, 20, 2, 3, 11, 13, 20, 9, 15, 15, 1, 3, 5, 9, 11, 2, 9, 11, 12, 13, 19, 17, 15, 15, 15, 16, 1, 3, 5, 6, 9, 10, 20, 1, 3, 9, 11, 13, 20, 15, 16, 19, 2, 8, 14, 20, 3, 14, 4, 4, 5, 12, 16, 19, 12, 7, 6, 9, 15, 18, 11, 1, 13, 16, 7, 6, 8, 15, 1, 9, 12, 5, 1, 3, 2, 3, 5, 10, 5, 7, 14, 3, 7, 8, 3, 5, 8, 11, 7, 7, 11, 13, 15, 9, 3, 7, 15, 13, 1, 5, 7, 13, 2, 20, 5, 8, 11, 2, 20, 17, 17, 19, 5, 1, 8, 20, 13, 15, 8, 14, 3, 5, 6, 10, 12, 9, 17, 14, 17, 3, 5, 6, 7, 6, 14, 8, 10, 12, 20, 1, 2, 11, 16, 7, 16, 5, 9, 7, 20, 19, 2, 2, 3, 9, 1, 12, 1, 2, 6, 9, 2, 3, 8, 10, 20, 1, 4, 14, 5, 18, 16, 16, 1, 8, 10, 19, 15, 10, 2, 11, 14, 18, 5, 1, 2, 11, 12, 19, 8, 20, 1, 2, 3, 9, 12, 15, 10, 2, 10, 8, 16, 14, 11, 15, 19, 10, 11, 6, 1, 3, 6, 2, 7, 10, 2, 6, 16, 3, 6, 2, 18, 3, 19, 17, 8, 6, 13, 17, 20, 2, 1, 2, 3, 5, 7, 8, 11, 15, 19, 11, 14, 2, 12, 18, 13, 15, 1, 7, 15, 13, 15, 2, 9, 13, 11, 3, 14, 19, 19, 8, 12, 3, 2, 8, 15, 1, 2, 6, 9, 6, 16, 3, 14, 3, 8, 11, 2, 20, 17, 2, 9, 2, 6, 9, 12, 3, 11, 11, 20, 6, 3, 10, 20, 7, 4, 11, 3, 4, 9, 11, 13, 3, 6, 17, 10, 20, 17, 11, 10, 8, 9, 20, 20, 20, 5, 15, 8, 3, 13, 6, 9, 5, 19, 14, 19, 10, 14, 1, 5, 12, 18, 14, 19, 17, 3, 17, 7, 4, 3, 4, 9, 2, 3, 8, 13, 5, 8, 15, 9, 8, 4, 3, 17, 18, 2, 3, 2, 8, 9, 16, 18, 5, 3, 5, 6, 19, 17, 17, 6, 14, 18, 1, 3, 6, 9, 11, 7, 5, 18, 1, 2, 3, 4, 6, 16, 17, 15, 3, 6, 12, 19, 11, 6, 9, 13, 1, 5, 7, 13, 19, 3, 6, 9, 8, 10, 16, 1, 6, 12, 15, 1, 7, 1, 19, 5, 2, 13, 4, 18, 9, 6, 1, 3, 13, 20, 5, 6, 9, 1, 2, 3, 8, 13, 5, 6, 10, 4, 14, 2, 7, 15, 1, 2, 3, 6, 17, 1, 5, 15, 19, 5, 4, 12, 10, 12, 4, 2, 3, 8, 13, 19, 8, 17, 20, 4, 13, 17, 18, 5, 19, 4, 7, 10, 15, 11, 2, 6, 10, 17, 19, 3, 6, 13, 5, 7, 12, 13, 13, 11, 1, 8, 9, 14, 10, 3, 5, 19, 9, 19, 1, 10, 3, 8, 5, 19, 5, 7, 3, 15, 18, 6, 19, 6, 7, 18, 15, 9, 20, 9, 5, 9, 13, 2, 3, 17, 18, 2, 6, 17, 9, 9, 1, 2, 3, 6, 13, 2, 11, 10, 13, 18, 13, 16, 19, 6, 7, 12, 14, 15, 8, 2, 6, 9, 9, 1, 3, 9, 5, 3, 3, 2, 11, 3, 8, 2, 3, 2, 12, 1, 16, 5, 19, 16, 1, 3, 16, 1, 12, 4, 2, 20, 2, 3, 6, 4, 9, 5, 8, 20, 11, 19, 4, 1, 2, 4, 6, 11, 13, 15, 1, 19, 1, 14, 20, 2, 5, 10, 11, 12, 17, 19, 20, 1, 2, 3, 5, 6, 6, 17, 1, 2, 10, 18, 3, 9, 2, 1, 14, 20, 20, 14, 7, 2, 3, 6, 9, 20, 16, 14, 1, 16, 12, 8, 5, 7, 13, 4, 1, 17, 13, 9, 18, 1, 2, 9, 10, 11, 12, 13, 6, 8, 5, 3, 5, 7, 3, 7, 14, 20, 1, 3, 5, 6, 8, 11, 18, 6, 10, 20, 5, 5, 7, 16, 18, 2, 14, 19, 2, 12, 17, 3, 3, 18, 11, 7, 6, 18, 19, 6, 8, 16, 16, 20, 10, 14, 2, 9, 15, 5, 14, 5, 12, 12, 13, 9, 20, 18, 4, 13, 17, 13, 19, 5, 7, 14, 11, 8, 3, 3, 6, 10, 16, 18, 1, 12, 13, 7, 11, 8, 15, 2, 3, 3, 11, 12, 15, 11, 20, 6, 2, 11, 16, 15, 3, 4, 1, 14, 1, 10, 2, 3, 6, 8, 2, 10, 2, 13, 14, 15, 19, 1, 2, 5, 7, 12, 16, 7, 1, 4, 10, 5, 14, 16, 2, 10, 11, 12, 17, 19, 2, 1, 2, 6, 8, 9, 20, 1, 2, 8, 16, 10, 5, 7, 16, 11, 10, 20, 7, 11, 1, 2, 6, 1, 5, 6, 19, 13, 12, 19, 3, 2, 4, 12, 15, 11, 10, 14, 15, 15, 1, 9, 17, 5, 12, 4, 20, 18, 12, 7, 9, 10, 13, 1, 12, 3, 5, 6, 4, 7, 20, 16, 2, 3, 6, 12, 18, 7, 14, 17, 12, 12, 18, 12, 1, 2, 3, 10, 12, 13, 15, 1, 17, 14, 4, 17, 2, 3, 8, 14, 12, 1, 9, 14, 5, 1, 17, 11, 16, 17, 5, 5, 13, 17, 19, 20, 3, 7, 8, 15, 16, 14, 14, 18, 1, 6, 10, 20, 4, 1, 6, 10, 12, 5, 2, 3, 6, 10, 13, 3, 18, 1, 2, 3, 5, 6, 8, 10, 20, 11, 13, 19, 1, 15, 1, 9, 2, 3, 5, 6, 5, 6, 8, 9, 13, 8, 14, 1, 3, 6, 4, 18, 8, 10, 8, 13, 17, 3, 5, 6, 8, 10, 1, 2, 15, 6, 1, 12, 10, 19, 3, 13, 3, 6, 15, 16, 4, 2, 17, 20, 9, 18, 7, 16, 3, 8, 19, 14, 8, 11, 11, 4, 5, 13, 14, 19, 3, 6, 8, 10, 11, 7, 2, 1, 7, 6, 9, 10, 2, 6, 9, 11, 15, 16, 17, 3, 7, 19, 13, 2, 4, 6, 12, 3, 9, 14, 19, 10, 19, 7, 10, 5, 2, 3, 6, 11, 13, 14, 20, 6, 15, 6, 8, 18, 3, 20, 8, 15, 15, 2, 9, 2, 9, 2, 5, 12, 6, 6, 20, 14, 1, 2, 5, 8, 10, 19, 7, 18, 4, 20, 10, 10, 1, 2, 17, 14, 10, 11, 14, 8, 16, 20, 15, 4, 18, 4, 9, 10, 11, 13, 11, 10, 16, 1, 2, 13, 13, 1, 1, 2, 17, 7, 10, 1, 2, 3, 9, 7, 13, 20, 15, 17, 4, 15, 3, 10, 7, 12, 7, 14, 1, 13, 10, 8, 13, 2, 6, 5, 20, 6, 6, 6, 18, 12, 4, 10, 1, 2, 3, 4, 6, 8, 11, 12, 13, 15, 17, 20, 8, 13, 6, 9, 20, 3, 2, 6, 9, 6, 2, 7, 1, 2, 7, 13, 20, 20, 13, 9, 3, 5, 19, 16, 6, 20, 2, 13, 14, 19, 14, 18, 19, 8, 12, 15, 4, 10, 3, 6, 7, 8, 11, 12, 13, 15, 7, 18, 12, 17, 15, 5, 9, 3, 9, 14, 2, 17, 5, 8, 10, 14, 12, 18, 2, 8, 13, 18, 2, 10, 12, 20, 13, 13, 10, 4, 17, 6, 19, 11, 13, 2, 12, 13, 3, 1, 4, 17, 6, 17, 10, 13, 15, 16, 13, 13, 2, 8, 16, 2, 13, 19, 17, 9, 20, 18, 13, 5, 10, 4, 11, 15, 2, 4, 1, 16, 2, 17, 1, 5, 7, 6, 17, 5, 19, 6, 9, 8, 7, 2, 19, 18, 10, 12, 7, 5, 11, 10, 5, 7, 9, 13, 15, 15, 9, 11, 8, 10, 11, 15, 1, 17, 1, 3, 9, 11, 6, 9, 17, 8, 13, 19, 16, 16, 1, 5, 7, 1, 1, 20, 12, 1, 1, 11, 7, 5, 17, 12, 16, 16, 1, 3, 4, 5, 10, 14, 19, 18, 1, 2, 11, 17, 6, 9, 1, 14, 6, 9, 11, 12, 20, 2, 9, 16, 5, 17, 2, 13, 15, 13, 3, 16, 10, 1, 15, 19, 4, 7, 12, 6, 11, 12, 14, 13, 2, 4, 6, 12, 5, 7, 1, 16, 4, 5, 9, 13, 10, 14, 5, 1, 10, 6, 19, 13, 15, 4, 4, 3, 14, 1, 8, 12, 13, 20, 6, 9, 14, 3, 11, 12, 15, 19, 7, 1, 4, 12, 13, 8, 2, 18, 11, 11, 9, 1, 9, 16, 20, 6, 3, 3, 1, 14, 18, 1, 4, 10, 3, 10, 15, 18, 17, 1, 7, 10, 17, 4, 9, 9, 1, 5, 7, 20, 15, 7, 1, 3, 8, 19, 5, 16, 1, 2, 3, 6, 9, 16, 18, 12, 10, 7, 8, 5, 5, 4, 1, 8, 12, 14, 7, 20, 1, 18, 9, 10, 19, 7, 9, 13, 12, 4, 12, 3, 20], \"Freq\": [0.9664528369903564, 0.9470952749252319, 0.9650042057037354, 0.9887627959251404, 0.9467541575431824, 0.5308877229690552, 0.0232845488935709, 0.16299185156822205, 0.25613003969192505, 0.0232845488935709, 0.9125549793243408, 0.951257050037384, 0.9564412832260132, 0.9843307137489319, 0.6959646344184875, 0.15983876585960388, 0.086579330265522, 0.056609563529491425, 0.1454644501209259, 0.4218469262123108, 0.18910379707813263, 0.17455734312534332, 0.07273222506046295, 0.721502423286438, 0.1887006312608719, 0.03330010920763016, 0.02775009162724018, 0.02775009162724018, 0.9376648664474487, 0.9669667482376099, 0.9669667482376099, 0.6505358219146729, 0.05185430496931076, 0.04242624714970589, 0.047140274196863174, 0.20270319283008575, 0.13857296109199524, 0.055429182946681976, 0.2217167317867279, 0.18014484643936157, 0.15243025124073029, 0.249431312084198, 0.9169570803642273, 0.9669667482376099, 0.9669667482376099, 0.9669667482376099, 0.9570230841636658, 0.35089853405952454, 0.09153874963521957, 0.14493635296821594, 0.09916697442531586, 0.22121864557266235, 0.04576937481760979, 0.04576937481760979, 0.6580559015274048, 0.11280958354473114, 0.09400798380374908, 0.031335994601249695, 0.031335994601249695, 0.06893918663263321, 0.8513938784599304, 0.12162769585847855, 0.917634904384613, 0.26383039355278015, 0.6507816910743713, 0.03517738729715347, 0.03517738729715347, 0.21561101078987122, 0.7546385526657104, 0.9641211628913879, 0.9012002944946289, 0.9874818325042725, 0.9721994996070862, 0.9655107855796814, 0.929988443851471, 0.915534257888794, 0.9765693545341492, 0.1208384558558464, 0.2685299217700958, 0.604192316532135, 0.9076414108276367, 0.9827991127967834, 0.5068849325180054, 0.05210966616868973, 0.43582630157470703, 0.9851281642913818, 0.2878000736236572, 0.6907202005386353, 0.9240924119949341, 0.9990854859352112, 0.9862036108970642, 0.9437028765678406, 0.9629552960395813, 0.9995761513710022, 0.9557734727859497, 0.6127468943595886, 0.1979643851518631, 0.10369563102722168, 0.08484187722206116, 0.33367612957954407, 0.6500388979911804, 0.014165496453642845, 0.9744314551353455, 0.9709383845329285, 0.9427431225776672, 0.09539272636175156, 0.2861781716346741, 0.4633360803127289, 0.1499028503894806, 0.980254590511322, 0.9141149520874023, 0.9395756125450134, 0.9736065864562988, 0.962117612361908, 0.9642881155014038, 0.9133197665214539, 0.9606397747993469, 0.9044220447540283, 0.9832881689071655, 0.972888171672821, 0.010171647183597088, 0.016154969111084938, 0.9249855875968933, 0.19683846831321716, 0.7545474767684937, 0.329570472240448, 0.1483067125082016, 0.5108342170715332, 0.973904013633728, 0.9684642553329468, 0.9253738522529602, 0.9520778059959412, 0.9295449256896973, 0.9778929948806763, 0.9746912717819214, 0.014911826699972153, 0.00948934443295002, 0.7357972264289856, 0.2299366444349289, 0.9831734895706177, 0.9351083040237427, 0.27723655104637146, 0.033268388360738754, 0.5766520500183105, 0.05544731020927429, 0.04435785114765167, 0.6210131645202637, 0.37260788679122925, 0.9567263722419739, 0.9331082105636597, 0.999043881893158, 0.9778929948806763, 0.08840370923280716, 0.8987710475921631, 0.2369304746389389, 0.7563549876213074, 0.5378695130348206, 0.11765896528959274, 0.31936004757881165, 0.016808422282338142, 0.3741864562034607, 0.6217252016067505, 0.9076789617538452, 0.07892860472202301, 0.9418072700500488, 0.9945024251937866, 0.9771838188171387, 0.021014705300331116, 0.7401707172393799, 0.22970816493034363, 0.9343737959861755, 0.9741256833076477, 0.2026710957288742, 0.05066777393221855, 0.7346827387809753, 0.9588044881820679, 0.04057301953434944, 0.12056709080934525, 0.36879345774650574, 0.2836872637271881, 0.21985763311386108, 0.09639398753643036, 0.35052359104156494, 0.19278797507286072, 0.05257853493094444, 0.30670812726020813, 0.3925674557685852, 0.1682431995868683, 0.4299548268318176, 0.2945176661014557, 0.6479389071464539, 0.9916562438011169, 0.9909266829490662, 0.9984631538391113, 0.9851326942443848, 0.9557952880859375, 0.9865151643753052, 0.9647485613822937, 0.9769173264503479, 0.9423003792762756, 0.9476292729377747, 0.7928882837295532, 0.1829742193222046, 0.9872894287109375, 0.32047244906425476, 0.40787404775619507, 0.1048818975687027, 0.11070866882801056, 0.05826772004365921, 0.8778812289237976, 0.10129398852586746, 0.36925008893013, 0.022607149556279182, 0.06028573215007782, 0.42200011014938354, 0.09042859822511673, 0.03767858073115349, 0.9333838820457458, 0.7799602746963501, 0.21271644532680511, 0.9757062196731567, 0.9794518351554871, 0.963405191898346, 0.9572532176971436, 0.9244768023490906, 0.925673246383667, 0.09972773492336273, 0.8726176619529724, 0.9903858304023743, 0.28070029616355896, 0.6237784028053284, 0.07797230035066605, 0.15981760621070862, 0.7867943644523621, 0.04917464777827263, 0.29427361488342285, 0.13312377035617828, 0.5675276517868042, 0.13303117454051971, 0.8595861196517944, 0.9820840954780579, 0.9514630436897278, 0.9573739767074585, 0.9380180239677429, 0.976016104221344, 0.9666376709938049, 0.9638310074806213, 0.8573938608169556, 0.11691734194755554, 0.9402273297309875, 0.9945151209831238, 0.640960693359375, 0.004627875052392483, 0.05553450062870979, 0.04627874866127968, 0.16428956389427185, 0.006941812578588724, 0.03933693841099739, 0.030081188306212425, 0.013883625157177448, 0.9657713770866394, 0.9616654515266418, 0.8869479894638062, 0.07487223297357559, 0.03455641493201256, 0.7249592542648315, 0.26893648505210876, 0.977352499961853, 0.02183089777827263, 0.9179021716117859, 0.9358764886856079, 0.9356014132499695, 0.9895709753036499, 0.964620053768158, 0.9402992725372314, 0.9589499831199646, 0.09382414072751999, 0.7271370887756348, 0.16419224441051483, 0.9823927879333496, 0.9552075266838074, 0.9534761309623718, 0.937365710735321, 0.3173249661922455, 0.13599641621112823, 0.536430299282074, 0.8844519853591919, 0.04473090544342995, 0.008132891729474068, 0.06099668890237808, 0.9622464179992676, 0.981205403804779, 0.1939605176448822, 0.7758420705795288, 0.16682185232639313, 0.604729175567627, 0.2293800413608551, 0.8968851566314697, 0.09440896660089493, 0.9776139259338379, 0.8724762201309204, 0.12174087017774582, 0.9967926740646362, 0.9629881978034973, 0.9794782400131226, 0.9461041688919067, 0.9570310115814209, 0.984592616558075, 0.9808982610702515, 0.9257660508155823, 0.9577381610870361, 0.25369441509246826, 0.1691296100616455, 0.5708124041557312, 0.9514275789260864, 0.9665972590446472, 0.9450421929359436, 0.1777583360671997, 0.07319460809230804, 0.13593284785747528, 0.1673019677400589, 0.43916764855384827, 0.2762531042098999, 0.18992401659488678, 0.5179745554924011, 0.20843809843063354, 0.7920647263526917, 0.9836456179618835, 0.9779343008995056, 0.9707162976264954, 0.2094590663909912, 0.7680165767669678, 0.9423689246177673, 0.897918701171875, 0.9511715173721313, 0.9824892282485962, 0.9747764468193054, 0.9420717358589172, 0.13807284832000732, 0.8575050234794617, 0.6954120993614197, 0.2781648337841034, 0.37530258297920227, 0.6141314506530762, 0.0639733076095581, 0.9276129603385925, 0.9854348301887512, 0.9771350622177124, 0.44160816073417664, 0.4906757175922394, 0.04906757175922394, 0.9205861687660217, 0.9233700633049011, 0.9815918207168579, 0.9922223091125488, 0.16358129680156708, 0.8179064989089966, 0.9159146547317505, 0.9328664541244507, 0.9371951222419739, 0.9537776112556458, 0.9394130110740662, 0.18167418241500854, 0.2515488862991333, 0.41924813389778137, 0.12577444314956665, 0.19796141982078552, 0.6885614395141602, 0.1118912324309349, 0.9641789793968201, 0.9484976530075073, 0.972978413105011, 0.4173995852470398, 0.4434870481491089, 0.13043737411499023, 0.8943710327148438, 0.1084086075425148, 0.23895315825939178, 0.11947657912969589, 0.11947657912969589, 0.5120424628257751, 0.9868452548980713, 0.9749388694763184, 0.9635820984840393, 0.9792251586914062, 0.8947896361351013, 0.07895202934741974, 0.9617002010345459, 0.9169570803642273, 0.20783059298992157, 0.7481901049613953, 0.9861162304878235, 0.7929157018661499, 0.16649149358272552, 0.03954172879457474, 0.06801801919937134, 0.9182432889938354, 0.9596612453460693, 0.9794381856918335, 0.9246039390563965, 0.2294079214334488, 0.29999497532844543, 0.19852608442306519, 0.01764676347374916, 0.2029377669095993, 0.013235071673989296, 0.03970521688461304, 0.9759228825569153, 0.1520974189043045, 0.8434493541717529, 0.9445933103561401, 0.9653195142745972, 0.9746773838996887, 0.3137316107749939, 0.6745229363441467, 0.9860606789588928, 0.5436718463897705, 0.31373950839042664, 0.1031472310423851, 0.03868021070957184, 0.9454506039619446, 0.02143879607319832, 0.9718921184539795, 0.9651282429695129, 0.9891343116760254, 0.9070162773132324, 0.9922387599945068, 0.5243822932243347, 0.46717697381973267, 0.7542767524719238, 0.21999739110469818, 0.9866325855255127, 0.012384509667754173, 0.9986922144889832, 0.9729827642440796, 0.9531213045120239, 0.9797907471656799, 0.977527379989624, 0.9518914818763733, 0.9485133290290833, 0.9670711159706116, 0.9451243281364441, 0.6896576285362244, 0.07543130218982697, 0.2262939214706421, 0.8616399765014648, 0.11702156811952591, 0.8484063744544983, 0.9643747806549072, 0.8088420033454895, 0.03516704589128494, 0.03516704589128494, 0.0784495621919632, 0.04328251630067825, 0.22839868068695068, 0.20302104949951172, 0.5583078861236572, 0.9203528761863708, 0.9511088132858276, 0.2744578719139099, 0.6952932476997375, 0.018297191709280014, 0.4105204939842224, 0.30929628014564514, 0.10684780031442642, 0.039364978671073914, 0.12934207916259766, 0.9915722608566284, 0.0077804275788366795, 0.10293812304735184, 0.8578176498413086, 0.993355929851532, 0.944487988948822, 0.9631778597831726, 0.3037242889404297, 0.6775388121604919, 0.9549469351768494, 0.7701127529144287, 0.07273286581039429, 0.14118734002113342, 0.015687482431530952, 0.9832913279533386, 0.9476260542869568, 0.9309708476066589, 0.9109060168266296, 0.9142802953720093, 0.11748836189508438, 0.17623254656791687, 0.6755580902099609, 0.23934626579284668, 0.7479571104049683, 0.16071844100952148, 0.2967109680175781, 0.4079775810241699, 0.12362957745790482, 0.9669533967971802, 0.18975181877613068, 0.08757776021957397, 0.5108702778816223, 0.08757776021957397, 0.11677034944295883, 0.09953951090574265, 0.8336434364318848, 0.06221219524741173, 0.8670446872711182, 0.12386352568864822, 0.5156234502792358, 0.4759601056575775, 0.9621551632881165, 0.9747174382209778, 0.9967396855354309, 0.9265323877334595, 0.9692445397377014, 0.9329836964607239, 0.9711677432060242, 0.9611551761627197, 0.22554998099803925, 0.7668699622154236, 0.9773198366165161, 0.9719270467758179, 0.6320055723190308, 0.3587058484554291, 0.10670595616102219, 0.8892163038253784, 0.9736202359199524, 0.949788510799408, 0.9254297614097595, 0.06309748440980911, 0.8589579463005066, 0.1374332755804062, 0.9498896598815918, 0.965984582901001, 0.9643582701683044, 0.7816663980484009, 0.15633328258991241, 0.039083320647478104, 0.9627189040184021, 0.9507096409797668, 0.9096853733062744, 0.9528706073760986, 0.7892826199531555, 0.14350593090057373, 0.05979413539171219, 0.16140294075012207, 0.1489873230457306, 0.6828585863113403, 0.9082843065261841, 0.7495957612991333, 0.21939387917518616, 0.9202814102172852, 0.9717284440994263, 0.9593983292579651, 0.8178550601005554, 0.09731689095497131, 0.0265409704297781, 0.025557970628142357, 0.03145596385002136, 0.9828242659568787, 0.9530715942382812, 0.9633328318595886, 0.9350728392601013, 0.9706851243972778, 0.9736863970756531, 0.9346643686294556, 0.04855399206280708, 0.23222452402114868, 0.09288980811834335, 0.45283782482147217, 0.13933470845222473, 0.08127858489751816, 0.9886483550071716, 0.32172486186027527, 0.14298883080482483, 0.5183345079421997, 0.9191625118255615, 0.9675953388214111, 0.009620975703001022, 0.021990802139043808, 0.962810218334198, 0.9728459715843201, 0.9815818071365356, 0.9780428409576416, 0.9921107292175293, 0.8540016412734985, 0.12995678186416626, 0.886822521686554, 0.10489299148321152, 0.9975952506065369, 0.9392039775848389, 0.9135789275169373, 0.08646098524332047, 0.7801128625869751, 0.21275804936885834, 0.9879647493362427, 0.9985132813453674, 0.979723334312439, 0.9737440347671509, 0.9982916712760925, 0.9180344343185425, 0.9455062747001648, 0.9605485796928406, 0.9142782092094421, 0.6353517174720764, 0.10455155372619629, 0.257357656955719, 0.14090807735919952, 0.8454484939575195, 0.7262479066848755, 0.2420826405286789, 0.9312556982040405, 0.9756612181663513, 0.8971326947212219, 0.9762716293334961, 0.9983667135238647, 0.9283487200737, 0.07940873503684998, 0.14293572306632996, 0.49233415722846985, 0.17469921708106995, 0.07940873503684998, 0.9215185642242432, 0.07727018743753433, 0.9991635680198669, 0.9989511370658875, 0.9745895862579346, 0.13752971589565277, 0.27949586510658264, 0.2262585610151291, 0.1064746156334877, 0.05323730781674385, 0.04436442255973816, 0.13309326767921448, 0.017745768651366234, 0.4257364571094513, 0.43703919649124146, 0.06404884904623032, 0.0489785298705101, 0.01883789524435997, 0.9570595622062683, 0.9271766543388367, 0.8558748364448547, 0.029083125293254852, 0.1121777668595314, 0.9967765808105469, 0.7393065094947815, 0.23523390293121338, 0.9306548237800598, 0.6538918018341064, 0.2724549174308777, 0.06357280910015106, 0.9496163725852966, 0.9917612075805664, 0.966754674911499, 0.22295215725898743, 0.27603599429130554, 0.10616768896579742, 0.1167844608426094, 0.26541924476623535, 0.9560369253158569, 0.9586536884307861, 0.7214680314064026, 0.2777137756347656, 0.9392039775848389, 0.976891279220581, 0.29000821709632874, 0.7032699584960938, 0.9561981558799744, 0.9383000731468201, 0.9998409152030945, 0.9893795847892761, 0.9257169961929321, 0.197998046875, 0.7919921875, 0.5374742746353149, 0.0939275473356247, 0.02087278850376606, 0.018263690173625946, 0.14089132845401764, 0.14089132845401764, 0.044354673475027084, 0.9870962500572205, 0.9846712946891785, 0.9853335022926331, 0.998420774936676, 0.21650385856628418, 0.7697914838790894, 0.06690721958875656, 0.9032474756240845, 0.19864128530025482, 0.7945651412010193, 0.9689005613327026, 0.002760400529950857, 0.005980867892503738, 0.013802002184092999, 0.005980867892503738, 0.0004600667452905327, 0.0018402669811621308, 0.9672558307647705, 0.9228309988975525, 0.9478985667228699, 0.9748966693878174, 0.6734336018562317, 0.31207898259162903, 0.9702731966972351, 0.9634248614311218, 0.8109381198883057, 0.1731216162443161, 0.00911166425794363, 0.3054407238960266, 0.6108814477920532, 0.06545158475637436, 0.9460541605949402, 0.9977524280548096, 0.939663827419281, 0.9739931225776672, 0.937905490398407, 0.9645600318908691, 0.8872619271278381, 0.9699180126190186, 0.9521437883377075, 0.964454710483551, 0.8817474842071533, 0.9353417754173279, 0.9205079078674316, 0.9756635427474976, 0.9365161061286926, 0.9603009223937988, 0.7371507883071899, 0.23694132268428802, 0.33655738830566406, 0.6490749716758728, 0.9569314122200012, 0.9438665509223938, 0.9266011714935303, 0.9249855875968933, 0.35005414485931396, 0.6417659521102905, 0.9607651233673096, 0.9079449772834778, 0.654151976108551, 0.3359158933162689, 0.18065191805362701, 0.7677706480026245, 0.5879338979721069, 0.3413809835910797, 0.06637963652610779, 0.9512633085250854, 0.9394906759262085, 0.9785899519920349, 0.1966656893491745, 0.1251508891582489, 0.1787869930267334, 0.3039378821849823, 0.1787869930267334, 0.998455286026001, 0.9467379450798035, 0.9011877179145813, 0.9142342805862427, 0.9852291345596313, 0.9834076762199402, 0.9477360844612122, 0.17988581955432892, 0.7966371774673462, 0.9848084449768066, 0.9559125304222107, 0.07764285802841187, 0.9095305800437927, 0.2787272036075592, 0.6619771122932434, 0.9836777448654175, 0.9170876145362854, 0.07164747267961502, 0.973787784576416, 0.977618932723999, 0.6153632998466492, 0.37456896901130676, 0.9992395043373108, 0.9366727471351624, 0.24725084006786346, 0.741752564907074, 0.30748865008354187, 0.18449318408966064, 0.07687216252088547, 0.4304840862751007, 0.2965187728404999, 0.6819931864738464, 0.9791024327278137, 0.21586519479751587, 0.13491575419902802, 0.566646158695221, 0.08094944804906845, 0.7643024921417236, 0.014913219027221203, 0.026098133996129036, 0.171502023935318, 0.022369828075170517, 0.9762698411941528, 0.9587908983230591, 0.9373946189880371, 0.06102829426527023, 0.9328113198280334, 0.960084080696106, 0.9548791646957397, 0.8981961011886597, 0.4308381974697113, 0.10361931473016739, 0.08180472254753113, 0.1417948603630066, 0.1745167374610901, 0.05453648418188095, 0.9937096834182739, 0.7842094898223877, 0.09195376932621002, 0.09195376932621002, 0.008674884214997292, 0.02081972174346447, 0.9728320837020874, 0.9853219389915466, 0.014307675883173943, 0.9717059135437012, 0.881737232208252, 0.9833452701568604, 0.31432342529296875, 0.6656261086463928, 0.9439478516578674, 0.9217506647109985, 0.9713215827941895, 0.9212552309036255, 0.9831192493438721, 0.9873252511024475, 0.7101998925209045, 0.06623625755310059, 0.22078752517700195, 0.6976128220558167, 0.30208155512809753, 0.11262248456478119, 0.8258982300758362, 0.9847602844238281, 0.05103287100791931, 0.9185916781425476, 0.970771312713623, 0.9719922542572021, 0.9427918791770935, 0.7846778631210327, 0.18309150636196136, 0.9648963212966919, 0.9665375351905823, 0.8772990107536316, 0.09075507521629333, 0.9630745649337769, 0.7428712248802185, 0.08649870753288269, 0.16790924966335297, 0.9155043363571167, 0.035211704671382904, 0.9644826650619507, 0.9784342646598816, 0.8787754774093628, 0.9392039775848389, 0.9771285057067871, 0.966530978679657, 0.9752423763275146, 0.9337015748023987, 0.9907687306404114, 0.007606669794768095, 0.92220139503479, 0.07280537486076355, 0.9585639834403992, 0.8927682638168335, 0.9515613913536072, 0.958197295665741, 0.98068767786026, 0.1642940640449524, 0.0821470320224762, 0.7530145049095154, 0.9876174330711365, 0.921561598777771, 0.65839022397995, 0.1645975559949875, 0.1645975559949875, 0.9392039775848389, 0.8926100134849548, 0.0595073327422142, 0.9568264484405518, 0.21320229768753052, 0.3276035189628601, 0.20280218124389648, 0.09360101073980331, 0.05720061808824539, 0.03640039265155792, 0.07280078530311584, 0.9993004202842712, 0.963136613368988, 0.9443878531455994, 0.07271087914705276, 0.9088860154151917, 0.2429507076740265, 0.10759245604276657, 0.6455547213554382, 0.9499301314353943, 0.955871045589447, 0.9547629952430725, 0.006110482849180698, 0.03666289895772934, 0.9521623253822327, 0.9991835951805115, 0.9461737871170044, 0.11415324360132217, 0.7827650904655457, 0.08153802901506424, 0.9639650583267212, 0.46283307671546936, 0.12342215329408646, 0.1645628660917282, 0.20570358633995056, 0.04114071652293205, 0.6151618361473083, 0.19685177505016327, 0.1722453087568283, 0.17567779123783112, 0.8030984997749329, 0.9572783708572388, 0.18312248587608337, 0.7782705426216125, 0.8323997855186462, 0.04161999002099037, 0.06242998316884041, 0.0572274848818779, 0.9609078764915466, 0.22515486180782318, 0.13509291410446167, 0.6079181432723999, 0.9858747720718384, 0.98630690574646, 0.6234716176986694, 0.08767569810152054, 0.08767569810152054, 0.1461261659860611, 0.0487087219953537, 0.9077937602996826, 0.06983029097318649, 0.7870855331420898, 0.04194499924778938, 0.016037793830037117, 0.007402058690786362, 0.05181441083550453, 0.05181441083550453, 0.019738823175430298, 0.02343985252082348, 0.9081756472587585, 0.06727227568626404, 0.9836931824684143, 0.9776092171669006, 0.022442316636443138, 0.9991686344146729, 0.991247296333313, 0.1277426779270172, 0.09935542196035385, 0.11354905366897583, 0.6529070734977722, 0.1543342024087906, 0.17807792127132416, 0.48674631118774414, 0.03561558574438095, 0.13059048354625702, 0.9556923508644104, 0.9271313548088074, 0.4736138582229614, 0.057009074836969376, 0.4692285358905792, 0.8446474075317383, 0.11261965334415436, 0.8119778633117676, 0.15614959597587585, 0.9568997621536255, 0.12375707179307938, 0.8044210076332092, 0.15295106172561646, 0.046348802745342255, 0.19234754145145416, 0.18307778239250183, 0.42409154772758484, 0.910973072052002, 0.020537234842777252, 0.06747948378324509, 0.9386340975761414, 0.9115362763404846, 0.08401256054639816, 0.7827230095863342, 0.17015716433525085, 0.9846216440200806, 0.013203738257288933, 0.7773069739341736, 0.08883508294820786, 0.022208770737051964, 0.08883508294820786, 0.9451096057891846, 0.33601999282836914, 0.6347044110298157, 0.931302011013031, 0.9692471027374268, 0.9809387922286987, 0.2689328193664551, 0.7171542048454285, 0.11911454796791077, 0.7940970063209534, 0.05955727398395538, 0.9743844866752625, 0.9151977896690369, 0.05084432289004326, 0.9563842415809631, 0.22284965217113495, 0.20693181455135345, 0.557124137878418, 0.7708090543746948, 0.19983938336372375, 0.10391350835561752, 0.8774918913841248, 0.9299079775810242, 0.7098881006240845, 0.2777823209762573, 0.9550866484642029, 0.9779531955718994, 0.9645165205001831, 0.03438853472471237, 0.3377647399902344, 0.6642706394195557, 0.9675222039222717, 0.3030168414115906, 0.40076422691345215, 0.1270715743303299, 0.0781978964805603, 0.03909894824028015, 0.019549474120140076, 0.03909894824028015, 0.9908517599105835, 0.9914504289627075, 0.9813752174377441, 0.9325373768806458, 0.24636536836624146, 0.6472400426864624, 0.061060383915901184, 0.04566254839301109, 0.051079075783491135, 0.9194234013557434, 0.9795178771018982, 0.9789886474609375, 0.9588527083396912, 0.9406231641769409, 0.5329632759094238, 0.45400577783584595, 0.9965458512306213, 0.40245041251182556, 0.34655454754829407, 0.11738137155771255, 0.016768768429756165, 0.044716715812683105, 0.02794794552028179, 0.044716715812683105, 0.9815440773963928, 0.9726871848106384, 0.9675911664962769, 0.9178454279899597, 0.9852743744850159, 0.9735959768295288, 0.9318903684616089, 0.973274827003479, 0.9803193807601929, 0.9585192799568176, 0.4030870199203491, 0.5905693173408508, 0.8391025066375732, 0.1545715183019638, 0.044622957706451416, 0.8924592137336731, 0.044622957706451416, 0.9719235897064209, 0.9777687191963196, 0.8750078082084656, 0.913915753364563, 0.5967284440994263, 0.08107723295688629, 0.11999430507421494, 0.1653975546360016, 0.03567398339509964, 0.9414153099060059, 0.9537217020988464, 0.9295762181282043, 0.9269911050796509, 0.8977968692779541, 0.9591199159622192, 0.9696869850158691, 0.5372860431671143, 0.37399324774742126, 0.08428017050027847, 0.9397200345993042, 0.9651656746864319, 0.8349559307098389, 0.14986388385295868, 0.9805884957313538, 0.9363090395927429, 0.9503408074378967, 0.9469949007034302, 0.3373491168022156, 0.6372150182723999, 0.9813763499259949, 0.9779848456382751, 0.9499387741088867, 0.912422239780426, 0.07934106141328812, 0.97270667552948, 0.7253696322441101, 0.24178989231586456, 0.18418684601783752, 0.2865128815174103, 0.5184518694877625, 0.9472649693489075, 0.9982869625091553, 0.9967105388641357, 0.8844438195228577, 0.11543292552232742, 0.9233664274215698, 0.9392517805099487, 0.4384433627128601, 0.1217898279428482, 0.0608949139714241, 0.3775484561920166, 0.9823156595230103, 0.29963064193725586, 0.6491997241973877, 0.9669667482376099, 0.9428052306175232, 0.9189037084579468, 0.9467555284500122, 0.9508690237998962, 0.973149299621582, 0.9767736792564392, 0.9683092832565308, 0.8167770504951477, 0.1701618880033493, 0.7616825699806213, 0.23802581429481506, 0.9534044861793518, 0.9755962491035461, 0.9760373830795288, 0.3260275721549988, 0.675342857837677, 0.9902621507644653, 0.9449780583381653, 0.9949846863746643, 0.9758918285369873, 0.9891307950019836, 0.9547120332717896, 0.9392039775848389, 0.16815204918384552, 0.7987222075462341, 0.6191247701644897, 0.06210792064666748, 0.13094781339168549, 0.10814595967531204, 0.0013029633555561304, 0.0008686422370374203, 0.008252101019024849, 0.030402477830648422, 0.022150376811623573, 0.008252101019024849, 0.00803494080901146, 0.00043432111851871014, 0.14268068969249725, 0.8357012271881104, 0.2862687110900879, 0.6918160319328308, 0.015903817489743233, 0.9514209628105164, 0.14200849831104279, 0.22721360623836517, 0.6248373985290527, 0.9947928786277771, 0.06832937896251678, 0.9292795658111572, 0.996618926525116, 0.9877405762672424, 0.90711510181427, 0.06479393690824509, 0.948102593421936, 0.9584343433380127, 0.893161416053772, 0.9882015585899353, 0.9471352100372314, 0.29590409994125366, 0.6657842397689819, 0.9638217091560364, 0.9834287762641907, 0.9652900099754333, 0.10445907711982727, 0.8879021406173706, 0.25007110834121704, 0.7252062559127808, 0.12155520915985107, 0.8508864641189575, 0.9307111501693726, 0.9633634090423584, 0.9700157046318054, 0.9702230095863342, 0.73191899061203, 0.26139962673187256, 0.08841363340616226, 0.16700352728366852, 0.1375323086977005, 0.1375323086977005, 0.09823736548423767, 0.1375323086977005, 0.20629847049713135, 0.009823736734688282, 0.9384607672691345, 0.998372495174408, 0.9296650290489197, 0.8901306986808777, 0.9669667482376099, 0.7957004904747009, 0.18504661321640015, 0.9348564147949219, 0.9214367270469666, 0.9723572731018066, 0.9446792006492615, 0.9899800419807434, 0.9555491209030151, 0.05073270946741104, 0.8624560832977295, 0.9500954151153564, 0.270824134349823, 0.6964048743247986, 0.13933879137039185, 0.6850823760032654, 0.1277272254228592, 0.04644626006484032, 0.3440079391002655, 0.2784826159477234, 0.14743196964263916, 0.21295729279518127, 0.9358764886856079, 0.9568960070610046, 0.9476208686828613, 0.06794693320989609, 0.8833101391792297, 0.985748827457428, 0.9653959274291992, 0.9826350212097168, 0.9783640503883362, 0.9821593165397644, 0.9971275329589844, 0.9929518103599548, 0.9736014604568481, 0.999059796333313, 0.9158909916877747, 0.976043701171875, 0.9898731708526611, 0.9134507775306702, 0.05697811767458916, 0.7081566452980042, 0.23605220019817352, 0.9644374251365662, 0.9707565307617188, 0.9598428606987, 0.4484207034111023, 0.05605258792638779, 0.4764470160007477, 0.403454452753067, 0.5850089192390442, 0.9634594321250916, 0.9538800120353699, 0.18019498884677887, 0.7808449268341064, 0.949317991733551, 0.9325387477874756, 0.7131791114807129, 0.2530635595321655, 0.9976531267166138, 0.11507922410964966, 0.8630942106246948, 0.9579008221626282, 0.9836304783821106, 0.5887053608894348, 0.4071662724018097, 0.9270899891853333, 0.9729165434837341, 0.5518500804901123, 0.14440937340259552, 0.29913368821144104, 0.6752259135246277, 0.3038516640663147, 0.38997966051101685, 0.5849695205688477, 0.9848283529281616, 0.9759836196899414, 0.9647864103317261, 0.9898819923400879, 0.9928419589996338, 0.9571828842163086, 0.9499096870422363, 0.2350817620754242, 0.7346305251121521, 0.9571576714515686, 0.22416603565216064, 0.7659006118774414, 0.967369794845581, 0.282707542181015, 0.46608540415763855, 0.12225190550088882, 0.11461116373538971, 0.0076407440938055515, 0.9822231531143188, 0.8784093856811523, 0.1013549268245697, 0.08230845630168915, 0.7819303274154663, 0.10288557410240173, 0.041154228150844574, 0.9996759295463562, 0.976722240447998, 0.6235161423683167, 0.051959678530693054, 0.06613049656152725, 0.25507476925849915, 0.9031412601470947, 0.09031412750482559, 0.8868424296379089, 0.9520512223243713, 0.24263811111450195, 0.7279143333435059, 0.9613349437713623, 0.9209360480308533, 0.8300647735595703, 0.07789464294910431, 0.09006568044424057, 0.9980103373527527, 0.9977282881736755, 0.916343092918396, 0.9676142334938049, 0.9989297389984131, 0.9978397488594055, 0.978251576423645, 0.9553663730621338, 0.9792423844337463, 0.9607123136520386, 0.9780125617980957, 0.9350405931472778, 0.9314678907394409, 0.9491404294967651, 0.001948953722603619, 0.04287698119878769, 0.003897907445207238, 0.8381397724151611, 0.14450685679912567, 0.9428033232688904, 0.9736450910568237, 0.4339609146118164, 0.2268432080745697, 0.0591764897108078, 0.2761569619178772, 0.468459814786911, 0.5205109119415283, 0.997981607913971, 0.9677138328552246, 0.5832852125167847, 0.2551872730255127, 0.07291065156459808, 0.06075887754559517, 0.012151774950325489, 0.9238436818122864, 0.9581336379051208, 0.950063169002533, 0.9569387435913086, 0.9537038207054138, 0.9591867327690125, 0.9701916575431824, 0.9720407128334045, 0.9732844829559326, 0.14799605309963226, 0.83864426612854, 0.9262645244598389, 0.9984598159790039, 0.9669667482376099, 0.9739270210266113, 0.5296434164047241, 0.3129711151123047, 0.168522909283638, 0.9870962500572205, 0.9720763564109802, 0.9721396565437317, 0.9474512934684753, 0.9493064880371094, 0.1872120499610901, 0.7436255216598511, 0.03615683317184448, 0.03294289484620094, 0.13208352029323578, 0.8491082787513733, 0.9001621007919312, 0.0955924391746521, 0.057614728808403015, 0.25926628708839417, 0.13443437218666077, 0.547339916229248, 0.9290367364883423, 0.968658447265625, 0.9462808966636658, 0.9918830394744873, 0.005530946422368288, 0.045088790357112885, 0.9243202209472656, 0.7243526577949524, 0.27110275626182556, 0.9935966730117798, 0.9540672898292542, 0.9441421627998352, 0.9252699017524719, 0.9984917044639587, 0.770238995552063, 0.21566691994667053, 0.2660329341888428, 0.7094211578369141, 0.695418655872345, 0.20714597404003143, 0.07398070394992828, 0.11773992329835892, 0.08675573021173477, 0.5205343961715698, 0.24787352979183197, 0.024787353351712227, 0.9447891116142273, 0.5166400074958801, 0.12717291712760925, 0.3099839985370636, 0.03974153846502304, 0.9660502672195435, 0.9729031920433044, 0.9197190999984741, 0.9658377170562744, 0.9852288365364075, 0.9463937878608704, 0.5824676752090454, 0.19415588676929474, 0.19415588676929474, 0.020085090771317482, 0.9840954542160034, 0.9753307104110718, 0.9413081407546997, 0.953624427318573, 0.04568260908126831, 0.9110390543937683, 0.601506769657135, 0.35382750630378723, 0.04245930165052414, 0.1824258416891098, 0.5306933522224426, 0.23217834532260895, 0.049752503633499146, 0.9341475963592529, 0.9019050598144531, 0.013434533961117268, 0.0841897502541542, 0.9326030611991882, 0.9508644342422485, 0.9555202722549438, 0.9177975654602051, 0.9044932126998901, 0.012884518131613731, 0.07988401502370834, 0.9323492050170898, 0.9436637759208679, 0.9308675527572632, 0.9993370771408081, 0.7181205749511719, 0.15822996199131012, 0.1095438152551651, 0.9739154577255249, 0.980313777923584, 0.6631908416748047, 0.06876671314239502, 0.0448731929063797, 0.09207746386528015, 0.043707653880119324, 0.08683254569768906, 0.962144136428833, 0.9742247462272644, 0.9684013724327087, 0.7572309970855713, 0.23299415409564972, 0.9752758741378784, 0.9910100698471069, 0.9454108476638794, 0.9984715580940247, 0.9856805205345154, 0.08859444409608841, 0.8859444260597229, 0.8638686537742615, 0.09598540514707565, 0.9963657259941101, 0.9509852528572083, 0.9525715112686157, 0.7850168347358704, 0.1962542086839676, 0.9650850892066956, 0.18929769098758698, 0.7571907639503479, 0.9896677732467651, 0.2928478419780731, 0.7028348445892334, 0.8628502488136292, 0.10458791255950928], \"Term\": [\"0\", \"00\", \"02\", \"05\", \"07\", \"1\", \"1\", \"1\", \"1\", \"1\", \"1258118492928249856\", \"13\", \"16\", \"19\", \"2\", \"2\", \"2\", \"2\", \"20\", \"20\", \"20\", \"20\", \"20\", \"2020\", \"2020\", \"2020\", \"2020\", \"2020\", \"22\", \"26ext\", \"26rfuid\", \"3\", \"3\", \"3\", \"3\", \"3\", \"30\", \"30\", \"30\", \"30\", \"30\", \"30\", \"3c3dpck\", \"3dbranch\", \"3dext1\", \"3dsh\", \"3in4\", \"4\", \"4\", \"4\", \"4\", \"4\", \"4\", \"4\", \"5\", \"5\", \"5\", \"5\", \"5\", \"5\", \"50\", \"50\", \"60\", \"8\", \"8\", \"8\", \"8\", \"9\", \"9\", \"90\", \"aag\", \"abus\", \"accept\", \"access\", \"accid\", \"accord\", \"action\", \"ad\", \"ad\", \"ad\", \"advic\", \"afford\", \"again\", \"again\", \"again\", \"against\", \"age\", \"age\", \"aliv\", \"all\", \"almond\", \"along\", \"although\", \"am\", \"amzn\", \"anic\", \"anic\", \"anic\", \"anic\", \"anim\", \"anim\", \"anim\", \"animallov\", \"animalright\", \"announc\", \"anoth\", \"anoth\", \"anoth\", \"anoth\", \"answer\", \"antinat\", \"anybodi\", \"api\", \"app\", \"appar\", \"appli\", \"approv\", \"arbonn\", \"archiv\", \"are\", \"are\", \"are\", \"armchairtravel\", \"art\", \"art\", \"articl\", \"articl\", \"articl\", \"artisan\", \"artist\", \"asap\", \"asparagus\", \"associ\", \"assum\", \"at\", \"at\", \"at\", \"athlet\", \"athlet\", \"attempt\", \"attent\", \"avail\", \"avail\", \"avail\", \"avail\", \"avail\", \"avocado\", \"avocado\", \"avoid\", \"aye\", \"b\", \"b12\", \"babi\", \"babi\", \"bacon\", \"bacon\", \"bag\", \"bag\", \"bag\", \"bag\", \"bake\", \"bake\", \"bakeri\", \"bakeri\", \"ban\", \"banana\", \"base\", \"base\", \"basic\", \"basic\", \"basil\", \"bath\", \"bbq\", \"bbq\", \"bbq\", \"be\", \"be\", \"bean\", \"bean\", \"bean\", \"bean\", \"beauti\", \"beauti\", \"beauti\", \"beauti\", \"beauti\", \"becaus\", \"becaus\", \"becaus\", \"bee\", \"bee\", \"beef\", \"beefin\", \"been\", \"beer\", \"ben\", \"bet\", \"between\", \"biggest\", \"bike\", \"bill\", \"birthday\", \"birthday\", \"biscuit\", \"bit\", \"bit\", \"bit\", \"bit\", \"bit\", \"bite\", \"bite\", \"black\", \"black\", \"black\", \"black\", \"black\", \"black\", \"blame\", \"blog\", \"blog\", \"blue\", \"blueberri\", \"bo\", \"bone\", \"boost\", \"boot\", \"bottl\", \"bottl\", \"bowl\", \"box\", \"box\", \"box\", \"brand\", \"brand\", \"brand\", \"bread\", \"bread\", \"bread\", \"breakfast\", \"breakfast\", \"browni\", \"brunch\", \"bs\", \"btw\", \"buff\", \"build\", \"bun\", \"bunch\", \"bunch\", \"butcher\", \"butter\", \"by\", \"by\", \"by\", \"by\", \"by\", \"by\", \"by\", \"by\", \"by\", \"c\", \"cafe\", \"cake\", \"cake\", \"cake\", \"campaign\", \"campaign\", \"can\", \"can\", \"candl\", \"caninecar\", \"capsul\", \"carrot\", \"cashew\", \"cater\", \"cbd\", \"celebr\", \"celebr\", \"celebr\", \"challeng\", \"changer\", \"chat\", \"chatwithvera\", \"check\", \"check\", \"check\", \"chee\", \"chee\", \"chee\", \"chee\", \"cheesecak\", \"chemic\", \"chick\", \"chick\", \"chickpea\", \"chickpea\", \"chickpea\", \"chili\", \"chili\", \"chilli\", \"chip\", \"chip\", \"chocol\", \"chop\", \"chorizo\", \"christian\", \"cider\", \"cinco\", \"cincodemayo\", \"class\", \"classic\", \"clean\", \"clean\", \"clean\", \"click\", \"climat\", \"cloth\", \"co\", \"co\", \"co\", \"co\", \"co\", \"coconut\", \"coconut\", \"coconut\", \"code\", \"code\", \"coff\", \"cold\", \"collect\", \"color\", \"color\", \"concept\", \"concern\", \"constant\", \"consum\", \"content\", \"convinc\", \"cooki\", \"cooki\", \"corn\", \"corn\", \"countri\", \"countri\", \"coupl\", \"coupl\", \"covid\", \"covid19\", \"cow\", \"cow\", \"cow\", \"crack\", \"crap\", \"crazi\", \"cream\", \"creami\", \"creami\", \"creatur\", \"crisi\", \"crispi\", \"cross\", \"cruel\", \"cruelt\", \"cruelt\", \"cruelt\", \"cruelt\", \"cruelti\", \"cruelti\", \"cruelti\", \"cucumb\", \"cuisin\", \"cult\", \"cup\", \"cup\", \"cup\", \"cupcak\", \"cupcak\", \"curri\", \"curri\", \"curri\", \"curri\", \"cute\", \"cuz\", \"da\", \"dad\", \"dair\", \"dair\", \"dalgona\", \"dalgonacoff\", \"dark\", \"dark\", \"daughter\", \"day\", \"day\", \"day\", \"de\", \"de\", \"death\", \"deep\", \"defend\", \"delici\", \"delici\", \"delici\", \"delici\", \"delici\", \"delici\", \"delici\", \"delight\", \"deliveri\", \"deliveri\", \"depend\", \"depress\", \"design\", \"dessert\", \"dessert\", \"detox\", \"diet\", \"diet\", \"diet\", \"diet\", \"difficult\", \"dinner\", \"dinner\", \"dip\", \"direct\", \"dirti\", \"disea\", \"dish\", \"dish\", \"dlvr\", \"dlvr\", \"do\", \"do\", \"don\", \"donut\", \"door\", \"doubl\", \"dough\", \"draw\", \"dream\", \"dress\", \"dri\", \"drink\", \"drink\", \"drink\", \"drugstor\", \"dude\", \"dude\", \"dye\", \"e\", \"e\", \"e\", \"e\", \"e\", \"each\", \"each\", \"each\", \"eak\", \"earlier\", \"earth\", \"earth\", \"earth\", \"easi\", \"easi\", \"easi\", \"easi\", \"easi\", \"eat\", \"eat\", \"eaten\", \"eaten\", \"eater\", \"ebay\", \"ec\", \"eco\", \"eco\", \"edo\", \"ee\", \"ee\", \"ee\", \"ee\", \"effect\", \"emerg\", \"emot\", \"enchilada\", \"encourag\", \"energi\", \"energi\", \"energi\", \"entir\", \"entir\", \"environ\", \"environ\", \"environ\", \"environ\", \"episod\", \"es\", \"es\", \"es\", \"es\", \"es\", \"esh\", \"esh\", \"esh\", \"etc\", \"etc\", \"etsi\", \"etsi\", \"etsyfu\", \"europ\", \"even\", \"event\", \"everybodi\", \"exampl\", \"exist\", \"expect\", \"experi\", \"experi\", \"explain\", \"eye\", \"face\", \"face\", \"facebook\", \"facebook\", \"factori\", \"fanci\", \"farm\", \"farm\", \"fashion\", \"fashion\", \"fave\", \"favourit\", \"fear\", \"featur\", \"featur\", \"featur\", \"feminist\", \"figur\", \"finna\", \"fire\", \"fish\", \"fish\", \"fish\", \"fit\", \"fit\", \"fit\", \"flat\", \"flavor\", \"flavor\", \"fli\", \"flour\", \"flower\", \"food\", \"food\", \"food\", \"food\", \"food\", \"foodi\", \"forev\", \"four\", \"fudg\", \"fulli\", \"function\", \"futur\", \"futur\", \"g\", \"g\", \"g\", \"g\", \"g\", \"game\", \"garlic\", \"garlic\", \"garlic\", \"german\", \"get\", \"get\", \"get\", \"gf\", \"gg\", \"gift\", \"ginger\", \"gir\", \"giveaway\", \"giveaway\", \"glute\", \"glute\", \"gluten\", \"gnyy\", \"go\", \"go\", \"goe\", \"goe\", \"goin\", \"good\", \"goodearthbeauti\", \"goodi\", \"got\", \"gov\", \"govern\", \"grain\", \"greek\", \"green\", \"green\", \"green\", \"grill\", \"grill\", \"grow\", \"grow\", \"guacamol\", \"gummi\", \"gym\", \"habit\", \"had\", \"hahaha\", \"hand\", \"hand\", \"hand\", \"hand\", \"hand\", \"has\", \"has\", \"have\", \"he\", \"head\", \"health\", \"health\", \"health\", \"health\", \"health\", \"health\", \"health\", \"health\", \"healthi\", \"healthi\", \"healthi\", \"healthi\", \"healthi\", \"heaven\", \"hello\", \"help\", \"help\", \"help\", \"her\", \"herb\", \"herb\", \"herbal\", \"him\", \"him\", \"him\", \"hippi\", \"hit\", \"holocaust\", \"homemad\", \"homemad\", \"homemad\", \"homemad\", \"homemad\", \"hospit\", \"household\", \"how\", \"how\", \"hqhap4jiyt\", \"huge\", \"human\", \"human\", \"hummus\", \"hydrat\", \"i\", \"ice\", \"idiot\", \"idk\", \"idk\", \"iend\", \"iend\", \"iend\", \"iend\", \"iend\", \"iend\", \"iend\", \"ift\", \"ig\", \"ignor\", \"igshid\", \"import\", \"import\", \"imposs\", \"imposs\", \"impress\", \"impress\", \"in\", \"in\", \"in\", \"in\", \"in\", \"in\", \"in\", \"incr\", \"increa\", \"indian\", \"individu\", \"industri\", \"industri\", \"infecti\", \"info\", \"ingredi\", \"ingredi\", \"ingredi\", \"inspir\", \"inspir\", \"inspir\", \"instagr\", \"instagram\", \"insult\", \"intak\", \"involv\", \"io\", \"island\", \"isol\", \"italian\", \"item\", \"itself\", \"jam\", \"japan\", \"jerri\", \"jesus\", \"joe\", \"join\", \"join\", \"joke\", \"joke\", \"journey\", \"joy\", \"jp08\", \"justinpluslauren\", \"kale\", \"kale\", \"karen\", \"kebab\", \"keto\", \"keto\", \"key\", \"key\", \"kill\", \"kill\", \"kill\", \"kimchi\", \"king\", \"kit\", \"kitchen\", \"kitchen\", \"kitchen\", \"kitchen\", \"kitchen\", \"know\", \"kookcao\", \"korean\", \"lab\", \"larg\", \"las\", \"later\", \"launch\", \"launch\", \"lavend\", \"lazi\", \"leather\", \"leather\", \"left\", \"left\", \"leftov\", \"lemon\", \"lemon\", \"lentil\", \"li\", \"lif\", \"lif\", \"like\", \"lime\", \"limit\", \"limit\", \"link\", \"link\", \"link\", \"link\", \"lip\", \"lip\", \"liquid\", \"list\", \"list\", \"list\", \"list\", \"live\", \"live\", \"live\", \"live\", \"live\", \"loaf\", \"logic\", \"look\", \"look\", \"losangel\", \"lower\", \"luck\", \"lucki\", \"ly\", \"ly\", \"ly\", \"ly\", \"ly\", \"ly\", \"mac\", \"made\", \"made\", \"made\", \"made\", \"made\", \"magic\", \"make\", \"make\", \"makeup\", \"manufactur\", \"mapl\", \"market\", \"market\", \"marshmallow\", \"mash\", \"mask\", \"massiv\", \"matter\", \"mayo\", \"meal\", \"meal\", \"meal\", \"meat\", \"meat\", \"meatbal\", \"meatbal\", \"medium\", \"meet\", \"meet\", \"meetedgar\", \"melt\", \"meme\", \"men\", \"men\", \"mend\", \"mental\", \"mention\", \"mention\", \"mg\", \"milk\", \"milk\", \"milk\", \"million\", \"million\", \"mine\", \"mini\", \"minor\", \"mistic\", \"mit\", \"model\", \"moistur\", \"moisturi\", \"more\", \"more\", \"mother\", \"mother\", \"mothersday\", \"mountain\", \"movement\", \"movi\", \"muffin\", \"mushroom\", \"mushroom\", \"mushroom\", \"music\", \"muslim\", \"must\", \"must\", \"must\", \"mv\", \"nail\", \"nail\", \"nam\", \"natur\", \"natur\", \"natur\", \"natur\", \"natur\", \"natur\", \"natur\", \"need\", \"negat\", \"neighbor\", \"net\", \"net\", \"new\", \"new\", \"new\", \"nigga\", \"nih\", \"no\", \"no\", \"no\", \"nobodi\", \"not\", \"note\", \"nut\", \"nut\", \"nut\", \"nutrient\", \"nutrit\", \"nutrit\", \"nutrit\", \"nutrit\", \"nutrit\", \"o\", \"o\", \"o\", \"oat\", \"oat\", \"oatmeal\", \"obvious\", \"obvious\", \"off\", \"off\", \"off\", \"off\", \"offend\", \"offer\", \"offer\", \"offer\", \"offici\", \"often\", \"oil\", \"oil\", \"oil\", \"oil\", \"oil\", \"oliv\", \"oliv\", \"om\", \"om\", \"om\", \"om\", \"om\", \"om\", \"om\", \"om\", \"omega\", \"omega\", \"omg\", \"on\", \"on\", \"one\", \"onion\", \"onlin\", \"onlin\", \"onlin\", \"onlin\", \"open\", \"open\", \"open\", \"open\", \"open\", \"opinion\", \"opportun\", \"order\", \"order\", \"order\", \"oreo\", \"oreo\", \"origin\", \"origin\", \"ot\", \"otherwi\", \"otherwi\", \"our\", \"our\", \"our\", \"our\", \"our\", \"out\", \"out\", \"out\", \"oven\", \"over\", \"over\", \"ow\", \"ow\", \"p\", \"p\", \"pack\", \"pack\", \"pack\", \"pack\", \"paint\", \"paleo\", \"paleo\", \"palm\", \"pan\", \"pancak\", \"pandem\", \"pandem\", \"pani\", \"pani\", \"pani\", \"pantri\", \"pare\", \"pare\", \"park\", \"passion\", \"passion\", \"passion\", \"past\", \"past\", \"pasta\", \"pasta\", \"patient\", \"peac\", \"peac\", \"peach\", \"peanut\", \"peopl\", \"peopl\", \"pepper\", \"pepper\", \"per\", \"perfect\", \"perfect\", \"perfect\", \"perfect\", \"perfect\", \"perfect\", \"perfect\", \"pesto\", \"peta\", \"phone\", \"php\", \"pic\", \"pic\", \"pic\", \"pic\", \"pickl\", \"pickl\", \"piec\", \"pin\", \"pink\", \"pinterest\", \"planet\", \"planet\", \"plant\", \"plantba\", \"plantba\", \"plantba\", \"plantba\", \"plantba\", \"plantba\", \"plantba\", \"plantbasedparti\", \"plastic\", \"plate\", \"plinki\", \"pls\", \"pm\", \"popul\", \"popular\", \"poshmark\", \"poshmarkapp\", \"potato\", \"potato\", \"powder\", \"powder\", \"power\", \"power\", \"power\", \"pre\", \"prep\", \"press\", \"probiot\", \"product\", \"product\", \"product\", \"product\", \"product\", \"profil\", \"profit\", \"progress\", \"project\", \"propaganda\", \"proper\", \"protect\", \"protein\", \"protein\", \"protein\", \"protest\", \"prove\", \"provid\", \"provid\", \"public\", \"pumpkin\", \"pur\", \"pure\", \"queen\", \"queen\", \"quesadilla\", \"queso\", \"quot\", \"r\", \"r\", \"rai\", \"rang\", \"rang\", \"raw\", \"raw\", \"raw\", \"rawpassionuk\", \"re\", \"realli\", \"recip\", \"recip\", \"record\", \"recycl\", \"red\", \"red\", \"red\", \"red\", \"reduc\", \"refer\", \"refer\", \"referr\", \"relat\", \"relax\", \"remind\", \"repost\", \"requir\", \"research\", \"respect\", \"respon\", \"respon\", \"restaur\", \"restaur\", \"result\", \"review\", \"reviveoldpost\", \"rice\", \"rice\", \"risk\", \"rli\", \"roast\", \"rock\", \"roll\", \"room\", \"rrkxtr\", \"rt\", \"rt\", \"s\", \"s\", \"s\", \"s\", \"s\", \"s\", \"s\", \"s\", \"s\", \"s\", \"s\", \"s\", \"safe\", \"safe\", \"salad\", \"salad\", \"salad\", \"saturday\", \"sauc\", \"sauc\", \"sauc\", \"sausag\", \"save\", \"save\", \"say\", \"school\", \"scienc\", \"scienc\", \"scoop\", \"scratch\", \"scrub\", \"season\", \"seat\", \"second\", \"second\", \"secret\", \"seed\", \"seitan\", \"select\", \"select\", \"self\", \"self\", \"send\", \"send\", \"seri\", \"servic\", \"sexi\", \"sh\", \"shape\", \"shape\", \"share\", \"share\", \"share\", \"share\", \"share\", \"share\", \"share\", \"share\", \"shark\", \"she\", \"shirt\", \"shoe\", \"shopmycloset\", \"shortag\", \"shortag\", \"shot\", \"shout\", \"shred\", \"similar\", \"simpl\", \"sit\", \"site\", \"site\", \"situat\", \"size\", \"size\", \"skin\", \"skin\", \"skin\", \"skin\", \"skincar\", \"skincar\", \"skincar\", \"skincar\", \"skinfood\", \"skinni\", \"slaughterh\", \"sleep\", \"sleep\", \"slice\", \"slutti\", \"smell\", \"smoothi\", \"snack\", \"soap\", \"social\", \"soft\", \"some\", \"somebodi\", \"son\", \"soup\", \"sour\", \"sourc\", \"sourc\", \"sourc\", \"southern\", \"spaghetti\", \"sperm\", \"spici\", \"spici\", \"spici\", \"spinach\", \"spinach\", \"spring\", \"sprinkl\", \"sprout\", \"sprout\", \"squar\", \"squash\", \"state\", \"state\", \"status\", \"step\", \"step\", \"stew\", \"stick\", \"still\", \"still\", \"stir\", \"stock\", \"stop\", \"stop\", \"stop\", \"strawberri\", \"strawberri\", \"studi\", \"studi\", \"stuf\", \"style\", \"success\", \"suffer\", \"sugar\", \"suggest\", \"sun\", \"sunday\", \"sunday\", \"supermarket\", \"supplement\", \"supplement\", \"suppli\", \"support\", \"support\", \"support\", \"support\", \"support\", \"surviv\", \"sushi\", \"sushi\", \"sustain\", \"sustain\", \"sustain\", \"sustain\", \"t\", \"ta\", \"taco\", \"taco\", \"taco\", \"taco\", \"takeout\", \"takeout\", \"tattoo\", \"tend\", \"term\", \"term\", \"tf\", \"theecologist\", \"their\", \"their\", \"their\", \"them\", \"there\", \"theyr\", \"thick\", \"thing\", \"think\", \"thousand\", \"thread\", \"three\", \"thrive\", \"throne\", \"thug\", \"tick\", \"time\", \"time\", \"time\", \"time\", \"tinyurl\", \"tinyurl\", \"tire\", \"toast\", \"tofu\", \"tofu\", \"tofu\", \"tofu\", \"tomato\", \"tomato\", \"too\", \"took\", \"top\", \"top\", \"top\", \"top\", \"top\", \"toronto\", \"tortilla\", \"tough\", \"toward\", \"trade\", \"trader\", \"trait\", \"trash\", \"travel\", \"treat\", \"treat\", \"trend\", \"tri\", \"trk\", \"troll\", \"truth\", \"truth\", \"truth\", \"tt\", \"tuesday\", \"turkey\", \"turmer\", \"twist\", \"twitter\", \"twitter\", \"twitter\", \"twitter\", \"type\", \"type\", \"u\", \"u\", \"uk\", \"uk\", \"uk\", \"uk\", \"un\", \"under\", \"unfortun\", \"up\", \"up\", \"ur\", \"ur\", \"utm\", \"utm\", \"v\", \"valid\", \"valu\", \"varieti\", \"ve\", \"vega\", \"vega\", \"vegnew\", \"vegnew\", \"version\", \"version\", \"version\", \"via\", \"via\", \"via\", \"via\", \"via\", \"victim\", \"video\", \"video\", \"video\", \"video\", \"view\", \"vinegar\", \"virtual\", \"virus\", \"vitamin\", \"viva\", \"w\", \"w\", \"w\", \"w\", \"waffl\", \"walnut\", \"war\", \"was\", \"was\", \"wash\", \"watch\", \"watch\", \"watch\", \"water\", \"water\", \"water\", \"water\", \"wave\", \"we\", \"we\", \"we\", \"weightloss\", \"wfpb\", \"wheat\", \"whenev\", \"whi\", \"whi\", \"whi\", \"whilst\", \"whip\", \"wholefood\", \"will\", \"win\", \"win\", \"win\", \"wingfestuk\", \"wit\", \"with\", \"with\", \"with\", \"with\", \"with\", \"with\", \"woman\", \"women\", \"woo\", \"wor\", \"wor\", \"worker\", \"worri\", \"worst\", \"would\", \"wrap\", \"wtf\", \"wtf\", \"ya\", \"ya\", \"year\", \"yeast\", \"yellow\", \"yesterday\", \"yesterday\", \"yo\", \"yoga\", \"yoga\", \"youtu\", \"youtub\", \"youtub\", \"yum\", \"yum\"]}, \"R\": 30, \"lambda.step\": 0.01, \"plot.opts\": {\"xlab\": \"PC1\", \"ylab\": \"PC2\"}, \"topic.order\": [3, 16, 18, 7, 6, 14, 11, 9, 8, 17, 2, 12, 13, 20, 10, 4, 5, 19, 15, 1]};\n",
              "\n",
              "function LDAvis_load_lib(url, callback){\n",
              "  var s = document.createElement('script');\n",
              "  s.src = url;\n",
              "  s.async = true;\n",
              "  s.onreadystatechange = s.onload = callback;\n",
              "  s.onerror = function(){console.warn(\"failed to load library \" + url);};\n",
              "  document.getElementsByTagName(\"head\")[0].appendChild(s);\n",
              "}\n",
              "\n",
              "if(typeof(LDAvis) !== \"undefined\"){\n",
              "   // already loaded: just create the visualization\n",
              "   !function(LDAvis){\n",
              "       new LDAvis(\"#\" + \"ldavis_el1241396267915291123337660042\", ldavis_el1241396267915291123337660042_data);\n",
              "   }(LDAvis);\n",
              "}else if(typeof define === \"function\" && define.amd){\n",
              "   // require.js is available: use it to load d3/LDAvis\n",
              "   require.config({paths: {d3: \"https://cdnjs.cloudflare.com/ajax/libs/d3/3.5.5/d3.min\"}});\n",
              "   require([\"d3\"], function(d3){\n",
              "      window.d3 = d3;\n",
              "      LDAvis_load_lib(\"https://cdn.rawgit.com/bmabey/pyLDAvis/files/ldavis.v1.0.0.js\", function(){\n",
              "        new LDAvis(\"#\" + \"ldavis_el1241396267915291123337660042\", ldavis_el1241396267915291123337660042_data);\n",
              "      });\n",
              "    });\n",
              "}else{\n",
              "    // require.js not available: dynamically load d3 & LDAvis\n",
              "    LDAvis_load_lib(\"https://cdnjs.cloudflare.com/ajax/libs/d3/3.5.5/d3.min.js\", function(){\n",
              "         LDAvis_load_lib(\"https://cdn.rawgit.com/bmabey/pyLDAvis/files/ldavis.v1.0.0.js\", function(){\n",
              "                 new LDAvis(\"#\" + \"ldavis_el1241396267915291123337660042\", ldavis_el1241396267915291123337660042_data);\n",
              "            })\n",
              "         });\n",
              "}\n",
              "</script>"
            ],
            "text/plain": [
              "PreparedData(topic_coordinates=              x         y  topics  cluster       Freq\n",
              "topic                                                \n",
              "2     -0.304179  0.296623       1        1  51.687069\n",
              "15    -0.223756 -0.129354       2        1   5.103079\n",
              "17    -0.128300 -0.044577       3        1   4.143746\n",
              "6     -0.158113 -0.170513       4        1   3.649071\n",
              "5      0.078003  0.196445       5        1   3.460646\n",
              "13    -0.118622 -0.040881       6        1   3.390307\n",
              "10     0.082215  0.192579       7        1   2.783545\n",
              "8      0.032316 -0.003978       8        1   2.407683\n",
              "7      0.015718  0.001158       9        1   2.348744\n",
              "16     0.064520  0.015482      10        1   2.331523\n",
              "1      0.056112 -0.030295      11        1   2.185484\n",
              "11    -0.055165 -0.116434      12        1   2.184935\n",
              "12     0.020659 -0.036264      13        1   2.081486\n",
              "19     0.107694  0.017146      14        1   1.964960\n",
              "9      0.072713 -0.032572      15        1   1.881785\n",
              "3      0.044627  0.035781      16        1   1.839280\n",
              "4      0.055451 -0.069498      17        1   1.733575\n",
              "18     0.121222 -0.032831      18        1   1.687580\n",
              "14     0.131480 -0.017067      19        1   1.665505\n",
              "0      0.105404 -0.030950      20        1   1.470001, topic_info=         Term         Freq        Total Category  logprob  loglift\n",
              "52    twitter  2489.000000  2489.000000  Default  30.0000  30.0000\n",
              "31          s  4604.000000  4604.000000  Default  29.0000  29.0000\n",
              "7           i  7900.000000  7900.000000  Default  28.0000  28.0000\n",
              "48        pic  1883.000000  1883.000000  Default  27.0000  27.0000\n",
              "148        go  1306.000000  1306.000000  Default  26.0000  26.0000\n",
              "...       ...          ...          ...      ...      ...      ...\n",
              "1578  homemad    25.467995    94.190613  Topic20  -4.8156   2.9120\n",
              "385        om    18.826614   810.585327  Topic20  -5.1177   0.4574\n",
              "899   skincar    12.769567    61.045105  Topic20  -5.5060   2.6554\n",
              "199       off    11.340919   192.215332  Topic20  -5.6246   1.3897\n",
              "523         5    10.708985   159.560913  Topic20  -5.6819   1.5186\n",
              "\n",
              "[1013 rows x 6 columns], token_table=      Topic      Freq    Term\n",
              "term                         \n",
              "2089     17  0.966453       0\n",
              "3145     18  0.947095      00\n",
              "1242      2  0.965004      02\n",
              "615       2  0.988763      05\n",
              "3516      9  0.946754      07\n",
              "...     ...       ...     ...\n",
              "281      12  0.989668   youtu\n",
              "557       4  0.292848  youtub\n",
              "557      12  0.702835  youtub\n",
              "1012      3  0.862850     yum\n",
              "1012     20  0.104588     yum\n",
              "\n",
              "[1511 rows x 3 columns], R=30, lambda_step=0.01, plot_opts={'xlab': 'PC1', 'ylab': 'PC2'}, topic_order=[3, 16, 18, 7, 6, 14, 11, 9, 8, 17, 2, 12, 13, 20, 10, 4, 5, 19, 15, 1])"
            ]
          },
          "metadata": {
            "tags": []
          },
          "execution_count": 176
        }
      ]
    }
  ]
}