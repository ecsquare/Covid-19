{
  "nbformat": 4,
  "nbformat_minor": 0,
  "metadata": {
    "colab": {
      "name": "Short-text_based_topics.ipynb",
      "provenance": [],
      "collapsed_sections": [],
      "authorship_tag": "ABX9TyNb2mrsxFeqaUJNs8uMxrpm",
      "include_colab_link": true
    },
    "kernelspec": {
      "name": "python3",
      "display_name": "Python 3"
    }
  },
  "cells": [
    {
      "cell_type": "markdown",
      "metadata": {
        "id": "view-in-github",
        "colab_type": "text"
      },
      "source": [
        "<a href=\"https://colab.research.google.com/github/ecsquare/Covid-19/blob/master/Short_text_based_topics.ipynb\" target=\"_parent\"><img src=\"https://colab.research.google.com/assets/colab-badge.svg\" alt=\"Open In Colab\"/></a>"
      ]
    },
    {
      "cell_type": "markdown",
      "metadata": {
        "id": "TVQUBsPKHD-u",
        "colab_type": "text"
      },
      "source": [
        "Topic modeling for short texts is an increasingly impor-tant task due to the prevalence of short texts on the Web.Compared to normal documents, short texts lack of wordfrequency and context information, causing severe sparsityproblems for conventional topic models\n"
      ]
    },
    {
      "cell_type": "code",
      "metadata": {
        "id": "s4J_HnhOJSPR",
        "colab_type": "code",
        "colab": {
          "base_uri": "https://localhost:8080/",
          "height": 129
        },
        "outputId": "2534cb48-84e0-4d64-fdb7-b6ec7618b564"
      },
      "source": [
        "from google.colab import drive\n",
        "drive.mount('/content/gdrive')"
      ],
      "execution_count": 2,
      "outputs": [
        {
          "output_type": "stream",
          "text": [
            "Go to this URL in a browser: https://accounts.google.com/o/oauth2/auth?client_id=947318989803-6bn6qk8qdgf4n4g3pfee6491hc0brc4i.apps.googleusercontent.com&redirect_uri=urn%3aietf%3awg%3aoauth%3a2.0%3aoob&response_type=code&scope=email%20https%3a%2f%2fwww.googleapis.com%2fauth%2fdocs.test%20https%3a%2f%2fwww.googleapis.com%2fauth%2fdrive%20https%3a%2f%2fwww.googleapis.com%2fauth%2fdrive.photos.readonly%20https%3a%2f%2fwww.googleapis.com%2fauth%2fpeopleapi.readonly\n",
            "\n",
            "Enter your authorization code:\n",
            "··········\n",
            "Mounted at /content/gdrive\n"
          ],
          "name": "stdout"
        }
      ]
    },
    {
      "cell_type": "code",
      "metadata": {
        "id": "OyYaSlp-K5n_",
        "colab_type": "code",
        "colab": {
          "base_uri": "https://localhost:8080/",
          "height": 35
        },
        "outputId": "e749f99f-046f-4eb5-da58-345147214cfa"
      },
      "source": [
        "cd /content/gdrive/My\\ Drive/Colab\\ Notebooks/vegan_tweets_2020-05-/"
      ],
      "execution_count": 3,
      "outputs": [
        {
          "output_type": "stream",
          "text": [
            "/content/gdrive/My Drive/Colab Notebooks/vegan_tweets_2020-05-\n"
          ],
          "name": "stdout"
        }
      ]
    },
    {
      "cell_type": "code",
      "metadata": {
        "id": "m5O7GUXaLEsH",
        "colab_type": "code",
        "colab": {
          "base_uri": "https://localhost:8080/",
          "height": 72
        },
        "outputId": "e0be31b1-f77e-4e4a-cf5b-3ac9c659a65d"
      },
      "source": [
        "ls"
      ],
      "execution_count": 4,
      "outputs": [
        {
          "output_type": "stream",
          "text": [
            " vegan_2020-05-01.json      vegan_2020-05-04.json  'vegan_2020-05-07 2.json'\n",
            "'vegan_2020-05-02 2.json'   vegan_2020-05-05.json\n",
            " vegan_2020-05-03.json      vegan_2020-05-06.json\n"
          ],
          "name": "stdout"
        }
      ]
    },
    {
      "cell_type": "markdown",
      "metadata": {
        "id": "aZoYIlDRUTk-",
        "colab_type": "text"
      },
      "source": [
        "preparing Dataset\n"
      ]
    },
    {
      "cell_type": "code",
      "metadata": {
        "id": "zHOn0sRNSGDO",
        "colab_type": "code",
        "colab": {
          "base_uri": "https://localhost:8080/",
          "height": 363
        },
        "outputId": "347215cb-7e65-4e70-8c00-38b8c0a9a568"
      },
      "source": [
        "import pandas as pd\n",
        "df1 = pd.read_json (r'vegan_2020-05-01.json',lines=True)\n",
        "df2 = pd.read_json(r'vegan_2020-05-02 2.json', lines=True)\n",
        "df3 = pd.read_json(r'vegan_2020-05-03.json', lines=True)\n",
        "df4 = pd.read_json(r'vegan_2020-05-04.json', lines=True)\n",
        "df5 = pd.read_json(r'vegan_2020-05-05.json', lines=True)\n",
        "df6 = pd.read_json(r'vegan_2020-05-06.json', lines=True)\n",
        "df7 = pd.read_json(r'vegan_2020-05-07 2.json', lines=True)\n",
        "\n",
        "frames = [df1, df2, df3,df4,df5,df6,df7]\n",
        "df=pd.concat(frames)\n",
        "df=df[['id','tweet','hashtags']]\n",
        "df.columns\n",
        "df.head(10)"
      ],
      "execution_count": 4,
      "outputs": [
        {
          "output_type": "execute_result",
          "data": {
            "text/html": [
              "<div>\n",
              "<style scoped>\n",
              "    .dataframe tbody tr th:only-of-type {\n",
              "        vertical-align: middle;\n",
              "    }\n",
              "\n",
              "    .dataframe tbody tr th {\n",
              "        vertical-align: top;\n",
              "    }\n",
              "\n",
              "    .dataframe thead th {\n",
              "        text-align: right;\n",
              "    }\n",
              "</style>\n",
              "<table border=\"1\" class=\"dataframe\">\n",
              "  <thead>\n",
              "    <tr style=\"text-align: right;\">\n",
              "      <th></th>\n",
              "      <th>id</th>\n",
              "      <th>tweet</th>\n",
              "      <th>hashtags</th>\n",
              "    </tr>\n",
              "  </thead>\n",
              "  <tbody>\n",
              "    <tr>\n",
              "      <th>0</th>\n",
              "      <td>1256372793752653825</td>\n",
              "      <td>how bout y’all compare shit that actually make...</td>\n",
              "      <td>[]</td>\n",
              "    </tr>\n",
              "    <tr>\n",
              "      <th>1</th>\n",
              "      <td>1256372790497644545</td>\n",
              "      <td>(  http://HappyCow.net  is an excellent search...</td>\n",
              "      <td>[]</td>\n",
              "    </tr>\n",
              "    <tr>\n",
              "      <th>2</th>\n",
              "      <td>1256372760638566401</td>\n",
              "      <td>Whew RT @_underhereye: Brussels Sprouts cooked...</td>\n",
              "      <td>[]</td>\n",
              "    </tr>\n",
              "    <tr>\n",
              "      <th>3</th>\n",
              "      <td>1256372759619350528</td>\n",
              "      <td>vegan labouyi (plantiain porridge). one of my ...</td>\n",
              "      <td>[]</td>\n",
              "    </tr>\n",
              "    <tr>\n",
              "      <th>4</th>\n",
              "      <td>1256372716141232129</td>\n",
              "      <td>Sounds a bit like a veterinarian vegan sort of...</td>\n",
              "      <td>[]</td>\n",
              "    </tr>\n",
              "    <tr>\n",
              "      <th>5</th>\n",
              "      <td>1256372705940705280</td>\n",
              "      <td>no girl has all three: synesthesia, internal m...</td>\n",
              "      <td>[]</td>\n",
              "    </tr>\n",
              "    <tr>\n",
              "      <th>6</th>\n",
              "      <td>1256372679784960006</td>\n",
              "      <td>I definitely need to do my hair in NYC again soon</td>\n",
              "      <td>[]</td>\n",
              "    </tr>\n",
              "    <tr>\n",
              "      <th>7</th>\n",
              "      <td>1256372662210879489</td>\n",
              "      <td>how u goin vegan but still beefin w me again?!...</td>\n",
              "      <td>[#newprofilepic]</td>\n",
              "    </tr>\n",
              "    <tr>\n",
              "      <th>8</th>\n",
              "      <td>1256372646117117952</td>\n",
              "      <td>Happy Friday! I had some @traderjoes herb pizz...</td>\n",
              "      <td>[#vegan]</td>\n",
              "    </tr>\n",
              "    <tr>\n",
              "      <th>9</th>\n",
              "      <td>1256372631130894336</td>\n",
              "      <td>Which do you prefer? Gummies or capsules? ⭐️⭐️...</td>\n",
              "      <td>[#hairtamin, #vegan, #vegeterian, #hairvitamins]</td>\n",
              "    </tr>\n",
              "  </tbody>\n",
              "</table>\n",
              "</div>"
            ],
            "text/plain": [
              "                    id  ...                                          hashtags\n",
              "0  1256372793752653825  ...                                                []\n",
              "1  1256372790497644545  ...                                                []\n",
              "2  1256372760638566401  ...                                                []\n",
              "3  1256372759619350528  ...                                                []\n",
              "4  1256372716141232129  ...                                                []\n",
              "5  1256372705940705280  ...                                                []\n",
              "6  1256372679784960006  ...                                                []\n",
              "7  1256372662210879489  ...                                  [#newprofilepic]\n",
              "8  1256372646117117952  ...                                          [#vegan]\n",
              "9  1256372631130894336  ...  [#hairtamin, #vegan, #vegeterian, #hairvitamins]\n",
              "\n",
              "[10 rows x 3 columns]"
            ]
          },
          "metadata": {
            "tags": []
          },
          "execution_count": 4
        }
      ]
    },
    {
      "cell_type": "markdown",
      "metadata": {
        "id": "xlI98BmDQA0p",
        "colab_type": "text"
      },
      "source": [
        "Data cleaning"
      ]
    },
    {
      "cell_type": "code",
      "metadata": {
        "id": "NQUMJ3WGQAFB",
        "colab_type": "code",
        "colab": {
          "base_uri": "https://localhost:8080/",
          "height": 363
        },
        "outputId": "c53aa004-fd78-4c96-8eb7-66778c860b3d"
      },
      "source": [
        "import string \n",
        "import re\n",
        "\n",
        "def clean_tweets(text):\n",
        "\n",
        "    text  = \"\".join([char for char in text if char not in string.punctuation])\n",
        "    text = re.sub('[0-9]+', '', text)\n",
        "    return text\n",
        "def cleanhashtag(text):\n",
        "    text = clean_tweets(text)\n",
        "    text= \" \".join(text.split('#'))\n",
        "    return text\n",
        "\n",
        "    \n",
        "df['tweet'] = df['tweet'].apply(lambda x: clean_tweets(x))\n",
        "df['hashtags']=  df['hashtags'].apply(lambda x: cleanhashtag(x))\n",
        "df.head(10)"
      ],
      "execution_count": 5,
      "outputs": [
        {
          "output_type": "execute_result",
          "data": {
            "text/html": [
              "<div>\n",
              "<style scoped>\n",
              "    .dataframe tbody tr th:only-of-type {\n",
              "        vertical-align: middle;\n",
              "    }\n",
              "\n",
              "    .dataframe tbody tr th {\n",
              "        vertical-align: top;\n",
              "    }\n",
              "\n",
              "    .dataframe thead th {\n",
              "        text-align: right;\n",
              "    }\n",
              "</style>\n",
              "<table border=\"1\" class=\"dataframe\">\n",
              "  <thead>\n",
              "    <tr style=\"text-align: right;\">\n",
              "      <th></th>\n",
              "      <th>id</th>\n",
              "      <th>tweet</th>\n",
              "      <th>hashtags</th>\n",
              "    </tr>\n",
              "  </thead>\n",
              "  <tbody>\n",
              "    <tr>\n",
              "      <th>0</th>\n",
              "      <td>1256372793752653825</td>\n",
              "      <td>how bout y’all compare shit that actually make...</td>\n",
              "      <td></td>\n",
              "    </tr>\n",
              "    <tr>\n",
              "      <th>1</th>\n",
              "      <td>1256372790497644545</td>\n",
              "      <td>httpHappyCownet  is an excellent search tool...</td>\n",
              "      <td></td>\n",
              "    </tr>\n",
              "    <tr>\n",
              "      <th>2</th>\n",
              "      <td>1256372760638566401</td>\n",
              "      <td>Whew RT underhereye Brussels Sprouts cooked in...</td>\n",
              "      <td></td>\n",
              "    </tr>\n",
              "    <tr>\n",
              "      <th>3</th>\n",
              "      <td>1256372759619350528</td>\n",
              "      <td>vegan labouyi plantiain porridge one of my fav...</td>\n",
              "      <td></td>\n",
              "    </tr>\n",
              "    <tr>\n",
              "      <th>4</th>\n",
              "      <td>1256372716141232129</td>\n",
              "      <td>Sounds a bit like a veterinarian vegan sort of...</td>\n",
              "      <td></td>\n",
              "    </tr>\n",
              "    <tr>\n",
              "      <th>5</th>\n",
              "      <td>1256372705940705280</td>\n",
              "      <td>no girl has all three synesthesia internal mon...</td>\n",
              "      <td></td>\n",
              "    </tr>\n",
              "    <tr>\n",
              "      <th>6</th>\n",
              "      <td>1256372679784960006</td>\n",
              "      <td>I definitely need to do my hair in NYC again soon</td>\n",
              "      <td></td>\n",
              "    </tr>\n",
              "    <tr>\n",
              "      <th>7</th>\n",
              "      <td>1256372662210879489</td>\n",
              "      <td>how u goin vegan but still beefin w me again N...</td>\n",
              "      <td>newprofilepic</td>\n",
              "    </tr>\n",
              "    <tr>\n",
              "      <th>8</th>\n",
              "      <td>1256372646117117952</td>\n",
              "      <td>Happy Friday I had some traderjoes herb pizza ...</td>\n",
              "      <td>vegan</td>\n",
              "    </tr>\n",
              "    <tr>\n",
              "      <th>9</th>\n",
              "      <td>1256372631130894336</td>\n",
              "      <td>Which do you prefer Gummies or capsules ⭐️⭐️ h...</td>\n",
              "      <td>hairtamin vegan vegeterian hairvitamins</td>\n",
              "    </tr>\n",
              "  </tbody>\n",
              "</table>\n",
              "</div>"
            ],
            "text/plain": [
              "                    id  ...                                  hashtags\n",
              "0  1256372793752653825  ...                                          \n",
              "1  1256372790497644545  ...                                          \n",
              "2  1256372760638566401  ...                                          \n",
              "3  1256372759619350528  ...                                          \n",
              "4  1256372716141232129  ...                                          \n",
              "5  1256372705940705280  ...                                          \n",
              "6  1256372679784960006  ...                                          \n",
              "7  1256372662210879489  ...                             newprofilepic\n",
              "8  1256372646117117952  ...                                     vegan\n",
              "9  1256372631130894336  ...   hairtamin vegan vegeterian hairvitamins\n",
              "\n",
              "[10 rows x 3 columns]"
            ]
          },
          "metadata": {
            "tags": []
          },
          "execution_count": 5
        }
      ]
    },
    {
      "cell_type": "code",
      "metadata": {
        "id": "iPg302btkmRz",
        "colab_type": "code",
        "colab": {
          "base_uri": "https://localhost:8080/",
          "height": 363
        },
        "outputId": "c417dc63-b156-405b-c5c8-b70af52f0dab"
      },
      "source": [
        "df[\"Tweet Length\"]= df[\"tweet\"].str.len() \n",
        "df.head(10)"
      ],
      "execution_count": 8,
      "outputs": [
        {
          "output_type": "execute_result",
          "data": {
            "text/html": [
              "<div>\n",
              "<style scoped>\n",
              "    .dataframe tbody tr th:only-of-type {\n",
              "        vertical-align: middle;\n",
              "    }\n",
              "\n",
              "    .dataframe tbody tr th {\n",
              "        vertical-align: top;\n",
              "    }\n",
              "\n",
              "    .dataframe thead th {\n",
              "        text-align: right;\n",
              "    }\n",
              "</style>\n",
              "<table border=\"1\" class=\"dataframe\">\n",
              "  <thead>\n",
              "    <tr style=\"text-align: right;\">\n",
              "      <th></th>\n",
              "      <th>id</th>\n",
              "      <th>tweet</th>\n",
              "      <th>hashtags</th>\n",
              "      <th>Tweet Length</th>\n",
              "    </tr>\n",
              "  </thead>\n",
              "  <tbody>\n",
              "    <tr>\n",
              "      <th>0</th>\n",
              "      <td>1256372793752653825</td>\n",
              "      <td>how bout y’all compare shit that actually make...</td>\n",
              "      <td></td>\n",
              "      <td>121</td>\n",
              "    </tr>\n",
              "    <tr>\n",
              "      <th>1</th>\n",
              "      <td>1256372790497644545</td>\n",
              "      <td>httpHappyCownet  is an excellent search tool...</td>\n",
              "      <td></td>\n",
              "      <td>250</td>\n",
              "    </tr>\n",
              "    <tr>\n",
              "      <th>2</th>\n",
              "      <td>1256372760638566401</td>\n",
              "      <td>Whew RT underhereye Brussels Sprouts cooked in...</td>\n",
              "      <td></td>\n",
              "      <td>110</td>\n",
              "    </tr>\n",
              "    <tr>\n",
              "      <th>3</th>\n",
              "      <td>1256372759619350528</td>\n",
              "      <td>vegan labouyi plantiain porridge one of my fav...</td>\n",
              "      <td></td>\n",
              "      <td>106</td>\n",
              "    </tr>\n",
              "    <tr>\n",
              "      <th>4</th>\n",
              "      <td>1256372716141232129</td>\n",
              "      <td>Sounds a bit like a veterinarian vegan sort of...</td>\n",
              "      <td></td>\n",
              "      <td>52</td>\n",
              "    </tr>\n",
              "    <tr>\n",
              "      <th>5</th>\n",
              "      <td>1256372705940705280</td>\n",
              "      <td>no girl has all three synesthesia internal mon...</td>\n",
              "      <td></td>\n",
              "      <td>58</td>\n",
              "    </tr>\n",
              "    <tr>\n",
              "      <th>6</th>\n",
              "      <td>1256372679784960006</td>\n",
              "      <td>I definitely need to do my hair in NYC again soon</td>\n",
              "      <td></td>\n",
              "      <td>49</td>\n",
              "    </tr>\n",
              "    <tr>\n",
              "      <th>7</th>\n",
              "      <td>1256372662210879489</td>\n",
              "      <td>how u goin vegan but still beefin w me again N...</td>\n",
              "      <td>newprofilepic</td>\n",
              "      <td>79</td>\n",
              "    </tr>\n",
              "    <tr>\n",
              "      <th>8</th>\n",
              "      <td>1256372646117117952</td>\n",
              "      <td>Happy Friday I had some traderjoes herb pizza ...</td>\n",
              "      <td>vegan</td>\n",
              "      <td>286</td>\n",
              "    </tr>\n",
              "    <tr>\n",
              "      <th>9</th>\n",
              "      <td>1256372631130894336</td>\n",
              "      <td>Which do you prefer Gummies or capsules ⭐️⭐️ h...</td>\n",
              "      <td>hairtamin vegan vegeterian hairvitamins</td>\n",
              "      <td>108</td>\n",
              "    </tr>\n",
              "  </tbody>\n",
              "</table>\n",
              "</div>"
            ],
            "text/plain": [
              "                    id  ... Tweet Length\n",
              "0  1256372793752653825  ...          121\n",
              "1  1256372790497644545  ...          250\n",
              "2  1256372760638566401  ...          110\n",
              "3  1256372759619350528  ...          106\n",
              "4  1256372716141232129  ...           52\n",
              "5  1256372705940705280  ...           58\n",
              "6  1256372679784960006  ...           49\n",
              "7  1256372662210879489  ...           79\n",
              "8  1256372646117117952  ...          286\n",
              "9  1256372631130894336  ...          108\n",
              "\n",
              "[10 rows x 4 columns]"
            ]
          },
          "metadata": {
            "tags": []
          },
          "execution_count": 8
        }
      ]
    },
    {
      "cell_type": "code",
      "metadata": {
        "id": "-KHC8utLk19Y",
        "colab_type": "code",
        "colab": {
          "base_uri": "https://localhost:8080/",
          "height": 35
        },
        "outputId": "5697642b-e800-4e87-ec94-905a231c9625"
      },
      "source": [
        "print(\"mean=\", df['Tweet Length'].mean(), \"max=\", df['Tweet Length'].max(), \"min=\",df['Tweet Length'].min())"
      ],
      "execution_count": 9,
      "outputs": [
        {
          "output_type": "stream",
          "text": [
            "mean= 128.78752052545155 max= 477 min= 4\n"
          ],
          "name": "stdout"
        }
      ]
    },
    {
      "cell_type": "code",
      "metadata": {
        "id": "5cEUEY49vBP7",
        "colab_type": "code",
        "colab": {
          "base_uri": "https://localhost:8080/",
          "height": 237
        },
        "outputId": "58378cad-c779-403a-f4d8-a26d8b3ebb45"
      },
      "source": [
        "df.hashtags.value_counts()"
      ],
      "execution_count": 10,
      "outputs": [
        {
          "output_type": "execute_result",
          "data": {
            "text/plain": [
              "                                                                                                                                   10148\n",
              " vegan                                                                                                                               212\n",
              " shopmycloset                                                                                                                         26\n",
              " plantbasedparty                                                                                                                      15\n",
              " recipes food cooking delicious cook recipe                                                                                           13\n",
              "                                                                                                                                   ...  \n",
              " conference authors brendadavis annamariaclement brianclement joelfuhrman foods plantbasednutrition vegan vegetarian wholefoods        1\n",
              " vegan itseasybeingvegan poweredbyplants poweredbytheveg eattherainbow freefromfood                                                    1\n",
              " yoursweetspot sweetrainveganbakeshop bakedgoods bakegoodies                                                                           1\n",
              " livinglaboratory livinglabeats                                                                                                        1\n",
              " thewilltolive dog empathy vegan veganism love                                                                                         1\n",
              "Name: hashtags, Length: 1518, dtype: int64"
            ]
          },
          "metadata": {
            "tags": []
          },
          "execution_count": 10
        }
      ]
    },
    {
      "cell_type": "markdown",
      "metadata": {
        "id": "-CDIoXRCnJcC",
        "colab_type": "text"
      },
      "source": [
        "\n",
        "Vectorization with sklearn.\n",
        "\n"
      ]
    },
    {
      "cell_type": "code",
      "metadata": {
        "id": "Z185X1wW31tH",
        "colab_type": "code",
        "colab": {
          "base_uri": "https://localhost:8080/",
          "height": 127
        },
        "outputId": "337570fe-5690-4393-ad4d-28267b08f537"
      },
      "source": [
        "from sklearn.feature_extraction.text import CountVectorizer\n",
        "from sklearn.feature_extraction.text import TfidfTransformer\n",
        "\n",
        "cvec = CountVectorizer(stop_words='english', min_df=1, max_df=.5, ngram_range=(1,2))\n",
        "cvec"
      ],
      "execution_count": 12,
      "outputs": [
        {
          "output_type": "execute_result",
          "data": {
            "text/plain": [
              "CountVectorizer(analyzer='word', binary=False, decode_error='strict',\n",
              "                dtype=<class 'numpy.int64'>, encoding='utf-8', input='content',\n",
              "                lowercase=True, max_df=0.5, max_features=None, min_df=1,\n",
              "                ngram_range=(1, 2), preprocessor=None, stop_words='english',\n",
              "                strip_accents=None, token_pattern='(?u)\\\\b\\\\w\\\\w+\\\\b',\n",
              "                tokenizer=None, vocabulary=None)"
            ]
          },
          "metadata": {
            "tags": []
          },
          "execution_count": 12
        }
      ]
    },
    {
      "cell_type": "code",
      "metadata": {
        "id": "Ld8vXHSbAX1V",
        "colab_type": "code",
        "colab": {}
      },
      "source": [
        ""
      ],
      "execution_count": 0,
      "outputs": []
    },
    {
      "cell_type": "markdown",
      "metadata": {
        "id": "xi-xf9QhAYf2",
        "colab_type": "text"
      },
      "source": [
        "BTM trial"
      ]
    },
    {
      "cell_type": "code",
      "metadata": {
        "id": "HaV5v15c7iZX",
        "colab_type": "code",
        "colab": {}
      },
      "source": [
        "import json\n",
        "\n",
        "data = [json.loads(line)['tweet'] for line in open('vegan_2020-05-01.json', 'r')]\n",
        "\n"
      ],
      "execution_count": 0,
      "outputs": []
    },
    {
      "cell_type": "code",
      "metadata": {
        "id": "GfRtBfYs8A_W",
        "colab_type": "code",
        "colab": {}
      },
      "source": [
        "data = [clean_tweets(d) for d in data]"
      ],
      "execution_count": 0,
      "outputs": []
    },
    {
      "cell_type": "code",
      "metadata": {
        "id": "1lKzfoTu_uDH",
        "colab_type": "code",
        "colab": {
          "base_uri": "https://localhost:8080/",
          "height": 146
        },
        "outputId": "7743885d-83cc-4f5f-9f47-2e1869a3fd34"
      },
      "source": [
        "from sklearn.feature_extraction.text import CountVectorizer\n",
        "vec = CountVectorizer(stop_words='english')\n",
        "X = vec.fit_transform(data).toarray()"
      ],
      "execution_count": 19,
      "outputs": [
        {
          "output_type": "execute_result",
          "data": {
            "text/plain": [
              "array([[0, 0, 0, ..., 0, 0, 0],\n",
              "       [0, 0, 0, ..., 0, 0, 0],\n",
              "       [0, 0, 0, ..., 0, 0, 0],\n",
              "       ...,\n",
              "       [0, 0, 0, ..., 0, 0, 0],\n",
              "       [0, 0, 0, ..., 0, 0, 0],\n",
              "       [0, 0, 0, ..., 0, 0, 0]])"
            ]
          },
          "metadata": {
            "tags": []
          },
          "execution_count": 19
        }
      ]
    },
    {
      "cell_type": "code",
      "metadata": {
        "id": "VY3rFgfvZmam",
        "colab_type": "code",
        "colab": {
          "base_uri": "https://localhost:8080/",
          "height": 146
        },
        "outputId": "976fa3f4-5e0d-43bc-d83a-dcd5b97bef01"
      },
      "source": [
        "X[:50]"
      ],
      "execution_count": 21,
      "outputs": [
        {
          "output_type": "execute_result",
          "data": {
            "text/plain": [
              "array([[0, 0, 0, ..., 0, 0, 0],\n",
              "       [0, 0, 0, ..., 0, 0, 0],\n",
              "       [0, 0, 0, ..., 0, 0, 0],\n",
              "       ...,\n",
              "       [0, 0, 0, ..., 0, 0, 0],\n",
              "       [0, 0, 0, ..., 0, 0, 0],\n",
              "       [0, 0, 0, ..., 0, 0, 0]])"
            ]
          },
          "metadata": {
            "tags": []
          },
          "execution_count": 21
        }
      ]
    },
    {
      "cell_type": "code",
      "metadata": {
        "id": "jDxMRuwlALa8",
        "colab_type": "code",
        "colab": {}
      },
      "source": [
        "!pip install biterm"
      ],
      "execution_count": 0,
      "outputs": []
    },
    {
      "cell_type": "markdown",
      "metadata": {
        "id": "FIxfViBHaGan",
        "colab_type": "text"
      },
      "source": [
        ""
      ]
    },
    {
      "cell_type": "code",
      "metadata": {
        "id": "wFImXuvwTTbG",
        "colab_type": "code",
        "colab": {}
      },
      "source": [
        "!pip install pyLDAvis"
      ],
      "execution_count": 0,
      "outputs": []
    },
    {
      "cell_type": "code",
      "metadata": {
        "id": "ASDkAA26A8a3",
        "colab_type": "code",
        "colab": {}
      },
      "source": [
        "import numpy as np \n",
        "from biterm.utility import vec_to_biterms\n",
        "\n",
        "vocab = np.array(vec.get_feature_names())\n",
        "biterms = vec_to_biterms(X[:50])"
      ],
      "execution_count": 0,
      "outputs": []
    },
    {
      "cell_type": "code",
      "metadata": {
        "id": "jRzxXu45ZeyM",
        "colab_type": "code",
        "colab": {}
      },
      "source": [
        "biterms"
      ],
      "execution_count": 0,
      "outputs": []
    },
    {
      "cell_type": "code",
      "metadata": {
        "id": "Qo8FTRSEBMeK",
        "colab_type": "code",
        "colab": {}
      },
      "source": [
        "from biterm.btm import oBTM\n",
        "\n",
        "btm = oBTM(num_topics=20, V=vocab)\n",
        "  \n",
        "\n"
      ],
      "execution_count": 0,
      "outputs": []
    },
    {
      "cell_type": "code",
      "metadata": {
        "id": "-rOTtkFseDau",
        "colab_type": "code",
        "colab": {}
      },
      "source": [
        "topics = btm.fit_transform(biterms, iterations=20)"
      ],
      "execution_count": 0,
      "outputs": []
    },
    {
      "cell_type": "code",
      "metadata": {
        "id": "4yIhXq4Acgg5",
        "colab_type": "code",
        "colab": {
          "base_uri": "https://localhost:8080/",
          "height": 72
        },
        "outputId": "4897fb08-165d-4699-953d-f45dd0eadc28"
      },
      "source": [
        "print(\"\\n\\n Visualize Topics ..\")\n",
        "\n",
        "vis = pyLDAvis.prepare(btm.phi_wz.T, topics, np.count_nonzero(X[:50], axis=1), vocab, np.sum(X[:50], axis=0))\n",
        "pyLDAvis.save_html(vis, 'online_btm.html')\n"
      ],
      "execution_count": 104,
      "outputs": [
        {
          "output_type": "stream",
          "text": [
            "\n",
            "\n",
            " Visualize Topics ..\n"
          ],
          "name": "stdout"
        }
      ]
    },
    {
      "cell_type": "code",
      "metadata": {
        "id": "6s0c2Rmxhcx4",
        "colab_type": "code",
        "colab": {
          "base_uri": "https://localhost:8080/",
          "height": 937
        },
        "outputId": "e29f8a2a-bedd-4743-efb6-7f3d50ab40a7"
      },
      "source": [
        "vis"
      ],
      "execution_count": 103,
      "outputs": [
        {
          "output_type": "execute_result",
          "data": {
            "text/plain": [
              "PreparedData(topic_coordinates=              x         y  topics  cluster      Freq\n",
              "topic                                               \n",
              "13    -0.212211 -0.009554       1        1  7.958381\n",
              "19     0.025256  0.088885       2        1  7.770740\n",
              "14    -0.066620  0.092044       3        1  7.627874\n",
              "17    -0.253157 -0.107492       4        1  7.594801\n",
              "5      0.000920  0.071742       5        1  7.441028\n",
              "6      0.056221  0.100796       6        1  6.724945\n",
              "16     0.047726  0.012452       7        1  6.509012\n",
              "1     -0.094369  0.053475       8        1  6.483740\n",
              "11    -0.048639  0.131888       9        1  5.880598\n",
              "18     0.051351  0.010280      10        1  5.775315\n",
              "2     -0.245478 -0.148942      11        1  5.265237\n",
              "9      0.040134 -0.092839      12        1  4.429906\n",
              "7     -0.015471  0.258972      13        1  4.307511\n",
              "4      0.096002  0.016331      14        1  3.887384\n",
              "8      0.095641 -0.000963      15        1  3.705980\n",
              "12     0.027533 -0.078256      16        1  3.694414\n",
              "10     0.044995 -0.103416      17        1  3.335132\n",
              "0      0.116402 -0.102397      18        1  1.037361\n",
              "15     0.158022 -0.089980      19        1  0.427054\n",
              "3      0.175742 -0.103025      20        1  0.143588, topic_info=          Term     Freq     Total Category  logprob  loglift\n",
              "2010      food  4.00000  4.000000  Default  30.0000  30.0000\n",
              "3223      just  5.00000  5.000000  Default  29.0000  29.0000\n",
              "3598      make  4.00000  4.000000  Default  28.0000  28.0000\n",
              "1557       don  3.00000  3.000000  Default  27.0000  27.0000\n",
              "2257      good  6.00000  6.000000  Default  26.0000  26.0000\n",
              "...        ...      ...       ...      ...      ...      ...\n",
              "2238   gnostic  0.00011  0.012275  Topic20  -8.8645   1.8310\n",
              "2217    glazed  0.00011  0.832264  Topic20  -8.8645  -2.3856\n",
              "2214      glad  0.00011  0.012275  Topic20  -8.8645   1.8310\n",
              "2215  gladioli  0.00011  0.012275  Topic20  -8.8645   1.8310\n",
              "2202   gigante  0.00011  0.012275  Topic20  -8.8645   1.8310\n",
              "\n",
              "[844 rows x 6 columns], token_table=      Topic      Freq       Term\n",
              "term                            \n",
              "10        7  1.340554      abort\n",
              "26       17  1.201542  accepting\n",
              "56       14  0.956692     actual\n",
              "57       14  0.696090   actually\n",
              "58        9  0.968819         ad\n",
              "...     ...       ...        ...\n",
              "6619     11  1.053991     yellow\n",
              "6634      3  0.977684    yogurts\n",
              "6639     13  1.072339       youd\n",
              "6644     13  1.072339      youre\n",
              "6669     10  0.909674        zoe\n",
              "\n",
              "[421 rows x 3 columns], R=30, lambda_step=0.01, plot_opts={'xlab': 'PC1', 'ylab': 'PC2'}, topic_order=[14, 20, 15, 18, 6, 7, 17, 2, 12, 19, 3, 10, 8, 5, 9, 13, 11, 1, 16, 4])"
            ]
          },
          "metadata": {
            "tags": []
          },
          "execution_count": 103
        }
      ]
    },
    {
      "cell_type": "code",
      "metadata": {
        "id": "g2s9JFnhSNp-",
        "colab_type": "code",
        "colab": {}
      },
      "source": [
        "! pip install pyLDAvis\n"
      ],
      "execution_count": 0,
      "outputs": []
    },
    {
      "cell_type": "code",
      "metadata": {
        "id": "I21IX6ExSQ2d",
        "colab_type": "code",
        "colab": {}
      },
      "source": [
        ""
      ],
      "execution_count": 0,
      "outputs": []
    }
  ]
}