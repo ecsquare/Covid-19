{
  "nbformat": 4,
  "nbformat_minor": 0,
  "metadata": {
    "colab": {
      "name": "Short-text_based_topics.ipynb",
      "provenance": [],
      "collapsed_sections": [],
      "authorship_tag": "ABX9TyN7uLL9f4rOHrsLJnLjn7yk",
      "include_colab_link": true
    },
    "kernelspec": {
      "name": "python3",
      "display_name": "Python 3"
    }
  },
  "cells": [
    {
      "cell_type": "markdown",
      "metadata": {
        "id": "view-in-github",
        "colab_type": "text"
      },
      "source": [
        "<a href=\"https://colab.research.google.com/github/ecsquare/Covid-19/blob/master/Short_text_based_topics.ipynb\" target=\"_parent\"><img src=\"https://colab.research.google.com/assets/colab-badge.svg\" alt=\"Open In Colab\"/></a>"
      ]
    },
    {
      "cell_type": "markdown",
      "metadata": {
        "id": "TVQUBsPKHD-u",
        "colab_type": "text"
      },
      "source": [
        "Topic modeling for short texts is an increasingly impor-tant task due to the prevalence of short texts on the Web.Compared to normal documents, short texts lack of wordfrequency and context information, causing severe sparsityproblems for conventional topic models\n"
      ]
    },
    {
      "cell_type": "code",
      "metadata": {
        "id": "3LUlfHwiupxB",
        "colab_type": "code",
        "colab": {}
      },
      "source": [
        "!pip install biterm\n",
        "!pip install pyLDAvis"
      ],
      "execution_count": 0,
      "outputs": []
    },
    {
      "cell_type": "code",
      "metadata": {
        "id": "K3gpverDJOeq",
        "colab_type": "code",
        "colab": {}
      },
      "source": [
        "%matplotlib inline\n",
        "import pandas as pd\n",
        "import numpy as np\n",
        "import nltk\n",
        "\n",
        "\n",
        "from string import punctuation\n",
        "import pickle\n",
        "from pprint import pprint\n",
        "import random\n",
        "import warnings\n",
        "import time\n",
        "\n",
        "# numpy, pandas, matplotlib and regular expressions \n",
        "import numpy as np\n",
        "import pandas as pd\n",
        "import matplotlib.pyplot as plt\n",
        "import seaborn as sns\n",
        "import re\n",
        "\n",
        "# tqdm\n",
        "from tqdm import tqdm\n",
        "\n",
        "# spacy\n",
        "import spacy\n",
        "from spacy.lang.en import English\n",
        "import en_core_web_sm\n",
        "\n",
        "# gensim\n",
        "import gensim\n",
        "from gensim import corpora\n",
        "from gensim.models import CoherenceModel\n",
        "\n",
        "# nltk\n",
        "import nltk\n",
        "from nltk.corpus import wordnet as wn\n",
        "from nltk.corpus import words\n",
        "from nltk.stem.wordnet import WordNetLemmatizer\n",
        "from nltk.corpus import stopwords\n",
        "from nltk.stem import SnowballStemmer\n",
        "\n",
        "# pyLDAvis\n",
        "import pyLDAvis\n",
        "import pyLDAvis.gensim\n"
      ],
      "execution_count": 0,
      "outputs": []
    },
    {
      "cell_type": "code",
      "metadata": {
        "id": "s4J_HnhOJSPR",
        "colab_type": "code",
        "colab": {}
      },
      "source": [
        "from google.colab import drive\n",
        "drive.mount('/content/gdrive')"
      ],
      "execution_count": 0,
      "outputs": []
    },
    {
      "cell_type": "code",
      "metadata": {
        "id": "OyYaSlp-K5n_",
        "colab_type": "code",
        "outputId": "22ec6427-fe80-426c-abad-24f75cdc17e0",
        "colab": {
          "base_uri": "https://localhost:8080/",
          "height": 35
        }
      },
      "source": [
        "cd /content/gdrive/My\\ Drive/Colab\\ Notebooks/vegan_tweets_2020-05-/"
      ],
      "execution_count": 0,
      "outputs": [
        {
          "output_type": "stream",
          "text": [
            "/content/gdrive/My Drive/Colab Notebooks/vegan_tweets_2020-05-\n"
          ],
          "name": "stdout"
        }
      ]
    },
    {
      "cell_type": "code",
      "metadata": {
        "id": "m5O7GUXaLEsH",
        "colab_type": "code",
        "outputId": "b8a96770-102c-40b0-88b3-f0f4f3cf0b3e",
        "colab": {
          "base_uri": "https://localhost:8080/",
          "height": 72
        }
      },
      "source": [
        "ls"
      ],
      "execution_count": 0,
      "outputs": [
        {
          "output_type": "stream",
          "text": [
            " TweetCorpus.txt            vegan_2020-05-03.json   vegan_2020-05-06.json\n",
            " vegan_2020-05-01.json      vegan_2020-05-04.json  'vegan_2020-05-07 2.json'\n",
            "'vegan_2020-05-02 2.json'   vegan_2020-05-05.json\n"
          ],
          "name": "stdout"
        }
      ]
    },
    {
      "cell_type": "markdown",
      "metadata": {
        "id": "aZoYIlDRUTk-",
        "colab_type": "text"
      },
      "source": [
        "preparing Dataset\n"
      ]
    },
    {
      "cell_type": "code",
      "metadata": {
        "id": "zHOn0sRNSGDO",
        "colab_type": "code",
        "outputId": "c3b6c30f-b032-4db0-bebc-93d681885336",
        "colab": {
          "base_uri": "https://localhost:8080/",
          "height": 363
        }
      },
      "source": [
        "import pandas as pd\n",
        "df1 = pd.read_json (r'vegan_2020-05-01.json',lines=True)\n",
        "df2 = pd.read_json(r'vegan_2020-05-02 2.json', lines=True)\n",
        "df3 = pd.read_json(r'vegan_2020-05-03.json', lines=True)\n",
        "df4 = pd.read_json(r'vegan_2020-05-04.json', lines=True)\n",
        "df5 = pd.read_json(r'vegan_2020-05-05.json', lines=True)\n",
        "df6 = pd.read_json(r'vegan_2020-05-06.json', lines=True)\n",
        "df7 = pd.read_json(r'vegan_2020-05-07 2.json', lines=True)\n",
        "\n",
        "frames = [df1, df2, df3,df4,df5,df6,df7]\n",
        "df=pd.concat(frames)\n",
        "df=df[['id','tweet','hashtags']]\n",
        "df.columns\n",
        "df.head(10)"
      ],
      "execution_count": 15,
      "outputs": [
        {
          "output_type": "execute_result",
          "data": {
            "text/html": [
              "<div>\n",
              "<style scoped>\n",
              "    .dataframe tbody tr th:only-of-type {\n",
              "        vertical-align: middle;\n",
              "    }\n",
              "\n",
              "    .dataframe tbody tr th {\n",
              "        vertical-align: top;\n",
              "    }\n",
              "\n",
              "    .dataframe thead th {\n",
              "        text-align: right;\n",
              "    }\n",
              "</style>\n",
              "<table border=\"1\" class=\"dataframe\">\n",
              "  <thead>\n",
              "    <tr style=\"text-align: right;\">\n",
              "      <th></th>\n",
              "      <th>id</th>\n",
              "      <th>tweet</th>\n",
              "      <th>hashtags</th>\n",
              "    </tr>\n",
              "  </thead>\n",
              "  <tbody>\n",
              "    <tr>\n",
              "      <th>0</th>\n",
              "      <td>1256372793752653825</td>\n",
              "      <td>how bout y’all compare shit that actually make...</td>\n",
              "      <td>[]</td>\n",
              "    </tr>\n",
              "    <tr>\n",
              "      <th>1</th>\n",
              "      <td>1256372790497644545</td>\n",
              "      <td>(  http://HappyCow.net  is an excellent search...</td>\n",
              "      <td>[]</td>\n",
              "    </tr>\n",
              "    <tr>\n",
              "      <th>2</th>\n",
              "      <td>1256372760638566401</td>\n",
              "      <td>Whew RT @_underhereye: Brussels Sprouts cooked...</td>\n",
              "      <td>[]</td>\n",
              "    </tr>\n",
              "    <tr>\n",
              "      <th>3</th>\n",
              "      <td>1256372759619350528</td>\n",
              "      <td>vegan labouyi (plantiain porridge). one of my ...</td>\n",
              "      <td>[]</td>\n",
              "    </tr>\n",
              "    <tr>\n",
              "      <th>4</th>\n",
              "      <td>1256372716141232129</td>\n",
              "      <td>Sounds a bit like a veterinarian vegan sort of...</td>\n",
              "      <td>[]</td>\n",
              "    </tr>\n",
              "    <tr>\n",
              "      <th>5</th>\n",
              "      <td>1256372705940705280</td>\n",
              "      <td>no girl has all three: synesthesia, internal m...</td>\n",
              "      <td>[]</td>\n",
              "    </tr>\n",
              "    <tr>\n",
              "      <th>6</th>\n",
              "      <td>1256372679784960006</td>\n",
              "      <td>I definitely need to do my hair in NYC again soon</td>\n",
              "      <td>[]</td>\n",
              "    </tr>\n",
              "    <tr>\n",
              "      <th>7</th>\n",
              "      <td>1256372662210879489</td>\n",
              "      <td>how u goin vegan but still beefin w me again?!...</td>\n",
              "      <td>[#newprofilepic]</td>\n",
              "    </tr>\n",
              "    <tr>\n",
              "      <th>8</th>\n",
              "      <td>1256372646117117952</td>\n",
              "      <td>Happy Friday! I had some @traderjoes herb pizz...</td>\n",
              "      <td>[#vegan]</td>\n",
              "    </tr>\n",
              "    <tr>\n",
              "      <th>9</th>\n",
              "      <td>1256372631130894336</td>\n",
              "      <td>Which do you prefer? Gummies or capsules? ⭐️⭐️...</td>\n",
              "      <td>[#hairtamin, #vegan, #vegeterian, #hairvitamins]</td>\n",
              "    </tr>\n",
              "  </tbody>\n",
              "</table>\n",
              "</div>"
            ],
            "text/plain": [
              "                    id  ...                                          hashtags\n",
              "0  1256372793752653825  ...                                                []\n",
              "1  1256372790497644545  ...                                                []\n",
              "2  1256372760638566401  ...                                                []\n",
              "3  1256372759619350528  ...                                                []\n",
              "4  1256372716141232129  ...                                                []\n",
              "5  1256372705940705280  ...                                                []\n",
              "6  1256372679784960006  ...                                                []\n",
              "7  1256372662210879489  ...                                  [#newprofilepic]\n",
              "8  1256372646117117952  ...                                          [#vegan]\n",
              "9  1256372631130894336  ...  [#hairtamin, #vegan, #vegeterian, #hairvitamins]\n",
              "\n",
              "[10 rows x 3 columns]"
            ]
          },
          "metadata": {
            "tags": []
          },
          "execution_count": 15
        }
      ]
    },
    {
      "cell_type": "markdown",
      "metadata": {
        "id": "xlI98BmDQA0p",
        "colab_type": "text"
      },
      "source": [
        "Data cleaning"
      ]
    },
    {
      "cell_type": "code",
      "metadata": {
        "id": "M3N-SIXQqfDX",
        "colab_type": "code",
        "colab": {}
      },
      "source": [
        "stop_words = ['twitter','the','a','an','and','but','if','or','because','as','what','which','this','that','these','those','then',\n",
        "              'just','so','than','such','both','through','about','for','is','of','while','during','to','What','Which',\n",
        "              'Is','If','While','This','me','my','it','you','your','they','i','u','www','vegan','are','in', 'no','up','s','ve','t','re','i',\"was\",'were','more','Twitter' ]"
      ],
      "execution_count": 0,
      "outputs": []
    },
    {
      "cell_type": "code",
      "metadata": {
        "id": "NIqaA9a7olcQ",
        "colab_type": "code",
        "colab": {}
      },
      "source": [
        "def clean_data(text, remove_stop_words=True, stem_words=True):\n",
        "    # Clean the text, with the option to remove stop_words and to stem words.\n",
        "   \n",
        "    text = re.sub(r\"[^A-Za-z0-9]\", \" \", text)\n",
        "    text = re.sub(r\"what's\", \"\", text)\n",
        "    text = re.sub(r\"What's\", \"\", text)\n",
        "    text = re.sub(r\"\\'s\", \" \", text)\n",
        "    text = re.sub(r\"\\'ve\", \" have \", text)\n",
        "    text = re.sub(r\"can't\", \"cannot \", text)\n",
        "    text = re.sub(r\"n't\", \" not \", text)\n",
        "    text = re.sub(r\"I'm\", \"I am\", text)\n",
        "    text = re.sub(r\" m \", \" am \", text)\n",
        "    text = re.sub(r\"\\'re\", \" are \", text)\n",
        "    text = re.sub(r\"\\'d\", \" would \", text)\n",
        "    text = re.sub(r\"\\'ll\", \" will \", text)\n",
        "    text = re.sub(r\"http\", \" \", text)\n",
        "    text = re.sub(r\"https\", \" \", text)\n",
        "    text = re.sub(r\"www\", \" \", text)\n",
        "\n",
        "    text = re.sub(r\".com\", \" \", text)\n",
        "    text = re.sub(r\".fr\", \" \", text)\n",
        "    text = re.sub(r\".org\", \" \", text)\n",
        "    text = re.sub(r\"img\", \" \", text)\n",
        "\n",
        "\n",
        "    #remove vegan \n",
        "    text = re.sub(r\"vegan\", \" \", text)\n",
        "    \n",
        "    # Remove punctuation from text\n",
        "    text = ''.join([c for c in text if c not in string.punctuation])\n",
        "    \n",
        "    # Optionally, remove stop words\n",
        "    if remove_stop_words:\n",
        "        text = text.split()\n",
        "        text = [w for w in text if not w in stop_words]\n",
        "        text = \" \".join(text)\n",
        "    \n",
        "    # Optionally, shorten words to their stems\n",
        "    if stem_words:\n",
        "        text = text.split()\n",
        "        stemmer = SnowballStemmer('english')\n",
        "        stemmed_words = [stemmer.stem(word) for word in text]\n",
        "        text = \" \".join(stemmed_words)\n",
        "    \n",
        "  \n",
        "    return(text)\n",
        "\n"
      ],
      "execution_count": 0,
      "outputs": []
    },
    {
      "cell_type": "code",
      "metadata": {
        "id": "NQUMJ3WGQAFB",
        "colab_type": "code",
        "outputId": "d967cfb0-38ac-4102-b25b-a0317c73ed5e",
        "colab": {
          "base_uri": "https://localhost:8080/",
          "height": 363
        }
      },
      "source": [
        "df['tweet'] = df['tweet'].apply(lambda x: clean_data(x))\n",
        "df['hashtags']=  df['hashtags'].apply(str)\n",
        "df['hashtags']=  df['hashtags'].apply(lambda x: clean_data(x))\n",
        "df.head(10)"
      ],
      "execution_count": 19,
      "outputs": [
        {
          "output_type": "execute_result",
          "data": {
            "text/html": [
              "<div>\n",
              "<style scoped>\n",
              "    .dataframe tbody tr th:only-of-type {\n",
              "        vertical-align: middle;\n",
              "    }\n",
              "\n",
              "    .dataframe tbody tr th {\n",
              "        vertical-align: top;\n",
              "    }\n",
              "\n",
              "    .dataframe thead th {\n",
              "        text-align: right;\n",
              "    }\n",
              "</style>\n",
              "<table border=\"1\" class=\"dataframe\">\n",
              "  <thead>\n",
              "    <tr style=\"text-align: right;\">\n",
              "      <th></th>\n",
              "      <th>id</th>\n",
              "      <th>tweet</th>\n",
              "      <th>hashtags</th>\n",
              "    </tr>\n",
              "  </thead>\n",
              "  <tbody>\n",
              "    <tr>\n",
              "      <th>0</th>\n",
              "      <td>1256372793752653825</td>\n",
              "      <td>how bout y all pare shit actual make sens like...</td>\n",
              "      <td></td>\n",
              "    </tr>\n",
              "    <tr>\n",
              "      <th>1</th>\n",
              "      <td>1256372790497644545</td>\n",
              "      <td>happycow net excel search tool vegetarian veg ...</td>\n",
              "      <td></td>\n",
              "    </tr>\n",
              "    <tr>\n",
              "      <th>2</th>\n",
              "      <td>1256372760638566401</td>\n",
              "      <td>whew rt underherey brussel sprout cook vegan b...</td>\n",
              "      <td></td>\n",
              "    </tr>\n",
              "    <tr>\n",
              "      <th>3</th>\n",
              "      <td>1256372759619350528</td>\n",
              "      <td>labouyi plantiain porridg one favorit meal gro...</td>\n",
              "      <td></td>\n",
              "    </tr>\n",
              "    <tr>\n",
              "      <th>4</th>\n",
              "      <td>1256372716141232129</td>\n",
              "      <td>sound bit like veterinarian sort thing</td>\n",
              "      <td></td>\n",
              "    </tr>\n",
              "    <tr>\n",
              "      <th>5</th>\n",
              "      <td>1256372705940705280</td>\n",
              "      <td>girl has all three synesthesia intern monologu</td>\n",
              "      <td></td>\n",
              "    </tr>\n",
              "    <tr>\n",
              "      <th>6</th>\n",
              "      <td>1256372679784960006</td>\n",
              "      <td>i definit need do hair nyc again soon</td>\n",
              "      <td></td>\n",
              "    </tr>\n",
              "    <tr>\n",
              "      <th>7</th>\n",
              "      <td>1256372662210879489</td>\n",
              "      <td>how goin still beefin w again newprofilep pic ...</td>\n",
              "      <td>newprofilep</td>\n",
              "    </tr>\n",
              "    <tr>\n",
              "      <th>8</th>\n",
              "      <td>1256372646117117952</td>\n",
              "      <td>happi friday i had some traderjo herb pizza do...</td>\n",
              "      <td></td>\n",
              "    </tr>\n",
              "    <tr>\n",
              "      <th>9</th>\n",
              "      <td>1256372631130894336</td>\n",
              "      <td>do prefer gummi capsul hairtamin vegeterian ha...</td>\n",
              "      <td>hairtamin vegeterian hairvitamin</td>\n",
              "    </tr>\n",
              "  </tbody>\n",
              "</table>\n",
              "</div>"
            ],
            "text/plain": [
              "                    id  ...                          hashtags\n",
              "0  1256372793752653825  ...                                  \n",
              "1  1256372790497644545  ...                                  \n",
              "2  1256372760638566401  ...                                  \n",
              "3  1256372759619350528  ...                                  \n",
              "4  1256372716141232129  ...                                  \n",
              "5  1256372705940705280  ...                                  \n",
              "6  1256372679784960006  ...                                  \n",
              "7  1256372662210879489  ...                       newprofilep\n",
              "8  1256372646117117952  ...                                  \n",
              "9  1256372631130894336  ...  hairtamin vegeterian hairvitamin\n",
              "\n",
              "[10 rows x 3 columns]"
            ]
          },
          "metadata": {
            "tags": []
          },
          "execution_count": 19
        }
      ]
    },
    {
      "cell_type": "code",
      "metadata": {
        "id": "iPg302btkmRz",
        "colab_type": "code",
        "outputId": "92cd3a48-fb2e-4227-f1c0-16581d815967",
        "colab": {
          "base_uri": "https://localhost:8080/",
          "height": 363
        }
      },
      "source": [
        "df[\"Tweet Length\"]= df[\"tweet\"].str.len() \n",
        "df.head(10)"
      ],
      "execution_count": 20,
      "outputs": [
        {
          "output_type": "execute_result",
          "data": {
            "text/html": [
              "<div>\n",
              "<style scoped>\n",
              "    .dataframe tbody tr th:only-of-type {\n",
              "        vertical-align: middle;\n",
              "    }\n",
              "\n",
              "    .dataframe tbody tr th {\n",
              "        vertical-align: top;\n",
              "    }\n",
              "\n",
              "    .dataframe thead th {\n",
              "        text-align: right;\n",
              "    }\n",
              "</style>\n",
              "<table border=\"1\" class=\"dataframe\">\n",
              "  <thead>\n",
              "    <tr style=\"text-align: right;\">\n",
              "      <th></th>\n",
              "      <th>id</th>\n",
              "      <th>tweet</th>\n",
              "      <th>hashtags</th>\n",
              "      <th>Tweet Length</th>\n",
              "    </tr>\n",
              "  </thead>\n",
              "  <tbody>\n",
              "    <tr>\n",
              "      <th>0</th>\n",
              "      <td>1256372793752653825</td>\n",
              "      <td>how bout y all pare shit actual make sens like...</td>\n",
              "      <td></td>\n",
              "      <td>86</td>\n",
              "    </tr>\n",
              "    <tr>\n",
              "      <th>1</th>\n",
              "      <td>1256372790497644545</td>\n",
              "      <td>happycow net excel search tool vegetarian veg ...</td>\n",
              "      <td></td>\n",
              "      <td>168</td>\n",
              "    </tr>\n",
              "    <tr>\n",
              "      <th>2</th>\n",
              "      <td>1256372760638566401</td>\n",
              "      <td>whew rt underherey brussel sprout cook vegan b...</td>\n",
              "      <td></td>\n",
              "      <td>87</td>\n",
              "    </tr>\n",
              "    <tr>\n",
              "      <th>3</th>\n",
              "      <td>1256372759619350528</td>\n",
              "      <td>labouyi plantiain porridg one favorit meal gro...</td>\n",
              "      <td></td>\n",
              "      <td>77</td>\n",
              "    </tr>\n",
              "    <tr>\n",
              "      <th>4</th>\n",
              "      <td>1256372716141232129</td>\n",
              "      <td>sound bit like veterinarian sort thing</td>\n",
              "      <td></td>\n",
              "      <td>38</td>\n",
              "    </tr>\n",
              "    <tr>\n",
              "      <th>5</th>\n",
              "      <td>1256372705940705280</td>\n",
              "      <td>girl has all three synesthesia intern monologu</td>\n",
              "      <td></td>\n",
              "      <td>46</td>\n",
              "    </tr>\n",
              "    <tr>\n",
              "      <th>6</th>\n",
              "      <td>1256372679784960006</td>\n",
              "      <td>i definit need do hair nyc again soon</td>\n",
              "      <td></td>\n",
              "      <td>37</td>\n",
              "    </tr>\n",
              "    <tr>\n",
              "      <th>7</th>\n",
              "      <td>1256372662210879489</td>\n",
              "      <td>how goin still beefin w again newprofilep pic ...</td>\n",
              "      <td>newprofilep</td>\n",
              "      <td>56</td>\n",
              "    </tr>\n",
              "    <tr>\n",
              "      <th>8</th>\n",
              "      <td>1256372646117117952</td>\n",
              "      <td>happi friday i had some traderjo herb pizza do...</td>\n",
              "      <td></td>\n",
              "      <td>230</td>\n",
              "    </tr>\n",
              "    <tr>\n",
              "      <th>9</th>\n",
              "      <td>1256372631130894336</td>\n",
              "      <td>do prefer gummi capsul hairtamin vegeterian ha...</td>\n",
              "      <td>hairtamin vegeterian hairvitamin</td>\n",
              "      <td>70</td>\n",
              "    </tr>\n",
              "  </tbody>\n",
              "</table>\n",
              "</div>"
            ],
            "text/plain": [
              "                    id  ... Tweet Length\n",
              "0  1256372793752653825  ...           86\n",
              "1  1256372790497644545  ...          168\n",
              "2  1256372760638566401  ...           87\n",
              "3  1256372759619350528  ...           77\n",
              "4  1256372716141232129  ...           38\n",
              "5  1256372705940705280  ...           46\n",
              "6  1256372679784960006  ...           37\n",
              "7  1256372662210879489  ...           56\n",
              "8  1256372646117117952  ...          230\n",
              "9  1256372631130894336  ...           70\n",
              "\n",
              "[10 rows x 4 columns]"
            ]
          },
          "metadata": {
            "tags": []
          },
          "execution_count": 20
        }
      ]
    },
    {
      "cell_type": "code",
      "metadata": {
        "id": "N4thADMG2QHb",
        "colab_type": "code",
        "colab": {}
      },
      "source": [
        "df = df[df['Tweet Length'] >10]"
      ],
      "execution_count": 0,
      "outputs": []
    },
    {
      "cell_type": "code",
      "metadata": {
        "id": "aeTC46WFuU8e",
        "colab_type": "code",
        "colab": {}
      },
      "source": [
        "import matplotlib.pyplot as plt\n",
        "\n",
        "df['Tweet Length'].plot(kind='bar');"
      ],
      "execution_count": 0,
      "outputs": []
    },
    {
      "cell_type": "code",
      "metadata": {
        "id": "-KHC8utLk19Y",
        "colab_type": "code",
        "outputId": "cda3d8ac-edeb-4bd3-ebb5-c08412f13ceb",
        "colab": {
          "base_uri": "https://localhost:8080/",
          "height": 35
        }
      },
      "source": [
        "print(\"mean=\", df['Tweet Length'].mean(), \"max=\", df['Tweet Length'].max(), \"min=\",df['Tweet Length'].min())"
      ],
      "execution_count": 46,
      "outputs": [
        {
          "output_type": "stream",
          "text": [
            "mean= 98.13692187091716 max= 451 min= 16\n"
          ],
          "name": "stdout"
        }
      ]
    },
    {
      "cell_type": "code",
      "metadata": {
        "id": "5cEUEY49vBP7",
        "colab_type": "code",
        "colab": {}
      },
      "source": [
        "df.hashtags.value_counts()\n"
      ],
      "execution_count": 0,
      "outputs": []
    },
    {
      "cell_type": "code",
      "metadata": {
        "id": "QqIaCownsQqi",
        "colab_type": "code",
        "outputId": "df917dfa-c3fd-40bf-902d-c015b908081a",
        "colab": {
          "base_uri": "https://localhost:8080/",
          "height": 35
        }
      },
      "source": [
        "cd /content/gdrive/My\\ Drive/Colab\\ Notebooks/Topic_modeling"
      ],
      "execution_count": 23,
      "outputs": [
        {
          "output_type": "stream",
          "text": [
            "/content/gdrive/My Drive/Colab Notebooks/Topic_modeling\n"
          ],
          "name": "stdout"
        }
      ]
    },
    {
      "cell_type": "markdown",
      "metadata": {
        "id": "xi-xf9QhAYf2",
        "colab_type": "text"
      },
      "source": [
        "**BiTerM** "
      ]
    },
    {
      "cell_type": "code",
      "metadata": {
        "id": "HaV5v15c7iZX",
        "colab_type": "code",
        "outputId": "9c0c64ff-45eb-45f7-c85f-7e9f64c3bc3e",
        "colab": {
          "base_uri": "https://localhost:8080/",
          "height": 35
        }
      },
      "source": [
        "data = df['tweet'].values.tolist()\n",
        "len(data)"
      ],
      "execution_count": 47,
      "outputs": [
        {
          "output_type": "execute_result",
          "data": {
            "text/plain": [
              "11481"
            ]
          },
          "metadata": {
            "tags": []
          },
          "execution_count": 47
        }
      ]
    },
    {
      "cell_type": "code",
      "metadata": {
        "id": "GfRtBfYs8A_W",
        "colab_type": "code",
        "colab": {}
      },
      "source": [
        "with open('TweetCorpus.txt', 'w') as f:\n",
        "    for i in data:\n",
        "        f.write(\"%s\\n\" % i)"
      ],
      "execution_count": 0,
      "outputs": []
    },
    {
      "cell_type": "code",
      "metadata": {
        "id": "1lKzfoTu_uDH",
        "colab_type": "code",
        "colab": {}
      },
      "source": [
        "from sklearn.feature_extraction.text import CountVectorizer\n",
        "vec = CountVectorizer(stop_words='english')\n",
        "X = vec.fit_transform(data).toarray()"
      ],
      "execution_count": 0,
      "outputs": []
    },
    {
      "cell_type": "code",
      "metadata": {
        "id": "ASDkAA26A8a3",
        "colab_type": "code",
        "colab": {}
      },
      "source": [
        "import numpy as np \n",
        "from biterm.utility import vec_to_biterms\n",
        "\n",
        "vocab = np.array(vec.get_feature_names())\n",
        "biterms = vec_to_biterms(X[:50])"
      ],
      "execution_count": 0,
      "outputs": []
    },
    {
      "cell_type": "code",
      "metadata": {
        "id": "jRzxXu45ZeyM",
        "colab_type": "code",
        "colab": {}
      },
      "source": [
        "biterms"
      ],
      "execution_count": 0,
      "outputs": []
    },
    {
      "cell_type": "code",
      "metadata": {
        "id": "Qo8FTRSEBMeK",
        "colab_type": "code",
        "colab": {}
      },
      "source": [
        "from biterm.btm import oBTM\n",
        "\n",
        "btm = oBTM(num_topics=20, V=vocab)"
      ],
      "execution_count": 0,
      "outputs": []
    },
    {
      "cell_type": "code",
      "metadata": {
        "id": "-rOTtkFseDau",
        "colab_type": "code",
        "colab": {}
      },
      "source": [
        "topics = btm.fit_transform(biterms, iterations=20)"
      ],
      "execution_count": 0,
      "outputs": []
    },
    {
      "cell_type": "code",
      "metadata": {
        "id": "XO-cHqVXERip",
        "colab_type": "code",
        "colab": {}
      },
      "source": [
        "topics"
      ],
      "execution_count": 0,
      "outputs": []
    },
    {
      "cell_type": "code",
      "metadata": {
        "id": "giKtqKIpKNrR",
        "colab_type": "code",
        "colab": {}
      },
      "source": [
        "# Enabling pyLDAvis\n",
        "pyLDAvis.enable_notebook()"
      ],
      "execution_count": 0,
      "outputs": []
    },
    {
      "cell_type": "code",
      "metadata": {
        "id": "4yIhXq4Acgg5",
        "colab_type": "code",
        "outputId": "387bfcb2-a30b-4f94-b7e9-81ea2bfc1380",
        "colab": {
          "base_uri": "https://localhost:8080/",
          "height": 916
        }
      },
      "source": [
        "import pyLDAvis\n",
        "print(\"\\n\\n Visualize Topics ..\")\n",
        "\n",
        "vis = pyLDAvis.prepare(btm.phi_wz.T, topics, np.count_nonzero(X[:50], axis=1), vocab, np.sum(X[:50], axis=0))\n",
        "pyLDAvis.save_html(vis, 'testoutput_btm.html')\n",
        "vis"
      ],
      "execution_count": 0,
      "outputs": [
        {
          "output_type": "stream",
          "text": [
            "\n",
            "\n",
            " Visualize Topics ..\n"
          ],
          "name": "stdout"
        },
        {
          "output_type": "execute_result",
          "data": {
            "text/html": [
              "\n",
              "<link rel=\"stylesheet\" type=\"text/css\" href=\"https://cdn.rawgit.com/bmabey/pyLDAvis/files/ldavis.v1.0.0.css\">\n",
              "\n",
              "\n",
              "<div id=\"ldavis_el124139627370019480328813270\"></div>\n",
              "<script type=\"text/javascript\">\n",
              "\n",
              "var ldavis_el124139627370019480328813270_data = {\"mdsDat\": {\"x\": [-0.1371164326220552, 0.32556146197854774, 0.09640737848689848, -0.12910974431434702, -0.1139463141780005, 0.09301333300080719, -0.01548687712244456, 0.1119146078971646, -0.06385994660836058, -0.16737746651821012], \"y\": [-0.08129108808175992, 0.16839225136540395, -0.10420167356779227, 0.08956630834909644, 0.06785734922011251, 0.0548203788931772, -0.25232109648888235, -0.13171020584076373, 0.006980249739799778, 0.1819075264116089], \"topics\": [1, 2, 3, 4, 5, 6, 7, 8, 9, 10], \"cluster\": [1, 1, 1, 1, 1, 1, 1, 1, 1, 1], \"Freq\": [13.144217741316236, 13.008013193905754, 12.392888933617115, 11.76405385916185, 11.415696609420849, 9.582344078621169, 8.936114783672028, 8.499491741333474, 5.981697807431863, 5.275481251519663]}, \"tinfo\": {\"Term\": [\"with\", \"pic\", \"are\", \"re\", \"eat\", \"be\", \"good\", \"have\", \"would\", \"twitter\", \"food\", \"can\", \"some\", \"get\", \"make\", \"still\", \"in\", \"up\", \"cook\", \"pepper\", \"littl\", \"salt\", \"at\", \"one\", \"onion\", \"was\", \"don\", \"option\", \"fact\", \"like\", \"shit\", \"ppl\", \"she\", \"who\", \"doesn\", \"ariana\", \"enough\", \"petra\", \"except\", \"version\", \"credit\", \"grand\", \"brown\", \"face\", \"kim\", \"abort\", \"their\", \"children\", \"rzd1uyvszn\", \"convinc\", \"realli\", \"coven\", \"irish\", \"witch\", \"imho\", \"even\", \"bout\", \"vs\", \"pare\", \"altern\", \"sen\", \"get\", \"don\", \"pic\", \"twitter\", \"like\", \"go\", \"with\", \"should\", \"do\", \"how\", \"fact\", \"our\", \"status\", \"besid\", \"tarnish\", \"allow\", \"buy\", \"produc\", \"farm\", \"smithfield\", \"disrespect\", \"4ever\", \"johnoberg\", \"insidi\", \"suppli\", \"pork\", \"hog\", \"1255813063925776384\", \"utter\", \"china\", \"chine\", \"whore\", \"biden\", \"obama\", \"legaci\", \"primari\", \"environ\", \"2015\", \"shown\", \"will\", \"dirti\", \"disgust\", \"are\", \"own\", \"am\", \"anim\", \"read\", \"has\", \"in\", \"twitter\", \"food\", \"hey\", \"pop\", \"quit\", \"anyon\", \"makeup\", \"googl\", \"black\", \"look\", \"line\", \"keep\", \"hypoallergen\", \"tt\", \"potent\", \"naturalhealth\", \"elderberri\", \"selfsuffici\", \"offgrid\", \"booster\", \"healthylifestyl\", \"naturalcur\", \"naturalremedi\", \"backtonatur\", \"immuneboost\", \"homestead\", \"y3fdjcgswr\", \"2vs8gpu\", \"immun\", \"best\", \"ift\", \"antivir\", \"one\", \"some\", \"ve\", \"prefer\", \"search\", \"can\", \"not\", \"up\", \"shop\", \"mend\", \"be\", \"need\", \"pic\", \"good\", \"are\", \"wing\", \"linktr\", \"meatless\", \"half\", \"chefderricka\", \"accept\", \"order\", \"full\", \"glaze\", \"pre\", \"now\", \"igshid\", \"pick\", \"truffl\", \"instagram\", \"185bt92gvuurv\", \"link\", \"qhhxqpeti\", \"hennessi\", \"avail\", \"tri\", \"lben\", \"product\", \"type\", \"turn\", \"industri\", \"yogurt\", \"off\", \"cut\", \"less\", \"recip\", \"chee\", \"ee\", \"food\", \"option\", \"up\", \"pic\", \"twitter\", \"meat\", \"eat\", \"re\", \"paprika\", \"instead\", \"lemon\", \"oil\", \"peanut\", \"flash\", \"char\", \"lot\", \"raw\", \"beef\", \"daughter\", \"ie\", \"green\", \"smoke\", \"see\", \"bacon\", \"similar\", \"bread\", \"ani\", \"textur\", \"chicken\", \"peel\", \"stew\", \"eggplant\", \"pretti\", \"transit\", \"brah\", \"dinner\", \"classi\", \"moxiebread\", \"salad\", \"still\", \"amaz\", \"si9tlmu8k7\", \"healthi\", \"can\", \"curri\", \"good\", \"with\", \"too\", \"make\", \"salt\", \"use\", \"littl\", \"pepper\", \"in\", \"like\", \"meat\", \"donut\", \"realiz\", \"coupl\", \"also\", \"switch\", \"same\", \"ingredi\", \"overcharg\", \"could\", \"mad\", \"wish\", \"god\", \"intol\", \"cashew\", \"want\", \"hate\", \"fake\", \"underherey\", \"raspberri\", \"whew\", \"sprout\", \"ikbuu3vi5r\", \"vinaigrett\", \"butter\", \"brussel\", \"truck\", \"28\", \"day\", \"spent\", \"may\", \"would\", \"at\", \"least\", \"by\", \"have\", \"make\", \"do\", \"not\", \"more\", \"option\", \"us\", \"shop\", \"when\", \"made\", \"eat\", \"recycl\", \"decent\", \"sweater\", \"back\", \"cascad\", \"cascadeyarn\", \"worth\", \"oooh\", \"haven\", \"go8ng\", \"rebound\", \"knit\", \"htm\", \"custom\", \"bought\", \"imma\", \"safe\", \"smart\", \"brunch\", \"tx\", \"meet\", \"somethin\", \"poshmarkapp\", \"on\", \"zoe\", \"mk\", \"pixi\", \"leather\", \"discov\", \"a2\", \"via\", \"gray\", \"cdezvz3585\", \"be\", \"came\", \"poshmark\", \"posh\", \"was\", \"mend\", \"with\", \"more\", \"should\", \"one\", \"protein\", \"way\", \"between\", \"intercour\", \"work\", \"murder\", \"differ\", \"weak\", \"skinni\", \"super\", \"either\", \"seen\", \"ad\", \"gluten\", \"third\", \"sponsor\", \"calori\", \"lime\", \"120\", \"coconut\", \"om\", \"justsogood\", \"stop\", \"goodpop\", \"someon\", \"thisisajok\", \"pbr\", \"coff\", \"oh\", \"alcohol\", \"no\", \"eat\", \"are\", \"out\", \"have\", \"all\", \"need\", \"in\", \"get\", \"read\", \"ve\", \"anim\", \"good\", \"red\", \"had\", \"traderjo\", \"mozzarella\", \"braid\", \"iday\", \"fill\", \"os\", \"52stuu4wqh\", \"along\", \"pepperoni\", \"oliv\", \"sweet\", \"dough\", \"followyourheart\", \"jalap\", \"herb\", \"theherbivorousb\", \"kalamata\", \"hot\", \"synesthesia\", \"girl\", \"monologu\", \"intern\", \"three\", \"pizza\", \"lunch\", \"idg\", \"happi\", \"made\", \"onion\", \"was\", \"some\", \"in\", \"good\", \"twitter\", \"tomato\", \"hazelnut\", \"tomati\", \"packag\", \"lrg\", \"mayday\", \"rosemari\", \"nooch\", \"blend\", \"fuck\", \"sass\", \"love\", \"cherri\", \"saaaaauc\", \"clove\", \"ainib68von\", \"yellow\", \"tonight\", \"garlic\", \"down\", \"oregano\", \"updat\", \"r3nnztqqa0\", \"gone\", \"milk\", \"onion\", \"pepper\", \"littl\", \"salt\", \"cook\", \"food\", \"up\", \"pic\", \"twitter\"], \"Freq\": [5.0, 9.0, 4.0, 2.0, 4.0, 4.0, 6.0, 5.0, 2.0, 10.0, 4.0, 4.0, 3.0, 3.0, 5.0, 2.0, 6.0, 5.0, 3.0, 2.0, 2.0, 2.0, 2.0, 4.0, 1.0, 2.0, 2.0, 2.0, 1.0, 3.0, 1.5259503904677834, 1.2354315155572106, 1.2354315155572106, 1.2354315155572106, 1.2354315155572106, 1.2354315155572106, 1.2354315155572106, 1.2354315155572106, 1.2354315155572106, 1.2354315155572106, 1.2354315155572106, 1.2354315155572106, 1.2354315155572106, 1.2354315155572106, 1.2354315155572106, 1.017542359374281, 1.017542359374281, 1.017542359374281, 1.017542359374281, 1.017542359374281, 1.017542359374281, 1.017542359374281, 1.017542359374281, 1.017542359374281, 1.017542359374281, 1.017542359374281, 0.9449126406466378, 0.9449126406466378, 0.9449126406466378, 0.9449126406466378, 0.9449126406466378, 2.2522475777442152, 1.9617287028336423, 3.341693358658863, 3.486952796114149, 1.8890989841059993, 1.3080612342848537, 1.5259503904677834, 1.090172078101924, 1.090172078101924, 1.017542359374281, 1.9686020641624555, 1.2187774404535374, 1.2187774404535374, 1.2187774404535374, 1.2187774404535374, 1.2187774404535374, 1.2187774404535374, 1.2187774404535374, 1.2187774404535374, 1.2187774404535374, 1.2187774404535374, 1.2187774404535374, 1.2187774404535374, 1.2187774404535374, 1.2187774404535374, 1.2187774404535374, 1.2187774404535374, 1.2187774404535374, 1.2187774404535374, 1.2187774404535374, 1.2187774404535374, 1.2187774404535374, 1.2187774404535374, 1.2187774404535374, 1.2187774404535374, 1.2187774404535374, 1.2187774404535374, 1.2187774404535374, 1.2187774404535374, 1.2187774404535374, 1.2187774404535374, 1.2187774404535374, 1.5936897523079965, 1.3437482110716905, 1.3437482110716905, 1.3125055184171521, 1.281262825762614, 1.2500201331080756, 1.2500201331080756, 1.2187774404535374, 1.2187774404535374, 1.380511608385627, 1.2326524571840247, 1.2326524571840247, 1.2326524571840247, 1.2326524571840247, 1.2326524571840247, 1.2326524571840247, 1.2326524571840247, 1.2326524571840247, 1.2326524571840247, 1.2326524571840247, 1.035506922248555, 1.035506922248555, 1.035506922248555, 1.035506922248555, 1.035506922248555, 1.035506922248555, 1.035506922248555, 1.035506922248555, 1.035506922248555, 1.035506922248555, 1.035506922248555, 1.035506922248555, 1.035506922248555, 1.035506922248555, 1.035506922248555, 1.035506922248555, 1.035506922248555, 1.035506922248555, 1.035506922248555, 2.1198073643936386, 1.6762299107888314, 1.3312252246517595, 1.2326524571840247, 1.2326524571840247, 1.380511608385627, 1.281938840917892, 1.3312252246517595, 1.2326524571840247, 1.1833660734501572, 1.2326524571840247, 1.1833660734501572, 1.2326524571840247, 1.13407968971629, 1.0847933059824224, 1.3108656736304578, 1.3108656736304578, 1.3108656736304578, 1.3108656736304578, 1.3108656736304578, 1.3108656736304578, 1.3108656736304578, 1.3108656736304578, 1.3108656736304578, 1.3108656736304578, 1.3108656736304578, 1.3108656736304578, 1.3108656736304578, 1.3108656736304578, 1.3108656736304578, 1.3108656736304578, 1.3108656736304578, 1.3108656736304578, 1.3108656736304578, 1.3108656736304578, 0.953519283726653, 0.953519283726653, 0.953519283726653, 0.953519283726653, 0.953519283726653, 0.953519283726653, 0.953519283726653, 0.953519283726653, 0.953519283726653, 0.953519283726653, 1.2513079419798239, 1.3108656736304578, 1.3108656736304578, 1.7277697951848972, 1.3704234052810922, 1.4895388685823603, 1.6086543318836286, 1.6086543318836286, 1.013077015377287, 1.013077015377287, 2.574506364062992, 1.2380004646263303, 1.2380004646263303, 1.2380004646263303, 1.2380004646263303, 1.2380004646263303, 1.2380004646263303, 1.2380004646263303, 1.2380004646263303, 1.2380004646263303, 1.2380004646263303, 1.2380004646263303, 1.2380004646263303, 1.2380004646263303, 1.2380004646263303, 1.2380004646263303, 1.2380004646263303, 1.0894998091333679, 1.0894998091333679, 1.0894998091333679, 1.0894998091333679, 1.0894998091333679, 1.0894998091333679, 1.0894998091333679, 1.0894998091333679, 1.0894998091333679, 1.0894998091333679, 0.5944976241568263, 0.5944976241568263, 0.5944976241568263, 0.5944976241568263, 0.5944976241568263, 2.277505053077067, 0.5944976241568263, 0.5944976241568263, 0.5944976241568263, 2.327005271574721, 1.139000027631022, 2.327005271574721, 1.6835024311052174, 1.2380004646263303, 1.6340022126075633, 1.2875006831239846, 1.2380004646263303, 1.2380004646263303, 1.1885002461286762, 1.3370009016216384, 1.2380004646263303, 1.1885002461286762, 1.1813505274676088, 1.1813505274676088, 1.1813505274676088, 1.1813505274676088, 1.1813505274676088, 1.1813505274676088, 1.1813505274676088, 1.1813505274676088, 1.1813505274676088, 1.1813505274676088, 1.1813505274676088, 0.8439824567962307, 0.8439824567962307, 0.8439824567962307, 0.8439824567962307, 0.8439824567962307, 0.8439824567962307, 0.6752984214605416, 0.6752984214605416, 0.6752984214605416, 0.6752984214605416, 0.6752984214605416, 0.6752984214605416, 0.6752984214605416, 0.6752984214605416, 0.45038637434628964, 0.45038637434628964, 0.45038637434628964, 0.45038637434628964, 0.45038637434628964, 2.1934547394817425, 1.7998586570318018, 1.4624905863604238, 1.4062625745818609, 2.13722672770318, 2.13722672770318, 1.2375785392461718, 1.4062625745818609, 1.1813505274676088, 1.2375785392461718, 0.9564384803533569, 1.1813505274676088, 0.9002104685747938, 0.9002104685747938, 0.8439824567962307, 1.1618974950991143, 1.1618974950991143, 1.1618974950991143, 1.1618974950991143, 1.1618974950991143, 1.1618974950991143, 1.1618974950991143, 1.1618974950991143, 1.1618974950991143, 1.1618974950991143, 1.1618974950991143, 1.1618974950991143, 1.1618974950991143, 1.1618974950991143, 1.1618974950991143, 0.7923708042452388, 0.7923708042452388, 0.7923708042452388, 0.7923708042452388, 0.7923708042452388, 0.7923708042452388, 0.7923708042452388, 0.7395812769803993, 0.7395812769803993, 0.7395812769803993, 0.7395812769803993, 0.7395812769803993, 0.7395812769803993, 0.7395812769803993, 0.7395812769803993, 0.7395812769803993, 0.7395812769803993, 0.7395812769803993, 2.059319458601383, 1.1618974950991143, 0.7395812769803993, 0.7395812769803993, 1.2146870223639537, 1.2146870223639537, 1.6897927677475075, 1.1618974950991143, 1.1091079678342748, 1.0563184405694357, 1.0823666296867622, 1.0823666296867622, 1.0823666296867622, 1.0823666296867622, 1.0823666296867622, 1.0823666296867622, 1.0823666296867622, 1.0823666296867622, 1.0823666296867622, 1.0823666296867622, 1.0823666296867622, 1.0823666296867622, 0.8471717949004167, 0.8471717949004167, 0.8471717949004167, 0.8471717949004167, 0.8471717949004167, 0.8471717949004167, 0.8471717949004167, 0.8471717949004167, 0.8471717949004167, 0.8471717949004167, 0.8471717949004167, 0.8471717949004167, 0.8471717949004167, 0.8471717949004167, 0.5649379931568019, 0.5649379931568019, 0.5649379931568019, 0.5649379931568019, 1.6468342331739914, 2.211301836661221, 2.0231459688321443, 1.1764445636013003, 1.599795266216722, 1.317561464473108, 1.2234835305585694, 1.317561464473108, 1.0823666296867622, 0.9882886957722241, 0.9882886957722241, 0.941249728814955, 0.9882886957722241, 1.0071990704012816, 1.0071990704012816, 1.0071990704012816, 1.0071990704012816, 1.0071990704012816, 1.0071990704012816, 1.0071990704012816, 1.0071990704012816, 1.0071990704012816, 1.0071990704012816, 1.0071990704012816, 1.0071990704012816, 1.0071990704012816, 1.0071990704012816, 1.0071990704012816, 1.0071990704012816, 1.0071990704012816, 1.0071990704012816, 1.0071990704012816, 1.0071990704012816, 0.2205706180416428, 0.2205706180416428, 0.2205706180416428, 0.2205706180416428, 0.2205706180416428, 1.0071990704012816, 1.0386642084956674, 1.070129346590053, 1.0071990704012816, 0.9757339323068964, 1.0071990704012816, 0.9757339323068964, 1.0071990704012816, 1.133059622778824, 1.070129346590053, 1.1015944846844385, 0.9480314344550372, 0.9480314344550372, 0.9480314344550372, 0.9480314344550372, 0.9480314344550372, 0.9480314344550372, 0.9480314344550372, 0.9480314344550372, 0.9480314344550372, 0.9480314344550372, 0.9480314344550372, 0.9480314344550372, 0.9480314344550372, 0.9480314344550372, 0.9480314344550372, 0.9480314344550372, 0.9480314344550372, 0.9480314344550372, 0.9480314344550372, 0.9480314344550372, 0.9480314344550372, 0.12667797574690767, 0.12667797574690767, 0.12667797574690767, 0.9480314344550372, 0.9480314344550372, 0.9796219520976577, 0.9480314344550372, 0.9164409168124169, 1.0112124697402778, 0.9480314344550372, 0.9164409168124169, 1.200755575596, 1.1691650579533799], \"Total\": [5.0, 9.0, 4.0, 2.0, 4.0, 4.0, 6.0, 5.0, 2.0, 10.0, 4.0, 4.0, 3.0, 3.0, 5.0, 2.0, 6.0, 5.0, 3.0, 2.0, 2.0, 2.0, 2.0, 4.0, 1.0, 2.0, 2.0, 2.0, 1.0, 3.0, 1.5300373823505269, 1.2395185074399542, 1.2395185074399542, 1.2395185074399542, 1.2395185074399542, 1.2395185074399542, 1.2395185074399542, 1.2395185074399542, 1.2395185074399542, 1.2395185074399542, 1.2395185074399542, 1.2395185074399542, 1.2395185074399542, 1.2395185074399542, 1.2395185074399542, 1.0216293512570245, 1.0216293512570245, 1.0216293512570245, 1.0216293512570245, 1.0216293512570245, 1.0216293512570245, 1.0216293512570245, 1.0216293512570245, 1.0216293512570245, 1.0216293512570245, 1.0216293512570245, 0.9489996325293817, 0.9489996325293817, 0.9489996325293817, 0.9489996325293817, 0.9489996325293817, 3.633949112047353, 2.955820064669469, 9.35618414750364, 10.574260673068627, 3.4680595091014745, 2.044622990340978, 5.846263826577195, 2.202839142546294, 2.331275329113054, 2.329041744453764, 1.97310292630593, 1.223278302597012, 1.223278302597012, 1.223278302597012, 1.223278302597012, 1.223278302597012, 1.223278302597012, 1.223278302597012, 1.223278302597012, 1.223278302597012, 1.223278302597012, 1.223278302597012, 1.223278302597012, 1.223278302597012, 1.223278302597012, 1.223278302597012, 1.223278302597012, 1.223278302597012, 1.223278302597012, 1.223278302597012, 1.223278302597012, 1.223278302597012, 1.223278302597012, 1.223278302597012, 1.223278302597012, 1.223278302597012, 1.223278302597012, 1.223278302597012, 1.223278302597012, 1.223278302597012, 1.223278302597012, 1.223278302597012, 4.824282099060396, 2.3832631316263817, 2.3832631316263817, 2.257785719706009, 2.2735819940087403, 2.496246469959718, 6.207605406376806, 10.574260673068627, 4.404220155751081, 1.3848320336183084, 1.236972882416706, 1.236972882416706, 1.236972882416706, 1.236972882416706, 1.236972882416706, 1.236972882416706, 1.236972882416706, 1.236972882416706, 1.236972882416706, 1.236972882416706, 1.0398273474812363, 1.0398273474812363, 1.0398273474812363, 1.0398273474812363, 1.0398273474812363, 1.0398273474812363, 1.0398273474812363, 1.0398273474812363, 1.0398273474812363, 1.0398273474812363, 1.0398273474812363, 1.0398273474812363, 1.0398273474812363, 1.0398273474812363, 1.0398273474812363, 1.0398273474812363, 1.0398273474812363, 1.0398273474812363, 1.0398273474812363, 4.991979111110255, 3.3435313007871543, 2.3233639559870927, 1.8906403509654945, 1.955554813471086, 4.134693005623475, 3.2855707210508758, 5.212695568894041, 3.1363430608209093, 2.401845625774144, 4.076831762108897, 3.605371525108249, 9.35618414750364, 6.296793897108719, 4.824282099060396, 1.3150833853839716, 1.3150833853839716, 1.3150833853839716, 1.3150833853839716, 1.3150833853839716, 1.3150833853839716, 1.3150833853839716, 1.3150833853839716, 1.3150833853839716, 1.3150833853839716, 1.3150833853839716, 1.3150833853839716, 1.3150833853839716, 1.3150833853839716, 1.3150833853839716, 1.3150833853839716, 1.3150833853839716, 1.3150833853839716, 1.3150833853839716, 1.3150833853839716, 0.9577369954801668, 0.9577369954801668, 0.9577369954801668, 0.9577369954801668, 0.9577369954801668, 0.9577369954801668, 0.9577369954801668, 0.9577369954801668, 0.9577369954801668, 0.9577369954801668, 1.5525269647192625, 2.1585035620624167, 2.1617847906148158, 4.404220155751081, 2.6116573761629924, 5.212695568894041, 9.35618414750364, 10.574260673068627, 2.931597158350933, 4.860128490542773, 2.578824650948036, 1.2423187515113738, 1.2423187515113738, 1.2423187515113738, 1.2423187515113738, 1.2423187515113738, 1.2423187515113738, 1.2423187515113738, 1.2423187515113738, 1.2423187515113738, 1.2423187515113738, 1.2423187515113738, 1.2423187515113738, 1.2423187515113738, 1.2423187515113738, 1.2423187515113738, 1.2423187515113738, 1.0938180960184114, 1.0938180960184114, 1.0938180960184114, 1.0938180960184114, 1.0938180960184114, 1.0938180960184114, 1.0938180960184114, 1.0938180960184114, 1.0938180960184114, 1.0938180960184114, 0.5988159110418699, 0.5988159110418699, 0.5988159110418699, 0.5988159110418699, 0.5988159110418699, 2.6987274615165497, 0.5988159110418699, 0.5988159110418699, 0.5988159110418699, 4.134693005623475, 1.5006647044198704, 6.296793897108719, 5.846263826577195, 1.806786354998603, 5.877970881846129, 2.207943981645019, 1.960900682565754, 2.190034280789985, 2.1721245799349513, 6.207605406376806, 3.4680595091014745, 2.931597158350933, 1.1856015364198433, 1.1856015364198433, 1.1856015364198433, 1.1856015364198433, 1.1856015364198433, 1.1856015364198433, 1.1856015364198433, 1.1856015364198433, 1.1856015364198433, 1.1856015364198433, 1.1856015364198433, 0.8482334657484653, 0.8482334657484653, 0.8482334657484653, 0.8482334657484653, 0.8482334657484653, 0.8482334657484653, 0.6795494304127762, 0.6795494304127762, 0.6795494304127762, 0.6795494304127762, 0.6795494304127762, 0.6795494304127762, 0.6795494304127762, 0.6795494304127762, 0.45463738329852416, 0.45463738329852416, 0.45463738329852416, 0.45463738329852416, 0.45463738329852416, 2.8538022941792804, 2.4602062117293397, 2.060352755748885, 2.0353674366248606, 5.508411176792047, 5.877970881846129, 2.331275329113054, 3.2855707210508758, 2.3469711362463093, 2.6116573761629924, 1.616786035050895, 3.1363430608209093, 1.643514859234779, 1.8798807584529806, 4.860128490542773, 1.166182888896486, 1.166182888896486, 1.166182888896486, 1.166182888896486, 1.166182888896486, 1.166182888896486, 1.166182888896486, 1.166182888896486, 1.166182888896486, 1.166182888896486, 1.166182888896486, 1.166182888896486, 1.166182888896486, 1.166182888896486, 1.166182888896486, 0.7966561980426106, 0.7966561980426106, 0.7966561980426106, 0.7966561980426106, 0.7966561980426106, 0.7966561980426106, 0.7966561980426106, 0.7438666707777711, 0.7438666707777711, 0.7438666707777711, 0.7438666707777711, 0.7438666707777711, 0.7438666707777711, 0.7438666707777711, 0.7438666707777711, 0.7438666707777711, 0.7438666707777711, 0.7438666707777711, 4.076831762108897, 1.9160075126054044, 0.7438666707777711, 0.7438666707777711, 2.194391697087278, 2.401845625774144, 5.846263826577195, 2.3469711362463093, 2.202839142546294, 4.991979111110255, 1.0867095290872095, 1.0867095290872095, 1.0867095290872095, 1.0867095290872095, 1.0867095290872095, 1.0867095290872095, 1.0867095290872095, 1.0867095290872095, 1.0867095290872095, 1.0867095290872095, 1.0867095290872095, 1.0867095290872095, 0.8515146943008642, 0.8515146943008642, 0.8515146943008642, 0.8515146943008642, 0.8515146943008642, 0.8515146943008642, 0.8515146943008642, 0.8515146943008642, 0.8515146943008642, 0.8515146943008642, 0.8515146943008642, 0.8515146943008642, 0.8515146943008642, 0.8515146943008642, 0.5692808925572495, 0.5692808925572495, 0.5692808925572495, 0.5692808925572495, 1.8714330992351378, 4.860128490542773, 4.824282099060396, 2.707033009609381, 5.508411176792047, 4.10569404338387, 3.605371525108249, 6.207605406376806, 3.633949112047353, 2.2735819940087403, 2.3233639559870927, 2.257785719706009, 6.296793897108719, 1.0116977080903578, 1.0116977080903578, 1.0116977080903578, 1.0116977080903578, 1.0116977080903578, 1.0116977080903578, 1.0116977080903578, 1.0116977080903578, 1.0116977080903578, 1.0116977080903578, 1.0116977080903578, 1.0116977080903578, 1.0116977080903578, 1.0116977080903578, 1.0116977080903578, 1.0116977080903578, 1.0116977080903578, 1.0116977080903578, 1.0116977080903578, 1.0116977080903578, 0.2250692557307191, 0.2250692557307191, 0.2250692557307191, 0.2250692557307191, 0.2250692557307191, 1.2499286346928944, 1.4367589286346847, 1.5450176538518203, 1.4615218023188619, 1.8798807584529806, 1.959413237368969, 2.194391697087278, 3.3435313007871543, 6.207605406376806, 6.296793897108719, 10.574260673068627, 0.9525288183486311, 0.9525288183486311, 0.9525288183486311, 0.9525288183486311, 0.9525288183486311, 0.9525288183486311, 0.9525288183486311, 0.9525288183486311, 0.9525288183486311, 0.9525288183486311, 0.9525288183486311, 0.9525288183486311, 0.9525288183486311, 0.9525288183486311, 0.9525288183486311, 0.9525288183486311, 0.9525288183486311, 0.9525288183486311, 0.9525288183486311, 0.9525288183486311, 0.9525288183486311, 0.13117535964050162, 0.13117535964050162, 0.13117535964050162, 1.9054525247587777, 1.959413237368969, 2.1721245799349513, 2.190034280789985, 2.207943981645019, 3.504132741348842, 4.404220155751081, 5.212695568894041, 9.35618414750364, 10.574260673068627], \"Category\": [\"Default\", \"Default\", \"Default\", \"Default\", \"Default\", \"Default\", \"Default\", \"Default\", \"Default\", \"Default\", \"Default\", \"Default\", \"Default\", \"Default\", \"Default\", \"Default\", \"Default\", \"Default\", \"Default\", \"Default\", \"Default\", \"Default\", \"Default\", \"Default\", \"Default\", \"Default\", \"Default\", \"Default\", \"Default\", \"Default\", \"Topic1\", \"Topic1\", \"Topic1\", \"Topic1\", \"Topic1\", \"Topic1\", \"Topic1\", \"Topic1\", \"Topic1\", \"Topic1\", \"Topic1\", \"Topic1\", \"Topic1\", \"Topic1\", \"Topic1\", \"Topic1\", \"Topic1\", \"Topic1\", \"Topic1\", \"Topic1\", \"Topic1\", \"Topic1\", \"Topic1\", \"Topic1\", \"Topic1\", \"Topic1\", \"Topic1\", \"Topic1\", \"Topic1\", \"Topic1\", \"Topic1\", \"Topic1\", \"Topic1\", \"Topic1\", \"Topic1\", \"Topic1\", \"Topic1\", \"Topic1\", \"Topic1\", \"Topic1\", \"Topic1\", \"Topic2\", \"Topic2\", \"Topic2\", \"Topic2\", \"Topic2\", \"Topic2\", \"Topic2\", \"Topic2\", \"Topic2\", \"Topic2\", \"Topic2\", \"Topic2\", \"Topic2\", \"Topic2\", \"Topic2\", \"Topic2\", \"Topic2\", \"Topic2\", \"Topic2\", \"Topic2\", \"Topic2\", \"Topic2\", \"Topic2\", \"Topic2\", \"Topic2\", \"Topic2\", \"Topic2\", \"Topic2\", \"Topic2\", \"Topic2\", \"Topic2\", \"Topic2\", \"Topic2\", \"Topic2\", \"Topic2\", \"Topic2\", \"Topic2\", \"Topic2\", \"Topic2\", \"Topic2\", \"Topic2\", \"Topic3\", \"Topic3\", \"Topic3\", \"Topic3\", \"Topic3\", \"Topic3\", \"Topic3\", \"Topic3\", \"Topic3\", \"Topic3\", \"Topic3\", \"Topic3\", \"Topic3\", \"Topic3\", \"Topic3\", \"Topic3\", \"Topic3\", \"Topic3\", \"Topic3\", \"Topic3\", \"Topic3\", \"Topic3\", \"Topic3\", \"Topic3\", \"Topic3\", \"Topic3\", \"Topic3\", \"Topic3\", \"Topic3\", \"Topic3\", \"Topic3\", \"Topic3\", \"Topic3\", \"Topic3\", \"Topic3\", \"Topic3\", \"Topic3\", \"Topic3\", \"Topic3\", \"Topic3\", \"Topic3\", \"Topic3\", \"Topic3\", \"Topic3\", \"Topic3\", \"Topic4\", \"Topic4\", \"Topic4\", \"Topic4\", \"Topic4\", \"Topic4\", \"Topic4\", \"Topic4\", \"Topic4\", \"Topic4\", \"Topic4\", \"Topic4\", \"Topic4\", \"Topic4\", \"Topic4\", \"Topic4\", \"Topic4\", \"Topic4\", \"Topic4\", \"Topic4\", \"Topic4\", \"Topic4\", \"Topic4\", \"Topic4\", \"Topic4\", \"Topic4\", \"Topic4\", \"Topic4\", \"Topic4\", \"Topic4\", \"Topic4\", \"Topic4\", \"Topic4\", \"Topic4\", \"Topic4\", \"Topic4\", \"Topic4\", \"Topic4\", \"Topic4\", \"Topic4\", \"Topic5\", \"Topic5\", \"Topic5\", \"Topic5\", \"Topic5\", \"Topic5\", \"Topic5\", \"Topic5\", \"Topic5\", \"Topic5\", \"Topic5\", \"Topic5\", \"Topic5\", \"Topic5\", \"Topic5\", \"Topic5\", \"Topic5\", \"Topic5\", \"Topic5\", \"Topic5\", \"Topic5\", \"Topic5\", \"Topic5\", \"Topic5\", \"Topic5\", \"Topic5\", \"Topic5\", \"Topic5\", \"Topic5\", \"Topic5\", \"Topic5\", \"Topic5\", \"Topic5\", \"Topic5\", \"Topic5\", \"Topic5\", \"Topic5\", \"Topic5\", \"Topic5\", \"Topic5\", \"Topic5\", \"Topic5\", \"Topic5\", \"Topic5\", \"Topic5\", \"Topic5\", \"Topic5\", \"Topic5\", \"Topic5\", \"Topic6\", \"Topic6\", \"Topic6\", \"Topic6\", \"Topic6\", \"Topic6\", \"Topic6\", \"Topic6\", \"Topic6\", \"Topic6\", \"Topic6\", \"Topic6\", \"Topic6\", \"Topic6\", \"Topic6\", \"Topic6\", \"Topic6\", \"Topic6\", \"Topic6\", \"Topic6\", \"Topic6\", \"Topic6\", \"Topic6\", \"Topic6\", \"Topic6\", \"Topic6\", \"Topic6\", \"Topic6\", \"Topic6\", \"Topic6\", \"Topic6\", \"Topic6\", \"Topic6\", \"Topic6\", \"Topic6\", \"Topic6\", \"Topic6\", \"Topic6\", \"Topic6\", \"Topic6\", \"Topic6\", \"Topic6\", \"Topic6\", \"Topic6\", \"Topic6\", \"Topic7\", \"Topic7\", \"Topic7\", \"Topic7\", \"Topic7\", \"Topic7\", \"Topic7\", \"Topic7\", \"Topic7\", \"Topic7\", \"Topic7\", \"Topic7\", \"Topic7\", \"Topic7\", \"Topic7\", \"Topic7\", \"Topic7\", \"Topic7\", \"Topic7\", \"Topic7\", \"Topic7\", \"Topic7\", \"Topic7\", \"Topic7\", \"Topic7\", \"Topic7\", \"Topic7\", \"Topic7\", \"Topic7\", \"Topic7\", \"Topic7\", \"Topic7\", \"Topic7\", \"Topic7\", \"Topic7\", \"Topic7\", \"Topic7\", \"Topic7\", \"Topic7\", \"Topic7\", \"Topic7\", \"Topic7\", \"Topic7\", \"Topic8\", \"Topic8\", \"Topic8\", \"Topic8\", \"Topic8\", \"Topic8\", \"Topic8\", \"Topic8\", \"Topic8\", \"Topic8\", \"Topic8\", \"Topic8\", \"Topic8\", \"Topic8\", \"Topic8\", \"Topic8\", \"Topic8\", \"Topic8\", \"Topic8\", \"Topic8\", \"Topic8\", \"Topic8\", \"Topic8\", \"Topic8\", \"Topic8\", \"Topic8\", \"Topic8\", \"Topic8\", \"Topic8\", \"Topic8\", \"Topic8\", \"Topic8\", \"Topic8\", \"Topic8\", \"Topic8\", \"Topic8\", \"Topic8\", \"Topic8\", \"Topic8\", \"Topic8\", \"Topic8\", \"Topic8\", \"Topic8\", \"Topic9\", \"Topic9\", \"Topic9\", \"Topic9\", \"Topic9\", \"Topic9\", \"Topic9\", \"Topic9\", \"Topic9\", \"Topic9\", \"Topic9\", \"Topic9\", \"Topic9\", \"Topic9\", \"Topic9\", \"Topic9\", \"Topic9\", \"Topic9\", \"Topic9\", \"Topic9\", \"Topic9\", \"Topic9\", \"Topic9\", \"Topic9\", \"Topic9\", \"Topic9\", \"Topic9\", \"Topic9\", \"Topic9\", \"Topic9\", \"Topic9\", \"Topic9\", \"Topic9\", \"Topic9\", \"Topic9\", \"Topic9\", \"Topic10\", \"Topic10\", \"Topic10\", \"Topic10\", \"Topic10\", \"Topic10\", \"Topic10\", \"Topic10\", \"Topic10\", \"Topic10\", \"Topic10\", \"Topic10\", \"Topic10\", \"Topic10\", \"Topic10\", \"Topic10\", \"Topic10\", \"Topic10\", \"Topic10\", \"Topic10\", \"Topic10\", \"Topic10\", \"Topic10\", \"Topic10\", \"Topic10\", \"Topic10\", \"Topic10\", \"Topic10\", \"Topic10\", \"Topic10\", \"Topic10\", \"Topic10\", \"Topic10\", \"Topic10\"], \"logprob\": [30.0, 29.0, 28.0, 27.0, 26.0, 25.0, 24.0, 23.0, 22.0, 21.0, 20.0, 19.0, 18.0, 17.0, 16.0, 15.0, 14.0, 13.0, 12.0, 11.0, 10.0, 9.0, 8.0, 7.0, 6.0, 5.0, 4.0, 3.0, 2.0, 1.0, -4.1007, -4.3119, -4.3119, -4.3119, -4.3119, -4.3119, -4.3119, -4.3119, -4.3119, -4.3119, -4.3119, -4.3119, -4.3119, -4.3119, -4.3119, -4.5059, -4.5059, -4.5059, -4.5059, -4.5059, -4.5059, -4.5059, -4.5059, -4.5059, -4.5059, -4.5059, -4.58, -4.58, -4.58, -4.58, -4.58, -3.7114, -3.8495, -3.3168, -3.2743, -3.8872, -4.2548, -4.1007, -4.437, -4.437, -4.5059, -3.8356, -4.3151, -4.3151, -4.3151, -4.3151, -4.3151, -4.3151, -4.3151, -4.3151, -4.3151, -4.3151, -4.3151, -4.3151, -4.3151, -4.3151, -4.3151, -4.3151, -4.3151, -4.3151, -4.3151, -4.3151, -4.3151, -4.3151, -4.3151, -4.3151, -4.3151, -4.3151, -4.3151, -4.3151, -4.3151, -4.3151, -4.3151, -4.0469, -4.2174, -4.2174, -4.241, -4.2651, -4.2897, -4.2897, -4.3151, -4.3151, -4.142, -4.2553, -4.2553, -4.2553, -4.2553, -4.2553, -4.2553, -4.2553, -4.2553, -4.2553, -4.2553, -4.4296, -4.4296, -4.4296, -4.4296, -4.4296, -4.4296, -4.4296, -4.4296, -4.4296, -4.4296, -4.4296, -4.4296, -4.4296, -4.4296, -4.4296, -4.4296, -4.4296, -4.4296, -4.4296, -3.7131, -3.9479, -4.1784, -4.2553, -4.2553, -4.142, -4.2161, -4.1784, -4.2553, -4.2961, -4.2553, -4.2961, -4.2553, -4.3386, -4.3831, -4.1417, -4.1417, -4.1417, -4.1417, -4.1417, -4.1417, -4.1417, -4.1417, -4.1417, -4.1417, -4.1417, -4.1417, -4.1417, -4.1417, -4.1417, -4.1417, -4.1417, -4.1417, -4.1417, -4.1417, -4.46, -4.46, -4.46, -4.46, -4.46, -4.46, -4.46, -4.46, -4.46, -4.46, -4.1882, -4.1417, -4.1417, -3.8656, -4.0973, -4.0139, -3.937, -3.937, -4.3994, -4.3994, -3.4367, -4.1688, -4.1688, -4.1688, -4.1688, -4.1688, -4.1688, -4.1688, -4.1688, -4.1688, -4.1688, -4.1688, -4.1688, -4.1688, -4.1688, -4.1688, -4.1688, -4.2966, -4.2966, -4.2966, -4.2966, -4.2966, -4.2966, -4.2966, -4.2966, -4.2966, -4.2966, -4.9024, -4.9024, -4.9024, -4.9024, -4.9024, -3.5592, -4.9024, -4.9024, -4.9024, -3.5377, -4.2522, -3.5377, -3.8615, -4.1688, -3.8913, -4.1296, -4.1688, -4.1688, -4.2096, -4.0919, -4.1688, -4.2096, -4.0406, -4.0406, -4.0406, -4.0406, -4.0406, -4.0406, -4.0406, -4.0406, -4.0406, -4.0406, -4.0406, -4.3769, -4.3769, -4.3769, -4.3769, -4.3769, -4.3769, -4.5999, -4.5999, -4.5999, -4.5999, -4.5999, -4.5999, -4.5999, -4.5999, -5.0049, -5.0049, -5.0049, -5.0049, -5.0049, -3.4218, -3.6196, -3.8271, -3.8663, -3.4478, -3.4478, -3.9941, -3.8663, -4.0406, -3.9941, -4.2518, -4.0406, -4.3124, -4.3124, -4.3769, -3.9874, -3.9874, -3.9874, -3.9874, -3.9874, -3.9874, -3.9874, -3.9874, -3.9874, -3.9874, -3.9874, -3.9874, -3.9874, -3.9874, -3.9874, -4.3702, -4.3702, -4.3702, -4.3702, -4.3702, -4.3702, -4.3702, -4.4391, -4.4391, -4.4391, -4.4391, -4.4391, -4.4391, -4.4391, -4.4391, -4.4391, -4.4391, -4.4391, -3.4151, -3.9874, -4.4391, -4.4391, -3.943, -3.943, -3.6128, -3.9874, -4.0339, -4.0826, -4.0082, -4.0082, -4.0082, -4.0082, -4.0082, -4.0082, -4.0082, -4.0082, -4.0082, -4.0082, -4.0082, -4.0082, -4.2532, -4.2532, -4.2532, -4.2532, -4.2532, -4.2532, -4.2532, -4.2532, -4.2532, -4.2532, -4.2532, -4.2532, -4.2532, -4.2532, -4.6584, -4.6584, -4.6584, -4.6584, -3.5885, -3.2938, -3.3827, -3.9248, -3.6175, -3.8116, -3.8856, -3.8116, -4.0082, -4.0991, -4.0991, -4.1479, -4.0991, -3.7289, -3.7289, -3.7289, -3.7289, -3.7289, -3.7289, -3.7289, -3.7289, -3.7289, -3.7289, -3.7289, -3.7289, -3.7289, -3.7289, -3.7289, -3.7289, -3.7289, -3.7289, -3.7289, -3.7289, -5.2476, -5.2476, -5.2476, -5.2476, -5.2476, -3.7289, -3.6981, -3.6683, -3.7289, -3.7606, -3.7289, -3.7606, -3.7289, -3.6111, -3.6683, -3.6393, -3.6638, -3.6638, -3.6638, -3.6638, -3.6638, -3.6638, -3.6638, -3.6638, -3.6638, -3.6638, -3.6638, -3.6638, -3.6638, -3.6638, -3.6638, -3.6638, -3.6638, -3.6638, -3.6638, -3.6638, -3.6638, -5.6765, -5.6765, -5.6765, -3.6638, -3.6638, -3.631, -3.6638, -3.6977, -3.5993, -3.6638, -3.6977, -3.4275, -3.4541], \"loglift\": [30.0, 29.0, 28.0, 27.0, 26.0, 25.0, 24.0, 23.0, 22.0, 21.0, 20.0, 19.0, 18.0, 17.0, 16.0, 15.0, 14.0, 13.0, 12.0, 11.0, 10.0, 9.0, 8.0, 7.0, 6.0, 5.0, 4.0, 3.0, 2.0, 1.0, 2.0265, 2.0259, 2.0259, 2.0259, 2.0259, 2.0259, 2.0259, 2.0259, 2.0259, 2.0259, 2.0259, 2.0259, 2.0259, 2.0259, 2.0259, 2.0252, 2.0252, 2.0252, 2.0252, 2.0252, 2.0252, 2.0252, 2.0252, 2.0252, 2.0252, 2.0252, 2.0249, 2.0249, 2.0249, 2.0249, 2.0249, 1.5508, 1.6192, 0.9996, 0.9198, 1.4217, 1.5825, 0.686, 1.3258, 1.2691, 1.2011, 2.0373, 2.0359, 2.0359, 2.0359, 2.0359, 2.0359, 2.0359, 2.0359, 2.0359, 2.0359, 2.0359, 2.0359, 2.0359, 2.0359, 2.0359, 2.0359, 2.0359, 2.0359, 2.0359, 2.0359, 2.0359, 2.0359, 2.0359, 2.0359, 2.0359, 2.0359, 2.0359, 2.0359, 2.0359, 2.0359, 2.0359, 2.0359, 0.932, 1.4666, 1.4666, 1.4972, 1.4661, 1.348, 0.437, -0.121, 0.7549, 2.0849, 2.0845, 2.0845, 2.0845, 2.0845, 2.0845, 2.0845, 2.0845, 2.0845, 2.0845, 2.0845, 2.0839, 2.0839, 2.0839, 2.0839, 2.0839, 2.0839, 2.0839, 2.0839, 2.0839, 2.0839, 2.0839, 2.0839, 2.0839, 2.0839, 2.0839, 2.0839, 2.0839, 2.0839, 2.0839, 1.2315, 1.3976, 1.5311, 1.6603, 1.6265, 0.9911, 1.1469, 0.723, 1.1542, 1.3802, 0.8919, 0.974, 0.0612, 0.3738, 0.5958, 2.1369, 2.1369, 2.1369, 2.1369, 2.1369, 2.1369, 2.1369, 2.1369, 2.1369, 2.1369, 2.1369, 2.1369, 2.1369, 2.1369, 2.1369, 2.1369, 2.1369, 2.1369, 2.1369, 2.1369, 2.1357, 2.1357, 2.1357, 2.1357, 2.1357, 2.1357, 2.1357, 2.1357, 2.1357, 2.1357, 1.9244, 1.6414, 1.6399, 1.2044, 1.4953, 0.8875, 0.3795, 0.2571, 1.0776, 0.572, 2.1685, 2.1667, 2.1667, 2.1667, 2.1667, 2.1667, 2.1667, 2.1667, 2.1667, 2.1667, 2.1667, 2.1667, 2.1667, 2.1667, 2.1667, 2.1667, 2.1667, 2.1662, 2.1662, 2.1662, 2.1662, 2.1662, 2.1662, 2.1662, 2.1662, 2.1662, 2.1662, 2.1629, 2.1629, 2.1629, 2.1629, 2.1629, 2.0005, 2.1629, 2.1629, 2.1629, 1.5953, 1.8944, 1.1747, 0.9253, 1.7921, 0.89, 1.6308, 1.7103, 1.5998, 1.5672, 0.6348, 1.1401, 1.2673, 2.3417, 2.3417, 2.3417, 2.3417, 2.3417, 2.3417, 2.3417, 2.3417, 2.3417, 2.3417, 2.3417, 2.3402, 2.3402, 2.3402, 2.3402, 2.3402, 2.3402, 2.339, 2.339, 2.339, 2.339, 2.339, 2.339, 2.339, 2.339, 2.3359, 2.3359, 2.3359, 2.3359, 2.3359, 2.0821, 2.0327, 2.0025, 1.9755, 1.3985, 1.3335, 1.712, 1.4966, 1.6588, 1.5984, 1.8203, 1.3688, 1.7433, 1.6089, 0.5946, 2.4114, 2.4114, 2.4114, 2.4114, 2.4114, 2.4114, 2.4114, 2.4114, 2.4114, 2.4114, 2.4114, 2.4114, 2.4114, 2.4114, 2.4114, 2.4097, 2.4097, 2.4097, 2.4097, 2.4097, 2.4097, 2.4097, 2.4093, 2.4093, 2.4093, 2.4093, 2.4093, 2.4093, 2.4093, 2.4093, 2.4093, 2.4093, 2.4093, 1.7321, 1.9149, 2.4093, 2.4093, 1.8237, 1.7333, 1.1739, 1.712, 1.7289, 0.862, 2.4612, 2.4612, 2.4612, 2.4612, 2.4612, 2.4612, 2.4612, 2.4612, 2.4612, 2.4612, 2.4612, 2.4612, 2.4601, 2.4601, 2.4601, 2.4601, 2.4601, 2.4601, 2.4601, 2.4601, 2.4601, 2.4601, 2.4601, 2.4601, 2.4601, 2.4601, 2.4575, 2.4575, 2.4575, 2.4575, 2.3373, 1.6777, 1.5962, 1.6318, 1.2288, 1.3286, 1.3844, 0.9152, 1.254, 1.632, 1.6104, 1.5902, 0.6133, 2.812, 2.812, 2.812, 2.812, 2.812, 2.812, 2.812, 2.812, 2.812, 2.812, 2.812, 2.812, 2.812, 2.812, 2.812, 2.812, 2.812, 2.812, 2.812, 2.812, 2.7963, 2.7963, 2.7963, 2.7963, 2.7963, 2.6006, 2.492, 2.4492, 2.4442, 2.1607, 2.151, 2.006, 1.6166, 1.1156, 1.0442, 0.5548, 2.9374, 2.9374, 2.9374, 2.9374, 2.9374, 2.9374, 2.9374, 2.9374, 2.9374, 2.9374, 2.9374, 2.9374, 2.9374, 2.9374, 2.9374, 2.9374, 2.9374, 2.9374, 2.9374, 2.9374, 2.9374, 2.9072, 2.9072, 2.9072, 2.244, 2.2161, 2.1458, 2.1048, 2.0628, 1.6993, 1.4062, 1.2037, 0.889, 0.74]}, \"token.table\": {\"Topic\": [8, 2, 4, 2, 3, 2, 9, 7, 1, 4, 8, 10, 8, 1, 4, 7, 8, 2, 9, 6, 1, 2, 3, 5, 5, 2, 8, 3, 3, 2, 3, 8, 1, 2, 6, 4, 7, 3, 5, 2, 3, 7, 5, 2, 3, 8, 2, 3, 10, 3, 7, 1, 5, 9, 5, 1, 7, 6, 6, 2, 2, 6, 8, 2, 7, 3, 5, 7, 7, 6, 7, 5, 4, 6, 4, 10, 5, 1, 2, 2, 5, 10, 8, 8, 1, 4, 5, 6, 10, 6, 6, 1, 1, 5, 7, 4, 5, 7, 8, 5, 2, 7, 2, 2, 1, 6, 1, 1, 5, 6, 9, 10, 3, 4, 6, 8, 4, 8, 5, 8, 3, 1, 2, 1, 1, 1, 2, 6, 2, 9, 5, 9, 2, 4, 6, 10, 10, 4, 10, 1, 8, 4, 8, 1, 7, 7, 6, 3, 4, 5, 8, 9, 8, 3, 1, 7, 5, 9, 4, 9, 2, 5, 6, 2, 3, 6, 8, 7, 10, 5, 3, 4, 9, 3, 2, 3, 9, 1, 4, 7, 3, 9, 9, 5, 3, 4, 6, 1, 7, 3, 3, 2, 5, 6, 8, 9, 4, 6, 2, 4, 5, 8, 6, 1, 9, 2, 8, 9, 3, 1, 7, 4, 2, 6, 7, 2, 5, 4, 1, 5, 8, 3, 4, 4, 5, 10, 3, 5, 10, 10, 9, 6, 6, 9, 1, 3, 5, 6, 3, 10, 1, 4, 5, 4, 7, 3, 7, 4, 10, 7, 6, 7, 5, 9, 8, 3, 3, 3, 1, 3, 7, 8, 8, 10, 2, 3, 6, 4, 2, 4, 3, 8, 5, 9, 8, 7, 1, 3, 5, 7, 9, 10, 7, 4, 6, 4, 10, 9, 2, 6, 7, 8, 6, 2, 3, 10, 5, 1, 8, 5, 5, 5, 10, 9, 1, 1, 3, 4, 5, 9, 10, 4, 7, 9, 3, 2, 7, 7, 7, 3, 1, 4, 1, 3, 5, 2, 2, 4, 8, 4, 3, 6, 5, 5, 2, 8, 6, 1, 7, 4, 7, 9, 10, 1, 10, 7, 5, 5, 10, 6, 10, 2, 3, 5, 8, 3, 1, 1, 1, 2, 3, 6, 1, 7, 2, 5, 5, 8, 7, 2, 5, 2, 3, 9, 8, 7, 8, 6, 2, 5, 5, 8, 8, 2, 7, 9, 6, 2, 5, 9, 1, 8, 8, 10, 10, 10, 5, 8, 9, 5, 4, 4, 3, 4, 1, 2, 3, 4, 6, 9, 10, 7, 4, 6, 1, 3, 4, 7, 10, 2, 6, 2, 5, 2, 3, 8, 1, 7, 6, 1, 6, 7, 9, 8, 8, 6, 7, 6, 1, 2, 2, 4, 6, 1, 1, 5, 7, 9, 8, 7, 2, 6, 3, 10, 4, 7], \"Freq\": [1.1743778547721357, 0.8174754656213606, 0.7604080555759016, 0.8174754656213606, 0.9616981150017744, 0.8174754656213606, 0.9884375461199394, 1.3443269328822345, 0.9788285729747178, 0.7604080555759016, 1.1743778547721357, 1.0498370030774167, 1.7566020800521343, 0.2435641792674377, 0.2435641792674377, 0.2435641792674377, 0.2435641792674377, 0.8174754656213606, 0.9884375461199394, 0.8434536977909934, 1.05374118779655, 0.4195927787955088, 0.4195927787955088, 1.6699623065461244, 0.9142287951169239, 0.44291182784618377, 0.44291182784618377, 0.9616981150017744, 0.8084251596900605, 0.4145694548810757, 0.20728472744053786, 0.4145694548810757, 0.8067648800705325, 0.40646999232518616, 0.8129399846503723, 0.7604080555759016, 0.8574984331542213, 0.9616981150017744, 0.8049463946216904, 0.24528851283348316, 0.24528851283348316, 0.4905770256669663, 0.8049463946216904, 0.8174754656213606, 0.9616981150017744, 0.9202091020955324, 0.8174754656213606, 0.8084251596900605, 1.0498370030774167, 0.9616981150017744, 0.8574984331542213, 1.05374118779655, 1.6699623065461244, 0.9884375461199394, 0.9142287951169239, 0.8067648800705325, 1.2552466201317538, 1.471563296569278, 1.471563296569278, 0.8174754656213606, 0.4913117808636291, 0.4913117808636291, 1.1743778547721357, 0.521918621623874, 0.521918621623874, 0.24185592464541603, 0.48371184929083205, 0.8574984331542213, 0.8574984331542213, 1.1789207103702504, 1.3443269328822345, 0.8049463946216904, 0.46328392390722556, 0.46328392390722556, 0.7604080555759016, 1.0498370030774167, 0.9142287951169239, 0.9788285729747178, 0.8174754656213606, 0.8174754656213606, 1.6699623065461244, 1.0498370030774167, 1.1743778547721357, 1.7566020800521343, 0.9788285729747178, 0.28537731696062146, 0.28537731696062146, 0.28537731696062146, 0.28537731696062146, 0.8434536977909934, 0.8434536977909934, 0.9788285729747178, 0.8067648800705325, 0.666371373335246, 0.8574984331542213, 1.0441279857824062, 0.8049463946216904, 0.8574984331542213, 0.9202091020955324, 1.6699623065461244, 0.8174754656213606, 1.3443269328822345, 0.8174754656213606, 0.8174754656213606, 0.428949763038266, 0.428949763038266, 0.8067648800705325, 0.6766311738342055, 0.33831558691710273, 0.8434536977909934, 0.9884375461199394, 1.0498370030774167, 0.20575587701968787, 0.20575587701968787, 0.20575587701968787, 0.41151175403937573, 0.46258073622379314, 0.46258073622379314, 0.9142287951169239, 0.9202091020955324, 0.9616981150017744, 0.8067648800705325, 0.8174754656213606, 0.9788285729747178, 0.8067648800705325, 0.8067648800705325, 1.0136318654924035, 1.1789207103702504, 0.8174754656213606, 0.9884375461199394, 0.8049463946216904, 0.9884375461199394, 0.22705495289425726, 0.4541099057885145, 0.22705495289425726, 0.22705495289425726, 1.0498370030774167, 0.7604080555759016, 1.0498370030774167, 0.55036543945251, 0.275182719726255, 0.7604080555759016, 1.1743778547721357, 0.48908772166023223, 0.48908772166023223, 0.8574984331542213, 1.1789207103702504, 0.15881097846622663, 0.15881097846622663, 0.31762195693245326, 0.15881097846622663, 0.15881097846622663, 1.1743778547721357, 0.8084251596900605, 0.8067648800705325, 1.3443269328822345, 0.8049463946216904, 0.9884375461199394, 0.7604080555759016, 0.6842183253191244, 0.4006014678575137, 0.4006014678575137, 1.1789207103702504, 0.18154055096924945, 0.18154055096924945, 0.3630811019384989, 0.3630811019384989, 0.8574984331542213, 1.0498370030774167, 1.6699623065461244, 0.9616981150017744, 0.7604080555759016, 0.9884375461199394, 0.7221092347114372, 0.8174754656213606, 0.9616981150017744, 0.9884375461199394, 0.4293611320541326, 0.4293611320541326, 0.8574984331542213, 0.8084251596900605, 0.9884375461199394, 0.6472417952681259, 0.8049463946216904, 0.9616981150017744, 0.7604080555759016, 1.471563296569278, 0.9788285729747178, 1.2552466201317538, 0.9616981150017744, 0.9616981150017744, 0.1610927136207374, 0.1610927136207374, 0.1610927136207374, 0.1610927136207374, 0.1610927136207374, 1.0441279857824062, 0.8434536977909934, 0.8174754656213606, 0.7604080555759016, 0.8049463946216904, 0.9202091020955324, 1.1789207103702504, 0.9788285729747178, 0.9884375461199394, 0.8174754656213606, 1.1743778547721357, 0.9884375461199394, 0.8084251596900605, 0.8067648800705325, 0.8574984331542213, 1.0441279857824062, 0.4853537809046324, 0.4853537809046324, 1.3443269328822345, 0.8174754656213606, 0.8049463946216904, 1.0441279857824062, 0.5766913730145801, 0.28834568650729003, 1.1743778547721357, 0.8084251596900605, 0.7604080555759016, 0.7604080555759016, 0.45661385703938934, 0.45661385703938934, 0.8084251596900605, 0.8049463946216904, 1.0498370030774167, 1.0498370030774167, 0.6960109869999378, 0.8434536977909934, 0.5319486331797634, 0.5319486331797634, 0.1701267359265863, 0.1701267359265863, 0.3402534718531726, 0.3402534718531726, 0.8084251596900605, 1.0498370030774167, 0.3411109869415056, 0.3411109869415056, 0.3411109869415056, 0.7604080555759016, 1.2552466201317538, 0.41634649174327676, 0.41634649174327676, 0.5248097168553679, 0.5248097168553679, 1.3443269328822345, 0.42608108150804813, 0.42608108150804813, 1.6699623065461244, 0.9884375461199394, 0.9202091020955324, 0.9616981150017744, 0.9616981150017744, 0.9616981150017744, 0.2773639257524162, 0.2773639257524162, 0.2773639257524162, 0.2773639257524162, 1.0686997044229944, 1.0498370030774167, 0.3043611247181294, 0.3043611247181294, 0.3043611247181294, 0.7604080555759016, 0.8174754656213606, 1.0441279857824062, 0.9616981150017744, 1.7566020800521343, 0.8049463946216904, 0.9884375461199394, 1.1743778547721357, 1.3443269328822345, 0.20032135105981888, 0.40064270211963776, 0.20032135105981888, 0.20032135105981888, 0.5103568664988528, 0.5103568664988528, 0.8574984331542213, 0.38289861799145525, 0.38289861799145525, 0.7604080555759016, 1.0498370030774167, 0.9884375461199394, 0.8174754656213606, 0.369408129287754, 0.369408129287754, 0.369408129287754, 0.8434536977909934, 0.4195927787955088, 0.4195927787955088, 1.0498370030774167, 0.8049463946216904, 1.05374118779655, 1.7566020800521343, 0.8049463946216904, 0.9142287951169239, 0.460378750481221, 0.460378750481221, 0.9884375461199394, 0.8067648800705325, 0.3206435393643296, 0.10688117978810986, 0.21376235957621972, 0.10688117978810986, 0.10688117978810986, 0.10688117978810986, 0.7604080555759016, 1.3443269328822345, 0.8000456764043161, 0.8084251596900605, 0.8174754656213606, 1.3443269328822345, 1.3443269328822345, 1.3443269328822345, 0.9616981150017744, 0.8067648800705325, 0.7604080555759016, 0.5289213252479931, 0.5289213252479931, 0.9142287951169239, 0.8174754656213606, 0.8174754656213606, 1.0441279857824062, 0.9202091020955324, 0.7604080555759016, 0.8084251596900605, 1.471563296569278, 0.8049463946216904, 1.163320661952386, 0.4398345881675538, 0.4398345881675538, 0.8434536977909934, 0.9788285729747178, 0.8574984331542213, 0.6441111959564748, 0.8574984331542213, 0.9884375461199394, 1.0498370030774167, 0.9788285729747178, 1.0498370030774167, 1.2552466201317538, 1.6699623065461244, 0.4529100413385282, 0.4529100413385282, 0.8434536977909934, 1.0498370030774167, 0.5113638304134325, 0.5113638304134325, 0.8049463946216904, 0.9202091020955324, 0.9616981150017744, 1.05374118779655, 0.8067648800705325, 1.3071576048210607, 0.31884267141945216, 0.31884267141945216, 0.31884267141945216, 0.4539596108883763, 0.4539596108883763, 0.8174754656213606, 1.6699623065461244, 0.9142287951169239, 0.9202091020955324, 1.2552466201317538, 0.8174754656213606, 0.8049463946216904, 0.299084982325296, 0.598169964650592, 0.299084982325296, 1.1743778547721357, 1.2552466201317538, 1.1743778547721357, 1.471563296569278, 0.8174754656213606, 0.9142287951169239, 0.7410900242872617, 1.1743778547721357, 0.9202091020955324, 0.8174754656213606, 0.8574984331542213, 0.9884375461199394, 0.8434536977909934, 0.8174754656213606, 0.9142287951169239, 0.9884375461199394, 0.9788285729747178, 1.1743778547721357, 1.1743778547721357, 1.0498370030774167, 1.0498370030774167, 1.0498370030774167, 0.5534688687643832, 0.5534688687643832, 0.9884375461199394, 0.9142287951169239, 1.0441279857824062, 0.7604080555759016, 0.9616981150017744, 1.0441279857824062, 0.28370777804264274, 0.09456925934754758, 0.09456925934754758, 0.18913851869509515, 0.09456925934754758, 0.09456925934754758, 0.09456925934754758, 1.2552466201317538, 1.0441279857824062, 1.471563296569278, 0.19183932512141053, 0.19183932512141053, 0.19183932512141053, 0.19183932512141053, 0.19183932512141053, 0.6185110325798434, 0.6185110325798434, 0.5099697342608618, 0.5099697342608618, 0.8174754656213606, 0.4304103958499886, 0.4304103958499886, 0.8067648800705325, 1.3443269328822345, 1.471563296569278, 1.05374118779655, 1.1789207103702504, 0.4557071562599094, 0.4557071562599094, 0.9202091020955324, 0.9202091020955324, 0.6084520589400696, 0.6084520589400696, 1.471563296569278, 0.8067648800705325, 0.8174754656213606, 0.8174754656213606, 0.7604080555759016, 0.8434536977909934, 0.9788285729747178, 0.34209882744394343, 0.34209882744394343, 0.34209882744394343, 0.17104941372197172, 0.9202091020955324, 0.8574984331542213, 0.35040969798070337, 0.7008193959614067, 0.9616981150017744, 1.0498370030774167, 1.0441279857824062, 1.3443269328822345], \"Term\": [\"120\", \"1255813063925776384\", \"185bt92gvuurv\", \"2015\", \"2vs8gpu\", \"4ever\", \"52stuu4wqh\", \"a2\", \"abort\", \"accept\", \"ad\", \"ainib68von\", \"alcohol\", \"all\", \"all\", \"all\", \"all\", \"allow\", \"along\", \"also\", \"altern\", \"am\", \"am\", \"amaz\", \"ani\", \"anim\", \"anim\", \"antivir\", \"anyon\", \"are\", \"are\", \"are\", \"ariana\", \"at\", \"at\", \"avail\", \"back\", \"backtonatur\", \"bacon\", \"be\", \"be\", \"be\", \"beef\", \"besid\", \"best\", \"between\", \"biden\", \"black\", \"blend\", \"booster\", \"bought\", \"bout\", \"brah\", \"braid\", \"bread\", \"brown\", \"brunch\", \"brussel\", \"butter\", \"buy\", \"by\", \"by\", \"calori\", \"came\", \"came\", \"can\", \"can\", \"cascad\", \"cascadeyarn\", \"cashew\", \"cdezvz3585\", \"char\", \"chee\", \"chee\", \"chefderricka\", \"cherri\", \"chicken\", \"children\", \"china\", \"chine\", \"classi\", \"clove\", \"coconut\", \"coff\", \"convinc\", \"cook\", \"cook\", \"cook\", \"cook\", \"could\", \"coupl\", \"coven\", \"credit\", \"curri\", \"custom\", \"cut\", \"daughter\", \"decent\", \"differ\", \"dinner\", \"dirti\", \"discov\", \"disgust\", \"disrespect\", \"do\", \"do\", \"doesn\", \"don\", \"don\", \"donut\", \"dough\", \"down\", \"eat\", \"eat\", \"eat\", \"eat\", \"ee\", \"ee\", \"eggplant\", \"either\", \"elderberri\", \"enough\", \"environ\", \"even\", \"except\", \"face\", \"fact\", \"fake\", \"farm\", \"fill\", \"flash\", \"followyourheart\", \"food\", \"food\", \"food\", \"food\", \"fuck\", \"full\", \"garlic\", \"get\", \"get\", \"glaze\", \"gluten\", \"go\", \"go\", \"go8ng\", \"god\", \"good\", \"good\", \"good\", \"good\", \"good\", \"goodpop\", \"googl\", \"grand\", \"gray\", \"green\", \"had\", \"half\", \"happi\", \"has\", \"has\", \"hate\", \"have\", \"have\", \"have\", \"have\", \"haven\", \"hazelnut\", \"healthi\", \"healthylifestyl\", \"hennessi\", \"herb\", \"hey\", \"hog\", \"homestead\", \"hot\", \"how\", \"how\", \"htm\", \"hypoallergen\", \"iday\", \"idg\", \"ie\", \"ift\", \"igshid\", \"ikbuu3vi5r\", \"imho\", \"imma\", \"immun\", \"immuneboost\", \"in\", \"in\", \"in\", \"in\", \"in\", \"industri\", \"ingredi\", \"insidi\", \"instagram\", \"instead\", \"intercour\", \"intol\", \"irish\", \"jalap\", \"johnoberg\", \"justsogood\", \"kalamata\", \"keep\", \"kim\", \"knit\", \"lben\", \"least\", \"least\", \"leather\", \"legaci\", \"lemon\", \"less\", \"like\", \"like\", \"lime\", \"line\", \"link\", \"linktr\", \"littl\", \"littl\", \"look\", \"lot\", \"love\", \"lrg\", \"lunch\", \"mad\", \"made\", \"made\", \"make\", \"make\", \"make\", \"make\", \"makeup\", \"mayday\", \"meat\", \"meat\", \"meat\", \"meatless\", \"meet\", \"mend\", \"mend\", \"milk\", \"milk\", \"mk\", \"more\", \"more\", \"moxiebread\", \"mozzarella\", \"murder\", \"naturalcur\", \"naturalhealth\", \"naturalremedi\", \"need\", \"need\", \"need\", \"need\", \"no\", \"nooch\", \"not\", \"not\", \"not\", \"now\", \"obama\", \"off\", \"offgrid\", \"oh\", \"oil\", \"oliv\", \"om\", \"on\", \"one\", \"one\", \"one\", \"one\", \"onion\", \"onion\", \"oooh\", \"option\", \"option\", \"order\", \"oregano\", \"os\", \"our\", \"out\", \"out\", \"out\", \"overcharg\", \"own\", \"own\", \"packag\", \"paprika\", \"pare\", \"pbr\", \"peanut\", \"peel\", \"pepper\", \"pepper\", \"pepperoni\", \"petra\", \"pic\", \"pic\", \"pic\", \"pic\", \"pic\", \"pic\", \"pick\", \"pixi\", \"pizza\", \"pop\", \"pork\", \"posh\", \"poshmark\", \"poshmarkapp\", \"potent\", \"ppl\", \"pre\", \"prefer\", \"prefer\", \"pretti\", \"primari\", \"produc\", \"product\", \"protein\", \"qhhxqpeti\", \"quit\", \"raspberri\", \"raw\", \"re\", \"read\", \"read\", \"realiz\", \"realli\", \"rebound\", \"recip\", \"recycl\", \"red\", \"rosemari\", \"rzd1uyvszn\", \"saaaaauc\", \"safe\", \"salad\", \"salt\", \"salt\", \"same\", \"sass\", \"search\", \"search\", \"see\", \"seen\", \"selfsuffici\", \"sen\", \"she\", \"shit\", \"shop\", \"shop\", \"shop\", \"should\", \"should\", \"shown\", \"si9tlmu8k7\", \"similar\", \"skinni\", \"smart\", \"smithfield\", \"smoke\", \"some\", \"some\", \"some\", \"someon\", \"somethin\", \"sponsor\", \"sprout\", \"status\", \"stew\", \"still\", \"stop\", \"super\", \"suppli\", \"sweater\", \"sweet\", \"switch\", \"tarnish\", \"textur\", \"theherbivorousb\", \"their\", \"third\", \"thisisajok\", \"tomati\", \"tomato\", \"tonight\", \"too\", \"too\", \"traderjo\", \"transit\", \"tri\", \"truffl\", \"tt\", \"turn\", \"twitter\", \"twitter\", \"twitter\", \"twitter\", \"twitter\", \"twitter\", \"twitter\", \"tx\", \"type\", \"underherey\", \"up\", \"up\", \"up\", \"up\", \"up\", \"us\", \"us\", \"use\", \"use\", \"utter\", \"ve\", \"ve\", \"version\", \"via\", \"vinaigrett\", \"vs\", \"want\", \"was\", \"was\", \"way\", \"weak\", \"when\", \"when\", \"whew\", \"who\", \"whore\", \"will\", \"wing\", \"wish\", \"witch\", \"with\", \"with\", \"with\", \"with\", \"work\", \"worth\", \"would\", \"would\", \"y3fdjcgswr\", \"yellow\", \"yogurt\", \"zoe\"]}, \"R\": 30, \"lambda.step\": 0.01, \"plot.opts\": {\"xlab\": \"PC1\", \"ylab\": \"PC2\"}, \"topic.order\": [3, 10, 7, 9, 2, 6, 8, 5, 1, 4]};\n",
              "\n",
              "function LDAvis_load_lib(url, callback){\n",
              "  var s = document.createElement('script');\n",
              "  s.src = url;\n",
              "  s.async = true;\n",
              "  s.onreadystatechange = s.onload = callback;\n",
              "  s.onerror = function(){console.warn(\"failed to load library \" + url);};\n",
              "  document.getElementsByTagName(\"head\")[0].appendChild(s);\n",
              "}\n",
              "\n",
              "if(typeof(LDAvis) !== \"undefined\"){\n",
              "   // already loaded: just create the visualization\n",
              "   !function(LDAvis){\n",
              "       new LDAvis(\"#\" + \"ldavis_el124139627370019480328813270\", ldavis_el124139627370019480328813270_data);\n",
              "   }(LDAvis);\n",
              "}else if(typeof define === \"function\" && define.amd){\n",
              "   // require.js is available: use it to load d3/LDAvis\n",
              "   require.config({paths: {d3: \"https://cdnjs.cloudflare.com/ajax/libs/d3/3.5.5/d3.min\"}});\n",
              "   require([\"d3\"], function(d3){\n",
              "      window.d3 = d3;\n",
              "      LDAvis_load_lib(\"https://cdn.rawgit.com/bmabey/pyLDAvis/files/ldavis.v1.0.0.js\", function(){\n",
              "        new LDAvis(\"#\" + \"ldavis_el124139627370019480328813270\", ldavis_el124139627370019480328813270_data);\n",
              "      });\n",
              "    });\n",
              "}else{\n",
              "    // require.js not available: dynamically load d3 & LDAvis\n",
              "    LDAvis_load_lib(\"https://cdnjs.cloudflare.com/ajax/libs/d3/3.5.5/d3.min.js\", function(){\n",
              "         LDAvis_load_lib(\"https://cdn.rawgit.com/bmabey/pyLDAvis/files/ldavis.v1.0.0.js\", function(){\n",
              "                 new LDAvis(\"#\" + \"ldavis_el124139627370019480328813270\", ldavis_el124139627370019480328813270_data);\n",
              "            })\n",
              "         });\n",
              "}\n",
              "</script>"
            ],
            "text/plain": [
              "PreparedData(topic_coordinates=              x         y  topics  cluster       Freq\n",
              "topic                                                \n",
              "2     -0.137116 -0.081291       1        1  13.144218\n",
              "9      0.325561  0.168392       2        1  13.008013\n",
              "6      0.096407 -0.104202       3        1  12.392889\n",
              "8     -0.129110  0.089566       4        1  11.764054\n",
              "1     -0.113946  0.067857       5        1  11.415697\n",
              "5      0.093013  0.054820       6        1   9.582344\n",
              "7     -0.015487 -0.252321       7        1   8.936115\n",
              "4      0.111915 -0.131710       8        1   8.499492\n",
              "0     -0.063860  0.006980       9        1   5.981698\n",
              "3     -0.167377  0.181908      10        1   5.275481, topic_info=          Term      Freq      Total Category  logprob  loglift\n",
              "20442     with  5.000000   5.000000  Default  30.0000  30.0000\n",
              "14636      pic  9.000000   9.000000  Default  29.0000  29.0000\n",
              "3299       are  4.000000   4.000000  Default  28.0000  28.0000\n",
              "15750       re  2.000000   2.000000  Default  27.0000  27.0000\n",
              "7115       eat  4.000000   4.000000  Default  26.0000  26.0000\n",
              "...        ...       ...        ...      ...      ...      ...\n",
              "5763      cook  1.011212   3.504133  Topic10  -3.5993   1.6993\n",
              "8256      food  0.948031   4.404220  Topic10  -3.6638   1.4062\n",
              "19440       up  0.916441   5.212696  Topic10  -3.6977   1.2037\n",
              "14636      pic  1.200756   9.356184  Topic10  -3.4275   0.8890\n",
              "19150  twitter  1.169165  10.574261  Topic10  -3.4541   0.7400\n",
              "\n",
              "[447 rows x 6 columns], token_table=       Topic      Freq                 Term\n",
              "term                                       \n",
              "230        8  1.174378                  120\n",
              "267        2  0.817475  1255813063925776384\n",
              "859        4  0.760408        185bt92gvuurv\n",
              "1162       2  0.817475                 2015\n",
              "1419       3  0.961698              2vs8gpu\n",
              "...      ...       ...                  ...\n",
              "20557      6  0.700819                would\n",
              "20746      3  0.961698           y3fdjcgswr\n",
              "20857     10  1.049837               yellow\n",
              "20980      4  1.044128               yogurt\n",
              "21216      7  1.344327                  zoe\n",
              "\n",
              "[456 rows x 3 columns], R=30, lambda_step=0.01, plot_opts={'xlab': 'PC1', 'ylab': 'PC2'}, topic_order=[3, 10, 7, 9, 2, 6, 8, 5, 1, 4])"
            ]
          },
          "metadata": {
            "tags": []
          },
          "execution_count": 251
        }
      ]
    },
    {
      "cell_type": "markdown",
      "metadata": {
        "id": "GBE74PDNz7rz",
        "colab_type": "text"
      },
      "source": [
        "Methode 2: **GSDMM**"
      ]
    },
    {
      "cell_type": "code",
      "metadata": {
        "id": "g2s9JFnhSNp-",
        "colab_type": "code",
        "colab": {}
      },
      "source": [
        "\n",
        "import random\n",
        "\n",
        "class GibbsSamplingDMM(object):\n",
        "\t\n",
        "\tnumDocuments = 0\n",
        "\tnumWordsInCorpus = 0\n",
        "\tword2IdVocabulary = {}\n",
        "\tid2WordVocabulary = {}\n",
        "\tdocuments = []\n",
        "\toccurenceToIndexCount = []\n",
        "\ttopicAssignments = []\n",
        "\tdocTopicCount = []\n",
        "\ttopicWordCount = []\n",
        "\tsumTopicWordCount = []\n",
        "\tmultiPros = []\n",
        "\tbetaSum=0.\n",
        "\n",
        "\tdef __init__(self, paramters):\n",
        "\t\tsuper(GibbsSamplingDMM, self).__init__()\n",
        "\t\tself.corpus = paramters[\"corpus\"]\n",
        "\t\tself.output = paramters[\"output\"]\n",
        "\t\tself.ntopics = int(paramters[\"ntopics\"])\n",
        "\t\tself.alpha = float(paramters[\"alpha\"])\n",
        "\t\tself.beta = float(paramters[\"beta\"])\n",
        "\t\tself.niters = int(paramters[\"niters\"])\n",
        "\t\tself.twords = int(paramters[\"twords\"])\n",
        "\t\tself.name = paramters[\"name\"]\n",
        "\n",
        "\tdef analyseCorpus(self):\n",
        "\t\tindexWord=0\n",
        "\t\tdata = open(self.corpus).read().splitlines()[:50]\n",
        "\t\tfor doc in data:\n",
        "\t\t\tdocument = []\n",
        "\t\t\twordOccurenceToIndexInDocCount = {}\n",
        "\t\t\twordOccurenceToIndexInDoc = []\n",
        "\t\t\tif doc.rstrip!=None:\n",
        "\t\t\t\twords = doc.rstrip().split()\n",
        "\t\t\t\tfor word in words:\n",
        "\n",
        "\t\t\t\t\tif word in self.word2IdVocabulary:\n",
        "\t\t\t\t\t\tdocument.append(self.word2IdVocabulary[word])\n",
        "\t\t\t\t\telse:\n",
        "\t\t\t\t\t\tself.word2IdVocabulary[word]=indexWord\n",
        "\t\t\t\t\t\tself.id2WordVocabulary[indexWord]=word\n",
        "\t\t\t\t\t\tdocument.append(indexWord)\n",
        "\t\t\t\t\t\tindexWord+=1\n",
        "\n",
        "\t\t\t\t\tif word in wordOccurenceToIndexInDocCount:\n",
        "\t\t\t\t\t\twordOccurenceToIndexInDocCount[word]+=1\n",
        "\t\t\t\t\telse:\n",
        "\t\t\t\t\t\twordOccurenceToIndexInDocCount[word]=1\n",
        "\n",
        "\t\t\t\t\twordOccurenceToIndexInDoc.append(wordOccurenceToIndexInDocCount[word])\n",
        "\n",
        "\t\t\t\tself.numWordsInCorpus+=len(document)\n",
        "\t\t\t\tself.numDocuments+=1\n",
        "\t\t\t\tself.documents.append(document)\n",
        "\t\t\t\tself.occurenceToIndexCount.append(wordOccurenceToIndexInDoc)\n",
        "\n",
        "\t\tself.betaSum=len(self.word2IdVocabulary)*self.beta\n",
        "\n",
        "\n",
        "\tdef topicAssigmentInitialise(self):\n",
        "\t\tself.docTopicCount = [0 for x in range(self.ntopics)]\n",
        "\t\tself.sumTopicWordCount = [0 for x in range(self.ntopics)]\n",
        "\n",
        "\t\tfor i in range(self.ntopics):\n",
        "\t\t\t\tself.topicWordCount.append([0 for x in range(len(self.word2IdVocabulary))])\n",
        "\n",
        "\t\tfor i in range (self.numDocuments):\n",
        "\t\t\ttopic = random.randint(0,self.ntopics-1)\n",
        "\t\t\tself.docTopicCount[topic]+=1\n",
        "\t\t\t\n",
        "\t\t\tfor j in range (len(self.documents[i])):\n",
        "\t\t\t\tself.topicWordCount[topic][self.documents[i][j]]+=1\n",
        "\t\t\t\tself.sumTopicWordCount[topic]+=1\n",
        "\n",
        "\t\t\tself.topicAssignments.append(topic)\n",
        "\n",
        "\tdef nextDiscrete(self,a):\n",
        "\t\tb = 0.\n",
        "\n",
        "\t\tfor i in range(len(a)):\n",
        "\t\t\tb+=a[i]\n",
        "\n",
        "\t\tr = random.uniform(0.,1.)*b\n",
        "\t\t\n",
        "\t\tb=0.\n",
        "\t\tfor i in range (len(a)):\n",
        "\t\t\tb+=a[i]\n",
        "\t\t\tif(b>r):\n",
        "\t\t\t\treturn i\n",
        "\t\treturn len(a)-1\n",
        "\n",
        "\tdef sampleInSingleIteration(self,x):\n",
        "\t\tprint (\"iteration: \"+str(x))\n",
        "\t\tfor d in range(self.numDocuments):\n",
        "\t\t\ttopic = self.topicAssignments[d]\n",
        "\t\t\tself.docTopicCount[topic]-=1\n",
        "\t\t\tdocSize = len(self.documents[d])\n",
        "\t\t\tdocument = self.documents[d]\n",
        "\n",
        "\t\t\tfor w in range(docSize):\n",
        "\t\t\t\tword = document[w]\n",
        "\t\t\t\tself.topicWordCount[topic][word]-=1\n",
        "\t\t\t\tself.sumTopicWordCount[topic]-=1\n",
        "\t\t\t\n",
        "\n",
        "\t\t\tfor t in range(self.ntopics):\n",
        "\t\t\t\tself.multiPros[t] = self.docTopicCount[t]+self.alpha\n",
        "\n",
        "\t\t\t\tfor w in range(docSize):\n",
        "\t\t\t\t\tword = document[w]\n",
        "\t\t\t\t\tself.multiPros[t] *= (self.topicWordCount[t][word]+self.beta+self.occurenceToIndexCount[d][w]-1)/(self.sumTopicWordCount[t]+w+self.betaSum)\n",
        "\t\t\t\t\n",
        "\t\t\t\t\t\n",
        "\t\t\t#print self.multiPros\n",
        "\t\t\ttopic = self.nextDiscrete(self.multiPros)\n",
        "\t\t\t#print topic\n",
        "\n",
        "\t\t\tself.docTopicCount[topic]+=1\n",
        "\n",
        "\t\t\tfor w in range(docSize):\n",
        "\t\t\t\tword = document[w]\n",
        "\t\t\t\tself.topicWordCount[topic][word]+=1\n",
        "\t\t\t\tself.sumTopicWordCount[topic]+=1\n",
        "\n",
        "\t\t\tself.topicAssignments[d] = topic\n",
        "\n",
        "\tdef inference(self):\n",
        "\t\tself.multiPros = [0 for x in range(self.ntopics)]\n",
        "\t\t[self.sampleInSingleIteration(x) for x in range(self.niters)]\n",
        "\n",
        "\tdef writeTopicAssignments(self):\n",
        "\t\tfile = open(self.output+self.name+\"topicAssignments.txt\",\"w\")\n",
        "\t\t#for i in range(self.numDocuments):\n",
        "\t\t[file.write(str(self.topicAssignments[i])+\"\\n\") for i in range(self.numDocuments)]\n",
        "\n",
        "\n",
        "\n",
        "\tdef writeTopTopicalWords(self):\n",
        "\t\tfile = open(self.output+self.name+\"topWords.txt\",\"w\") \n",
        "\t\tfor t in range(self.ntopics):\n",
        "\t\t\twordCount = {w:self.topicWordCount[t][w] for w in range(len(self.word2IdVocabulary))}\n",
        "\t\t\t\n",
        "\t\t\tcount =0\n",
        "\t\t\tstring=\"Topic \"+str(t)+\": \"\n",
        "\t\t\t\n",
        "\t\t\tfor index in sorted(wordCount, key=wordCount.get, reverse=True):\n",
        "\t\t\t\tstring += self.id2WordVocabulary[index]+\" \"\n",
        "\t\t\t\tcount+=1\n",
        "\t\t\t\tif count>=self.twords:\n",
        "\t\t\t\t\tfile.write(string+\"\\n\") \n",
        "\t\t\t\t\t# print string\n",
        "\t\t\t\t\tbreak\n",
        "\t\tfile.close()"
      ],
      "execution_count": 0,
      "outputs": []
    },
    {
      "cell_type": "code",
      "metadata": {
        "id": "I21IX6ExSQ2d",
        "colab_type": "code",
        "colab": {}
      },
      "source": [
        "params = {\"corpus\":\"TweetCorpus.txt\", \n",
        "          \"output\": \"outGSDMM\", \n",
        "          \"ntopics\": \"20\", \n",
        "          \"alpha\":\"0.1\",\n",
        "          \"beta\":\"0.1\", \n",
        "          \"niters\":\"300\",\n",
        "          \"twords\":\"20\",\n",
        "          \"name\":\"\"}\n",
        "\n",
        "model = GibbsSamplingDMM(params)\n",
        "model.analyseCorpus()\n",
        "model.topicAssigmentInitialise()\n",
        "model.inference()\n",
        "\t\n",
        "print (\"Writing Results\")\n",
        "model.writeTopTopicalWords()\n",
        "model.writeTopicAssignments()"
      ],
      "execution_count": 0,
      "outputs": []
    },
    {
      "cell_type": "markdown",
      "metadata": {
        "id": "OmivnfF60fR5",
        "colab_type": "text"
      },
      "source": [
        "Method 3: **LDA ** \n"
      ]
    },
    {
      "cell_type": "markdown",
      "metadata": {
        "id": "XMSY3ftnPc7F",
        "colab_type": "text"
      },
      "source": [
        "Firstly, I am creating a dictionary from our data, then I am converting it into a bag-of-words corpus and then saving the dictionary and corpus for future use using pickle library"
      ]
    },
    {
      "cell_type": "code",
      "metadata": {
        "id": "IP-ZRi59Q2Nj",
        "colab_type": "code",
        "colab": {}
      },
      "source": [
        "\n",
        "parser = English()\n",
        "def tokenize(text):\n",
        "    lda_tokens = []\n",
        "    tokens = parser(text)\n",
        "    for token in tokens:\n",
        "        if token.orth_.isspace():\n",
        "            continue\n",
        "        elif token.like_url:\n",
        "            lda_tokens.append('URL')\n",
        "        elif token.orth_.startswith('@'):\n",
        "            lda_tokens.append('SCREEN_NAME')\n",
        "        else:\n",
        "            lda_tokens.append(token.lower_)\n",
        "    return lda_tokens"
      ],
      "execution_count": 0,
      "outputs": []
    },
    {
      "cell_type": "code",
      "metadata": {
        "id": "ULoeKYqGQ5xN",
        "colab_type": "code",
        "colab": {}
      },
      "source": [
        "text_data = []\n",
        "for row in tqdm(data):\n",
        "    tokens = tokenize(row)\n",
        "    text_data.append(tokens)"
      ],
      "execution_count": 0,
      "outputs": []
    },
    {
      "cell_type": "code",
      "metadata": {
        "id": "JxFiSj9EJ6cO",
        "colab_type": "code",
        "colab": {}
      },
      "source": [
        "print(\"Generating corpus and dictionary...\")\n",
        "\n",
        "dictionary = corpora.Dictionary(text_data)\n",
        "corpus = [dictionary.doc2bow(text) for text in text_data]\n",
        "pickle.dump(corpus, open('corpus.pkl', 'wb'))\n",
        "dictionary.save('dictionary.gensim')"
      ],
      "execution_count": 0,
      "outputs": []
    },
    {
      "cell_type": "code",
      "metadata": {
        "id": "FrRtOBaoFgn4",
        "colab_type": "code",
        "colab": {}
      },
      "source": [
        "%%time\n",
        "print(\"Training LDA model on train dataframe...\")\n",
        "\n",
        "NUM_TOPICS = 20\n",
        "start_time = time.time()\n",
        "ldamodel = gensim.models.ldamodel.LdaModel(corpus, \n",
        "                                           num_topics=NUM_TOPICS, \n",
        "                                           random_state=89, \n",
        "                                           update_every=1,  \n",
        "                                           id2word=dictionary, \n",
        "                                           passes=42, \n",
        "                                           alpha='auto', \n",
        "                                           per_word_topics=True)\n",
        "\n",
        "ldamodel.save('model' + str(NUM_TOPICS) + '.gensim')\n",
        "train_time = time.time() - start_time\n",
        "print(\"Training Time --- %s seconds \" % (round(train_time, 2)))"
      ],
      "execution_count": 0,
      "outputs": []
    },
    {
      "cell_type": "code",
      "metadata": {
        "id": "s1ZdN5Ht0j8D",
        "colab_type": "code",
        "colab": {}
      },
      "source": [
        "print(\"Allocated models of each topic...\")\n",
        "\n",
        "topics_train = []\n",
        "topics = ldamodel.print_topics()\n",
        "for topic in topics:\n",
        "    pprint(topic)\n",
        "    topics_train.append(topic)\n",
        "    \n",
        "\n",
        "with open(\"results_train.txt\", 'w') as f:\n",
        "    pprint(topics_train, stream=f)"
      ],
      "execution_count": 0,
      "outputs": []
    },
    {
      "cell_type": "code",
      "metadata": {
        "id": "AfuV-kblJl6j",
        "colab_type": "code",
        "colab": {
          "base_uri": "https://localhost:8080/",
          "height": 54
        },
        "outputId": "08bc3667-e43e-4a18-9b2a-364933943977"
      },
      "source": [
        "# Compute Perplexity\n",
        "print('\\nPerplexity: ', ldamodel.log_perplexity(corpus))  # a measure of how good the model is. lower the better.\n",
        "\n",
        "# Compute Coherence Score\n",
        "coherence_model_lda = CoherenceModel(model=ldamodel, texts=text_data, dictionary=dictionary, coherence='c_v')\n",
        "coherence_lda = coherence_model_lda.get_coherence()\n",
        "print('\\nCoherence Score: ', coherence_lda)"
      ],
      "execution_count": 65,
      "outputs": [
        {
          "output_type": "stream",
          "text": [
            "\n",
            "Coherence Score:  0.411081838512219\n"
          ],
          "name": "stdout"
        }
      ]
    },
    {
      "cell_type": "code",
      "metadata": {
        "id": "0Lt4U_0LKaPM",
        "colab_type": "code",
        "outputId": "ad0a090b-e4cd-41ff-9f51-d7643da4a18f",
        "colab": {
          "base_uri": "https://localhost:8080/",
          "height": 861
        }
      },
      "source": [
        "# Visualizing our optimal model with 100 topics\n",
        "vis = pyLDAvis.gensim.prepare(ldamodel, corpus, dictionary)\n",
        "pyLDAvis.save_html(vis, 'testoutput_LDA.html')\n",
        "vis"
      ],
      "execution_count": 64,
      "outputs": [
        {
          "output_type": "execute_result",
          "data": {
            "text/html": [
              "\n",
              "<link rel=\"stylesheet\" type=\"text/css\" href=\"https://cdn.rawgit.com/bmabey/pyLDAvis/files/ldavis.v1.0.0.css\">\n",
              "\n",
              "\n",
              "<div id=\"ldavis_el121140529669358840403254594\"></div>\n",
              "<script type=\"text/javascript\">\n",
              "\n",
              "var ldavis_el121140529669358840403254594_data = {\"mdsDat\": {\"x\": [-0.41864303623540633, 0.021215303076284834, -0.10203788344886403, -0.04217484001246872, -0.08237535841305318, -0.04920700400110204, -0.0056433375761006455, 0.04948375294345981, -0.014629564013833318, -0.028719540632405584, 0.09127603327819567, 0.07413847718692824, 0.053804686492220664, 0.031977571297782274, 0.12376297119288329, 0.009367522250916784, 0.07497842516207937, 0.025609372472964773, 0.0872800956814653, 0.10053635329805262], \"y\": [0.1092213149557398, 0.19659604934567276, -0.04773811382282111, 0.23473720870217607, -0.1735085718569972, -0.1658633399869406, -0.06777644215203203, -0.02849167049840813, -0.05424998026266438, -0.11197218366631499, 0.13287264931844797, -0.017414363106755305, 0.039742125085716486, -0.03639242410547341, 0.08958321563290414, -0.04658407363811905, 0.0026618441665236625, -0.0525873761952544, -0.008769251227469447, 0.005933383312068377], \"topics\": [1, 2, 3, 4, 5, 6, 7, 8, 9, 10, 11, 12, 13, 14, 15, 16, 17, 18, 19, 20], \"cluster\": [1, 1, 1, 1, 1, 1, 1, 1, 1, 1, 1, 1, 1, 1, 1, 1, 1, 1, 1, 1], \"Freq\": [47.792396545410156, 4.644134521484375, 4.122420310974121, 3.705199718475342, 3.2667603492736816, 3.186800003051758, 3.1480278968811035, 3.0487585067749023, 2.915936231613159, 2.760430097579956, 2.543027877807617, 2.4783527851104736, 2.4232592582702637, 2.4209823608398438, 2.302795648574829, 2.0459275245666504, 2.036738395690918, 1.7689911127090454, 1.7127037048339844, 1.6763508319854736]}, \"tinfo\": {\"Term\": [\"i\", \"vegan\", \"b\", \"pic\", \"with\", \"anim\", \"how\", \"instagram\", \"p\", \"go\", \"ee\", \"recip\", \"igshid\", \"on\", \"he\", \"she\", \"be\", \"still\", \"peopl\", \"food\", \"chees\", \"am\", \"we\", \"our\", \"status\", \"out\", \"day\", \"have\", \"not\", \"make\", \"i\", \"am\", \"have\", \"eat\", \"like\", \"do\", \"some\", \"it\", \"don\", \"one\", \"tri\", \"not\", \"think\", \"know\", \"would\", \"you\", \"them\", \"look\", \"need\", \"been\", \"onli\", \"realli\", \"thing\", \"say\", \"has\", \"had\", \"got\", \"too\", \"year\", \"feel\", \"meat\", \"can\", \"good\", \"be\", \"will\", \"on\", \"all\", \"make\", \"who\", \"get\", \"we\", \"at\", \"vegetarian\", \"go\", \"now\", \"food\", \"om\", \"out\", \"vegan\", \"with\", \"pic\", \"still\", \"beef\", \"beefin\", \"lmao\", \"goin\", \"steak\", \"anti\", \"idk\", \"sell\", \"attack\", \"joke\", \"wow\", \"harm\", \"push\", \"parent\", \"onc\", \"mozzarella\", \"toxic\", \"except\", \"wit\", \"patti\", \"annoy\", \"societi\", \"ladi\", \"toward\", \"fire\", \"spend\", \"christian\", \"meatless\", \"obsess\", \"again\", \"yeah\", \"real\", \"read\", \"ain\", \"lie\", \"plete\", \"how\", \"run\", \"eater\", \"consid\", \"side\", \"studi\", \"type\", \"with\", \"oh\", \"w\", \"go\", \"or\", \"littl\", \"hair\", \"onlin\", \"makeup\", \"suppli\", \"websit\", \"vanilla\", \"pre\", \"lip\", \"hi\", \"cold\", \"sun\", \"accept\", \"door\", \"school\", \"detail\", \"bath\", \"europ\", \"partner\", \"brunch\", \"balanc\", \"ginger\", \"forev\", \"resourc\", \"defici\", \"seafood\", \"opportun\", \"kit\", \"turmer\", \"spaghetti\", \"woo\", \"skincar\", \"vitamin\", \"shop\", \"skin\", \"our\", \"order\", \"color\", \"avail\", \"natur\", \"beauti\", \"cruelti\", \"deliveri\", \"product\", \"store\", \"check\", \"essenti\", \"deliv\", \"ee\", \"vegan\", \"new\", \"om\", \"pic\", \"support\", \"we\", \"100\", \"out\", \"ism\", \"choic\", \"abus\", \"industri\", \"shortag\", \"issu\", \"imagin\", \"matter\", \"poor\", \"murder\", \"fulli\", \"argu\", \"rather\", \"size\", \"limit\", \"hunt\", \"exploit\", \"individu\", \"practic\", \"oatmeal\", \"activist\", \"shut\", \"paper\", \"area\", \"ah\", \"movement\", \"assum\", \"notic\", \"lack\", \"racist\", \"far\", \"fat\", \"educ\", \"feed\", \"won\", \"seen\", \"anim\", \"import\", \"hey\", \"action\", \"human\", \"es\", \"everyth\", \"kill\", \"support\", \"peopl\", \"hard\", \"environ\", \"diet\", \"there\", \"cruelti\", \"whi\", \"pancak\", \"cbd\", \"queen\", \"crueltyfre\", \"mothersday\", \"vegnew\", \"cookbook\", \"thai\", \"cheesecak\", \"select\", \"classic\", \"chines\", \"cleans\", \"hemp\", \"plantpow\", \"un\", \"sprout\", \"lime\", \"00\", \"artisan\", \"beyondmeat\", \"tuna\", \"yellow\", \"boot\", \"click\", \"berri\", \"meetedgar\", \"anywher\", \"da\", \"doordash\", \"strawberri\", \"quinoa\", \"dress\", \"pack\", \"ly\", \"these\", \"ow\", \"salad\", \"plantbas\", \"quick\", \"parti\", \"buff\", \"guid\", \"chef\", \"bit\", \"breakfast\", \"pic\", \"healthi\", \"recip\", \"meal\", \"vegan\", \"protein\", \"link\", \"food\", \"inspir\", \"delici\", \"our\", \"may\", \"base\", \"blog\", \"with\", \"nutrit\", \"plant\", \"dinner\", \"easi\", \"bread\", \"cooki\", \"banana\", \"roast\", \"curri\", \"peanut\", \"finish\", \"pot\", \"load\", \"later\", \"chocol\", \"skinni\", \"hippi\", \"instant\", \"pumpkin\", \"seri\", \"project\", \"22\", \"shot\", \"animalcruelti\", \"goodi\", \"distanc\", \"accord\", \"revers\", \"purs\", \"concentr\", \"mate\", \"curbsid\", \"ost\", \"titl\", \"dlvr\", \"chip\", \"recip\", \"bake\", \"homemad\", \"browni\", \"cake\", \"lemon\", \"youtub\", \"youtu\", \"chickpea\", \"sweet\", \"butter\", \"home\", \"bag\", \"via\", \"dessert\", \"cook\", \"vegan\", \"delici\", \"05\", \"mushroom\", \"potato\", \"pic\", \"2020\", \"with\", \"rice\", \"made\", \"pizza\", \"green\", \"ate\", \"soup\", \"carrot\", \"powder\", \"seed\", \"slice\", \"cider\", \"proud\", \"attempt\", \"cute\", \"hummus\", \"bakeri\", \"noodl\", \"lettuc\", \"ground\", \"heaven\", \"rest\", \"turkey\", \"shrimp\", \"pinterest\", \"melt\", \"suck\", \"amzn\", \"l\", \"flavour\", \"pin\", \"mapl\", \"crab\", \"donut\", \"yummi\", \"three\", \"sunday\", \"lunch\", \"mini\", \"1\", \"excit\", \"pasta\", \"launch\", \"4\", \"2\", \"salt\", \"bowl\", \"3\", \"smoke\", \"ingredi\", \"tonight\", \"cake\", \"pic\", \"dinner\", \"bean\", \"order\", \"veget\", \"w\", \"made\", \"butter\", \"b\", \"instagram\", \"igshid\", \"p\", \"game\", \"pm\", \"yeast\", \"mango\", \"broccoli\", \"biscuit\", \"repost\", \"gravi\", \"changer\", \"rock\", \"california\", \"lover\", \"tacotuesday\", \"iamtabithabrown\", \"minc\", \"arbonn\", \"china\", \"instagr\", \"comfort\", \"correct\", \"rip\", \"wednesday\", \"sorbet\", \"manufactur\", \"pineappl\", \"tap\", \"friday\", \"icecream\", \"cup\", \"yesterday\", \"tomorrow\", \"pie\", \"special\", \"delici\", \"taco\", \"dinner\", \"our\", \"day\", \"with\", \"new\", \"today\", \"tonight\", \"ing\", \"sausag\", \"roll\", \"mayo\", \"onion\", \"tomato\", \"corn\", \"grill\", \"beyond\", \"spice\", \"cinco\", \"mexican\", \"mend\", \"waffl\", \"wrap\", \"stuf\", \"opinion\", \"io\", \"shred\", \"queso\", \"salsa\", \"de\", \"supermarket\", \"pickl\", \"although\", \"nail\", \"profit\", \"heat\", \"tortilla\", \"synthet\", \"h\", \"spinach\", \"garlic\", \"pepper\", \"ad\", \"sauc\", \"bean\", \"ie\", \"hot\", \"red\", \"sandwich\", \"cashew\", \"black\", \"avocado\", \"potato\", \"r\", \"tofu\", \"with\", \"chees\", \"pic\", \"taco\", \"burger\", \"gluten\", \"soap\", \"glute\", \"almond\", \"pesto\", \"burrito\", \"paleo\", \"athlet\", \"dair\", \"ec\", \"valu\", \"italian\", \"wheat\", \"asparagus\", \"favourit\", \"expect\", \"wash\", \"healthyliv\", \"southern\", \"bs\", \"record\", \"function\", \"popcorn\", \"none\", \"develop\", \"sugar\", \"statement\", \"rosemari\", \"dem\", \"fuckin\", \"unit\", \"ee\", \"free\", \"eaten\", \"super\", \"clean\", \"fanci\", \"net\", \"oil\", \"dough\", \"coconut\", \"rang\", \"anic\", \"contain\", \"milk\", \"pic\", \"dairi\", \"plantbas\", \"flour\", \"easi\", \"cruelt\", \"new\", \"vegan\", \"with\", \"non\", \"bar\", \"hand\", \"snack\", \"she\", \"her\", \"gir\", \"block\", \"funni\", \"drive\", \"pls\", \"ment\", \"tw\", \"respons\", \"weird\", \"pig\", \"junk\", \"rais\", \"thread\", \"medic\", \"intak\", \"dream\", \"fund\", \"pro\", \"appar\", \"forward\", \"nyc\", \"admit\", \"tend\", \"street\", \"1258118492928249856\", \"peach\", \"moistur\", \"shirt\", \"ta\", \"ur\", \"omega\", \"report\", \"babi\", \"bitch\", \"reduc\", \"expens\", \"surpris\", \"sorri\", \"tho\", \"often\", \"list\", \"3\", \"littl\", \"status\", \"health\", \"mani\", \"he\", \"his\", \"bacon\", \"omg\", \"smell\", \"bottl\", \"muffin\", \"vinegar\", \"carb\", \"joe\", \"meatbal\", \"bun\", \"extrem\", \"trader\", \"bo\", \"four\", \"meant\", \"abt\", \"mg\", \"receiv\", \"household\", \"weren\", \"lazi\", \"tabl\", \"squash\", \"popular\", \"varieti\", \"viva\", \"depend\", \"neighbor\", \"him\", \"mix\", \"minut\", \"head\", \"iend\", \"oven\", \"kitchen\", \"home\", \"nice\", \"pic\", \"with\", \"sweet\", \"n\", \"covid\", \"19\", \"box\", \"factori\", \"content\", \"fight\", \"piec\", \"lavend\", \"countri\", \"lower\", \"bill\", \"demand\", \"husband\", \"grain\", \"goodearthbeauti\", \"custom\", \"virus\", \"doctor\", \"result\", \"flower\", \"sexi\", \"confus\", \"gg\", \"survey\", \"infecti\", \"enter\", \"gate\", \"chorizo\", \"bagel\", \"chatwithvera\", \"lentil\", \"mother\", \"servic\", \"wonder\", \"20\", \"win\", \"farm\", \"giveaway\", \"end\", \"plan\", \"30\", \"basic\", \"day\", \"gift\", \"04\", \"2020\", \"earth\", \"html\", \"big\", \"2\", \"provid\", \"bet\", \"api\", \"price\", \"detox\", \"rawpassionuk\", \"key\", \"along\", \"yoga\", \"brother\", \"slutti\", \"an\", \"build\", \"b12\", \"usa\", \"public\", \"trust\", \"class\", \"000\", \"prevent\", \"jam\", \"expert\", \"proper\", \"hospit\", \"theecologist\", \"wholefood\", \"univers\", \"troll\", \"hero\", \"moisturis\", \"etsi\", \"raw\", \"passion\", \"futur\", \"pandem\", \"supplement\", \"women\", \"men\", \"05\", \"2020\", \"organ\", \"vegan\", \"articl\", \"diet\", \"sourc\", \"utm\", \"may\", \"fit\", \"plant\", \"list\", \"coronavirus\", \"hit\", \"mac\", \"wing\", \"sister\", \"per\", \"knew\", \"design\", \"ranch\", \"ramen\", \"speak\", \"hold\", \"las\", \"haha\", \"obvious\", \"buffalo\", \"chick\", \"weightloss\", \"eye\", \"loss\", \"scare\", \"swear\", \"refus\", \"known\", \"herbivor\", \"patient\", \"nasti\", \"chilli\", \"evil\", \"stir\", \"earlier\", \"spot\", \"face\", \"cauliflow\", \"hear\", \"wait\", \"me\", \"n\", \"chees\", \"ass\", \"pet\", \"name\", \"ie\", \"o\", \"soy\", \"menu\", \"few\", \"past\", \"stick\", \"toast\", \"gmo\", \"workout\", \"gummi\", \"immun\", \"ill\", \"woman\", \"healthyeat\", \"victim\", \"superfood\", \"thousand\", \"boost\", \"insult\", \"quot\", \"fudg\", \"liber\", \"mum\", \"diabet\", \"convert\", \"plantbasednew\", \"sperm\", \"fuel\", \"bore\", \"antinat\", \"sooth\", \"warn\", \"explain\", \"brutal\", \"gl\", \"experi\", \"art\", \"system\", \"govegan\", \"friend\", \"co\", \"review\", \"news\", \"snack\", \"uk\", \"diseas\", \"eco\", \"fit\", \"smoothi\", \"keto\", \"nation\", \"vegan\", \"pic\", \"health\", \"drink\", \"healthi\", \"by\", \"leather\", \"chili\", \"li\", \"this\", \"sh\", \"3dext1\", \"referr\", \"shopmycloset\", \"trk\", \"3dbranch\", \"26rfuid\", \"3dsh\", \"26ext\", \"liquid\", \"south\", \"govern\", \"phone\", \"holocaust\", \"petit\", \"protest\", \"religion\", \"gym\", \"animallov\", \"encourag\", \"discount\", \"bamboo\", \"web\", \"model\", \"hors\", \"sentient\", \"v\", \"featur\", \"bite\", \"what\", \"cri\", \"el\", \"middl\", \"dietari\", \"code\", \"truth\", \"sale\", \"utm\", \"watch\", \"youtub\", \"sourc\", \"vegan\", \"status\", \"out\", \"campaign\", \"on\", \"cream\", \"ice\", \"music\", \"offici\", \"fashion\", \"goal\", \"beer\", \"throne\", \"tuesday\", \"nam\", \"wtf\", \"unfortun\", \"below\", \"dip\", \"plastic\", \"imma\", \"glass\", \"mistic\", \"hqhap4jiyt\", \"gnyy\", \"rrkxtr\", \"mv\", \"paint\", \"feminist\", \"apart\", \"sour\", \"anxieti\", \"pink\", \"bruh\", \"dalgona\", \"coffe\", \"pull\", \"effect\", \"50\", \"g\", \"video\", \"ly\", \"market\", \"pic\", \"vegan\", \"youtu\", \"buff\", \"over\", \"best\", \"recip\", \"social\", \"safe\", \"near\", \"reviveoldpost\", \"sushi\", \"travel\", \"pescatarian\", \"fave\", \"en\", \"howev\", \"shape\", \"reward\", \"fur\", \"disappoint\", \"episod\", \"king\", \"fiber\", \"margarita\", \"60\", \"truck\", \"fajita\", \"sourdough\", \"boil\", \"aye\", \"cracker\", \"tattoo\", \"inde\", \"tropic\", \"biodegrad\", \"valid\", \"medium\", \"awesom\", \"utm\", \"sourc\", \"campaign\", \"interview\", \"nacho\", \"especi\", \"togeth\", \"ton\", \"restaur\", \"new\", \"vegan\", \"blog\", \"share\", \"brown\", \"nugget\", \"poshmark\", \"answer\", \"hurt\", \"soft\", \"walk\", \"tabitha\", \"pea\", \"impact\", \"poshmarkapp\", \"rt\", \"oz\", \"account\", \"indian\", \"wingfestuk\", \"treatment\", \"sub\", \"stew\", \"yo\", \"ot\", \"nigga\", \"thefoultruth\", \"fed\", \"hydrat\", \"email\", \"ebay\", \"hat\", \"mash\", \"lab\", \"truli\", \"tinyurl\", \"seem\", \"fri\", \"check\", \"via\", \"chicken\", \"season\", \"pleas\", \"video\", \"pic\"], \"Freq\": [6501.0, 2352.0, 619.0, 1946.0, 1729.0, 685.0, 709.0, 503.0, 516.0, 1269.0, 547.0, 589.0, 465.0, 1450.0, 374.0, 373.0, 1869.0, 412.0, 605.0, 1005.0, 462.0, 1581.0, 1129.0, 436.0, 593.0, 679.0, 477.0, 1461.0, 1491.0, 1040.0, 6500.275390625, 1580.5120849609375, 1460.238037109375, 1146.0133056640625, 1138.8211669921875, 958.6836547851562, 724.3023681640625, 703.781005859375, 683.6422119140625, 626.688720703125, 581.9666748046875, 1489.3304443359375, 535.313232421875, 511.6889343261719, 457.7844543457031, 440.612060546875, 414.9732360839844, 407.6415100097656, 402.5032958984375, 399.83367919921875, 376.31475830078125, 370.8015441894531, 359.4502258300781, 357.7082214355469, 357.1322937011719, 356.0491638183594, 353.9906921386719, 347.6981201171875, 322.57342529296875, 320.91790771484375, 944.9501953125, 1179.745361328125, 729.5111694335938, 1835.0562744140625, 496.8622741699219, 1407.3436279296875, 1123.0703125, 1009.8886108398438, 539.516845703125, 708.9285888671875, 1065.544921875, 708.9591674804688, 567.2142944335938, 1131.6243896484375, 514.6954345703125, 853.7760620117188, 659.2696533203125, 602.4963989257812, 1231.8616943359375, 991.416748046875, 1006.2381591796875, 411.79327392578125, 175.12123107910156, 98.85484313964844, 75.63568115234375, 64.17601776123047, 61.26622009277344, 54.76302719116211, 51.27535629272461, 49.8858757019043, 47.154151916503906, 46.01456069946289, 41.95990753173828, 40.839454650878906, 38.53756332397461, 34.04777145385742, 72.21122741699219, 32.20891571044922, 30.611644744873047, 30.33835220336914, 29.622262954711914, 28.93881607055664, 28.10744285583496, 28.06949234008789, 26.839000701904297, 26.239397048950195, 25.944841384887695, 25.07513999938965, 24.358415603637695, 24.203079223632812, 24.197206497192383, 216.7411346435547, 90.99588012695312, 130.6256103515625, 79.76481628417969, 49.13039016723633, 35.56304168701172, 54.372406005859375, 372.6903991699219, 51.67897033691406, 64.04681396484375, 49.56612777709961, 50.06233215332031, 48.42207336425781, 43.888099670410156, 352.0459899902344, 62.29632568359375, 75.23482513427734, 136.67152404785156, 43.951744079589844, 47.24092102050781, 76.82141876220703, 68.54623413085938, 40.573909759521484, 38.02658462524414, 37.77085876464844, 35.18889236450195, 34.9769401550293, 32.664146423339844, 28.914588928222656, 28.68454360961914, 26.118688583374023, 24.986318588256836, 24.118288040161133, 23.385982513427734, 22.790409088134766, 22.639677047729492, 22.615402221679688, 22.6107234954834, 22.109024047851562, 21.295019149780273, 20.90865707397461, 19.498411178588867, 17.991819381713867, 17.155975341796875, 16.864774703979492, 15.423322677612305, 15.287589073181152, 14.836207389831543, 14.716687202453613, 14.215514183044434, 59.9031867980957, 70.41487884521484, 89.5786361694336, 78.44263458251953, 358.42889404296875, 180.4578857421875, 40.558773040771484, 76.3994369506836, 130.02496337890625, 86.78813171386719, 81.34490966796875, 51.30678176879883, 129.17686462402344, 54.26686477661133, 67.37615966796875, 28.535112380981445, 32.22320556640625, 107.67298126220703, 135.28106689453125, 58.000858306884766, 63.42213439941406, 78.43000030517578, 38.42972183227539, 55.038978576660156, 37.71467208862305, 44.20935821533203, 103.17963409423828, 76.6148452758789, 69.49467468261719, 61.17731857299805, 55.4665641784668, 53.23778533935547, 48.81735610961914, 44.84858322143555, 36.869117736816406, 34.75739288330078, 32.24189758300781, 29.64619255065918, 29.383045196533203, 28.64226722717285, 28.336578369140625, 28.032472610473633, 25.67593002319336, 25.09838104248047, 25.027626037597656, 24.45720863342285, 24.107372283935547, 23.418285369873047, 23.082849502563477, 23.058597564697266, 22.06952476501465, 21.93196678161621, 21.59795570373535, 21.57597541809082, 21.364721298217773, 20.46010971069336, 59.94281768798828, 53.154151916503906, 32.113975524902344, 57.46980667114258, 52.92842483520508, 36.992122650146484, 308.56903076171875, 34.769187927246094, 34.28257751464844, 27.956340789794922, 72.39279174804688, 46.107879638671875, 49.61954879760742, 51.41092300415039, 54.715938568115234, 112.78265380859375, 42.124114990234375, 35.603240966796875, 51.90518569946289, 51.31553649902344, 36.31616973876953, 39.83736038208008, 38.76963806152344, 28.577116012573242, 27.107519149780273, 24.539899826049805, 24.532997131347656, 23.399688720703125, 23.36640167236328, 20.868091583251953, 20.548044204711914, 19.807008743286133, 18.55187225341797, 17.69955062866211, 17.284839630126953, 17.205991744995117, 16.762075424194336, 16.62392807006836, 15.915088653564453, 15.404901504516602, 15.005419731140137, 14.754180908203125, 14.562799453735352, 14.284032821655273, 14.049446105957031, 13.281524658203125, 12.796982765197754, 12.680974960327148, 12.349762916564941, 12.262084007263184, 12.076518058776855, 11.834497451782227, 52.09708786010742, 25.09709930419922, 25.338558197021484, 38.32358169555664, 122.05523681640625, 39.38017654418945, 24.686832427978516, 76.49691772460938, 96.20523071289062, 30.07299041748047, 21.814971923828125, 35.671756744384766, 21.567928314208984, 36.79011917114258, 68.80293273925781, 45.39532470703125, 251.7503204345703, 75.99070739746094, 118.56713104248047, 77.14247131347656, 228.14866638183594, 57.895904541015625, 31.13488006591797, 84.04963684082031, 26.740673065185547, 42.8058967590332, 43.37371826171875, 32.50482940673828, 35.25856399536133, 27.995576858520508, 41.454219818115234, 29.25423240661621, 33.53261184692383, 30.234134674072266, 30.31682586669922, 146.8048553466797, 140.7903594970703, 80.99526977539062, 67.57553100585938, 59.826454162597656, 41.90346908569336, 29.961841583251953, 26.08156967163086, 24.61445426940918, 24.270647048950195, 211.7549591064453, 20.472352981567383, 18.787139892578125, 17.559906005859375, 15.771191596984863, 15.047212600708008, 14.845447540283203, 13.758152961730957, 13.393321990966797, 12.592630386352539, 11.48086166381836, 11.268310546875, 10.704534530639648, 10.142910957336426, 10.029492378234863, 9.717844009399414, 9.300201416015625, 9.095300674438477, 8.709498405456543, 8.441316604614258, 31.651302337646484, 79.63794708251953, 451.5001220703125, 130.09779357910156, 74.82955169677734, 41.33631134033203, 114.85077667236328, 48.42440414428711, 79.18447875976562, 79.43058013916016, 32.9661865234375, 59.38144302368164, 75.7043228149414, 58.55094528198242, 37.110862731933594, 70.40003967285156, 37.02117156982422, 86.90052032470703, 264.3188171386719, 67.72852325439453, 44.1975212097168, 36.68064880371094, 42.10462188720703, 113.20659637451172, 46.466331481933594, 53.09193420410156, 38.538551330566406, 37.90207290649414, 167.40011596679688, 123.09623718261719, 77.89969635009766, 73.96553802490234, 62.607261657714844, 41.972572326660156, 35.998619079589844, 34.90989303588867, 29.774913787841797, 27.169652938842773, 27.088863372802734, 26.188125610351562, 25.999807357788086, 25.483102798461914, 24.862995147705078, 22.494970321655273, 22.05051612854004, 21.165515899658203, 20.916973114013672, 20.844038009643555, 20.48465919494629, 19.90345573425293, 19.85445213317871, 19.16748809814453, 19.159608840942383, 19.069494247436523, 18.861719131469727, 17.787263870239258, 16.827547073364258, 16.681304931640625, 42.387516021728516, 48.21807098388672, 31.89605712890625, 33.938934326171875, 63.87508010864258, 23.081228256225586, 125.98259735107422, 37.657413482666016, 55.48283386230469, 32.611568450927734, 63.00981903076172, 94.30957794189453, 28.758056640625, 32.89137649536133, 65.85768127441406, 27.51988410949707, 44.2990837097168, 36.83021926879883, 47.35551071166992, 96.88481903076172, 41.66915512084961, 38.758949279785156, 38.639892578125, 32.3218994140625, 33.9740104675293, 35.84999465942383, 32.98277282714844, 618.2369995117188, 503.1515808105469, 464.8119812011719, 508.2368469238281, 47.979400634765625, 37.87898635864258, 25.587608337402344, 23.180360794067383, 21.06372833251953, 20.800399780273438, 20.54463768005371, 15.8239164352417, 15.485414505004883, 15.074202537536621, 14.819629669189453, 14.467448234558105, 14.3273286819458, 12.943097114562988, 12.873636245727539, 12.848544120788574, 11.890196800231934, 11.841818809509277, 10.8739652633667, 10.816642761230469, 10.315143585205078, 10.292926788330078, 10.2037935256958, 9.7699613571167, 9.219952583312988, 9.145465850830078, 16.385276794433594, 17.50602912902832, 31.28214454650879, 24.95138931274414, 33.570369720458984, 27.046289443969727, 21.77937889099121, 40.233665466308594, 27.032072067260742, 22.309358596801758, 28.430259704589844, 23.953126907348633, 22.56177520751953, 18.3032169342041, 17.70541000366211, 15.906472206115723, 16.000507354736328, 108.50802612304688, 93.22869873046875, 80.96182250976562, 69.58609771728516, 53.75859069824219, 49.113014221191406, 48.45940399169922, 44.505550384521484, 36.18368148803711, 35.98337936401367, 34.121646881103516, 33.5975456237793, 29.143613815307617, 29.10759735107422, 29.022987365722656, 25.91136932373047, 24.78939437866211, 20.912399291992188, 20.61341667175293, 20.050926208496094, 54.51730728149414, 19.71133804321289, 18.83661460876465, 18.7723445892334, 17.192426681518555, 17.13382911682129, 13.787528038024902, 11.637604713439941, 11.629661560058594, 11.593017578125, 45.155025482177734, 49.7451057434082, 79.70783996582031, 63.44969940185547, 105.10442352294922, 95.8855209350586, 82.58586883544922, 56.27313995361328, 56.61098098754883, 49.24803161621094, 28.342422485351562, 77.36589050292969, 42.53140640258789, 61.88832473754883, 53.56261444091797, 49.41566467285156, 158.25057983398438, 85.02615356445312, 83.09709930419922, 49.08957290649414, 47.687313079833984, 165.5755157470703, 100.92581176757812, 91.3515625, 54.618141174316406, 34.524986267089844, 26.77806282043457, 26.078086853027344, 21.919414520263672, 21.83794593811035, 20.68703842163086, 20.119243621826172, 19.658903121948242, 19.41669464111328, 19.077129364013672, 19.051565170288086, 17.493091583251953, 14.648957252502441, 13.210715293884277, 12.771092414855957, 12.447412490844727, 11.996331214904785, 10.836276054382324, 10.724822044372559, 10.371770858764648, 10.094654083251953, 60.45049285888672, 9.785422325134277, 9.189105987548828, 8.824788093566895, 8.716017723083496, 16.6597843170166, 431.78076171875, 94.55072021484375, 24.375198364257812, 64.4151382446289, 25.872121810913086, 13.407458305358887, 22.01041030883789, 54.21197509765625, 25.568532943725586, 35.19828796386719, 22.868183135986328, 45.06003952026367, 22.758028030395508, 58.63791275024414, 123.43988800048828, 42.519073486328125, 40.60466003417969, 22.371023178100586, 35.30006790161133, 23.476083755493164, 32.30462646484375, 40.78999710083008, 38.78114700317383, 26.828962326049805, 23.746994018554688, 23.434293746948242, 23.191389083862305, 373.1096496582031, 224.17601013183594, 41.91958999633789, 39.793067932128906, 35.69015121459961, 32.689178466796875, 31.884798049926758, 31.689908981323242, 31.12816047668457, 28.60659408569336, 27.532270431518555, 29.471237182617188, 24.17736053466797, 24.158321380615234, 21.890687942504883, 20.518098831176758, 19.604854583740234, 19.3446044921875, 19.049997329711914, 18.947237014770508, 18.93513298034668, 18.005281448364258, 17.559770584106445, 17.021339416503906, 16.59210205078125, 16.30805778503418, 15.303411483764648, 15.187051773071289, 13.294661521911621, 13.162752151489258, 46.554840087890625, 38.869041442871094, 26.903207778930664, 21.41008949279785, 52.452335357666016, 35.70567321777344, 29.411352157592773, 27.18736457824707, 22.426488876342773, 31.14472007751465, 28.302026748657227, 21.145933151245117, 28.175539016723633, 33.86208724975586, 26.622629165649414, 32.00120162963867, 22.726547241210938, 22.255416870117188, 373.398681640625, 130.57432556152344, 106.64337921142578, 53.83177947998047, 52.566184997558594, 39.3531494140625, 34.737144470214844, 30.12782096862793, 27.032955169677734, 26.020837783813477, 25.923444747924805, 21.81146812438965, 21.58047866821289, 20.122455596923828, 19.75538444519043, 19.24443244934082, 18.810691833496094, 17.784912109375, 17.64602279663086, 16.8858699798584, 16.334583282470703, 15.98864459991455, 15.105138778686523, 14.99857234954834, 14.60798454284668, 14.535611152648926, 14.373997688293457, 14.362543106079102, 13.597780227661133, 13.28404426574707, 78.60855102539062, 49.70164489746094, 34.77054977416992, 23.380483627319336, 73.65576934814453, 16.872325897216797, 24.5410099029541, 25.68080711364746, 22.628320693969727, 31.990657806396484, 28.389385223388672, 19.991056442260742, 19.667919158935547, 68.5165023803711, 62.78806686401367, 59.68101501464844, 41.93901062011719, 40.27357482910156, 36.230712890625, 32.209774017333984, 28.012920379638672, 27.230205535888672, 25.65034294128418, 24.574499130249023, 23.020709991455078, 22.333797454833984, 22.27739715576172, 22.26337432861328, 21.3679141998291, 21.29290771484375, 20.910030364990234, 19.605762481689453, 18.904088973999023, 17.157577514648438, 17.05867576599121, 16.7541561126709, 16.4207820892334, 15.686762809753418, 15.567132949829102, 15.187522888183594, 15.02175521850586, 14.673583030700684, 14.147188186645508, 31.833345413208008, 69.76289367675781, 26.915159225463867, 44.562408447265625, 50.42097473144531, 56.359676361083984, 56.347389221191406, 35.902618408203125, 50.78110885620117, 33.42654800415039, 39.296810150146484, 27.111385345458984, 71.47987365722656, 27.686141967773438, 27.27952766418457, 35.29312515258789, 26.52332305908203, 27.372127532958984, 27.78952980041504, 28.297380447387695, 43.17028045654297, 26.114681243896484, 25.329940795898438, 23.601350784301758, 23.479774475097656, 22.960569381713867, 21.383527755737305, 20.919384002685547, 19.972984313964844, 19.681396484375, 19.638675689697266, 19.514461517333984, 19.474096298217773, 19.25956153869629, 19.154251098632812, 18.251977920532227, 18.200851440429688, 18.124591827392578, 17.73857307434082, 17.61332893371582, 17.554895401000977, 16.37285804748535, 16.234289169311523, 15.01095199584961, 14.4205961227417, 13.986113548278809, 13.879188537597656, 13.713691711425781, 13.478338241577148, 13.116982460021973, 68.7607192993164, 116.08277893066406, 50.74112319946289, 70.58757781982422, 82.16669464111328, 40.41257858276367, 36.604461669921875, 30.506872177124023, 48.3780517578125, 55.500335693359375, 30.13885498046875, 152.5031280517578, 29.193113327026367, 60.57046127319336, 30.33913230895996, 35.995670318603516, 31.319595336914062, 23.016027450561523, 24.178932189941406, 20.650707244873047, 20.069494247436523, 80.06024932861328, 78.39201354980469, 54.81167984008789, 37.3082160949707, 30.071409225463867, 29.027463912963867, 28.524560928344727, 26.9124698638916, 26.69442367553711, 26.447328567504883, 24.702173233032227, 24.59307861328125, 24.55731201171875, 21.41411590576172, 21.19538688659668, 21.025096893310547, 19.82546043395996, 19.3313045501709, 19.119396209716797, 19.1142578125, 19.069175720214844, 18.705053329467773, 17.989826202392578, 16.808059692382812, 16.09308624267578, 15.68278694152832, 15.093645095825195, 14.96491527557373, 14.881380081176758, 14.813765525817871, 39.06143569946289, 45.010066986083984, 40.737945556640625, 30.955472946166992, 56.526302337646484, 42.888343811035156, 57.87682342529297, 91.79425811767578, 29.90892219543457, 21.513486862182617, 25.67825698852539, 35.38471221923828, 23.01359748840332, 27.50506019592285, 25.626161575317383, 24.470457077026367, 22.497821807861328, 33.563724517822266, 31.31344985961914, 30.92075538635254, 25.68769073486328, 25.24078941345215, 24.994775772094727, 20.770071029663086, 20.756471633911133, 18.0914249420166, 17.03262710571289, 14.882349014282227, 14.850469589233398, 14.828369140625, 14.496392250061035, 14.478272438049316, 14.189980506896973, 13.795594215393066, 13.434928894042969, 13.364900588989258, 13.154972076416016, 12.883392333984375, 12.853367805480957, 12.125210762023926, 11.718221664428711, 11.624787330627441, 11.54038143157959, 10.978878021240234, 21.908740997314453, 9.677762985229492, 9.39144229888916, 35.81033706665039, 27.04170799255371, 25.941696166992188, 27.333911895751953, 27.405725479125977, 54.953433990478516, 25.580968856811523, 37.30187225341797, 32.01436996459961, 43.31645202636719, 25.206584930419922, 24.85892105102539, 32.81768798828125, 23.383769989013672, 24.506364822387695, 17.810766220092773, 87.60652160644531, 67.22010040283203, 33.119693756103516, 23.180118560791016, 22.795215606689453, 21.004562377929688, 84.24247741699219, 35.40125274658203, 24.19776725769043, 22.16299819946289, 21.625505447387695, 19.79867172241211, 19.79867172241211, 19.79867172241211, 19.79867172241211, 19.79867172241211, 19.79867172241211, 19.79867172241211, 19.79867172241211, 17.897165298461914, 17.164932250976562, 15.560526847839355, 15.119202613830566, 13.455967903137207, 12.906814575195312, 11.952860832214355, 11.167442321777344, 10.71174144744873, 10.61166763305664, 10.350648880004883, 9.78921890258789, 9.785502433776855, 9.59896469116211, 9.501264572143555, 9.334504127502441, 9.055630683898926, 40.05662536621094, 37.82935333251953, 22.490596771240234, 22.848785400390625, 25.298036575317383, 16.843795776367188, 18.67491340637207, 15.1041898727417, 27.5865535736084, 22.472753524780273, 16.604990005493164, 59.44414138793945, 38.930110931396484, 34.558998107910156, 25.85875129699707, 48.769065856933594, 35.14701461791992, 32.0784797668457, 21.74769401550293, 24.467151641845703, 147.7796630859375, 108.2690200805664, 32.96102523803711, 26.9489688873291, 23.20124053955078, 22.40848159790039, 22.073787689208984, 21.361309051513672, 20.592288970947266, 19.966617584228516, 19.7708797454834, 19.239803314208984, 18.521526336669922, 17.612356185913086, 17.30951690673828, 15.457033157348633, 14.963810920715332, 14.722201347351074, 14.722201347351074, 14.722201347351074, 14.722201347351074, 14.722201347351074, 12.821293830871582, 12.728339195251465, 12.698408126831055, 12.70257568359375, 11.577740669250488, 11.478228569030762, 11.253494262695312, 11.202884674072266, 58.48416519165039, 19.251588821411133, 20.94632911682129, 25.428691864013672, 35.88029479980469, 32.64219284057617, 33.819725036621094, 19.81627082824707, 60.50039291381836, 54.167057037353516, 24.95111083984375, 19.28838539123535, 18.242271423339844, 18.11224365234375, 18.584022521972656, 69.27877807617188, 47.13970947265625, 33.27692413330078, 31.206928253173828, 26.605701446533203, 21.150930404663086, 20.53343963623047, 17.947851181030273, 17.747943878173828, 17.574735641479492, 16.619844436645508, 14.653253555297852, 13.858654022216797, 13.633624076843262, 13.583165168762207, 13.181478500366211, 13.03965950012207, 11.76716423034668, 11.695693016052246, 10.907672882080078, 10.029569625854492, 9.909723281860352, 9.702939987182617, 9.635394096374512, 9.573857307434082, 9.543725967407227, 9.489702224731445, 9.483890533447266, 9.271642684936523, 9.256136894226074, 47.2139778137207, 24.228736877441406, 131.63050842285156, 61.764259338378906, 44.654571533203125, 11.440126419067383, 20.16731071472168, 18.336669921875, 19.210153579711914, 12.841383934020996, 23.73845672607422, 24.26055908203125, 28.90350341796875, 15.707820892333984, 13.77337646484375, 47.22300720214844, 45.02349090576172, 42.46885681152344, 30.633481979370117, 27.57741355895996, 25.191526412963867, 24.7080078125, 24.4055118560791, 23.52762222290039, 23.10752296447754, 22.320716857910156, 21.800357818603516, 21.55095100402832, 21.353763580322266, 20.69227409362793, 19.82828712463379, 18.306852340698242, 18.258102416992188, 17.651016235351562, 17.571046829223633, 16.86940574645996, 15.731411933898926, 15.587565422058105, 15.191244125366211, 14.680960655212402, 14.358088493347168, 13.781610488891602, 13.222542762756348, 12.712911605834961, 12.594730377197266, 23.935733795166016, 27.809988021850586, 40.14938735961914, 22.882265090942383, 39.89449691772461, 38.375938415527344, 40.252105712890625, 21.885013580322266, 29.19295310974121, 20.235078811645508, 19.274085998535156], \"Total\": [6501.0, 2352.0, 619.0, 1946.0, 1729.0, 685.0, 709.0, 503.0, 516.0, 1269.0, 547.0, 589.0, 465.0, 1450.0, 374.0, 373.0, 1869.0, 412.0, 605.0, 1005.0, 462.0, 1581.0, 1129.0, 436.0, 593.0, 679.0, 477.0, 1461.0, 1491.0, 1040.0, 6501.0546875, 1581.2921142578125, 1461.01806640625, 1146.7933349609375, 1139.6011962890625, 959.5134887695312, 725.0824584960938, 704.5610961914062, 684.4223022460938, 627.4688110351562, 582.7467651367188, 1491.347412109375, 536.0933227539062, 512.468994140625, 458.5643310546875, 441.4010009765625, 415.75311279296875, 408.42138671875, 403.2831726074219, 400.6135559082031, 377.0946350097656, 371.5814208984375, 360.2301025390625, 358.48809814453125, 357.91217041015625, 356.82904052734375, 354.77056884765625, 348.4779968261719, 323.3533020019531, 321.6977844238281, 947.373779296875, 1187.65087890625, 732.6980590820312, 1869.744140625, 501.13153076171875, 1450.558349609375, 1155.31689453125, 1040.9755859375, 546.70263671875, 726.4642944335938, 1129.9803466796875, 738.12548828125, 582.9334716796875, 1269.0289306640625, 532.8889770507812, 1005.3265991210938, 778.1444702148438, 679.4840698242188, 2352.0263671875, 1729.28662109375, 1946.453369140625, 412.5751037597656, 176.09083557128906, 99.63671875, 76.41755676269531, 64.95789337158203, 62.129661560058594, 55.54490280151367, 52.05723190307617, 50.66777038574219, 47.93602752685547, 46.79643630981445, 42.741783142089844, 41.62133026123047, 39.31943893432617, 34.829647064208984, 73.89959716796875, 32.99079132080078, 31.393524169921875, 31.12023162841797, 30.404142379760742, 29.72069549560547, 28.88932228088379, 28.851573944091797, 27.620893478393555, 27.021276473999023, 26.726720809936523, 25.857019424438477, 25.140295028686523, 24.98495864868164, 24.97908592224121, 227.3548126220703, 96.7837905883789, 140.71766662597656, 85.3753433227539, 52.00685119628906, 38.55484390258789, 63.59986877441406, 709.9968872070312, 61.63946533203125, 80.67169952392578, 61.4981689453125, 62.67851257324219, 59.93772888183594, 54.33623504638672, 1729.28662109375, 97.34729766845703, 148.6678466796875, 1269.0289306640625, 59.3829345703125, 104.83829498291016, 77.6075210571289, 69.33233642578125, 41.360008239746094, 38.81268310546875, 38.55695724487305, 35.97499084472656, 35.763038635253906, 33.45024490356445, 29.700693130493164, 29.47064781188965, 26.90479278564453, 25.772422790527344, 24.90439224243164, 24.172086715698242, 23.576513290405273, 23.42578125, 23.401506423950195, 23.396827697753906, 22.89512825012207, 22.08112335205078, 21.694761276245117, 20.284515380859375, 18.777923583984375, 17.942079544067383, 17.65087890625, 16.20942497253418, 16.07369041442871, 15.622310638427734, 15.502790451049805, 15.001617431640625, 63.475135803222656, 75.7658462524414, 100.16291046142578, 88.27516174316406, 436.52532958984375, 219.84173583984375, 45.6901741027832, 91.12317657470703, 187.45718383789062, 118.84627532958984, 118.40292358398438, 73.25725555419922, 308.2852783203125, 90.03089141845703, 135.01461791992188, 34.93527603149414, 45.7253532409668, 547.8163452148438, 2352.0263671875, 297.6691589355469, 778.1444702148438, 1946.453369140625, 128.63043212890625, 1129.9803466796875, 123.43403625488281, 679.4840698242188, 103.96420288085938, 77.3994140625, 70.27924346923828, 61.961891174316406, 56.251136779785156, 54.02235794067383, 49.6019287109375, 45.633155822753906, 37.653690338134766, 35.54196548461914, 33.02647018432617, 30.430768966674805, 30.167621612548828, 29.426843643188477, 29.12115478515625, 28.817049026489258, 26.460506439208984, 25.882957458496094, 25.81220245361328, 25.241785049438477, 24.891948699951172, 24.202861785888672, 23.8674259185791, 23.84317398071289, 22.854101181030273, 22.716543197631836, 22.382532119750977, 22.360551834106445, 22.1492977142334, 21.244686126708984, 64.60160827636719, 61.127960205078125, 34.86365509033203, 70.5678482055664, 64.57489776611328, 42.656333923339844, 685.525390625, 42.592979431152344, 42.452178955078125, 31.418106079101562, 147.22140502929688, 73.24596405029297, 84.5377197265625, 111.988525390625, 128.63043212890625, 605.279541015625, 87.06536865234375, 56.797340393066406, 468.0539855957031, 511.6339416503906, 118.40292358398438, 388.3774108886719, 39.55782699584961, 29.365306854248047, 27.895709991455078, 25.32809066772461, 25.32118797302246, 24.18787956237793, 24.154592514038086, 21.656282424926758, 21.33623504638672, 20.595199584960938, 19.340063095092773, 18.487741470336914, 18.073030471801758, 17.994182586669922, 17.55026626586914, 17.412118911743164, 16.703279495239258, 16.193092346191406, 15.793610572814941, 15.54237174987793, 15.350990295410156, 15.072223663330078, 14.837636947631836, 14.06971549987793, 13.585173606872559, 13.469165802001953, 13.137953758239746, 13.050274848937988, 12.86470890045166, 12.622688293457031, 58.89053726196289, 27.651548385620117, 28.55620002746582, 44.92938232421875, 181.55938720703125, 51.486175537109375, 30.10287094116211, 123.46929931640625, 172.13546752929688, 42.174442291259766, 26.957820892333984, 55.710594177246094, 26.83049201965332, 60.55616760253906, 168.1996307373047, 94.58283996582031, 1946.453369140625, 259.4204406738281, 589.3603515625, 272.2874755859375, 2352.0263671875, 185.11672973632812, 63.72154998779297, 1005.3265991210938, 44.29910659790039, 211.3294219970703, 436.52532958984375, 145.81298828125, 304.0357666015625, 65.5134048461914, 1729.28662109375, 98.84828186035156, 349.80328369140625, 144.42523193359375, 177.69049072265625, 147.59210205078125, 141.57760620117188, 81.78250885009766, 68.37049102783203, 60.61369323730469, 42.69070816040039, 30.749080657958984, 26.86880874633789, 25.40169334411621, 25.057886123657227, 219.59280395507812, 21.259592056274414, 19.574378967285156, 18.347145080566406, 16.558429718017578, 15.834450721740723, 15.632685661315918, 14.545391082763672, 14.180560111999512, 13.379868507385254, 12.268099784851074, 12.055548667907715, 11.491772651672363, 10.93014907836914, 10.816730499267578, 10.505082130432129, 10.08743953704834, 9.882538795471191, 9.496736526489258, 9.228554725646973, 35.650875091552734, 93.90068054199219, 589.3603515625, 162.83547973632812, 93.46255493164062, 52.73101043701172, 169.49755859375, 65.37677001953125, 118.62892150878906, 124.82380676269531, 44.636260986328125, 95.1152114868164, 140.2322235107422, 114.8547134399414, 60.64109802246094, 165.98577880859375, 63.028690338134766, 293.5951232910156, 2352.0263671875, 211.3294219970703, 101.82567596435547, 70.5621337890625, 104.73858642578125, 1946.453369140625, 171.17027282714844, 1729.28662109375, 132.89956665039062, 566.5274047851562, 168.18679809570312, 123.8829116821289, 78.68637084960938, 74.75221252441406, 63.39393997192383, 42.75925064086914, 36.78529739379883, 35.696571350097656, 30.56159019470215, 27.956329345703125, 27.875539779663086, 26.974802017211914, 26.786483764648438, 26.269779205322266, 25.64967155456543, 23.281646728515625, 22.83719253540039, 21.952192306518555, 21.703649520874023, 21.630714416503906, 21.27133560180664, 20.69013214111328, 20.641128540039062, 19.954164505004883, 19.946285247802734, 19.856170654296875, 19.648395538330078, 18.57394027709961, 17.61422348022461, 17.467981338500977, 45.054622650146484, 51.801944732666016, 34.14344024658203, 36.57529067993164, 82.69915008544922, 24.881553649902344, 208.02667236328125, 47.24556350708008, 82.81140899658203, 40.5361442565918, 130.37513732910156, 295.033447265625, 37.892127990722656, 49.07612228393555, 204.42864990234375, 35.63084411621094, 113.20684814453125, 76.57553100585938, 169.49755859375, 1946.453369140625, 144.42523193359375, 135.38955688476562, 219.84173583984375, 97.37550354003906, 148.6678466796875, 566.5274047851562, 140.2322235107422, 619.0247802734375, 503.939208984375, 465.599609375, 516.2337646484375, 48.76704788208008, 38.66663360595703, 26.375253677368164, 23.968006134033203, 21.85137367248535, 21.588045120239258, 21.33228302001953, 16.611560821533203, 16.273059844970703, 15.861847877502441, 15.607275009155273, 15.255093574523926, 15.114974021911621, 13.730742454528809, 13.66128158569336, 13.636189460754395, 12.677842140197754, 12.629464149475098, 11.66161060333252, 11.604288101196289, 11.102788925170898, 11.080572128295898, 10.991438865661621, 10.55760669708252, 10.007597923278809, 9.933111190795898, 17.924917221069336, 19.695756912231445, 40.68171310424805, 31.28493309020996, 45.5101203918457, 49.819175720214844, 36.37760543823242, 211.3294219970703, 198.7755889892578, 144.42523193359375, 436.52532958984375, 477.3450927734375, 1729.28662109375, 297.6691589355469, 260.0585021972656, 76.57553100585938, 98.78057098388672, 109.29525756835938, 94.01593017578125, 81.74905395507812, 70.37332916259766, 54.54582977294922, 49.90025329589844, 49.24664306640625, 45.292789459228516, 36.97092056274414, 36.77067184448242, 34.90888977050781, 34.38478469848633, 29.93085289001465, 29.89483642578125, 29.810226440429688, 26.6986083984375, 25.57663345336914, 21.69963836669922, 21.40065574645996, 20.838165283203125, 56.68507766723633, 20.498577117919922, 19.62385368347168, 19.55958366394043, 17.979665756225586, 17.92106819152832, 14.574767112731934, 12.424843788146973, 12.416900634765625, 12.380256652832031, 49.92761993408203, 55.192108154296875, 89.94010925292969, 75.70856475830078, 139.67372131347656, 135.38955688476562, 118.7157211303711, 75.53703308105469, 76.45616912841797, 66.1291732788086, 32.60797119140625, 125.9375991821289, 56.24387741088867, 104.73858642578125, 103.72163391113281, 99.251953125, 1729.28662109375, 462.9106140136719, 1946.453369140625, 198.7755889892578, 231.91339111328125, 166.3639678955078, 101.7142562866211, 92.14000701904297, 55.406593322753906, 35.313438415527344, 27.566511154174805, 26.866535186767578, 22.707862854003906, 22.626394271850586, 21.475486755371094, 20.907691955566406, 20.447351455688477, 20.205142974853516, 19.865577697753906, 19.84001350402832, 18.281539916992188, 15.437407493591309, 13.999165534973145, 13.559542655944824, 13.235862731933594, 12.784781455993652, 11.624726295471191, 11.513272285461426, 11.160221099853516, 10.88310432434082, 65.281982421875, 10.573872566223145, 9.977556228637695, 9.613238334655762, 9.504467964172363, 18.48637580871582, 547.8163452148438, 121.53763580322266, 28.47175407409668, 84.45222473144531, 32.10591506958008, 15.007231712341309, 28.781314849853516, 96.19982147216797, 35.773475646972656, 56.65856170654297, 33.26715850830078, 101.84842681884766, 33.92866134643555, 190.9231719970703, 1946.453369140625, 162.6481170654297, 172.13546752929688, 33.43340301513672, 177.69049072265625, 45.345191955566406, 297.6691589355469, 2352.0263671875, 1729.28662109375, 193.46026611328125, 68.52799987792969, 69.15660858154297, 55.95650100708008, 373.8951416015625, 224.96153259277344, 42.70510482788086, 40.578582763671875, 36.47990798950195, 33.474693298339844, 32.670310974121094, 32.47542190551758, 31.91366958618164, 29.39210319519043, 28.317779541015625, 30.373132705688477, 24.96286964416504, 24.943830490112305, 22.676197052001953, 21.303607940673828, 20.390363693237305, 20.13011360168457, 19.835506439208984, 19.732746124267578, 19.72064208984375, 18.790790557861328, 18.345279693603516, 17.806848526000977, 17.37761116027832, 17.09356689453125, 16.08892059326172, 15.972561836242676, 14.080171585083008, 13.948262214660645, 51.78623962402344, 44.997703552246094, 30.562719345092773, 23.989543914794922, 69.94633483886719, 45.03557586669922, 37.46901321411133, 37.08018493652344, 29.11966323852539, 56.67697525024414, 56.39765548706055, 27.350160598754883, 75.83131408691406, 204.42864990234375, 104.83829498291016, 593.9115600585938, 236.19509887695312, 205.8147735595703, 374.1851501464844, 131.36082458496094, 107.42987060546875, 54.61827850341797, 53.352684020996094, 40.1396484375, 35.523643493652344, 30.914316177368164, 27.81945037841797, 26.80733299255371, 26.70993995666504, 22.597963333129883, 22.366973876953125, 20.908950805664062, 20.541879653930664, 20.030927658081055, 19.597187042236328, 18.571407318115234, 18.432518005371094, 17.672365188598633, 17.121078491210938, 16.7751407623291, 15.891633987426758, 15.78506851196289, 15.394479751586914, 15.322107315063477, 15.160493850708008, 15.149038314819336, 14.384275436401367, 14.070539474487305, 106.40773010253906, 66.9129638671875, 50.86713790893555, 31.472444534301758, 336.4966735839844, 20.573871612548828, 57.22541809082031, 114.8547134399414, 80.32782745361328, 1946.453369140625, 1729.28662109375, 95.1152114868164, 120.07007598876953, 69.3045883178711, 63.5761604309082, 60.46910858154297, 42.72710418701172, 41.061668395996094, 37.01880645751953, 32.997867584228516, 28.80101203918457, 28.01829719543457, 26.438434600830078, 25.362590789794922, 23.808801651000977, 23.121889114379883, 23.065488815307617, 23.05146598815918, 22.156005859375, 22.08099937438965, 21.698122024536133, 20.39385414123535, 19.692180633544922, 17.945669174194336, 17.84676742553711, 17.542247772216797, 17.208873748779297, 16.474853515625, 16.355224609375, 15.975613594055176, 15.809845924377441, 15.461673736572266, 14.93527889251709, 34.92509841918945, 80.72180938720703, 29.36935806274414, 54.1551399230957, 68.06749725341797, 78.90696716308594, 91.14868927001953, 53.3469352722168, 93.83888244628906, 50.54705047607422, 74.1503677368164, 38.73161315917969, 477.3450927734375, 52.51291275024414, 55.38447570800781, 171.17027282714844, 51.37377166748047, 64.32244110107422, 100.08606719970703, 295.033447265625, 43.95897674560547, 26.90337371826172, 26.118633270263672, 24.390043258666992, 24.26846694946289, 23.7492618560791, 22.17222023010254, 21.70807647705078, 20.761676788330078, 20.470088958740234, 20.4273681640625, 20.30315399169922, 20.262788772583008, 20.048254013061523, 19.942943572998047, 19.04067039489746, 18.989543914794922, 18.913284301757812, 18.527265548706055, 18.402021408081055, 18.34358787536621, 17.161550521850586, 17.022981643676758, 15.79964542388916, 15.20928955078125, 14.77480697631836, 14.667881965637207, 14.502385139465332, 14.2670316696167, 13.905675888061523, 75.79370880126953, 138.439453125, 59.75796127319336, 86.01335144042969, 102.06263732910156, 53.47960662841797, 48.086307525634766, 38.73305892944336, 101.82567596435547, 171.17027282714844, 56.446414947509766, 2352.0263671875, 56.682456970214844, 468.0539855957031, 118.67476654052734, 227.782958984375, 145.81298828125, 78.85906982421875, 349.80328369140625, 75.83131408691406, 54.42787170410156, 80.84699249267578, 79.17875671386719, 55.59842300415039, 38.0949592590332, 30.858152389526367, 29.814207077026367, 29.311304092407227, 27.6992130279541, 27.48116683959961, 27.234071731567383, 25.488916397094727, 25.37982177734375, 25.34405517578125, 22.20085906982422, 21.98213005065918, 21.811840057373047, 20.61220359802246, 20.1180477142334, 19.906139373779297, 19.9010009765625, 19.855918884277344, 19.491796493530273, 18.776569366455078, 17.594802856445312, 16.87982940673828, 16.46953010559082, 15.880388259887695, 15.75165843963623, 15.668123245239258, 15.600508689880371, 45.582489013671875, 53.57735824584961, 48.765907287597656, 39.004756927490234, 101.31990814208984, 68.38444519042969, 120.07007598876953, 462.9106140136719, 54.203636169433594, 26.781509399414062, 45.3170051574707, 118.7157211303711, 37.454166412353516, 74.8506088256836, 63.76633834838867, 74.28966522216797, 37.33515548706055, 34.35485076904297, 32.104576110839844, 31.711881637573242, 26.478816986083984, 26.03191566467285, 25.78590202331543, 21.56119728088379, 21.547597885131836, 18.882551193237305, 17.823753356933594, 15.673476219177246, 15.641596794128418, 15.61949634552002, 15.287519454956055, 15.269399642944336, 14.981107711791992, 14.586721420288086, 14.226056098937988, 14.156027793884277, 13.946099281311035, 13.674519538879395, 13.644495010375977, 12.916337966918945, 12.50934886932373, 12.415914535522461, 12.33150863647461, 11.770005226135254, 23.5861759185791, 10.468890190124512, 10.18256950378418, 39.7332649230957, 30.66238021850586, 29.39208221435547, 35.33015441894531, 35.97502136230469, 90.0140151977539, 35.6309814453125, 64.7901382446289, 55.95650100708008, 100.25170135498047, 43.71839904785156, 42.78140640258789, 78.85906982421875, 43.5401496887207, 57.522193908691406, 26.623878479003906, 2352.0263671875, 1946.453369140625, 236.19509887695312, 90.12915802001953, 259.4204406738281, 437.1933288574219, 85.03379821777344, 36.19257354736328, 24.98908805847168, 22.95431900024414, 22.416826248168945, 20.58999252319336, 20.58999252319336, 20.58999252319336, 20.58999252319336, 20.58999252319336, 20.58999252319336, 20.58999252319336, 20.58999252319336, 18.688486099243164, 17.956253051757812, 16.351848602294922, 15.91052532196045, 14.24729061126709, 13.698136329650879, 12.744183540344238, 11.95876407623291, 11.503064155578613, 11.402989387512207, 11.14197063446045, 10.580540657043457, 10.576825141906738, 10.390286445617676, 10.292586326599121, 10.125826835632324, 9.846953392028809, 45.86216354370117, 46.10626983642578, 26.523096084594727, 27.590604782104492, 32.13184356689453, 21.148515701293945, 24.250484466552734, 18.720741271972656, 49.73450469970703, 36.28986740112305, 22.685768127441406, 227.782958984375, 135.95201110839844, 118.62892150878906, 118.67476654052734, 2352.0263671875, 593.9115600585938, 679.4840698242188, 82.95111083984375, 1450.558349609375, 148.57077026367188, 109.06011962890625, 33.75212097167969, 27.74006462097168, 23.99233627319336, 23.19957733154297, 22.864883422851562, 22.15240478515625, 21.383384704589844, 20.757713317871094, 20.561975479125977, 20.030899047851562, 19.3126220703125, 18.403451919555664, 18.10061264038086, 16.24812889099121, 15.75490951538086, 15.513299942016602, 15.513299942016602, 15.513299942016602, 15.513299942016602, 15.513299942016602, 13.61239242553711, 13.519437789916992, 13.489506721496582, 13.500391960144043, 12.368839263916016, 12.269327163696289, 12.04459285736084, 11.993983268737793, 66.75006103515625, 22.092687606811523, 29.177234649658203, 40.692955017089844, 83.06038665771484, 114.59700775146484, 181.55938720703125, 51.728546142578125, 1946.453369140625, 2352.0263671875, 124.82380676269531, 55.710594177246094, 226.8192138671875, 313.1086120605469, 589.3603515625, 70.06906127929688, 47.92999267578125, 34.06720733642578, 31.997209548950195, 27.39598274230957, 21.941211700439453, 21.323720932006836, 18.73813247680664, 18.538225173950195, 18.36501693725586, 17.410125732421875, 15.443535804748535, 14.64893627166748, 14.423906326293945, 14.37344741821289, 13.971760749816895, 13.829941749572754, 12.557446479797363, 12.48597526550293, 11.697955131530762, 10.819851875305176, 10.700005531311035, 10.4932222366333, 10.425676345825195, 10.364139556884766, 10.33400821685791, 10.279984474182129, 10.27417278289795, 10.061924934387207, 10.046419143676758, 60.21946334838867, 29.224706649780273, 227.782958984375, 118.67476654052734, 82.95111083984375, 13.82003116607666, 35.13005065917969, 34.63848876953125, 39.74441909790039, 19.551776885986328, 110.91188049316406, 297.6691589355469, 2352.0263671875, 65.5134048461914, 109.26901245117188, 48.01359558105469, 45.81407928466797, 43.25944519042969, 31.424068450927734, 28.368000030517578, 25.982112884521484, 25.498594284057617, 25.19609832763672, 24.318208694458008, 23.898109436035156, 23.111303329467773, 22.590944290161133, 22.341537475585938, 22.144350051879883, 21.482860565185547, 20.618873596191406, 19.09743881225586, 19.048688888549805, 18.44160270690918, 18.36163330078125, 17.659992218017578, 16.52199935913086, 16.37815284729004, 15.981830596923828, 15.471548080444336, 15.148675918579102, 14.572196960449219, 14.013130187988281, 13.503498077392578, 13.385316848754883, 26.28676986694336, 33.03868103027344, 51.87824249267578, 28.007837295532227, 135.01461791992188, 165.98577880859375, 261.3500671386719, 47.87665557861328, 177.12216186523438, 114.59700775146484, 1946.453369140625], \"Category\": [\"Default\", \"Default\", \"Default\", \"Default\", \"Default\", \"Default\", \"Default\", \"Default\", \"Default\", \"Default\", \"Default\", \"Default\", \"Default\", \"Default\", \"Default\", \"Default\", \"Default\", \"Default\", \"Default\", \"Default\", \"Default\", \"Default\", \"Default\", \"Default\", \"Default\", \"Default\", \"Default\", \"Default\", \"Default\", \"Default\", \"Topic1\", \"Topic1\", \"Topic1\", \"Topic1\", \"Topic1\", \"Topic1\", \"Topic1\", \"Topic1\", \"Topic1\", \"Topic1\", \"Topic1\", \"Topic1\", \"Topic1\", \"Topic1\", \"Topic1\", \"Topic1\", \"Topic1\", \"Topic1\", \"Topic1\", \"Topic1\", \"Topic1\", \"Topic1\", \"Topic1\", \"Topic1\", \"Topic1\", \"Topic1\", \"Topic1\", \"Topic1\", \"Topic1\", \"Topic1\", \"Topic1\", \"Topic1\", \"Topic1\", \"Topic1\", \"Topic1\", \"Topic1\", \"Topic1\", \"Topic1\", \"Topic1\", \"Topic1\", \"Topic1\", \"Topic1\", \"Topic1\", \"Topic1\", \"Topic1\", \"Topic1\", \"Topic1\", \"Topic1\", \"Topic1\", \"Topic1\", \"Topic1\", \"Topic2\", \"Topic2\", \"Topic2\", \"Topic2\", \"Topic2\", \"Topic2\", \"Topic2\", \"Topic2\", \"Topic2\", \"Topic2\", \"Topic2\", \"Topic2\", \"Topic2\", \"Topic2\", \"Topic2\", \"Topic2\", \"Topic2\", \"Topic2\", \"Topic2\", \"Topic2\", \"Topic2\", \"Topic2\", \"Topic2\", \"Topic2\", \"Topic2\", \"Topic2\", \"Topic2\", \"Topic2\", \"Topic2\", \"Topic2\", \"Topic2\", \"Topic2\", \"Topic2\", \"Topic2\", \"Topic2\", \"Topic2\", \"Topic2\", \"Topic2\", \"Topic2\", \"Topic2\", \"Topic2\", \"Topic2\", \"Topic2\", \"Topic2\", \"Topic2\", \"Topic2\", \"Topic2\", \"Topic2\", \"Topic2\", \"Topic2\", \"Topic3\", \"Topic3\", \"Topic3\", \"Topic3\", \"Topic3\", \"Topic3\", \"Topic3\", \"Topic3\", \"Topic3\", \"Topic3\", \"Topic3\", \"Topic3\", \"Topic3\", \"Topic3\", \"Topic3\", \"Topic3\", \"Topic3\", \"Topic3\", \"Topic3\", \"Topic3\", \"Topic3\", \"Topic3\", \"Topic3\", \"Topic3\", \"Topic3\", \"Topic3\", \"Topic3\", \"Topic3\", \"Topic3\", \"Topic3\", \"Topic3\", \"Topic3\", \"Topic3\", \"Topic3\", \"Topic3\", \"Topic3\", \"Topic3\", \"Topic3\", \"Topic3\", \"Topic3\", \"Topic3\", \"Topic3\", \"Topic3\", \"Topic3\", \"Topic3\", \"Topic3\", \"Topic3\", \"Topic3\", \"Topic3\", \"Topic3\", \"Topic3\", \"Topic3\", \"Topic3\", \"Topic3\", \"Topic3\", \"Topic3\", \"Topic4\", \"Topic4\", \"Topic4\", \"Topic4\", \"Topic4\", \"Topic4\", \"Topic4\", \"Topic4\", \"Topic4\", \"Topic4\", \"Topic4\", \"Topic4\", \"Topic4\", \"Topic4\", \"Topic4\", \"Topic4\", \"Topic4\", \"Topic4\", \"Topic4\", \"Topic4\", \"Topic4\", \"Topic4\", \"Topic4\", \"Topic4\", \"Topic4\", \"Topic4\", \"Topic4\", \"Topic4\", \"Topic4\", \"Topic4\", \"Topic4\", \"Topic4\", \"Topic4\", \"Topic4\", \"Topic4\", \"Topic4\", \"Topic4\", \"Topic4\", \"Topic4\", \"Topic4\", \"Topic4\", \"Topic4\", \"Topic4\", \"Topic4\", \"Topic4\", \"Topic4\", \"Topic4\", \"Topic4\", \"Topic4\", \"Topic4\", \"Topic4\", \"Topic4\", \"Topic5\", \"Topic5\", \"Topic5\", \"Topic5\", \"Topic5\", \"Topic5\", \"Topic5\", \"Topic5\", \"Topic5\", \"Topic5\", \"Topic5\", \"Topic5\", \"Topic5\", \"Topic5\", \"Topic5\", \"Topic5\", \"Topic5\", \"Topic5\", \"Topic5\", \"Topic5\", \"Topic5\", \"Topic5\", \"Topic5\", \"Topic5\", \"Topic5\", \"Topic5\", \"Topic5\", \"Topic5\", \"Topic5\", \"Topic5\", \"Topic5\", \"Topic5\", \"Topic5\", \"Topic5\", \"Topic5\", \"Topic5\", \"Topic5\", \"Topic5\", \"Topic5\", \"Topic5\", \"Topic5\", \"Topic5\", \"Topic5\", \"Topic5\", \"Topic5\", \"Topic5\", \"Topic5\", \"Topic5\", \"Topic5\", \"Topic5\", \"Topic5\", \"Topic5\", \"Topic5\", \"Topic5\", \"Topic5\", \"Topic5\", \"Topic5\", \"Topic5\", \"Topic5\", \"Topic5\", \"Topic5\", \"Topic5\", \"Topic5\", \"Topic5\", \"Topic5\", \"Topic6\", \"Topic6\", \"Topic6\", \"Topic6\", \"Topic6\", \"Topic6\", \"Topic6\", \"Topic6\", \"Topic6\", \"Topic6\", \"Topic6\", \"Topic6\", \"Topic6\", \"Topic6\", \"Topic6\", \"Topic6\", \"Topic6\", \"Topic6\", \"Topic6\", \"Topic6\", \"Topic6\", \"Topic6\", \"Topic6\", \"Topic6\", \"Topic6\", \"Topic6\", \"Topic6\", \"Topic6\", \"Topic6\", \"Topic6\", \"Topic6\", \"Topic6\", \"Topic6\", \"Topic6\", \"Topic6\", \"Topic6\", \"Topic6\", \"Topic6\", \"Topic6\", \"Topic6\", \"Topic6\", \"Topic6\", \"Topic6\", \"Topic6\", \"Topic6\", \"Topic6\", \"Topic6\", \"Topic6\", \"Topic6\", \"Topic6\", \"Topic6\", \"Topic6\", \"Topic6\", \"Topic6\", \"Topic6\", \"Topic6\", \"Topic6\", \"Topic6\", \"Topic7\", \"Topic7\", \"Topic7\", \"Topic7\", \"Topic7\", \"Topic7\", \"Topic7\", \"Topic7\", \"Topic7\", \"Topic7\", \"Topic7\", \"Topic7\", \"Topic7\", \"Topic7\", \"Topic7\", \"Topic7\", \"Topic7\", \"Topic7\", \"Topic7\", \"Topic7\", \"Topic7\", \"Topic7\", \"Topic7\", \"Topic7\", \"Topic7\", \"Topic7\", \"Topic7\", \"Topic7\", \"Topic7\", \"Topic7\", \"Topic7\", \"Topic7\", \"Topic7\", \"Topic7\", \"Topic7\", \"Topic7\", \"Topic7\", \"Topic7\", \"Topic7\", \"Topic7\", \"Topic7\", \"Topic7\", \"Topic7\", \"Topic7\", \"Topic7\", \"Topic7\", \"Topic7\", \"Topic7\", \"Topic7\", \"Topic7\", \"Topic7\", \"Topic7\", \"Topic7\", \"Topic7\", \"Topic7\", \"Topic7\", \"Topic7\", \"Topic8\", \"Topic8\", \"Topic8\", \"Topic8\", \"Topic8\", \"Topic8\", \"Topic8\", \"Topic8\", \"Topic8\", \"Topic8\", \"Topic8\", \"Topic8\", \"Topic8\", \"Topic8\", \"Topic8\", \"Topic8\", \"Topic8\", \"Topic8\", \"Topic8\", \"Topic8\", \"Topic8\", \"Topic8\", \"Topic8\", \"Topic8\", \"Topic8\", \"Topic8\", \"Topic8\", \"Topic8\", \"Topic8\", \"Topic8\", \"Topic8\", \"Topic8\", \"Topic8\", \"Topic8\", \"Topic8\", \"Topic8\", \"Topic8\", \"Topic8\", \"Topic8\", \"Topic8\", \"Topic8\", \"Topic8\", \"Topic8\", \"Topic8\", \"Topic8\", \"Topic8\", \"Topic8\", \"Topic9\", \"Topic9\", \"Topic9\", \"Topic9\", \"Topic9\", \"Topic9\", \"Topic9\", \"Topic9\", \"Topic9\", \"Topic9\", \"Topic9\", \"Topic9\", \"Topic9\", \"Topic9\", \"Topic9\", \"Topic9\", \"Topic9\", \"Topic9\", \"Topic9\", \"Topic9\", \"Topic9\", \"Topic9\", \"Topic9\", \"Topic9\", \"Topic9\", \"Topic9\", \"Topic9\", \"Topic9\", \"Topic9\", \"Topic9\", \"Topic9\", \"Topic9\", \"Topic9\", \"Topic9\", \"Topic9\", \"Topic9\", \"Topic9\", \"Topic9\", \"Topic9\", \"Topic9\", \"Topic9\", \"Topic9\", \"Topic9\", \"Topic9\", \"Topic9\", \"Topic9\", \"Topic9\", \"Topic9\", \"Topic9\", \"Topic9\", \"Topic9\", \"Topic10\", \"Topic10\", \"Topic10\", \"Topic10\", \"Topic10\", \"Topic10\", \"Topic10\", \"Topic10\", \"Topic10\", \"Topic10\", \"Topic10\", \"Topic10\", \"Topic10\", \"Topic10\", \"Topic10\", \"Topic10\", \"Topic10\", \"Topic10\", \"Topic10\", \"Topic10\", \"Topic10\", \"Topic10\", \"Topic10\", \"Topic10\", \"Topic10\", \"Topic10\", \"Topic10\", \"Topic10\", \"Topic10\", \"Topic10\", \"Topic10\", \"Topic10\", \"Topic10\", \"Topic10\", \"Topic10\", \"Topic10\", \"Topic10\", \"Topic10\", \"Topic10\", \"Topic10\", \"Topic10\", \"Topic10\", \"Topic10\", \"Topic10\", \"Topic10\", \"Topic10\", \"Topic10\", \"Topic10\", \"Topic10\", \"Topic10\", \"Topic10\", \"Topic10\", \"Topic10\", \"Topic10\", \"Topic10\", \"Topic10\", \"Topic10\", \"Topic10\", \"Topic11\", \"Topic11\", \"Topic11\", \"Topic11\", \"Topic11\", \"Topic11\", \"Topic11\", \"Topic11\", \"Topic11\", \"Topic11\", \"Topic11\", \"Topic11\", \"Topic11\", \"Topic11\", \"Topic11\", \"Topic11\", \"Topic11\", \"Topic11\", \"Topic11\", \"Topic11\", \"Topic11\", \"Topic11\", \"Topic11\", \"Topic11\", \"Topic11\", \"Topic11\", \"Topic11\", \"Topic11\", \"Topic11\", \"Topic11\", \"Topic11\", \"Topic11\", \"Topic11\", \"Topic11\", \"Topic11\", \"Topic11\", \"Topic11\", \"Topic11\", \"Topic11\", \"Topic11\", \"Topic11\", \"Topic11\", \"Topic11\", \"Topic11\", \"Topic11\", \"Topic11\", \"Topic11\", \"Topic11\", \"Topic12\", \"Topic12\", \"Topic12\", \"Topic12\", \"Topic12\", \"Topic12\", \"Topic12\", \"Topic12\", \"Topic12\", \"Topic12\", \"Topic12\", \"Topic12\", \"Topic12\", \"Topic12\", \"Topic12\", \"Topic12\", \"Topic12\", \"Topic12\", \"Topic12\", \"Topic12\", \"Topic12\", \"Topic12\", \"Topic12\", \"Topic12\", \"Topic12\", \"Topic12\", \"Topic12\", \"Topic12\", \"Topic12\", \"Topic12\", \"Topic12\", \"Topic12\", \"Topic12\", \"Topic12\", \"Topic12\", \"Topic12\", \"Topic12\", \"Topic12\", \"Topic12\", \"Topic12\", \"Topic12\", \"Topic12\", \"Topic12\", \"Topic13\", \"Topic13\", \"Topic13\", \"Topic13\", \"Topic13\", \"Topic13\", \"Topic13\", \"Topic13\", \"Topic13\", \"Topic13\", \"Topic13\", \"Topic13\", \"Topic13\", \"Topic13\", \"Topic13\", \"Topic13\", \"Topic13\", \"Topic13\", \"Topic13\", \"Topic13\", \"Topic13\", \"Topic13\", \"Topic13\", \"Topic13\", \"Topic13\", \"Topic13\", \"Topic13\", \"Topic13\", \"Topic13\", \"Topic13\", \"Topic13\", \"Topic13\", \"Topic13\", \"Topic13\", \"Topic13\", \"Topic13\", \"Topic13\", \"Topic13\", \"Topic13\", \"Topic13\", \"Topic13\", \"Topic13\", \"Topic13\", \"Topic13\", \"Topic13\", \"Topic13\", \"Topic13\", \"Topic13\", \"Topic13\", \"Topic13\", \"Topic14\", \"Topic14\", \"Topic14\", \"Topic14\", \"Topic14\", \"Topic14\", \"Topic14\", \"Topic14\", \"Topic14\", \"Topic14\", \"Topic14\", \"Topic14\", \"Topic14\", \"Topic14\", \"Topic14\", \"Topic14\", \"Topic14\", \"Topic14\", \"Topic14\", \"Topic14\", \"Topic14\", \"Topic14\", \"Topic14\", \"Topic14\", \"Topic14\", \"Topic14\", \"Topic14\", \"Topic14\", \"Topic14\", \"Topic14\", \"Topic14\", \"Topic14\", \"Topic14\", \"Topic14\", \"Topic14\", \"Topic14\", \"Topic14\", \"Topic14\", \"Topic14\", \"Topic14\", \"Topic14\", \"Topic14\", \"Topic14\", \"Topic14\", \"Topic14\", \"Topic14\", \"Topic14\", \"Topic14\", \"Topic14\", \"Topic14\", \"Topic14\", \"Topic15\", \"Topic15\", \"Topic15\", \"Topic15\", \"Topic15\", \"Topic15\", \"Topic15\", \"Topic15\", \"Topic15\", \"Topic15\", \"Topic15\", \"Topic15\", \"Topic15\", \"Topic15\", \"Topic15\", \"Topic15\", \"Topic15\", \"Topic15\", \"Topic15\", \"Topic15\", \"Topic15\", \"Topic15\", \"Topic15\", \"Topic15\", \"Topic15\", \"Topic15\", \"Topic15\", \"Topic15\", \"Topic15\", \"Topic15\", \"Topic15\", \"Topic15\", \"Topic15\", \"Topic15\", \"Topic15\", \"Topic15\", \"Topic15\", \"Topic15\", \"Topic15\", \"Topic15\", \"Topic15\", \"Topic15\", \"Topic15\", \"Topic15\", \"Topic15\", \"Topic15\", \"Topic15\", \"Topic16\", \"Topic16\", \"Topic16\", \"Topic16\", \"Topic16\", \"Topic16\", \"Topic16\", \"Topic16\", \"Topic16\", \"Topic16\", \"Topic16\", \"Topic16\", \"Topic16\", \"Topic16\", \"Topic16\", \"Topic16\", \"Topic16\", \"Topic16\", \"Topic16\", \"Topic16\", \"Topic16\", \"Topic16\", \"Topic16\", \"Topic16\", \"Topic16\", \"Topic16\", \"Topic16\", \"Topic16\", \"Topic16\", \"Topic16\", \"Topic16\", \"Topic16\", \"Topic16\", \"Topic16\", \"Topic16\", \"Topic16\", \"Topic16\", \"Topic16\", \"Topic16\", \"Topic16\", \"Topic16\", \"Topic16\", \"Topic16\", \"Topic16\", \"Topic16\", \"Topic16\", \"Topic16\", \"Topic16\", \"Topic16\", \"Topic16\", \"Topic16\", \"Topic16\", \"Topic17\", \"Topic17\", \"Topic17\", \"Topic17\", \"Topic17\", \"Topic17\", \"Topic17\", \"Topic17\", \"Topic17\", \"Topic17\", \"Topic17\", \"Topic17\", \"Topic17\", \"Topic17\", \"Topic17\", \"Topic17\", \"Topic17\", \"Topic17\", \"Topic17\", \"Topic17\", \"Topic17\", \"Topic17\", \"Topic17\", \"Topic17\", \"Topic17\", \"Topic17\", \"Topic17\", \"Topic17\", \"Topic17\", \"Topic17\", \"Topic17\", \"Topic17\", \"Topic17\", \"Topic17\", \"Topic17\", \"Topic17\", \"Topic17\", \"Topic17\", \"Topic17\", \"Topic17\", \"Topic17\", \"Topic17\", \"Topic17\", \"Topic17\", \"Topic17\", \"Topic17\", \"Topic17\", \"Topic17\", \"Topic17\", \"Topic17\", \"Topic18\", \"Topic18\", \"Topic18\", \"Topic18\", \"Topic18\", \"Topic18\", \"Topic18\", \"Topic18\", \"Topic18\", \"Topic18\", \"Topic18\", \"Topic18\", \"Topic18\", \"Topic18\", \"Topic18\", \"Topic18\", \"Topic18\", \"Topic18\", \"Topic18\", \"Topic18\", \"Topic18\", \"Topic18\", \"Topic18\", \"Topic18\", \"Topic18\", \"Topic18\", \"Topic18\", \"Topic18\", \"Topic18\", \"Topic18\", \"Topic18\", \"Topic18\", \"Topic18\", \"Topic18\", \"Topic18\", \"Topic18\", \"Topic18\", \"Topic18\", \"Topic18\", \"Topic18\", \"Topic18\", \"Topic18\", \"Topic18\", \"Topic18\", \"Topic18\", \"Topic19\", \"Topic19\", \"Topic19\", \"Topic19\", \"Topic19\", \"Topic19\", \"Topic19\", \"Topic19\", \"Topic19\", \"Topic19\", \"Topic19\", \"Topic19\", \"Topic19\", \"Topic19\", \"Topic19\", \"Topic19\", \"Topic19\", \"Topic19\", \"Topic19\", \"Topic19\", \"Topic19\", \"Topic19\", \"Topic19\", \"Topic19\", \"Topic19\", \"Topic19\", \"Topic19\", \"Topic19\", \"Topic19\", \"Topic19\", \"Topic19\", \"Topic19\", \"Topic19\", \"Topic19\", \"Topic19\", \"Topic19\", \"Topic19\", \"Topic19\", \"Topic19\", \"Topic19\", \"Topic19\", \"Topic19\", \"Topic19\", \"Topic19\", \"Topic19\", \"Topic20\", \"Topic20\", \"Topic20\", \"Topic20\", \"Topic20\", \"Topic20\", \"Topic20\", \"Topic20\", \"Topic20\", \"Topic20\", \"Topic20\", \"Topic20\", \"Topic20\", \"Topic20\", \"Topic20\", \"Topic20\", \"Topic20\", \"Topic20\", \"Topic20\", \"Topic20\", \"Topic20\", \"Topic20\", \"Topic20\", \"Topic20\", \"Topic20\", \"Topic20\", \"Topic20\", \"Topic20\", \"Topic20\", \"Topic20\", \"Topic20\", \"Topic20\", \"Topic20\", \"Topic20\", \"Topic20\", \"Topic20\", \"Topic20\", \"Topic20\", \"Topic20\", \"Topic20\", \"Topic20\"], \"logprob\": [30.0, 29.0, 28.0, 27.0, 26.0, 25.0, 24.0, 23.0, 22.0, 21.0, 20.0, 19.0, 18.0, 17.0, 16.0, 15.0, 14.0, 13.0, 12.0, 11.0, 10.0, 9.0, 8.0, 7.0, 6.0, 5.0, 4.0, 3.0, 2.0, 1.0, -2.6972999572753906, -4.111299991607666, -4.190499782562256, -4.432799816131592, -4.4390997886657715, -4.611299991607666, -4.891600131988525, -4.920400142669678, -4.949399948120117, -5.036399841308594, -5.110400199890137, -4.17080020904541, -5.193999767303467, -5.239099979400635, -5.350500106811523, -5.388700008392334, -5.448599815368652, -5.4664998054504395, -5.479100227355957, -5.485799789428711, -5.54640007019043, -5.561200141906738, -5.592299938201904, -5.597099781036377, -5.598700046539307, -5.601799964904785, -5.607600212097168, -5.625500202178955, -5.700500011444092, -5.705699920654297, -4.625699996948242, -4.403800010681152, -4.884500026702881, -3.9619998931884766, -5.268499851226807, -4.227399826049805, -4.453000068664551, -4.559299945831299, -5.186200141906738, -4.913099765777588, -4.5055999755859375, -4.913099765777588, -5.136099815368652, -4.445400238037109, -5.23330020904541, -4.727200031280518, -4.9857001304626465, -5.075799942016602, -4.360599994659424, -4.577700138092041, -4.562900066375732, -3.1250998973846436, -3.98009991645813, -4.5518999099731445, -4.819699764251709, -4.984000205993652, -5.030399799346924, -5.142600059509277, -5.208399772644043, -5.235899925231934, -5.292200088500977, -5.3165998458862305, -5.408899784088135, -5.4359002113342285, -5.49399995803833, -5.617800235748291, -4.866000175476074, -5.673299789428711, -5.7241997718811035, -5.7332000732421875, -5.7571001052856445, -5.780399799346924, -5.809599876403809, -5.8109002113342285, -5.8557000160217285, -5.878300189971924, -5.889599800109863, -5.923699855804443, -5.952700138092041, -5.959099769592285, -5.959400177001953, -3.766900062561035, -4.634799957275391, -4.2733001708984375, -4.766499996185303, -5.251100063323975, -5.5742998123168945, -5.149700164794922, -3.2248001098632812, -5.200500011444092, -4.986000061035156, -5.242300033569336, -5.2322998046875, -5.265600204467773, -5.363900184631348, -3.2818000316619873, -5.013700008392334, -4.824999809265137, -4.228000164031982, -5.362500190734863, -5.290299892425537, -4.684899806976318, -4.798900127410889, -5.323299884796143, -5.3881001472473145, -5.394899845123291, -5.465700149536133, -5.471700191497803, -5.54010009765625, -5.662099838256836, -5.670100212097168, -5.763800144195557, -5.80810022354126, -5.843500137329102, -5.874300003051758, -5.900100231170654, -5.906700134277344, -5.907800197601318, -5.9079999923706055, -5.9303998947143555, -5.9679999351501465, -5.986299991607666, -6.056099891662598, -6.136499881744385, -6.184100151062012, -6.201200008392334, -6.290500164031982, -6.2993998527526855, -6.329400062561035, -6.337399959564209, -6.372099876403809, -4.933700084686279, -4.771999835968018, -4.531300067901611, -4.664100170135498, -3.144700050354004, -3.830899953842163, -5.323699951171875, -4.690499782562256, -4.158699989318848, -4.563000202178955, -4.627699851989746, -5.088600158691406, -4.165200233459473, -5.03249979019165, -4.816100120544434, -5.675300121307373, -5.553699970245361, -4.347300052642822, -4.119100093841553, -4.966000080108643, -4.8765997886657715, -4.6641998291015625, -5.377600193023682, -5.018400192260742, -5.396399974822998, -5.237500190734863, -4.283299922943115, -4.580900192260742, -4.678500175476074, -4.8059000968933105, -4.903900146484375, -4.945000171661377, -5.031599998474121, -5.116399765014648, -5.312300205230713, -5.371300220489502, -5.446499824523926, -5.530399799346924, -5.539299964904785, -5.564799785614014, -5.5756001472473145, -5.586400032043457, -5.674200057983398, -5.696899890899658, -5.699699878692627, -5.722799777984619, -5.737199783325195, -5.766200065612793, -5.780600070953369, -5.781700134277344, -5.825500011444092, -5.8317999839782715, -5.847099781036377, -5.848100185394287, -5.857999801635742, -5.901199817657471, -4.826300144195557, -4.946499824523926, -5.450399875640869, -4.868500232696533, -4.950799942016602, -5.309000015258789, -3.1877999305725098, -5.370999813079834, -5.3850998878479, -5.589099884033203, -4.637599945068359, -5.088699817657471, -5.0152997970581055, -4.979899883270264, -4.917600154876709, -4.194300174713135, -5.179100036621094, -5.347300052642822, -4.970300197601318, -4.9816999435424805, -5.327499866485596, -5.234899997711182, -5.136099815368652, -5.441199779510498, -5.49399995803833, -5.593500137329102, -5.593800067901611, -5.64109992980957, -5.642499923706055, -5.7555999755859375, -5.770999908447266, -5.807700157165527, -5.873199939727783, -5.920199871063232, -5.943999767303467, -5.948500156402588, -5.974699974060059, -5.982900142669678, -6.026500225067139, -6.059100151062012, -6.085400104522705, -6.10230016708374, -6.115300178527832, -6.1346001625061035, -6.151199817657471, -6.207399845123291, -6.24459981918335, -6.253699779510498, -6.280099868774414, -6.287300109863281, -6.302499771118164, -6.322800159454346, -4.840700149536133, -5.571000099182129, -5.561500072479248, -5.14769983291626, -3.989300012588501, -5.120500087738037, -5.587500095367432, -4.456500053405762, -4.22730016708374, -5.390200138092041, -5.71120023727417, -5.219399929046631, -5.722599983215332, -5.188600063323975, -4.5625, -4.978400230407715, -3.2653000354766846, -4.463200092315674, -4.0183000564575195, -4.4481000900268555, -3.363800048828125, -4.735099792480469, -5.355500221252441, -4.362400054931641, -5.507599830627441, -5.037099838256836, -5.023900032043457, -5.312399864196777, -5.231100082397461, -5.461699962615967, -5.069200038909912, -5.417799949645996, -5.281300067901611, -5.384799957275391, -5.3821001052856445, -3.779900074005127, -3.821700096130371, -4.374599933624268, -4.555799961090088, -4.677599906921387, -5.033599853515625, -5.369100093841553, -5.507800102233887, -5.565700054168701, -5.579699993133545, -3.413599967956543, -5.749899864196777, -5.8358001708984375, -5.90339994430542, -6.010799884796143, -6.057799816131592, -6.071300029754639, -6.14739990234375, -6.174200057983398, -6.235899925231934, -6.3282999992370605, -6.3470001220703125, -6.3983001708984375, -6.452199935913086, -6.463500022888184, -6.494999885559082, -6.539000034332275, -6.561200141906738, -6.604599952697754, -6.635900020599365, -5.314199924468994, -4.391499996185303, -2.656399965286255, -3.900700092315674, -4.453800201416016, -5.047299861907959, -4.025400161743164, -4.888999938964844, -4.397200107574463, -4.394100189208984, -5.273499965667725, -4.684999942779541, -4.442200183868408, -4.699100017547607, -5.155099868774414, -4.514800071716309, -5.15749979019165, -4.304200172424316, -3.191800117492676, -4.553500175476074, -4.980299949645996, -5.166800022125244, -5.028800010681152, -4.03980016708374, -4.930300235748291, -4.796999931335449, -5.117300033569336, -5.133999824523926, -3.636399984359741, -3.9437999725341797, -4.401299953460693, -4.453199863433838, -4.619900226593018, -5.019700050354004, -5.173299789428711, -5.203999996185303, -5.363100051879883, -5.454699993133545, -5.457600116729736, -5.491499900817871, -5.498700141906738, -5.518700122833252, -5.543399810791016, -5.643499851226807, -5.663400173187256, -5.704400062561035, -5.71619987487793, -5.719699859619141, -5.737100124359131, -5.765900135040283, -5.7683000564575195, -5.803500175476074, -5.803999900817871, -5.808700084686279, -5.8196001052856445, -5.878300189971924, -5.933700084686279, -5.942500114440918, -5.009900093078613, -4.88100004196167, -5.294300079345703, -5.2322001457214355, -4.599800109863281, -5.617700099945068, -3.920599937438965, -5.128200054168701, -4.740699768066406, -5.27209997177124, -4.613500118255615, -4.21019983291626, -5.397799968719482, -5.263599872589111, -4.569300174713135, -5.44189977645874, -4.965799808502197, -5.150400161743164, -4.899099826812744, -4.183199882507324, -5.0269999504089355, -5.099400043487549, -5.102499961853027, -5.281000137329102, -5.231200218200684, -5.1774001121521, -5.260799884796143, -2.297800064086914, -2.5037999153137207, -2.5831000804901123, -2.493799924850464, -4.853899955749512, -5.0903000831604, -5.482600212097168, -5.581399917602539, -5.677199840545654, -5.689700126647949, -5.702099800109863, -5.963200092315674, -5.984799861907959, -6.01170015335083, -6.028800010681152, -6.052800178527832, -6.062600135803223, -6.1641998291015625, -6.16949987411499, -6.171500205993652, -6.249000072479248, -6.2530999183654785, -6.3383002281188965, -6.343599796295166, -6.39109992980957, -6.3933000564575195, -6.4019999504089355, -6.445400238037109, -6.503399848937988, -6.511499881744385, -5.928299903869629, -5.862199783325195, -5.281700134277344, -5.507800102233887, -5.211100101470947, -5.427199840545654, -5.643799781799316, -5.03000020980835, -5.427700042724609, -5.619699954986572, -5.377299785614014, -5.548600196838379, -5.608500003814697, -5.817599773406982, -5.850800037384033, -5.958000183105469, -5.952099800109863, -3.9934000968933105, -4.145100116729736, -4.286200046539307, -4.437600135803223, -4.695700168609619, -4.786099910736084, -4.7993998527526855, -4.8846001625061035, -5.091599941253662, -5.097099781036377, -5.150199890136719, -5.1656999588012695, -5.3078999519348145, -5.309199810028076, -5.312099933624268, -5.42549991607666, -5.469799995422363, -5.639800071716309, -5.654200077056885, -5.6819000244140625, -4.681700229644775, -5.698999881744385, -5.7444000244140625, -5.747799873352051, -5.835700035095215, -5.839099884033203, -6.056399822235107, -6.225900173187256, -6.226600170135498, -6.229800224304199, -4.870100021362305, -4.7733001708984375, -4.301799774169922, -4.529900074005127, -4.025199890136719, -4.117000102996826, -4.266300201416016, -4.650000095367432, -4.644000053405762, -4.783299922943115, -5.3358001708984375, -4.331600189208984, -4.929900169372559, -4.554800033569336, -4.6992998123168945, -4.779900074005127, -3.615999937057495, -4.237199783325195, -4.260200023651123, -4.786499977111816, -4.815499782562256, -3.515899896621704, -4.011000156402588, -4.1107001304626465, -4.625, -5.083700180053711, -5.337800025939941, -5.364299774169922, -5.538000106811523, -5.5416998863220215, -5.595900058746338, -5.623700141906738, -5.6468000411987305, -5.659200191497803, -5.6768999099731445, -5.678199768066406, -5.763599872589111, -5.940999984741211, -6.044300079345703, -6.078199863433838, -6.103899955749512, -6.1407999992370605, -6.242499828338623, -6.252799987792969, -6.286300182342529, -6.313399791717529, -4.523499965667725, -6.3445000648498535, -6.407400131225586, -6.447800159454346, -6.46019983291626, -5.812399864196777, -2.557499885559082, -4.076200008392334, -5.43179988861084, -4.460000038146973, -5.372200012207031, -6.029600143432617, -5.533899784088135, -4.632500171661377, -5.383999824523926, -5.0644001960754395, -5.49560022354126, -4.817399978637695, -5.500500202178955, -4.553999900817871, -3.8096001148223877, -4.875400066375732, -4.921500205993652, -5.517600059509277, -5.061500072479248, -5.469399929046631, -5.150199890136719, -4.916900157928467, -4.967400074005127, -5.335899829864502, -5.457900047302246, -5.471199989318848, -5.481599807739258, -2.621500015258789, -3.1308999061584473, -4.807600021362305, -4.859600067138672, -4.968500137329102, -5.056300163269043, -5.081200122833252, -5.087299823760986, -5.105199813842773, -5.189700126647949, -5.228000164031982, -5.159900188446045, -5.357900142669678, -5.358699798583984, -5.457300186157227, -5.521999835968018, -5.567599773406982, -5.580900192260742, -5.59630012512207, -5.6016998291015625, -5.60230016708374, -5.652699947357178, -5.677700042724609, -5.708899974822998, -5.734399795532227, -5.751699924468994, -5.815299987792969, -5.82289981842041, -5.955999851226807, -5.966000080108643, -4.702700138092041, -4.8831000328063965, -5.251100063323975, -5.479499816894531, -4.583399772644043, -4.9679999351501465, -5.1620001792907715, -5.240600109100342, -5.43310022354126, -5.104700088500977, -5.200399875640869, -5.4918999671936035, -5.204899787902832, -5.020999908447266, -5.261600017547607, -5.077600002288818, -5.4197998046875, -5.440800189971924, -2.594899892807007, -3.6456000804901123, -3.848099946975708, -4.531700134277344, -4.555500030517578, -4.84499979019165, -4.969799995422363, -5.112100124359131, -5.2204999923706055, -5.258699893951416, -5.262400150299072, -5.435100078582764, -5.445799827575684, -5.515699863433838, -5.534200191497803, -5.560400009155273, -5.583199977874756, -5.639200210571289, -5.64709997177124, -5.691100120544434, -5.724299907684326, -5.745699882507324, -5.802499771118164, -5.809599876403809, -5.835999965667725, -5.841000080108643, -5.852200031280518, -5.853000164031982, -5.907700061798096, -5.931000232696533, -4.15310001373291, -4.611499786376953, -4.968800067901611, -5.365699768066406, -4.218200206756592, -5.69189977645874, -5.317200183868408, -5.2718000411987305, -5.398399829864502, -5.05210018157959, -5.171599864959717, -5.522299766540527, -5.538599967956543, -4.26800012588501, -4.355299949645996, -4.406099796295166, -4.758900165557861, -4.7993998527526855, -4.905200004577637, -5.022799968719482, -5.162399768829346, -5.190800189971924, -5.250500202178955, -5.293399810791016, -5.358699798583984, -5.388999938964844, -5.391499996185303, -5.392199993133545, -5.433199882507324, -5.436699867248535, -5.454899787902832, -5.5192999839782715, -5.555699825286865, -5.652699947357178, -5.658400058746338, -5.676499843597412, -5.696599960327148, -5.742300033569336, -5.749899864196777, -5.774600028991699, -5.785600185394287, -5.809000015258789, -5.845600128173828, -5.034599781036377, -4.25, -5.202400207519531, -4.698200225830078, -4.574699878692627, -4.4633002281188965, -4.463600158691406, -4.914299964904785, -4.567599773406982, -4.9857001304626465, -4.823999881744385, -5.195099830627441, -4.2256999015808105, -5.174200057983398, -5.189000129699707, -4.931399822235107, -5.217100143432617, -5.1855998039245605, -5.170400142669678, -5.152299880981445, -4.729000091552734, -5.2316999435424805, -5.262199878692627, -5.332900047302246, -5.3379998207092285, -5.360400199890137, -5.43149995803833, -5.453499794006348, -5.499800205230713, -5.514500141143799, -5.51669979095459, -5.5229997634887695, -5.525100231170654, -5.536200046539307, -5.541600227355957, -5.589900016784668, -5.592700004577637, -5.59689998626709, -5.6184000968933105, -5.625500202178955, -5.628799915313721, -5.698500156402588, -5.706999778747559, -5.785399913787842, -5.825500011444092, -5.856100082397461, -5.863800048828125, -5.875800132751465, -5.893099784851074, -5.920300006866455, -4.263500213623047, -3.7399001121520996, -4.567399978637695, -4.237299919128418, -4.085400104522705, -4.795000076293945, -4.894000053405762, -5.076200008392334, -4.615099906921387, -4.477799892425537, -5.0883002281188965, -3.4670000076293945, -5.120200157165527, -4.390399932861328, -5.081699848175049, -4.910799980163574, -5.049900054931641, -5.357999801635742, -5.308700084686279, -5.466400146484375, -5.494999885559082, -4.061299800872803, -4.082399845123291, -4.440199851989746, -4.824900150299072, -5.040500164031982, -5.075900077819824, -5.093299865722656, -5.151500225067139, -5.1596999168396, -5.169000148773193, -5.237199783325195, -5.241600036621094, -5.243100166320801, -5.380099773406982, -5.3902997970581055, -5.398399829864502, -5.457099914550781, -5.482399940490723, -5.4934000968933105, -5.49370002746582, -5.495999813079834, -5.5152997970581055, -5.554299831390381, -5.622300148010254, -5.6656999588012695, -5.691500186920166, -5.729800224304199, -5.738399982452393, -5.74399995803833, -5.748600006103516, -4.7789998054504395, -4.637199878692627, -4.7368998527526855, -5.011600017547607, -4.40939998626709, -4.685500144958496, -4.385799884796143, -3.9245998859405518, -5.046000003814697, -5.375400066375732, -5.198500156402588, -4.877799987792969, -5.308000087738037, -5.129700183868408, -5.200500011444092, -5.246600151062012, -5.330699920654297, -4.812399864196777, -4.881800174713135, -4.894400119781494, -5.079800128936768, -5.097400188446045, -5.1072001457214355, -5.292300224304199, -5.293000221252441, -5.4303998947143555, -5.490699768066406, -5.625699996948242, -5.627799987792969, -5.629300117492676, -5.651899814605713, -5.653200149536133, -5.673299789428711, -5.701499938964844, -5.728000164031982, -5.7332000732421875, -5.749000072479248, -5.769899845123291, -5.772200107574463, -5.83050012588501, -5.864699840545654, -5.872700214385986, -5.880000114440918, -5.929900169372559, -5.238999843597412, -6.056000232696533, -6.085999965667725, -4.747600078582764, -5.028500080108643, -5.070000171661377, -5.0177001953125, -5.015100002288818, -4.319399833679199, -5.084000110626221, -4.7067999839782715, -4.8597002029418945, -4.557300090789795, -5.098700046539307, -5.112599849700928, -4.83489990234375, -5.173799991607666, -5.1269001960754395, -5.446000099182129, -3.8529999256134033, -4.1178998947143555, -4.825699806213379, -5.182499885559082, -5.1992998123168945, -5.281099796295166, -3.8875999450683594, -4.7546000480651855, -5.1350998878479, -5.222899913787842, -5.247499942779541, -5.335700035095215, -5.335700035095215, -5.335700035095215, -5.335700035095215, -5.335700035095215, -5.335700035095215, -5.335700035095215, -5.335700035095215, -5.436699867248535, -5.478499889373779, -5.576600074768066, -5.605400085449219, -5.72189998626709, -5.763599872589111, -5.840400218963623, -5.908299922943115, -5.949999809265137, -5.959400177001953, -5.984300136566162, -6.04010009765625, -6.04040002822876, -6.059700012207031, -6.069900035858154, -6.087600231170654, -6.1178998947143555, -4.63100004196167, -4.688199996948242, -5.208199977874756, -5.192399978637695, -5.09060001373291, -5.497399806976318, -5.394199848175049, -5.606400012969971, -5.004000186920166, -5.209000110626221, -5.511600017547607, -4.236299991607666, -4.659599781036377, -4.77869987487793, -5.068699836730957, -4.434199810028076, -4.7617998123168945, -4.8531999588012695, -5.241799831390381, -5.124000072479248, -3.1847000122070312, -3.495800018310547, -4.685100078582764, -4.88640022277832, -5.036200046539307, -5.071000099182129, -5.085999965667725, -5.118800163269043, -5.1554999351501465, -5.186299800872803, -5.196199893951416, -5.223400115966797, -5.261499881744385, -5.311800003051758, -5.329100131988525, -5.442299842834473, -5.474800109863281, -5.491000175476074, -5.491000175476074, -5.491000175476074, -5.491000175476074, -5.491000175476074, -5.629300117492676, -5.636600017547607, -5.638899803161621, -5.638599872589111, -5.731299877166748, -5.7399001121521, -5.759699821472168, -5.764200210571289, -4.111599922180176, -5.222799777984619, -5.138400077819824, -4.944499969482422, -4.600200176239014, -4.694799900054932, -4.65939998626709, -5.193900108337402, -4.077700138092041, -4.188300132751465, -4.963500022888184, -5.220900058746338, -5.276700019836426, -5.28380012512207, -5.2581000328063965, -3.909899950027466, -4.294899940490723, -4.643199920654297, -4.707399845123291, -4.8668999671936035, -5.096399784088135, -5.125999927520752, -5.2606000900268555, -5.2718000411987305, -5.281599998474121, -5.337500095367432, -5.463399887084961, -5.519100189208984, -5.5355000495910645, -5.5391998291015625, -5.569200038909912, -5.580100059509277, -5.682700157165527, -5.688799858093262, -5.758600234985352, -5.84250020980835, -5.854499816894531, -5.8755998611450195, -5.882599830627441, -5.888999938964844, -5.892199993133545, -5.897900104522705, -5.898499965667725, -5.92110013961792, -5.922800064086914, -4.293399810791016, -4.9604997634887695, -3.2681000232696533, -4.024700164794922, -4.349100112915039, -5.710899829864502, -5.144000053405762, -5.239200115203857, -5.192599773406982, -5.595399856567383, -4.980999946594238, -4.959199905395508, -4.78410005569458, -5.393899917602539, -5.525300025939941, -4.271699905395508, -4.319399833679199, -4.377799987792969, -4.704500198364258, -4.809599876403809, -4.900100231170654, -4.91949987411499, -4.93179988861084, -4.968400001525879, -4.986400127410889, -5.021100044250488, -5.0447001457214355, -5.05620002746582, -5.065400123596191, -5.096799850463867, -5.139500141143799, -5.219299793243408, -5.2220001220703125, -5.255799770355225, -5.26039981842041, -5.30109977722168, -5.3709001541137695, -5.380099773406982, -5.405900001525879, -5.440100193023682, -5.462299823760986, -5.503300189971924, -5.5447001457214355, -5.584000110626221, -5.593299865722656, -4.951200008392334, -4.801199913024902, -4.434000015258789, -4.996200084686279, -4.440400123596191, -4.4791998863220215, -4.431399822235107, -5.040800094604492, -4.752699851989746, -5.119200229644775, -5.167799949645996], \"loglift\": [30.0, 29.0, 28.0, 27.0, 26.0, 25.0, 24.0, 23.0, 22.0, 21.0, 20.0, 19.0, 18.0, 17.0, 16.0, 15.0, 14.0, 13.0, 12.0, 11.0, 10.0, 9.0, 8.0, 7.0, 6.0, 5.0, 4.0, 3.0, 2.0, 1.0, 0.7382000088691711, 0.7378000020980835, 0.7378000020980835, 0.7376000285148621, 0.7376000285148621, 0.7373999953269958, 0.7372000217437744, 0.7372000217437744, 0.7372000217437744, 0.7371000051498413, 0.7369999885559082, 0.7369999885559082, 0.7368000149726868, 0.7368000149726868, 0.7365999817848206, 0.7365000247955322, 0.7364000082015991, 0.7364000082015991, 0.7364000082015991, 0.7364000082015991, 0.7361999750137329, 0.7361999750137329, 0.7361000180244446, 0.7361000180244446, 0.7361000180244446, 0.7361000180244446, 0.7361000180244446, 0.7361000180244446, 0.7358999848365784, 0.7358999848365784, 0.7357000112533569, 0.7315999865531921, 0.7339000105857849, 0.7196000218391418, 0.7297000288963318, 0.7081000208854675, 0.7099999785423279, 0.7080000042915344, 0.7250999808311462, 0.7139000296592712, 0.6796000003814697, 0.6980000138282776, 0.7110000252723694, 0.6237000226974487, 0.7035999894142151, 0.5748999714851379, 0.5724999904632568, 0.6180999875068665, 0.09160000085830688, 0.18199999630451202, 0.07850000262260437, 3.067699909210205, 3.063999891281128, 3.0617001056671143, 3.059299945831299, 3.057499885559082, 3.0555999279022217, 3.0553998947143555, 3.0543999671936035, 3.053999900817871, 3.053100109100342, 3.0527000427246094, 3.051100015640259, 3.050600051879883, 3.049499988555908, 3.0469000339508057, 3.0464999675750732, 3.045599937438965, 3.044300079345703, 3.044100046157837, 3.0434999465942383, 3.0429000854492188, 3.042099952697754, 3.042099952697754, 3.040800094604492, 3.0401999950408936, 3.039900064468384, 3.0388998985290527, 3.0380001068115234, 3.0378000736236572, 3.0378000736236572, 3.0218000411987305, 3.0078999996185303, 2.9951000213623047, 3.0016000270843506, 3.012700080871582, 2.988800048828125, 2.9128000736236572, 2.425100088119507, 2.8933000564575195, 2.8387999534606934, 2.8538999557495117, 2.8447999954223633, 2.8561999797821045, 2.8559999465942383, 1.4779000282287598, 2.623199939727783, 2.3884999752044678, 0.8410999774932861, 2.768699884414673, 2.27239990234375, 3.178499937057495, 3.177299976348877, 3.1695001125335693, 3.168299913406372, 3.168100118637085, 3.166599988937378, 3.1665000915527344, 3.164900064468384, 3.161900043487549, 3.1617000102996826, 3.15910005569458, 3.1577999591827393, 3.1566998958587646, 3.1556999683380127, 3.1547999382019043, 3.154599905014038, 3.154599905014038, 3.154599905014038, 3.1538000106811523, 3.1524999141693115, 3.1517999172210693, 3.149199962615967, 3.1459999084472656, 3.143899917602539, 3.143199920654297, 3.1389999389648438, 3.1386001110076904, 3.1370999813079834, 3.136699914932251, 3.1349000930786133, 3.1308000087738037, 3.115499973297119, 3.0769999027252197, 3.0706000328063965, 2.9916000366210938, 2.991300106048584, 3.0696001052856445, 3.012500047683716, 2.8229000568389893, 2.8743999004364014, 2.8132998943328857, 2.8326001167297363, 2.3189001083374023, 2.682499885559082, 2.4935998916625977, 2.9863998889923096, 2.8387999534606934, 1.561900019645691, 0.33309999108314514, 1.5532000064849854, 0.6815999746322632, -0.02280000038444996, 1.9805999994277954, 0.16680000722408295, 2.0030999183654785, 0.4562999904155731, 3.287899971008301, 3.2852001190185547, 3.2841999530792236, 3.2827000617980957, 3.281399965286255, 3.2808001041412354, 3.2795000076293945, 3.27810001373291, 3.274399995803833, 3.273099899291992, 3.271399974822998, 3.2692999839782715, 3.2690999507904053, 3.268399953842163, 3.2681000232696533, 3.2678000926971436, 3.2653000354766846, 3.264699935913086, 3.2646000385284424, 3.2639000415802, 3.263400077819824, 3.262500047683716, 3.26200008392334, 3.26200008392334, 3.260499954223633, 3.2602999210357666, 3.2597999572753906, 3.259700059890747, 3.259399890899658, 3.2578001022338867, 3.220599889755249, 3.1556999683380127, 3.2132999897003174, 3.090100049972534, 3.0964999198913574, 3.1530001163482666, 2.4972000122070312, 3.0924999713897705, 3.081700086593628, 3.1786999702453613, 2.585599899291992, 2.8326001167297363, 2.7625999450683594, 2.516900062561035, 2.4405999183654785, 1.6152000427246094, 2.5694000720977783, 2.828399896621704, 1.0963000059127808, 0.9958000183105469, 2.113600015640259, 1.0183000564575195, 3.40120005607605, 3.394200086593628, 3.392699956893921, 3.3898000717163086, 3.389699935913086, 3.388200044631958, 3.388200044631958, 3.3842999935150146, 3.383699893951416, 3.3822999000549316, 3.3798000812530518, 3.3777999877929688, 3.376800060272217, 3.3766000270843506, 3.3754000663757324, 3.375, 3.372999906539917, 3.371500015258789, 3.3701999187469482, 3.36929988861084, 3.3687000274658203, 3.3677000999450684, 3.36680006980896, 3.3636999130249023, 3.361599922180176, 3.3610999584198, 3.359499931335449, 3.359100103378296, 3.358099937438965, 3.3568999767303467, 3.298799991607666, 3.324399948120117, 3.301800012588501, 3.2623000144958496, 3.0243000984191895, 3.1533000469207764, 3.2230000495910645, 2.9426000118255615, 2.839600086212158, 3.083199977874756, 3.209700107574463, 2.975600004196167, 3.203000068664551, 2.9230000972747803, 2.5274999141693115, 2.687299966812134, 1.3760000467300415, 2.19350004196167, 1.8178000450134277, 2.1602001190185547, 1.0882999897003174, 2.259000062942505, 2.705199956893921, 0.9397000074386597, 2.916599988937378, 1.8245999813079834, 1.1124000549316406, 1.9204000234603882, 1.2668999433517456, 2.571199893951416, -0.3095000088214874, 2.2037999629974365, 1.0765000581741333, 1.8575999736785889, 1.652999997138977, 3.4407999515533447, 3.4405999183654785, 3.436500072479248, 3.434499979019165, 3.4330999851226807, 3.427500009536743, 3.4202001094818115, 3.4163999557495117, 3.4147000312805176, 3.4142000675201416, 3.4098000526428223, 3.408400058746338, 3.405100107192993, 3.4022998809814453, 3.39739990234375, 3.39520001411438, 3.3945000171661377, 3.390500068664551, 3.3889999389648438, 3.385499954223633, 3.3798000812530518, 3.3785998821258545, 3.375200033187866, 3.3714001178741455, 3.3705999851226807, 3.368299961090088, 3.3649001121520996, 3.363100051879883, 3.359600067138672, 3.3570001125335693, 3.327199935913086, 3.281399965286255, 3.1796998977661133, 3.2216999530792236, 3.22379994392395, 3.202699899673462, 3.0569000244140625, 3.1459999084472656, 3.0418999195098877, 2.9941000938415527, 3.1431000232696533, 2.9749999046325684, 2.829699993133545, 2.77239990234375, 2.9551000595092773, 2.588399887084961, 2.914099931716919, 2.2286999225616455, 1.2603000402450562, 2.308199882507324, 2.611599922180176, 2.7918999195098877, 2.5348000526428223, 0.6015999913215637, 2.142199993133545, -0.037300001829862595, 2.208199977874756, 0.741599977016449, 3.453700065612793, 3.4519999027252197, 3.4482998847961426, 3.4477999210357666, 3.4458999633789062, 3.4398000240325928, 3.436800003051758, 3.4361000061035156, 3.432300090789795, 3.4298999309539795, 3.429800033569336, 3.428800106048584, 3.4286000728607178, 3.427999973297119, 3.4272000789642334, 3.4240000247955322, 3.42330002784729, 3.4219000339508057, 3.4214999675750732, 3.421299934387207, 3.4207000732421875, 3.419600009918213, 3.4195001125335693, 3.4182000160217285, 3.4182000160217285, 3.4179999828338623, 3.4175000190734863, 3.41510009765625, 3.4126999378204346, 3.4123001098632812, 3.39739990234375, 3.386699914932251, 3.3903000354766846, 3.3835999965667725, 3.2000999450683594, 3.3833000659942627, 2.956899881362915, 3.231600046157837, 3.0578999519348145, 3.2409000396728516, 2.731300115585327, 2.3178999423980713, 3.1826000213623047, 3.058199882507324, 2.325700044631958, 3.2000999450683594, 2.5201001167297363, 2.7263998985290527, 2.183199882507324, 0.45820000767707825, 2.215399980545044, 2.2076001167297363, 1.7197999954223633, 2.355600118637085, 1.982300043106079, 0.698199987411499, 2.0111000537872314, 3.4892001152038574, 3.4888999462127686, 3.4886999130249023, 3.4748001098632812, 3.4742000102996826, 3.469899892807007, 3.460099935531616, 3.4570000171661377, 3.453700065612793, 3.4532999992370605, 3.4528000354766846, 3.4419000148773193, 3.4407999515533447, 3.439500093460083, 3.438699960708618, 3.4374001026153564, 3.4368999004364014, 3.4314000606536865, 3.4310998916625977, 3.4309000968933105, 3.426300048828125, 3.4260001182556152, 3.4205000400543213, 3.420099973678589, 3.4168999195098877, 3.4166998863220215, 3.416100025177002, 3.412899971008301, 3.4084999561309814, 3.4077999591827393, 3.400599956512451, 3.3726000785827637, 3.2276999950408936, 3.26419997215271, 3.1861000061035156, 2.8796000480651855, 2.977400064468384, 1.8316999673843384, 1.495300054550171, 1.6226999759674072, 0.7590000033378601, 0.4982999861240387, -0.848800003528595, 0.7014999985694885, 0.8033999800682068, 1.9189000129699707, 1.670199990272522, 3.5278000831604004, 3.526599884033203, 3.5253000259399414, 3.523699998855591, 3.520400047302246, 3.5190999507904053, 3.518899917602539, 3.517400026321411, 3.5134999752044678, 3.5132999420166016, 3.512200117111206, 3.5118000507354736, 3.5083000659942627, 3.5083000659942627, 3.50819993019104, 3.505000114440918, 3.503700017929077, 3.497999906539917, 3.497499942779541, 3.496500015258789, 3.496000051498413, 3.495800018310547, 3.49399995803833, 3.4939000606536865, 3.4902000427246094, 3.4900999069213867, 3.4795000553131104, 3.4695000648498535, 3.4695000648498535, 3.4693000316619873, 3.434499979019165, 3.4310998916625977, 3.4142000675201416, 3.358299970626831, 3.2506000995635986, 3.190000057220459, 3.172100067138672, 3.240600109100342, 3.234499931335449, 3.2402000427246094, 3.3947999477386475, 3.0476999282836914, 3.255500078201294, 3.0088000297546387, 2.8740999698638916, 2.837599992752075, 1.1437000036239624, 1.840399980545044, 0.38119998574256897, 2.136399984359741, 1.9532999992370605, 3.5850000381469727, 3.5820000171661377, 3.581199884414673, 3.575500011444092, 3.567199945449829, 3.560800075531006, 3.559999942779541, 3.5543999671936035, 3.55430006980896, 3.5524001121520996, 3.551300048828125, 3.55049991607666, 3.549999952316284, 3.549299955368042, 3.5492000579833984, 3.5457000732421875, 3.537400007247925, 3.5318000316619873, 3.529900074005127, 3.52839994430542, 3.526099920272827, 3.5195000171661377, 3.5188000202178955, 3.5164999961853027, 3.5146000385284424, 3.5129001140594482, 3.5123000144958496, 3.507499933242798, 3.504199981689453, 3.503200054168701, 3.4856998920440674, 3.351799964904785, 3.33870005607605, 3.4344000816345215, 3.3189001083374023, 3.3738999366760254, 3.477099895477295, 3.3215999603271484, 3.0162999629974365, 3.2539000511169434, 3.1136999130249023, 3.2149999141693115, 2.7743000984191895, 3.1903998851776123, 2.4093000888824463, 0.8317999839782715, 2.2481000423431396, 2.145400047302246, 3.187999963760376, 1.9736000299453735, 2.93149995803833, 1.36899995803833, -0.46480000019073486, -0.2076999992132187, 1.6141999959945679, 2.5299999713897705, 2.5076000690460205, 2.7090001106262207, 3.6696999073028564, 3.668299913406372, 3.6531999111175537, 3.6522998809814453, 3.649899959564209, 3.648099899291992, 3.6475000381469727, 3.6473000049591064, 3.646899938583374, 3.644700050354004, 3.643699884414673, 3.641700029373169, 3.6398000717163086, 3.6398000717163086, 3.6366000175476074, 3.634200096130371, 3.632499933242798, 3.631999969482422, 3.6314001083374023, 3.631200075149536, 3.631200075149536, 3.6291000843048096, 3.6280999183654785, 3.626699924468994, 3.6256000995635986, 3.624799966812134, 3.621799945831299, 3.6214001178741455, 3.6143999099731445, 3.6138999462127686, 3.5652999877929688, 3.525399923324585, 3.544300079345703, 3.5580999851226807, 3.384000062942505, 3.43969988822937, 3.4296998977661133, 3.3615000247955322, 3.410599946975708, 3.0731000900268555, 2.982300043106079, 3.4144999980926514, 2.68179988861084, 1.873900055885315, 2.3011999130249023, 0.7508999705314636, 1.3307000398635864, 1.4473999738693237, 3.695499897003174, 3.6916000843048096, 3.690200090408325, 3.6830999851226807, 3.6826999187469482, 3.677799940109253, 3.6751999855041504, 3.671799898147583, 3.6689000129699707, 3.667799949645996, 3.6677000522613525, 3.6621999740600586, 3.661799907684326, 3.6591999530792236, 3.6584999561309814, 3.6575000286102295, 3.656599998474121, 3.6542999744415283, 3.6540000438690186, 3.652100086212158, 3.650599956512451, 3.649600028991699, 3.6468000411987305, 3.6465001106262207, 3.6451001167297363, 3.64490008354187, 3.6442999839782715, 3.6442999839782715, 3.6412999629974365, 3.6401000022888184, 3.3947999477386475, 3.4001998901367188, 3.3171000480651855, 3.400399923324585, 2.1784000396728516, 3.4992001056671143, 2.8508999347686768, 2.199700117111206, 2.4307000637054443, -0.4106999933719635, -0.41190001368522644, 2.1377999782562256, 1.8884999752044678, 3.7086000442504883, 3.7076001167297363, 3.706899881362915, 3.7014000415802, 3.700700044631958, 3.698499917984009, 3.6958999633789062, 3.6923000812530518, 3.691499948501587, 3.6898000240325928, 3.688499927520752, 3.6863999366760254, 3.6854000091552734, 3.68530011177063, 3.68530011177063, 3.683799982070923, 3.6837000846862793, 3.6830999851226807, 3.6805999279022217, 3.6791999340057373, 3.675100088119507, 3.6749000549316406, 3.674099922180176, 3.6731998920440674, 3.6710000038146973, 3.6707000732421875, 3.6695001125335693, 3.6689000129699707, 3.6677000522613525, 3.665800094604492, 3.6273999214172363, 3.574199914932251, 3.6328001022338867, 3.525099992752075, 3.4200000762939453, 3.383500099182129, 3.2390999794006348, 3.3241000175476074, 3.1059999465942383, 3.30649995803833, 3.085099935531616, 3.3633999824523926, 1.8212000131607056, 3.079900026321411, 3.011899948120117, 2.1410999298095703, 3.059000015258789, 2.8657000064849854, 2.438699960708618, 1.3756999969482422, 3.702899932861328, 3.691200017929077, 3.6902999877929688, 3.6881000995635986, 3.687999963760376, 3.6872000694274902, 3.684799909591675, 3.684000015258789, 3.682300090789795, 3.6816999912261963, 3.6816000938415527, 3.6814000606536865, 3.681299924850464, 3.6809000968933105, 3.6805999279022217, 3.6786999702453613, 3.6786000728607178, 3.6784000396728516, 3.677500009536743, 3.6772000789642334, 3.677000045776367, 3.6740000247955322, 3.6735999584198, 3.669800043106079, 3.6677000522613525, 3.666100025177002, 3.6656999588012695, 3.66510009765625, 3.664099931716919, 3.662600040435791, 3.6236000061035156, 3.5448999404907227, 3.5573999881744385, 3.5232999324798584, 3.504199981689453, 3.4407999515533447, 3.448199987411499, 3.482300043106079, 2.976799964904785, 2.5947000980377197, 3.0934998989105225, 0.9850999712944031, 3.057499885559082, 1.676200032234192, 2.3570001125335693, 1.8760000467300415, 2.1828999519348145, 2.489500045776367, 1.0491000413894653, 2.4202001094818115, 2.723299980163574, 3.7613000869750977, 3.7611000537872314, 3.7567999362945557, 3.750200033187866, 3.7451999187469482, 3.74429988861084, 3.743799924850464, 3.7421998977661133, 3.742000102996826, 3.7416999340057373, 3.7397000789642334, 3.7395999431610107, 3.739500045776367, 3.734999895095825, 3.734600067138672, 3.734299898147583, 3.732100009918213, 3.7311999797821045, 3.7307000160217285, 3.7307000160217285, 3.730600118637085, 3.72979998588562, 3.7281999588012695, 3.7253000736236572, 3.723299980163574, 3.722100019454956, 3.7202000617980957, 3.7197999954223633, 3.7195000648498535, 3.7193000316619873, 3.6166999340057373, 3.5968000888824463, 3.591200113296509, 3.539900064468384, 3.1875, 3.304500102996826, 3.041300058364868, 2.15310001373291, 3.176500082015991, 3.552000045776367, 3.203000068664551, 2.5606000423431396, 3.2839999198913574, 2.76990008354187, 2.8594000339508057, 2.6605000495910645, 3.2644999027252197, 3.865999937057495, 3.8643999099731445, 3.8640999794006348, 3.8589999675750732, 3.8585000038146973, 3.8582000732421875, 3.851900100708008, 3.851900100708008, 3.8464999198913574, 3.843899965286255, 3.8375000953674316, 3.837399959564209, 3.8373000621795654, 3.836199998855591, 3.8361001014709473, 3.835099935531616, 3.8336000442504883, 3.8320999145507812, 3.8317999839782715, 3.830899953842163, 3.829699993133545, 3.8296000957489014, 3.8261001110076904, 3.8239998817443848, 3.823499917984009, 3.822999954223633, 3.819700002670288, 3.815500020980835, 3.810699939727783, 3.8083999156951904, 3.785399913787842, 3.763700008392334, 3.764400005340576, 3.632699966430664, 3.6171998977661133, 3.3958001136779785, 3.558000087738037, 3.3371999263763428, 3.330899953842163, 3.0501999855041504, 3.33870005607605, 3.346400022506714, 3.0125999450683594, 3.267699956893921, 3.036099910736084, 3.487299919128418, 0.5990999937057495, 0.5235000252723694, 1.9248000383377075, 2.531399965286255, 1.4573999643325806, 0.8536999821662903, 3.884500026702881, 3.8717000484466553, 3.861599922180176, 3.8587000370025635, 3.8578999042510986, 3.854599952697754, 3.854599952697754, 3.854599952697754, 3.854599952697754, 3.854599952697754, 3.854599952697754, 3.854599952697754, 3.854599952697754, 3.850600004196167, 3.84879994392395, 3.8441998958587646, 3.8427999019622803, 3.836699962615967, 3.8343000411987305, 3.829699993133545, 3.8254001140594482, 3.822499990463257, 3.821899890899658, 3.820199966430664, 3.8160998821258545, 3.8160998821258545, 3.8145999908447266, 3.813800096511841, 3.8124001026153564, 3.809999942779541, 3.758500099182129, 3.696000099182129, 3.7288999557495117, 3.705199956893921, 3.6547000408172607, 3.6661999225616455, 3.6326000690460205, 3.6791999340057373, 3.3043999671936035, 3.414599895477295, 3.5817999839782715, 2.55049991607666, 2.6433000564575195, 2.6605000495910645, 2.3701000213623047, 0.017899999395012856, 1.06659996509552, 0.8406999707221985, 2.5550999641418457, -0.18860000371932983, 4.029399871826172, 4.027500152587891, 4.011000156402588, 4.005799770355225, 4.001200199127197, 4.000100135803223, 3.999500036239624, 3.9983999729156494, 3.9971001148223877, 3.9958999156951904, 3.995500087738037, 3.994499921798706, 3.9928998947143555, 3.990799903869629, 3.9900999069213867, 3.984800100326538, 3.9832000732421875, 3.9823999404907227, 3.9823999404907227, 3.9823999404907227, 3.9823999404907227, 3.9823999404907227, 3.974900007247925, 3.9744999408721924, 3.974299907684326, 3.97379994392395, 3.9686999320983887, 3.968100070953369, 3.9667999744415283, 3.9665000438690186, 3.902600049972534, 3.8970999717712402, 3.7032999992370605, 3.5645999908447266, 3.1953999996185303, 2.778899908065796, 2.3541998863220215, 3.0752999782562256, 0.5636000037193298, 0.2637999951839447, 2.424799919128418, 2.974100112915039, 1.514299988746643, 1.1848000288009644, 0.578000009059906, 4.055799961090088, 4.05049991607666, 4.043600082397461, 4.042099952697754, 4.037799835205078, 4.030399799346924, 4.029300212860107, 4.02400016784668, 4.023499965667725, 4.023099899291992, 4.020599842071533, 4.014599800109863, 4.011600017547607, 4.010700225830078, 4.010499954223633, 4.008900165557861, 4.008299827575684, 4.002099990844727, 4.001699924468994, 3.9971001148223877, 3.991300106048584, 3.9904000759124756, 3.988800048828125, 3.988300085067749, 3.987799882888794, 3.987499952316284, 3.9870998859405518, 3.9870998859405518, 3.985300064086914, 3.9851999282836914, 3.8238000869750977, 3.8796000480651855, 3.518699884414673, 3.4140000343322754, 3.4477999210357666, 3.8780999183654785, 3.5120999813079834, 3.430999994277954, 3.340100049972534, 3.646699905395508, 2.5255000591278076, 1.559999942779541, -0.3319999873638153, 2.6389999389648438, 1.996000051498413, 4.071899890899658, 4.071100234985352, 4.070099830627441, 4.0630998611450195, 4.060299873352051, 4.057600021362305, 4.05709981918335, 4.056700229644775, 4.055500030517578, 4.054900169372559, 4.053699970245361, 4.0528998374938965, 4.052499771118164, 4.052199840545654, 4.05109977722168, 4.049499988555908, 4.046299934387207, 4.046199798583984, 4.0447001457214355, 4.04449987411499, 4.042799949645996, 4.0395002365112305, 4.039100170135498, 4.037799835205078, 4.036099910736084, 4.034999847412109, 4.032800197601318, 4.0304999351501465, 4.028200149536133, 4.027699947357178, 3.9948999881744385, 3.916300058364868, 3.8322999477386475, 3.886399984359741, 2.8694000244140625, 2.6240999698638916, 2.217900037765503, 3.3057000637054443, 2.285599946975708, 2.3545000553131104, -0.5264999866485596]}, \"token.table\": {\"Topic\": [5, 14, 3, 6, 13, 5, 6, 14, 1, 7, 8, 13, 1, 3, 10, 14, 11, 13, 1, 7, 13, 14, 6, 13, 14, 3, 5, 6, 13, 14, 6, 17, 17, 1, 7, 8, 11, 3, 5, 10, 13, 18, 17, 17, 17, 1, 5, 7, 8, 13, 5, 7, 18, 19, 12, 4, 3, 6, 20, 4, 8, 17, 4, 9, 16, 11, 2, 19, 4, 2, 18, 1, 3, 10, 14, 9, 1, 7, 14, 3, 5, 7, 10, 13, 14, 1, 4, 13, 6, 17, 2, 20, 2, 16, 18, 5, 18, 14, 11, 8, 4, 4, 7, 16, 9, 11, 14, 16, 18, 5, 10, 7, 11, 15, 4, 1, 3, 5, 6, 7, 10, 2, 7, 3, 10, 5, 9, 9, 19, 19, 8, 14, 4, 11, 12, 2, 6, 17, 13, 6, 7, 7, 3, 17, 6, 3, 5, 6, 10, 20, 1, 5, 9, 14, 20, 4, 13, 3, 1, 4, 18, 7, 9, 3, 8, 10, 13, 2, 2, 1, 18, 18, 5, 1, 5, 6, 11, 14, 18, 19, 14, 9, 5, 1, 13, 13, 19, 8, 1, 5, 16, 18, 11, 15, 12, 17, 3, 9, 14, 17, 20, 11, 5, 10, 18, 19, 12, 19, 16, 5, 16, 12, 7, 10, 20, 13, 6, 5, 6, 8, 12, 8, 14, 20, 6, 10, 18, 3, 16, 10, 5, 18, 15, 14, 12, 1, 9, 10, 3, 6, 7, 10, 1, 3, 4, 7, 9, 16, 19, 6, 7, 10, 8, 14, 17, 19, 1, 11, 19, 12, 7, 5, 9, 6, 15, 5, 8, 13, 3, 9, 10, 12, 20, 1, 9, 12, 15, 5, 5, 8, 13, 19, 15, 1, 9, 20, 5, 6, 17, 15, 8, 5, 6, 9, 6, 10, 4, 13, 2, 7, 9, 14, 5, 10, 18, 20, 5, 5, 5, 12, 14, 16, 6, 10, 18, 3, 17, 12, 18, 3, 3, 20, 8, 6, 13, 2, 14, 20, 9, 10, 12, 13, 13, 16, 1, 5, 6, 5, 6, 9, 3, 14, 16, 17, 8, 13, 13, 7, 19, 18, 7, 17, 3, 10, 3, 4, 5, 8, 18, 6, 6, 13, 7, 5, 10, 1, 4, 10, 18, 1, 5, 8, 13, 8, 9, 3, 5, 6, 8, 9, 10, 12, 19, 3, 5, 8, 13, 3, 5, 10, 13, 12, 15, 5, 6, 7, 14, 3, 14, 10, 16, 1, 4, 14, 16, 12, 17, 1, 5, 7, 8, 18, 19, 17, 12, 16, 6, 6, 9, 1, 13, 1, 7, 12, 3, 5, 7, 10, 11, 5, 17, 1, 8, 16, 11, 15, 3, 13, 16, 18, 1, 5, 6, 10, 19, 1, 8, 10, 2, 11, 20, 10, 13, 14, 16, 18, 4, 13, 3, 10, 16, 9, 18, 9, 17, 20, 19, 17, 2, 3, 7, 13, 13, 1, 4, 18, 19, 2, 3, 4, 2, 14, 19, 3, 10, 10, 14, 3, 3, 4, 10, 11, 15, 2, 3, 7, 10, 4, 11, 16, 20, 14, 16, 19, 4, 12, 15, 3, 15, 13, 19, 10, 12, 4, 9, 12, 4, 13, 18, 4, 10, 19, 10, 12, 17, 20, 4, 5, 1, 18, 7, 12, 13, 15, 19, 19, 13, 6, 2, 4, 6, 14, 15, 16, 17, 7, 7, 10, 13, 1, 5, 6, 8, 10, 14, 16, 3, 11, 12, 3, 10, 12, 20, 6, 8, 14, 16, 10, 16, 16, 4, 10, 11, 11, 19, 13, 14, 5, 7, 8, 14, 17, 18, 8, 8, 9, 13, 1, 14, 13, 3, 13, 17, 3, 11, 3, 6, 13, 16, 18, 10, 10, 16, 18, 1, 2, 18, 2, 1, 10, 13, 6, 1, 1, 16, 17, 13, 8, 7, 9, 7, 5, 12, 16, 17, 9, 1, 15, 3, 1, 7, 10, 11, 2, 4, 11, 15, 2, 1, 20, 1, 12, 12, 14, 1, 3, 4, 5, 11, 13, 14, 16, 18, 1, 3, 5, 9, 10, 16, 16, 10, 15, 16, 9, 7, 5, 11, 15, 14, 3, 4, 3, 7, 11, 12, 6, 12, 15, 15, 17, 3, 6, 12, 5, 6, 15, 19, 17, 14, 9, 12, 16, 18, 12, 1, 2, 6, 19, 18, 3, 6, 13, 14, 16, 1, 4, 7, 4, 20, 13, 20, 1, 8, 18, 8, 18, 2, 9, 15, 1, 3, 10, 12, 14, 16, 18, 8, 16, 4, 18, 16, 20, 2, 4, 19, 20, 4, 4, 13, 1, 8, 1, 3, 7, 9, 5, 16, 18, 8, 8, 6, 16, 11, 14, 19, 9, 4, 4, 1, 10, 14, 12, 2, 11, 4, 6, 10, 14, 16, 14, 1, 4, 11, 19, 3, 5, 6, 12, 13, 15, 1, 15, 7, 20, 4, 2, 15, 6, 3, 7, 13, 12, 17, 3, 6, 5, 13, 7, 17, 16, 2, 15, 1, 5, 4, 3, 5, 19, 3, 17, 6, 9, 10, 11, 13, 14, 2, 3, 7, 11, 13, 18, 2, 6, 1, 15, 8, 13, 5, 7, 3, 5, 16, 18, 15, 1, 6, 7, 9, 10, 1, 6, 3, 8, 1, 2, 4, 11, 8, 7, 19, 3, 18, 19, 20, 6, 4, 3, 4, 5, 7, 8, 13, 14, 15, 9, 14, 15, 17, 1, 5, 7, 12, 1, 4, 12, 2, 11, 14, 19, 5, 7, 11, 14, 9, 11, 5, 7, 8, 9, 15, 9, 12, 3, 17, 1, 10, 18, 8, 7, 17, 6, 12, 20, 18, 10, 12, 17, 11, 14, 10, 13, 5, 4, 2, 12, 16, 4, 6, 7, 12, 18, 18, 18, 2, 7, 12, 15, 8, 9, 19, 9, 18, 2, 15, 15, 10, 16, 3, 10, 13, 14, 16, 19, 1, 12, 10, 12, 1, 3, 5, 8, 10, 12, 13, 19, 3, 4, 7, 14, 16, 2, 3, 4, 12, 15, 18, 20, 1, 3, 4, 9, 10, 10, 7, 1, 4, 4, 1, 3, 18, 20, 3, 5, 6, 8, 9, 15, 11, 5, 14, 15, 4, 2, 15, 18, 11, 12, 2, 4, 15, 20, 3, 5, 7, 10, 1, 3, 5, 6, 8, 10, 13, 10, 11, 12, 1, 9, 17, 2, 7, 1, 9, 1, 3, 9, 3, 2, 9, 15, 16, 3, 7, 3, 10, 14, 6, 20, 3, 5, 8, 19, 1, 3, 17, 6, 12, 1, 18, 3, 5, 20, 8, 19, 5, 20, 18, 10, 5, 13, 14, 4, 2, 2, 5, 3, 14, 17, 2, 15, 7, 8, 10, 15, 2, 20, 11, 6, 1, 4, 7, 9, 15, 19, 10, 15, 18, 17, 17, 1, 3, 5, 6, 7, 9, 10, 11, 12, 15, 16, 17, 18, 20, 9, 3, 8, 10, 12, 13, 11, 7, 8, 18, 7, 7, 2, 13, 1, 3, 5, 14, 20, 5, 7, 9, 10, 14, 16, 5, 18, 1, 11, 20, 2, 19, 11, 8, 4, 10, 12, 20, 20, 6, 6, 9, 7, 4, 3, 14, 14, 11, 1, 3, 10, 9, 6, 14, 1, 5, 7, 17, 7, 14, 14, 15, 18, 6, 6, 2, 5, 9, 3, 5, 12, 19, 5, 20, 16, 1, 3, 4, 9, 14, 4, 11, 15, 15, 10, 20, 4, 6, 14, 14, 2, 16, 2, 3, 1, 12, 5, 6, 18, 10, 5, 9, 10, 11, 13, 17, 15, 17, 11, 18, 8, 3, 11, 7, 3, 4, 5, 11, 14, 15, 17, 19, 13, 6, 6, 16, 19, 19, 1, 5, 6, 7, 20, 8, 6, 8, 9, 10, 18, 20, 2, 15, 19, 5, 7, 9, 12, 17, 9, 7, 8, 18, 7, 9, 7, 9, 15, 9, 1, 15, 3, 3, 7, 14, 20, 7, 11, 20, 4, 9, 5, 2, 17, 6, 13, 15, 13, 17, 19, 2, 3, 5, 10, 14, 19, 11, 11, 3, 11, 17, 4, 6, 9, 7, 4, 2, 9, 15, 4, 3, 14, 3, 10, 6, 7, 14, 12, 7, 12, 5, 16, 10, 16, 10, 19, 2, 20, 1, 16, 8, 2, 11, 15, 7, 18, 14, 17, 19, 19, 17, 10, 5, 9, 15, 16, 19, 3, 15, 5, 8, 2, 16, 9, 5, 9, 15, 18, 5, 12, 10, 1, 11, 16, 17, 2, 20, 16, 2, 15, 3, 11, 15, 5, 7, 11, 2, 13, 9, 20, 7, 10, 12, 3, 7, 16, 7, 10, 16, 9, 11, 14, 3, 3, 4, 5, 10, 11, 14, 10, 11, 13, 19, 15, 6, 8, 12, 9, 10, 16, 8, 11, 20, 12, 1, 7, 8, 9, 8, 8, 19, 11, 5, 14, 20, 1, 1, 4, 11, 5, 10, 13, 1, 1, 17, 2, 4, 7, 11, 16, 11, 7, 14, 18, 11, 20, 6, 16, 1, 5, 7, 8, 1, 5, 9, 18, 7, 8, 19, 9, 6, 8, 3, 19, 7, 8, 9, 11, 20, 1, 9, 2, 2, 12, 19, 20, 1, 17, 14, 19, 19, 8, 20, 14, 17, 18, 20, 18, 5, 7, 3, 11, 2, 13, 12, 13, 14, 16, 19, 5, 18, 10, 16, 14, 11, 19, 14, 14, 17, 19, 6, 17, 19, 10, 3, 12, 1, 3, 5, 6, 7, 8, 9, 10, 12, 14, 16, 17, 18, 19, 1, 7, 12, 1, 5, 9, 19, 5, 5, 6, 9, 12, 14, 20, 16, 2, 4, 14, 17, 18, 20, 12, 13, 3, 16, 12, 2, 7, 9, 16, 9, 2, 4, 6, 15, 20, 16, 10, 1, 17, 1, 3, 19, 17, 3, 8, 15, 11, 12, 14, 17, 10, 1, 4, 1, 4, 14, 1, 4, 5, 3, 6, 13, 16, 15, 20, 2, 1, 2, 3, 5, 6, 7, 8, 9, 10, 12, 16, 4, 14, 20, 4, 16, 8, 13, 19, 3, 16, 1, 2, 9, 18, 2, 20, 1, 8, 5, 2, 8, 20, 14, 1, 6, 10, 13, 18, 6, 17, 20, 7, 20], \"Freq\": [0.9497511386871338, 0.9715411067008972, 0.05416680499911308, 0.43333443999290466, 0.48750123381614685, 0.08838634938001633, 0.43211105465888977, 0.471393883228302, 0.22112548351287842, 0.6056915521621704, 0.07210613787174225, 0.10094859451055527, 0.5103940963745117, 0.3078567385673523, 0.04860895872116089, 0.1296238899230957, 0.9323186278343201, 0.9909374713897705, 0.5219747424125671, 0.31860795617103577, 0.09490449726581573, 0.06101003289222717, 0.05876519903540611, 0.7345649600028992, 0.19098690152168274, 0.058421358466148376, 0.1343691200017929, 0.2687382400035858, 0.20447476208209991, 0.3271596133708954, 0.9625042080879211, 0.9713456630706787, 0.9713456630706787, 0.5038432478904724, 0.3228510320186615, 0.004891682416200638, 0.1663171947002411, 0.14834721386432648, 0.10788887739181519, 0.08091665804386139, 0.5259582996368408, 0.12137498706579208, 0.9713456630706787, 0.9713456630706787, 0.9713456630706787, 0.33748766779899597, 0.09204208850860596, 0.4832209646701813, 0.038350868970155716, 0.04602104425430298, 0.1474456638097763, 0.1965942233800888, 0.6143569350242615, 0.9610782861709595, 0.969231903553009, 0.9817976951599121, 0.9700291156768799, 0.9572065472602844, 0.948323130607605, 0.8912058472633362, 0.031828779727220535, 0.031828779727220535, 0.9641671776771545, 0.8321383595466614, 0.15850254893302917, 0.9546888470649719, 0.9544552564620972, 0.04398411512374878, 0.9626281261444092, 0.9421835541725159, 0.038456473499536514, 0.9720276594161987, 0.027698028832674026, 0.9926616549491882, 0.9673818945884705, 0.9713908433914185, 0.9998152852058411, 0.9525583386421204, 0.9850686192512512, 0.2552812993526459, 0.09818512201309204, 0.08836660534143448, 0.4418330490589142, 0.058911070227622986, 0.058911070227622986, 0.539732038974762, 0.45074915885925293, 0.008752411231398582, 0.9716089367866516, 0.9646593332290649, 0.9692162275314331, 0.9865049719810486, 0.9901898503303528, 0.9665014743804932, 0.9701799750328064, 0.9195208549499512, 0.9637120366096497, 0.9571710824966431, 0.963457465171814, 0.953345537185669, 0.9646366834640503, 0.9858443140983582, 0.09783976525068283, 0.8805578351020813, 0.12349499762058258, 0.15877927839756012, 0.5116221308708191, 0.12349499762058258, 0.052926428616046906, 0.9651036858558655, 0.9564282894134521, 0.258285254240036, 0.18448947370052338, 0.5534684062004089, 0.9829093217849731, 0.960541307926178, 0.02845044620335102, 0.002709566382691264, 0.008128698915243149, 0.9912771582603455, 0.9688274264335632, 0.9804733991622925, 0.9685910940170288, 0.8340358734130859, 0.15363818407058716, 0.2311362624168396, 0.7645276784896851, 0.13687048852443695, 0.8212229609489441, 0.959170401096344, 0.9983445405960083, 0.9477134346961975, 0.2430434674024582, 0.7434270977973938, 0.9959986209869385, 0.08245233446359634, 0.61014723777771, 0.29682838916778564, 0.9701407551765442, 0.7983518242835999, 0.19651736319065094, 0.9516638517379761, 0.9510385990142822, 0.9454632997512817, 0.9904318451881409, 0.3356292247772217, 0.18970347940921783, 0.05837029963731766, 0.35022181272506714, 0.04377772659063339, 0.7729353904724121, 0.11511803418397903, 0.019734520465135574, 0.05920356139540672, 0.032890867441892624, 0.284005731344223, 0.6971049904823303, 0.9818242192268372, 0.981417715549469, 0.011231482960283756, 0.006952823139727116, 0.2880576550960541, 0.7090650200843811, 0.7320380806922913, 0.07572808116674423, 0.06731384992599487, 0.11779922991991043, 0.9938052892684937, 0.993609607219696, 0.9984684586524963, 0.9621741771697998, 0.9838125705718994, 0.9651674032211304, 0.7984449863433838, 0.01596890017390251, 0.07345693558454514, 0.009581339545547962, 0.019162679091095924, 0.05748803913593292, 0.019162679091095924, 0.9664215445518494, 0.9935356378555298, 0.9771356582641602, 0.7193808555603027, 0.2797592282295227, 0.985703706741333, 0.8944610357284546, 0.9727606177330017, 0.3923908770084381, 0.41022682189941406, 0.1070156916975975, 0.08323442935943604, 0.7993680238723755, 0.19984200596809387, 0.11310897022485733, 0.8294657468795776, 0.19057056307792664, 0.6114138960838318, 0.11910660564899445, 0.04764264076948166, 0.015880880877375603, 0.9857416749000549, 0.42739343643188477, 0.15264052152633667, 0.1679045706987381, 0.24422483146190643, 0.9736207127571106, 0.9529961347579956, 0.9603382349014282, 0.9239703416824341, 0.9592825174331665, 0.9716079235076904, 0.6724247932434082, 0.12225905060768127, 0.20376507937908173, 0.992242157459259, 0.9959882497787476, 0.4757733941078186, 0.17973661422729492, 0.1585911363363266, 0.17973661422729492, 0.9610379934310913, 0.9770353436470032, 0.9788894057273865, 0.777531087398529, 0.20860590040683746, 0.9132728576660156, 0.9609031081199646, 0.9552111029624939, 0.9066277146339417, 0.6461966633796692, 0.3410482406616211, 0.9553214311599731, 0.9376794099807739, 0.9735390543937683, 0.7890876531600952, 0.2069738209247589, 0.9794492721557617, 0.0784413143992424, 0.5419581532478333, 0.2353239506483078, 0.14262057840824127, 0.8371582627296448, 0.05260830372571945, 0.0068619525991380215, 0.029735129326581955, 0.009149270132184029, 0.04803366959095001, 0.011436588130891323, 0.6784758567810059, 0.27729013562202454, 0.041298530995845795, 0.9610902667045593, 0.19288469851016998, 0.2652164697647095, 0.5424882173538208, 0.9935579895973206, 0.0016839965246617794, 0.004209991544485092, 0.9705439805984497, 0.9937858581542969, 0.12266939133405685, 0.8586857318878174, 0.14354290068149567, 0.8407512903213501, 0.9875599145889282, 0.921768844127655, 0.9373778700828552, 0.49624255299568176, 0.10369247943162918, 0.05184623971581459, 0.04443963244557381, 0.2962642312049866, 0.6135093569755554, 0.18362076580524445, 0.002160244155675173, 0.19874247908592224, 0.9842411279678345, 0.6110029816627502, 0.11559516191482544, 0.0825679749250412, 0.19816313683986664, 0.9627798199653625, 0.7652571201324463, 0.07652571052312851, 0.15305142104625702, 0.24643641710281372, 0.7393092513084412, 0.967049241065979, 0.9445613026618958, 0.9465333223342896, 0.9736180901527405, 0.851963996887207, 0.14909370243549347, 0.9654232859611511, 0.03187718242406845, 0.9948395490646362, 0.9487758278846741, 0.9546427130699158, 0.9816243052482605, 0.9790410995483398, 0.9517120122909546, 0.9824166297912598, 0.8098196387290955, 0.09344072639942169, 0.09344072639942169, 0.9406281113624573, 0.9569255709648132, 0.13331256806850433, 0.13331256806850433, 0.11109381169080734, 0.6110159754753113, 0.21179500222206116, 0.6177353858947754, 0.15884624421596527, 0.42224207520484924, 0.5629894137382507, 0.11985007673501968, 0.8689130544662476, 0.9840299487113953, 0.8973482847213745, 0.08754617720842361, 0.9432659149169922, 0.951920211315155, 0.9525534510612488, 0.813032329082489, 0.09756387770175934, 0.08130323141813278, 0.05894721299409866, 0.6778929233551025, 0.11789442598819733, 0.14736802875995636, 0.9741445183753967, 0.9321603178977966, 0.6846162676811218, 0.017030255869030952, 0.2963264584541321, 0.9521998763084412, 0.9959202408790588, 0.9819589257240295, 0.05511881783604622, 0.3674587905406952, 0.23884820938110352, 0.3307129144668579, 0.9479254484176636, 0.9636560082435608, 0.9956050515174866, 0.9732092022895813, 0.9648654460906982, 0.996158242225647, 0.18673065304756165, 0.7780443429946899, 0.4631141424179077, 0.5072202682495117, 0.6841047406196594, 0.30404654145240784, 0.9870463609695435, 0.7620131373405457, 0.22122962772846222, 0.9106971621513367, 0.989875316619873, 0.947824239730835, 0.9638624787330627, 0.9327844381332397, 0.972315788269043, 0.7254925966262817, 0.006148241925984621, 0.26437440514564514, 0.9171265363693237, 0.7939748764038086, 0.004189840983599424, 0.05027808994054794, 0.14873935282230377, 0.017641326412558556, 0.9702730178833008, 0.947493314743042, 0.2034737914800644, 0.3217725157737732, 0.18927794694900513, 0.11356677114963531, 0.10410287231206894, 0.018927795812487602, 0.04731948673725128, 0.6998305916786194, 0.06560911238193512, 0.08747882395982742, 0.13121822476387024, 0.6961767673492432, 0.2866610288619995, 0.936208963394165, 0.9660292863845825, 0.9732850193977356, 0.9893794059753418, 0.25385263562202454, 0.5870342254638672, 0.07932895421981812, 0.06346315890550613, 0.9755471348762512, 0.9477319121360779, 0.9188554883003235, 0.9183366894721985, 0.7285484671592712, 0.11109829694032669, 0.13032685220241547, 0.02991108037531376, 0.16025006771087646, 0.8012503385543823, 0.3461998999118805, 0.20771993696689606, 0.29080790281295776, 0.15232795476913452, 0.9780773520469666, 0.9706108570098877, 0.9451313018798828, 0.4117259681224823, 0.5718415975570679, 0.9124429225921631, 0.8975936770439148, 0.08414940536022186, 0.9994648694992065, 0.967825710773468, 0.9993829727172852, 0.9322018027305603, 0.044390562921762466, 0.9636854529380798, 0.9506691098213196, 0.2515830397605896, 0.726795494556427, 0.9438595771789551, 0.8754666447639465, 0.07003732770681381, 0.7100920677185059, 0.022190377116203308, 0.25518932938575745, 0.9858193397521973, 0.9615070819854736, 0.1557214856147766, 0.5255600214004517, 0.09732592850923538, 0.21411703526973724, 0.46710434556007385, 0.1688328981399536, 0.1238107904791832, 0.19697171449661255, 0.03939434140920639, 0.9993082284927368, 0.10536758601665497, 0.8429406881332397, 0.7933389544487, 0.198334738612175, 0.9607336521148682, 0.9778590798377991, 0.21037176251411438, 0.09349856525659561, 0.5843660235404968, 0.09349856525659561, 0.91786128282547, 0.05736633017659187, 0.19714635610580444, 0.7885854244232178, 0.01460343413054943, 0.23991307616233826, 0.7197391986846924, 0.18913857638835907, 0.8038389086723328, 0.9241731762886047, 0.9709667563438416, 0.8975073099136353, 0.266414076089859, 0.12787875533103943, 0.05328281596302986, 0.5434847474098206, 0.9782806634902954, 0.2640968859195709, 0.6338325142860413, 0.10563874989748001, 0.9740182161331177, 0.13652628660202026, 0.21844206750392914, 0.6280209422111511, 0.20208734273910522, 0.25982657074928284, 0.5196531414985657, 0.8301064968109131, 0.1717461794614792, 0.07916224002838135, 0.9103658199310303, 0.9828426837921143, 0.2010936737060547, 0.5914519429206848, 0.1301194280385971, 0.07097423821687698, 0.9522807002067566, 0.9640030860900879, 0.19049407541751862, 0.804308295249939, 0.9298998117446899, 0.24271723628044128, 0.7281516790390015, 0.9060418009757996, 0.07550348341464996, 0.9323167204856873, 0.9327497482299805, 0.04239771515130997, 0.9825964570045471, 0.9835930466651917, 0.944425642490387, 0.14931680262088776, 0.8399070501327515, 0.9829825758934021, 0.9242270588874817, 0.8662490248680115, 0.06663454324007034, 0.9287694692611694, 0.030958982184529305, 0.030958982184529305, 0.373016893863678, 0.6143807768821716, 0.9586394429206848, 0.8670336604118347, 0.11451388150453568, 0.9606080055236816, 0.9576606154441833, 0.17351219058036804, 0.82418292760849, 0.9385658502578735, 0.8077332973480225, 0.17004911601543427, 0.9978309273719788, 0.9615784287452698, 0.21537315845489502, 0.14806905388832092, 0.2422948032617569, 0.32305973768234253, 0.0673041120171547, 0.9399895071983337, 0.9724786877632141, 0.9756389260292053, 0.9728091955184937, 0.10144679993391037, 0.050723399966955185, 0.29165953397750854, 0.06340424716472626, 0.41846802830696106, 0.07608509808778763, 0.9670000672340393, 0.2991020679473877, 0.6580245494842529, 0.9648499488830566, 0.8494752049446106, 0.0835549384355545, 0.02586224302649498, 0.008952314965426922, 0.008952314965426922, 0.0049735079519450665, 0.016909927129745483, 0.9366750717163086, 0.9579160809516907, 0.9485331773757935, 0.21392551064491272, 0.7816509008407593, 0.1428171694278717, 0.8211987018585205, 0.05578826367855072, 0.8926122188568115, 0.2223765254020691, 0.7505207657814026, 0.9469230771064758, 0.934510350227356, 0.92905592918396, 0.9689197540283203, 0.9462588429450989, 0.9578782320022583, 0.9868445992469788, 0.9557008147239685, 0.17439153790473938, 0.8254532217979431, 0.08427603542804718, 0.18059150874614716, 0.18059150874614716, 0.07223659753799438, 0.04815773293375969, 0.4334196150302887, 0.9842711687088013, 0.09059266000986099, 0.9059266448020935, 0.9389310479164124, 0.9759598970413208, 0.023401012644171715, 0.9690890312194824, 0.4189445674419403, 0.5332021713256836, 0.05712880566716194, 0.9679756164550781, 0.9834889769554138, 0.20619741082191467, 0.09372609853744507, 0.6748278737068176, 0.8838633298873901, 0.9520841836929321, 0.9876274466514587, 0.9978122115135193, 0.9775515794754028, 0.9669122695922852, 0.8920206427574158, 0.10795655846595764, 0.948293149471283, 0.985253632068634, 0.9963176250457764, 0.0027296373154968023, 0.9543861746788025, 0.8966343998908997, 0.9978280067443848, 0.1981310397386551, 0.7642197012901306, 0.9784826636314392, 0.9538059234619141, 0.963184654712677, 0.9928730130195618, 0.9746857285499573, 0.9633408188819885, 0.8199626207351685, 0.18635514378547668, 0.9603595733642578, 0.9562669396400452, 0.969285249710083, 0.9976766705513, 0.9864246249198914, 0.9921718835830688, 0.592857301235199, 0.014459934085607529, 0.33257848024368286, 0.043379802256822586, 0.1952555924654007, 0.4823961555957794, 0.12634184956550598, 0.18376997113227844, 0.9850718379020691, 0.9974514245986938, 0.9277013540267944, 0.9993031620979309, 0.9968327283859253, 0.7307980060577393, 0.22241678833961487, 0.4741842746734619, 0.04657166823744774, 0.09737712889909744, 0.07197439670562744, 0.09737712889909744, 0.016935152933001518, 0.025402728468179703, 0.13971500098705292, 0.02963651716709137, 0.45486006140708923, 0.08094967156648636, 0.2929607331752777, 0.03854746371507645, 0.04240221157670021, 0.08865916728973389, 0.9532610177993774, 0.9286267757415771, 0.7947748303413391, 0.17946529388427734, 0.9605642557144165, 0.9566242694854736, 0.9447497725486755, 0.9957258105278015, 0.9661943912506104, 0.9111916422843933, 0.16489142179489136, 0.8009011745452881, 0.9764081835746765, 0.13156938552856445, 0.12217157334089279, 0.7424272894859314, 0.9706565737724304, 0.9972531795501709, 0.9895235300064087, 0.9808184504508972, 0.9124541878700256, 0.26119956374168396, 0.5136924386024475, 0.22637294232845306, 0.10699471831321716, 0.8024604320526123, 0.021398944780230522, 0.05349735915660858, 0.8888162970542908, 0.9493883848190308, 0.74135822057724, 0.06619270145893097, 0.06619270145893097, 0.11914685368537903, 0.9345205426216125, 0.4647907614707947, 0.5253544449806213, 0.008450740948319435, 0.9801243543624878, 0.9669122695922852, 0.062186695635318756, 0.2332001030445099, 0.41976019740104675, 0.10882671922445297, 0.1554667353630066, 0.5026443004608154, 0.48905932903289795, 0.9706388115882874, 0.9716470241546631, 0.987027645111084, 0.9514793753623962, 0.9695215821266174, 0.9998377561569214, 0.9467805624008179, 0.990279495716095, 0.9139024019241333, 0.05077235773205757, 0.9796909689903259, 0.6991491913795471, 0.29482194781303406, 0.5289799571037292, 0.10104111582040787, 0.04754875972867012, 0.21991302073001862, 0.035661570727825165, 0.04160516709089279, 0.026746178045868874, 0.9987121820449829, 0.9739719033241272, 0.9878647923469543, 0.9231832027435303, 0.9695219993591309, 0.9624192118644714, 0.1643463373184204, 0.821731686592102, 0.8754876852035522, 0.9775234460830688, 0.9658865332603455, 0.9844760894775391, 0.9711771011352539, 0.8301227688789368, 0.1619751751422882, 0.32683536410331726, 0.19433453679084778, 0.38866907358169556, 0.07950048893690109, 0.6094930768013, 0.22573818266391754, 0.15801672637462616, 0.9501590728759766, 0.9981362819671631, 0.9810790419578552, 0.915779709815979, 0.9808554649353027, 0.14471746981143951, 0.7959461212158203, 0.977454662322998, 0.9907256364822388, 0.9810752868652344, 0.999203622341156, 0.978121817111969, 0.9812692999839783, 0.9698838591575623, 0.9829808473587036, 0.9614279270172119, 0.26076892018318176, 0.052153781056404114, 0.19123053550720215, 0.052153781056404114, 0.4346148669719696, 0.9471311569213867, 0.4732627868652344, 0.45540380477905273, 0.06250640749931335, 0.9304482340812683, 0.9332019686698914, 0.22717177867889404, 0.2795960307121277, 0.436868816614151, 0.05242425575852394, 0.9726906418800354, 0.9990848302841187, 0.9586415886878967, 0.9568814039230347, 0.9712134599685669, 0.9481112957000732, 0.9775208830833435, 0.9850345253944397, 0.9577823281288147, 0.1726853996515274, 0.8140882849693298, 0.9721880555152893, 0.9438928961753845, 0.9878425002098083, 0.2447352409362793, 0.7342057228088379, 0.05726540833711624, 0.9162465333938599, 0.9449503421783447, 0.9604191780090332, 0.9597769975662231, 0.9337348341941833, 0.051874157041311264, 0.999472439289093, 0.9263209104537964, 0.961500346660614, 0.4551050662994385, 0.4864916205406189, 0.04707983508706093, 0.9865398406982422, 0.9631598591804504, 0.013187164440751076, 0.22418178617954254, 0.0527486577630043, 0.3692406117916107, 0.06593582034111023, 0.27693045139312744, 0.44830945134162903, 0.01907699927687645, 0.1526159942150116, 0.2575394809246063, 0.028615497052669525, 0.08584649115800858, 0.9945358633995056, 0.9841863512992859, 0.998968243598938, 0.9544793963432312, 0.9177262783050537, 0.9834167957305908, 0.21765640377998352, 0.7738894820213318, 0.08261759579181671, 0.6719564199447632, 0.05507839843630791, 0.187266543507576, 0.985112726688385, 0.7978431582450867, 0.06707530468702316, 0.06354502588510513, 0.06177989020943642, 0.010590838268399239, 0.9702436923980713, 0.028819119557738304, 0.9912957549095154, 0.9596125483512878, 0.7579630613327026, 0.05830485373735428, 0.0728810653090477, 0.10689222812652588, 0.9471843838691711, 0.9651291370391846, 0.9556083083152771, 0.5026238560676575, 0.3866337239742279, 0.11599011719226837, 0.9627134799957275, 0.8921986818313599, 0.986125111579895, 0.1097295954823494, 0.1234457939863205, 0.22631728649139404, 0.03429049625992775, 0.0822971984744072, 0.13030388951301575, 0.21260109543800354, 0.07543909549713135, 0.9908371567726135, 0.21934813261032104, 0.6287979483604431, 0.13160887360572815, 0.7088096737861633, 0.28278934955596924, 0.007345178164541721, 0.9695268869400024, 0.9974943399429321, 0.0021110991947352886, 0.9734203815460205, 0.9605779647827148, 0.9857485294342041, 0.19927112758159637, 0.7804785370826721, 0.9133842587471008, 0.9689392447471619, 0.18072417378425598, 0.8003498911857605, 0.9888094663619995, 0.9853605628013611, 0.2038693130016327, 0.04704676568508148, 0.2038693130016327, 0.12545804679393768, 0.4077386260032654, 0.9739639163017273, 0.9765350818634033, 0.20618145167827606, 0.7834895253181458, 0.633762776851654, 0.309024840593338, 0.057614799588918686, 0.9515944719314575, 0.9243795871734619, 0.04019041731953621, 0.15727245807647705, 0.6880670189857483, 0.13761340081691742, 0.9669122695922852, 0.2391165941953659, 0.747239351272583, 0.9715731143951416, 0.9232842326164246, 0.9348700642585754, 0.12388225644826889, 0.867175817489624, 0.9873154163360596, 0.9684572219848633, 0.9699676632881165, 0.9852592945098877, 0.9138161540031433, 0.9847514033317566, 0.5243605375289917, 0.2692662477493286, 0.14171907305717468, 0.056687626987695694, 0.977716326713562, 0.9669122695922852, 0.258182555437088, 0.09161316603422165, 0.16656939685344696, 0.48305124044418335, 0.05693131685256958, 0.37005355954170227, 0.5693131685256958, 0.945512592792511, 0.9634972810745239, 0.4192686676979065, 0.5737360715866089, 0.9714909791946411, 0.3004821538925171, 0.6760848164558411, 0.6934916973114014, 0.05868006497621536, 0.1333637833595276, 0.02133820578455925, 0.09068737179040909, 0.9686734676361084, 0.9992978572845459, 0.923916220664978, 0.7643848061561584, 0.20846858620643616, 0.37625664472579956, 0.1948471963405609, 0.06382925063371658, 0.060469817370176315, 0.10750190168619156, 0.033594343811273575, 0.07726699113845825, 0.08062642812728882, 0.20064781606197357, 0.09260668605566025, 0.03086889535188675, 0.09260668605566025, 0.5710745453834534, 0.17428579926490784, 0.07469391822814941, 0.19918377697467804, 0.28632667660713196, 0.19918377697467804, 0.06224492937326431, 0.9684057831764221, 0.6357894539833069, 0.0827043205499649, 0.0982113778591156, 0.03618314117193222, 0.13956354558467865, 0.896039605140686, 0.9746713638305664, 0.9984259605407715, 0.0006705345585942268, 0.9838755130767822, 0.9664301872253418, 0.015012508258223534, 0.016889071092009544, 0.9822307825088501, 0.3136119246482849, 0.29337888956069946, 0.1517477035522461, 0.07081559300422668, 0.08093211054801941, 0.08093211054801941, 0.9811788201332092, 0.21359439194202423, 0.13349649310112, 0.6140838861465454, 0.9508044123649597, 0.960803747177124, 0.945909321308136, 0.9733214378356934, 0.7678200006484985, 0.18281428515911102, 0.636894941329956, 0.1746324747800827, 0.07190749049186707, 0.10272499173879623, 0.17671550810337067, 0.16632047295570374, 0.08316023647785187, 0.5613316297531128, 0.8468864560127258, 0.08096183091402054, 0.02570216730237007, 0.005140433553606272, 0.001285108388401568, 0.020561734214425087, 0.01799151860177517, 0.0981588065624237, 0.883429229259491, 0.9886800050735474, 0.9699712991714478, 0.012409014627337456, 0.016545353457331657, 0.974294900894165, 0.013531873933970928, 0.9992528557777405, 0.9946950078010559, 0.9970971941947937, 0.9952065944671631, 0.9738335013389587, 0.9253875613212585, 0.7409536242485046, 0.1178789809346199, 0.10103912651538849, 0.03367970883846283, 0.8187708258628845, 0.1774003505706787, 0.30117058753967285, 0.14172732830047607, 0.5314775109291077, 0.9476940035820007, 0.9626278281211853, 0.8201127648353577, 0.0985051691532135, 0.06414289772510529, 0.013744906522333622, 0.8859663009643555, 0.06475501507520676, 0.04709455370903015, 0.14581601321697235, 0.8262907862663269, 0.9170299172401428, 0.07935835421085358, 0.16609711945056915, 0.8304855823516846, 0.9847128987312317, 0.9840503334999084, 0.01355974841862917, 0.8457716703414917, 0.13354289531707764, 0.9550121426582336, 0.9677466750144958, 0.9858984351158142, 0.18616019189357758, 0.8034281730651855, 0.963656485080719, 0.976179838180542, 0.14837995171546936, 0.8160896897315979, 0.9830392599105835, 0.8534427881240845, 0.1338733732700348, 0.37498170137405396, 0.5892569422721863, 0.6641597151756287, 0.06037815287709236, 0.2535882592201233, 0.9478768706321716, 0.9757510423660278, 0.9869148135185242, 0.9391104578971863, 0.9838206171989441, 0.8128475546836853, 0.18669059872627258, 0.10006658732891083, 0.8894807696342468, 0.9721904397010803, 0.9848187565803528, 0.9911240935325623, 0.8214622735977173, 0.18669597804546356, 0.9490342140197754, 0.9427721500396729, 0.516837477684021, 0.040072884410619736, 0.1294662356376648, 0.058054305613040924, 0.0498342290520668, 0.04264165833592415, 0.06319185346364975, 0.0005137549014762044, 0.01644015684723854, 0.0010275098029524088, 0.03442157804965973, 0.00616505928337574, 0.031339049339294434, 0.009761343710124493, 0.968209445476532, 0.2408711016178131, 0.5419600009918213, 0.08029036968946457, 0.12043555080890656, 0.9697596430778503, 0.9547911882400513, 0.9690997004508972, 0.8993167281150818, 0.8965446949005127, 0.9666444063186646, 0.9929435849189758, 0.3165367543697357, 0.6528570652008057, 0.7918736338615417, 0.00857624877244234, 0.09719748795032501, 0.06860999017953873, 0.03430499508976936, 0.5577002763748169, 0.034856267273426056, 0.12780632078647614, 0.23818449676036835, 0.0406656451523304, 0.9506732821464539, 0.9686462879180908, 0.9391947388648987, 0.8073523640632629, 0.022583283483982086, 0.16372880339622498, 0.8490583300590515, 0.1257864236831665, 0.9794825911521912, 0.9827594757080078, 0.9826394319534302, 0.9554190635681152, 0.978977620601654, 0.97088623046875, 0.9519151449203491, 0.9676647782325745, 0.4009983539581299, 0.5919499397277832, 0.9822435975074768, 0.9685341715812683, 0.9786640405654907, 0.9781534075737, 0.9840080738067627, 0.962866485118866, 0.5676560401916504, 0.41844359040260315, 0.01297499518841505, 0.948604166507721, 0.9595280289649963, 0.9399058222770691, 0.5780136585235596, 0.31331580877304077, 0.10263793915510178, 0.9416060447692871, 0.9657920002937317, 0.9781847596168518, 0.945344865322113, 0.09052769094705582, 0.8600130677223206, 0.9662752151489258, 0.9244937896728516, 0.9918758273124695, 0.967890739440918, 0.9812783598899841, 0.09484416991472244, 0.711331307888031, 0.14226625859737396, 0.04742208495736122, 0.9041085243225098, 0.07232867926359177, 0.9168664216995239, 0.21210618317127228, 0.06748833507299423, 0.04820594936609268, 0.5206242799758911, 0.15425904095172882, 0.9414119124412537, 0.9621617794036865, 0.9824910163879395, 0.9747569561004639, 0.6913725733757019, 0.3005967438220978, 0.9612955451011658, 0.1589142382144928, 0.8379114270210266, 0.9684511423110962, 0.9370387196540833, 0.0585649199783802, 0.9309421181678772, 0.06395785510540009, 0.9984352588653564, 0.96195387840271, 0.20191381871700287, 0.7669331431388855, 0.03223834186792374, 0.9386159777641296, 0.03923816606402397, 0.7455251812934875, 0.222349613904953, 0.7739728689193726, 0.18682104349136353, 0.9713456630706787, 0.9747690558433533, 0.9198275208473206, 0.875381350517273, 0.0833696573972702, 0.9844234585762024, 0.9585724472999573, 0.986659586429596, 0.967579185962677, 0.12622633576393127, 0.17130716145038605, 0.0811455026268959, 0.1352425068616867, 0.06311316788196564, 0.12622633576393127, 0.09016166627407074, 0.21638800203800201, 0.9806876182556152, 0.9149006009101868, 0.2525891661643982, 0.7297020554542542, 0.9688344597816467, 0.9712801575660706, 0.4364197850227356, 0.1354406177997589, 0.29345467686653137, 0.09781822562217712, 0.03009791672229767, 0.90067458152771, 0.9945811033248901, 0.9456653594970703, 0.9891940355300903, 0.902024507522583, 0.9669122695922852, 0.9738415479660034, 0.8436153531074524, 0.1460103541612625, 0.9805968403816223, 0.6155376434326172, 0.25107455253601074, 0.12958687543869019, 0.22040249407291412, 0.7493684887886047, 0.9597774147987366, 0.7653304934501648, 0.15834423899650574, 0.05278141051530838, 0.24195070564746857, 0.7409740090370178, 0.21478629112243652, 0.7517520189285278, 0.028638171032071114, 0.997298538684845, 0.9986384510993958, 0.9547258615493774, 0.9515107274055481, 0.9631248712539673, 0.4804011285305023, 0.04177401214838028, 0.45951414108276367, 0.9786518812179565, 0.2120349407196045, 0.7710361480712891, 0.8673975467681885, 0.11721588671207428, 0.9711000919342041, 0.986820638179779, 0.9139882922172546, 0.9473015666007996, 0.9193255305290222, 0.06809818744659424, 0.9473037719726562, 0.9814056754112244, 0.9764432907104492, 0.34776556491851807, 0.16473105549812317, 0.13727587461471558, 0.05491035431623459, 0.16473105549812317, 0.1281241625547409, 0.9976059198379517, 0.9320157170295715, 0.898536205291748, 0.09983735531568527, 0.9713456630706787, 0.97775799036026, 0.9167479872703552, 0.967758059501648, 0.9402324557304382, 0.9503008723258972, 0.7977215647697449, 0.19145317375659943, 0.9712570905685425, 0.9854947328567505, 0.8836007714271545, 0.10195393115282059, 0.945252001285553, 0.04726260155439377, 0.940751850605011, 0.9804863333702087, 0.9790786504745483, 0.9933895468711853, 0.7858359813690186, 0.19645899534225464, 0.4363788366317749, 0.5282480716705322, 0.411033570766449, 0.5718727707862854, 0.9929777979850769, 0.9847427606582642, 0.9704843163490295, 0.962200403213501, 0.9985071420669556, 0.973116934299469, 0.9097989797592163, 0.21172618865966797, 0.5469593405723572, 0.22937004268169403, 0.9899372458457947, 0.9629350304603577, 0.25279173254966736, 0.2190861701965332, 0.522436261177063, 0.9345789551734924, 0.9467453956604004, 0.958734393119812, 0.053439777344465256, 0.28055885434150696, 0.3740784525871277, 0.14695939421653748, 0.1335994452238083, 0.9675677418708801, 0.9546864628791809, 0.38485217094421387, 0.6047676801681519, 0.9668554663658142, 0.9527652263641357, 0.9737382531166077, 0.08011597394943237, 0.9013047218322754, 0.8555917143821716, 0.13162949681282043, 0.9578956961631775, 0.9743752479553223, 0.9457272887229919, 0.8806024789810181, 0.053880076855421066, 0.005051257088780403, 0.05893133208155632, 0.9818176627159119, 0.9760540127754211, 0.989670991897583, 0.9986060857772827, 0.9573578238487244, 0.5997941493988037, 0.18882407248020172, 0.19993138313293457, 0.8829941749572754, 0.10188394039869308, 0.9360246658325195, 0.800831139087677, 0.18352380394935608, 0.972820520401001, 0.9449469447135925, 0.9521821737289429, 0.9190897345542908, 0.061272647231817245, 0.9663705825805664, 0.9295893311500549, 0.054681725800037384, 0.22497926652431488, 0.7578248977661133, 0.9570308327674866, 0.975677490234375, 0.2243845909833908, 0.7479486465454102, 0.9790614247322083, 0.29541999101638794, 0.4275815486907959, 0.06996788829565048, 0.06996788829565048, 0.07774209976196289, 0.06219368055462837, 0.20604634284973145, 0.755503237247467, 0.9297528862953186, 0.9855459332466125, 0.9568935036659241, 0.6203003525733948, 0.1577034741640091, 0.21027131378650665, 0.9664247632026672, 0.10206830501556396, 0.8845919966697693, 0.07724059373140335, 0.9075769782066345, 0.9525284171104431, 0.950265109539032, 0.5282338857650757, 0.0855235829949379, 0.1358315646648407, 0.2465091496706009, 0.9262338280677795, 0.906060516834259, 0.9676787257194519, 0.9782702326774597, 0.969695508480072, 0.9204900860786438, 0.9769111275672913, 0.9981885552406311, 0.8932167291641235, 0.09968063980340958, 0.005863567348569632, 0.7574849128723145, 0.07769075781106949, 0.13595882058143616, 0.9965852499008179, 0.9979605674743652, 0.9584252834320068, 0.2482372671365738, 0.10638739913702011, 0.1241186335682869, 0.4964745342731476, 0.9589813947677612, 0.970180332660675, 0.9372224807739258, 0.05857640504837036, 0.9479783177375793, 0.12107020616531372, 0.847491443157196, 0.866874635219574, 0.9655944108963013, 0.7652124166488647, 0.07690577208995819, 0.0884416401386261, 0.06921519339084625, 0.3526378870010376, 0.060452211648225784, 0.4936930537223816, 0.08060295134782791, 0.37741148471832275, 0.10064306110143661, 0.47805455327033997, 0.9899932146072388, 0.24170447885990143, 0.7470865845680237, 0.3068774938583374, 0.6649011969566345, 0.4831830561161041, 0.20894402265548706, 0.16976702213287354, 0.11753101646900177, 0.013059001415967941, 0.9986283183097839, 0.9658069014549255, 0.9622047543525696, 0.9874647855758667, 0.9565281271934509, 0.9571030139923096, 0.9425347447395325, 0.9987185597419739, 0.9713456630706787, 0.9653584361076355, 0.875982940196991, 0.9403352737426758, 0.07608389854431152, 0.9130068421363831, 0.947890043258667, 0.606229841709137, 0.13777950406074524, 0.22044721245765686, 0.9820709228515625, 0.9288609623908997, 0.9708417057991028, 0.96016526222229, 0.9713705778121948, 0.8097727298736572, 0.18403925001621246, 0.12967361509799957, 0.20947276055812836, 0.13964849710464478, 0.4289203882217407, 0.08977403491735458, 0.9763314723968506, 0.9485345482826233, 0.9195961356163025, 0.05409388989210129, 0.9544663429260254, 0.866710901260376, 0.11111678183078766, 0.9527179598808289, 0.1580451875925064, 0.25901851058006287, 0.5794990062713623, 0.10902233421802521, 0.8721786737442017, 0.8958415985107422, 0.9565857648849487, 0.9728980660438538, 0.9234527945518494, 0.5238036513328552, 0.05739731714129448, 0.09693768620491028, 0.1122436374425888, 0.012754959054291248, 0.005952314008027315, 0.011054297909140587, 0.017431776970624924, 0.004676818381994963, 0.06505028903484344, 0.0374145470559597, 0.020833099260926247, 0.022958926856517792, 0.01232979353517294, 0.6264409422874451, 0.32862475514411926, 0.030808569863438606, 0.9726667404174805, 0.01372369285672903, 0.0017154616070911288, 0.01029276940971613, 0.9508894681930542, 0.1566399186849594, 0.4217228889465332, 0.030123062431812286, 0.04217228665947914, 0.11446763575077057, 0.22893527150154114, 0.953783392906189, 0.19197708368301392, 0.18325085937976837, 0.008726231753826141, 0.1483459323644638, 0.2879656255245209, 0.17452462017536163, 0.9704241752624512, 0.9510439038276672, 0.9238991141319275, 0.0659927949309349, 0.9241510629653931, 0.5044803023338318, 0.22869773209095, 0.12780167162418365, 0.13452808558940887, 0.9688999056816101, 0.34544050693511963, 0.019739456474781036, 0.06908810138702393, 0.5625745058059692, 0.9804462194442749, 0.9345790147781372, 0.9716657400131226, 0.7061315178871155, 0.2868659198284149, 0.9433792233467102, 0.04867341369390488, 0.007964740507304668, 0.9624373912811279, 0.9855549335479736, 0.9024804830551147, 0.9702989459037781, 0.9887781143188477, 0.9537922739982605, 0.1449768841266632, 0.833617091178894, 0.9403546452522278, 0.8960356116294861, 0.10299260169267654, 0.9877398610115051, 0.010974887758493423, 0.9475589394569397, 0.9917556047439575, 0.003990968223661184, 0.001995484111830592, 0.03801945596933365, 0.1774241328239441, 0.7096965312957764, 0.0760389119386673, 0.9892367124557495, 0.9699850678443909, 0.9867076277732849, 0.5730686783790588, 0.20355214178562164, 0.00983064342290163, 0.023709198459982872, 0.030648475512862206, 0.01503510121256113, 0.013300281949341297, 0.09136715531349182, 0.022552652284502983, 0.016191648319363594, 0.9745866060256958, 0.1663675308227539, 0.7694498300552368, 0.062387820333242416, 0.8207523822784424, 0.17034482955932617, 0.12925827503204346, 0.8309460282325745, 0.03693093731999397, 0.9332327246665955, 0.9819169640541077, 0.9987693428993225, 0.9826450347900391, 0.9700672030448914, 0.9726691842079163, 0.9402400851249695, 0.05166154354810715, 0.9989073872566223, 0.9857724905014038, 0.94354647397995, 0.19178560376167297, 0.7991067171096802, 0.9803049564361572, 0.9633133411407471, 0.9990915060043335, 0.6328920722007751, 0.05607904493808746, 0.09613550454378128, 0.20028230547904968, 0.6659421324729919, 0.2950376570224762, 0.03371858969330788, 0.9266061186790466, 0.057912882417440414], \"Term\": [\"00\", \"000\", \"04\", \"04\", \"04\", \"05\", \"05\", \"05\", \"1\", \"1\", \"1\", \"1\", \"100\", \"100\", \"100\", \"100\", \"1258118492928249856\", \"19\", \"2\", \"2\", \"2\", \"2\", \"20\", \"20\", \"20\", \"2020\", \"2020\", \"2020\", \"2020\", \"2020\", \"22\", \"26ext\", \"26rfuid\", \"3\", \"3\", \"3\", \"3\", \"30\", \"30\", \"30\", \"30\", \"30\", \"3dbranch\", \"3dext1\", \"3dsh\", \"4\", \"4\", \"4\", \"4\", \"4\", \"50\", \"50\", \"50\", \"60\", \"abt\", \"abus\", \"accept\", \"accord\", \"account\", \"action\", \"action\", \"action\", \"activist\", \"ad\", \"ad\", \"admit\", \"again\", \"again\", \"ah\", \"ain\", \"ain\", \"all\", \"all\", \"almond\", \"along\", \"although\", \"am\", \"amzn\", \"an\", \"anic\", \"anic\", \"anic\", \"anic\", \"anic\", \"anic\", \"anim\", \"anim\", \"anim\", \"animalcruelti\", \"animallov\", \"annoy\", \"answer\", \"anti\", \"antinat\", \"anxieti\", \"anywher\", \"apart\", \"api\", \"appar\", \"arbonn\", \"area\", \"argu\", \"art\", \"art\", \"articl\", \"articl\", \"articl\", \"articl\", \"articl\", \"artisan\", \"asparagus\", \"ass\", \"ass\", \"ass\", \"assum\", \"at\", \"at\", \"at\", \"at\", \"ate\", \"athlet\", \"attack\", \"attempt\", \"avail\", \"avail\", \"avocado\", \"avocado\", \"awesom\", \"awesom\", \"aye\", \"b\", \"b12\", \"babi\", \"babi\", \"bacon\", \"bag\", \"bag\", \"bag\", \"bagel\", \"bake\", \"bake\", \"bakeri\", \"balanc\", \"bamboo\", \"banana\", \"bar\", \"bar\", \"bar\", \"bar\", \"bar\", \"base\", \"base\", \"base\", \"base\", \"base\", \"basic\", \"basic\", \"bath\", \"be\", \"be\", \"be\", \"bean\", \"bean\", \"beauti\", \"beauti\", \"beauti\", \"beauti\", \"beef\", \"beefin\", \"been\", \"beer\", \"below\", \"berri\", \"best\", \"best\", \"best\", \"best\", \"best\", \"best\", \"best\", \"bet\", \"beyond\", \"beyondmeat\", \"big\", \"big\", \"bill\", \"biodegrad\", \"biscuit\", \"bit\", \"bit\", \"bit\", \"bit\", \"bitch\", \"bitch\", \"bite\", \"bite\", \"black\", \"black\", \"black\", \"black\", \"black\", \"block\", \"blog\", \"blog\", \"blog\", \"blog\", \"bo\", \"boil\", \"boost\", \"boot\", \"bore\", \"bottl\", \"bowl\", \"bowl\", \"bowl\", \"box\", \"bread\", \"breakfast\", \"breakfast\", \"breakfast\", \"breakfast\", \"broccoli\", \"brother\", \"brown\", \"browni\", \"browni\", \"bruh\", \"brunch\", \"brutal\", \"bs\", \"buff\", \"buff\", \"buffalo\", \"build\", \"bun\", \"burger\", \"burger\", \"burrito\", \"butter\", \"butter\", \"butter\", \"butter\", \"by\", \"by\", \"by\", \"by\", \"by\", \"by\", \"by\", \"cake\", \"cake\", \"cake\", \"california\", \"campaign\", \"campaign\", \"campaign\", \"can\", \"can\", \"can\", \"carb\", \"carrot\", \"cashew\", \"cashew\", \"cauliflow\", \"cauliflow\", \"cbd\", \"changer\", \"chatwithvera\", \"check\", \"check\", \"check\", \"check\", \"check\", \"chees\", \"chees\", \"chees\", \"chees\", \"cheesecak\", \"chef\", \"chef\", \"chef\", \"chef\", \"chick\", \"chicken\", \"chicken\", \"chicken\", \"chickpea\", \"chickpea\", \"chili\", \"chilli\", \"china\", \"chines\", \"chip\", \"chip\", \"chocol\", \"chocol\", \"choic\", \"chorizo\", \"christian\", \"cider\", \"cinco\", \"class\", \"classic\", \"clean\", \"clean\", \"clean\", \"cleans\", \"click\", \"co\", \"co\", \"co\", \"co\", \"coconut\", \"coconut\", \"coconut\", \"code\", \"code\", \"coffe\", \"coffe\", \"cold\", \"color\", \"color\", \"comfort\", \"concentr\", \"confus\", \"consid\", \"consid\", \"consid\", \"contain\", \"contain\", \"contain\", \"contain\", \"content\", \"convert\", \"cook\", \"cook\", \"cook\", \"cookbook\", \"cooki\", \"corn\", \"coronavirus\", \"coronavirus\", \"coronavirus\", \"coronavirus\", \"correct\", \"countri\", \"covid\", \"crab\", \"cracker\", \"cream\", \"cri\", \"cri\", \"cruelt\", \"cruelt\", \"cruelti\", \"cruelti\", \"crueltyfre\", \"cup\", \"cup\", \"curbsid\", \"curri\", \"custom\", \"cute\", \"da\", \"dair\", \"dairi\", \"dairi\", \"dairi\", \"dalgona\", \"day\", \"day\", \"day\", \"day\", \"de\", \"de\", \"defici\", \"delici\", \"delici\", \"delici\", \"delici\", \"delici\", \"delici\", \"delici\", \"deliv\", \"deliv\", \"deliv\", \"deliv\", \"deliveri\", \"deliveri\", \"dem\", \"demand\", \"depend\", \"design\", \"dessert\", \"dessert\", \"dessert\", \"dessert\", \"detail\", \"detox\", \"develop\", \"diabet\", \"diet\", \"diet\", \"diet\", \"diet\", \"dietari\", \"dietari\", \"dinner\", \"dinner\", \"dinner\", \"dinner\", \"dip\", \"disappoint\", \"discount\", \"diseas\", \"diseas\", \"distanc\", \"dlvr\", \"dlvr\", \"do\", \"doctor\", \"don\", \"donut\", \"donut\", \"door\", \"doordash\", \"dough\", \"dough\", \"dream\", \"dress\", \"dress\", \"drink\", \"drink\", \"drink\", \"drive\", \"earlier\", \"earth\", \"earth\", \"earth\", \"earth\", \"easi\", \"easi\", \"easi\", \"easi\", \"easi\", \"eat\", \"eaten\", \"eaten\", \"eater\", \"eater\", \"ebay\", \"ec\", \"eco\", \"eco\", \"eco\", \"eco\", \"educ\", \"educ\", \"ee\", \"ee\", \"ee\", \"effect\", \"effect\", \"el\", \"el\", \"email\", \"en\", \"encourag\", \"end\", \"end\", \"end\", \"end\", \"enter\", \"environ\", \"environ\", \"environ\", \"episod\", \"es\", \"es\", \"es\", \"especi\", \"especi\", \"especi\", \"essenti\", \"essenti\", \"etsi\", \"etsi\", \"europ\", \"everyth\", \"everyth\", \"everyth\", \"everyth\", \"evil\", \"except\", \"excit\", \"excit\", \"expect\", \"expens\", \"expens\", \"experi\", \"experi\", \"expert\", \"explain\", \"explain\", \"exploit\", \"extrem\", \"eye\", \"face\", \"face\", \"factori\", \"fajita\", \"fanci\", \"fanci\", \"far\", \"far\", \"far\", \"farm\", \"farm\", \"fashion\", \"fat\", \"fat\", \"fave\", \"favourit\", \"featur\", \"featur\", \"fed\", \"feed\", \"feed\", \"feel\", \"feminist\", \"few\", \"few\", \"few\", \"few\", \"few\", \"fiber\", \"fight\", \"finish\", \"fire\", \"fit\", \"fit\", \"fit\", \"fit\", \"fit\", \"fit\", \"flavour\", \"flour\", \"flour\", \"flower\", \"food\", \"food\", \"food\", \"food\", \"food\", \"food\", \"food\", \"forev\", \"forward\", \"four\", \"free\", \"free\", \"fri\", \"fri\", \"friday\", \"friday\", \"friend\", \"friend\", \"fuckin\", \"fudg\", \"fuel\", \"fulli\", \"function\", \"fund\", \"funni\", \"fur\", \"futur\", \"futur\", \"g\", \"g\", \"g\", \"g\", \"g\", \"g\", \"game\", \"garlic\", \"garlic\", \"gate\", \"get\", \"get\", \"gg\", \"gift\", \"gift\", \"gift\", \"ginger\", \"gir\", \"giveaway\", \"giveaway\", \"giveaway\", \"gl\", \"glass\", \"glute\", \"gluten\", \"gmo\", \"gnyy\", \"go\", \"go\", \"goal\", \"goin\", \"good\", \"good\", \"goodearthbeauti\", \"goodi\", \"got\", \"govegan\", \"govegan\", \"govern\", \"grain\", \"gravi\", \"green\", \"grill\", \"ground\", \"guid\", \"guid\", \"gummi\", \"gym\", \"h\", \"had\", \"haha\", \"hair\", \"hand\", \"hand\", \"hand\", \"hand\", \"hard\", \"hard\", \"hard\", \"hard\", \"harm\", \"has\", \"hat\", \"have\", \"he\", \"head\", \"head\", \"health\", \"health\", \"health\", \"health\", \"health\", \"health\", \"health\", \"health\", \"health\", \"healthi\", \"healthi\", \"healthi\", \"healthi\", \"healthi\", \"healthi\", \"healthyeat\", \"healthyliv\", \"hear\", \"hear\", \"heat\", \"heaven\", \"hemp\", \"her\", \"herbivor\", \"hero\", \"hey\", \"hey\", \"hi\", \"him\", \"him\", \"him\", \"hippi\", \"his\", \"hit\", \"hold\", \"holocaust\", \"home\", \"home\", \"home\", \"homemad\", \"homemad\", \"homemad\", \"homemad\", \"hors\", \"hospit\", \"hot\", \"hot\", \"hot\", \"hot\", \"household\", \"how\", \"how\", \"how\", \"howev\", \"hqhap4jiyt\", \"html\", \"html\", \"html\", \"html\", \"html\", \"human\", \"human\", \"hummus\", \"hunt\", \"hurt\", \"husband\", \"hydrat\", \"i\", \"iamtabithabrown\", \"ice\", \"icecream\", \"icecream\", \"idk\", \"ie\", \"ie\", \"iend\", \"iend\", \"iend\", \"iend\", \"iend\", \"iend\", \"iend\", \"igshid\", \"ill\", \"imagin\", \"imma\", \"immun\", \"impact\", \"import\", \"import\", \"inde\", \"indian\", \"individu\", \"industri\", \"infecti\", \"ing\", \"ing\", \"ingredi\", \"ingredi\", \"ingredi\", \"ingredi\", \"inspir\", \"inspir\", \"inspir\", \"instagr\", \"instagram\", \"instant\", \"insult\", \"intak\", \"interview\", \"interview\", \"io\", \"ism\", \"issu\", \"it\", \"italian\", \"jam\", \"joe\", \"joke\", \"junk\", \"keto\", \"keto\", \"keto\", \"keto\", \"keto\", \"key\", \"kill\", \"kill\", \"kill\", \"king\", \"kit\", \"kitchen\", \"kitchen\", \"kitchen\", \"kitchen\", \"knew\", \"know\", \"known\", \"l\", \"lab\", \"lack\", \"ladi\", \"las\", \"later\", \"launch\", \"launch\", \"lavend\", \"lazi\", \"leather\", \"lemon\", \"lemon\", \"lentil\", \"lentil\", \"lettuc\", \"li\", \"liber\", \"lie\", \"lie\", \"like\", \"lime\", \"limit\", \"link\", \"link\", \"link\", \"lip\", \"liquid\", \"list\", \"list\", \"list\", \"list\", \"list\", \"list\", \"littl\", \"littl\", \"littl\", \"littl\", \"littl\", \"littl\", \"lmao\", \"load\", \"look\", \"loss\", \"lover\", \"lower\", \"lunch\", \"lunch\", \"ly\", \"ly\", \"ly\", \"ly\", \"mac\", \"made\", \"made\", \"made\", \"made\", \"made\", \"make\", \"make\", \"makeup\", \"mango\", \"mani\", \"mani\", \"mani\", \"mani\", \"manufactur\", \"mapl\", \"margarita\", \"market\", \"market\", \"market\", \"mash\", \"mate\", \"matter\", \"may\", \"may\", \"may\", \"may\", \"may\", \"may\", \"may\", \"may\", \"mayo\", \"me\", \"me\", \"me\", \"meal\", \"meal\", \"meal\", \"meant\", \"meat\", \"meat\", \"meatbal\", \"meatless\", \"medic\", \"medium\", \"medium\", \"meetedgar\", \"melt\", \"men\", \"men\", \"mend\", \"ment\", \"menu\", \"menu\", \"menu\", \"menu\", \"menu\", \"mexican\", \"mg\", \"middl\", \"middl\", \"milk\", \"milk\", \"milk\", \"minc\", \"mini\", \"mini\", \"minut\", \"minut\", \"minut\", \"mistic\", \"mix\", \"mix\", \"model\", \"moistur\", \"moisturis\", \"mother\", \"mother\", \"mothersday\", \"movement\", \"mozzarella\", \"muffin\", \"mum\", \"murder\", \"mushroom\", \"mushroom\", \"mushroom\", \"mushroom\", \"music\", \"mv\", \"n\", \"n\", \"n\", \"n\", \"nacho\", \"nacho\", \"nacho\", \"nail\", \"nam\", \"name\", \"name\", \"nasti\", \"nation\", \"nation\", \"natur\", \"natur\", \"natur\", \"natur\", \"natur\", \"near\", \"need\", \"neighbor\", \"net\", \"net\", \"new\", \"new\", \"new\", \"new\", \"new\", \"new\", \"new\", \"new\", \"news\", \"news\", \"news\", \"news\", \"news\", \"nice\", \"nice\", \"nice\", \"nice\", \"nice\", \"nice\", \"nigga\", \"non\", \"non\", \"non\", \"non\", \"non\", \"none\", \"noodl\", \"not\", \"not\", \"notic\", \"now\", \"now\", \"now\", \"nugget\", \"nutrit\", \"nutrit\", \"nutrit\", \"nutrit\", \"nutrit\", \"nutrit\", \"nyc\", \"o\", \"o\", \"o\", \"oatmeal\", \"obsess\", \"obvious\", \"offici\", \"often\", \"often\", \"oh\", \"oh\", \"oh\", \"oh\", \"oil\", \"oil\", \"oil\", \"oil\", \"om\", \"om\", \"om\", \"om\", \"om\", \"om\", \"om\", \"omega\", \"omega\", \"omg\", \"on\", \"on\", \"on\", \"onc\", \"onc\", \"one\", \"onion\", \"onli\", \"onlin\", \"opinion\", \"opportun\", \"or\", \"or\", \"or\", \"or\", \"order\", \"order\", \"organ\", \"organ\", \"organ\", \"ost\", \"ot\", \"our\", \"our\", \"our\", \"our\", \"out\", \"out\", \"out\", \"oven\", \"oven\", \"over\", \"over\", \"ow\", \"ow\", \"oz\", \"p\", \"p\", \"pack\", \"pack\", \"paint\", \"paleo\", \"pancak\", \"pandem\", \"pandem\", \"paper\", \"parent\", \"parti\", \"parti\", \"partner\", \"passion\", \"passion\", \"past\", \"past\", \"pasta\", \"pasta\", \"pasta\", \"patient\", \"patti\", \"pea\", \"peach\", \"peanut\", \"peopl\", \"peopl\", \"pepper\", \"pepper\", \"per\", \"pescatarian\", \"pesto\", \"pet\", \"pet\", \"petit\", \"phone\", \"pic\", \"pic\", \"pic\", \"pic\", \"pic\", \"pic\", \"pic\", \"pic\", \"pic\", \"pic\", \"pic\", \"pic\", \"pic\", \"pic\", \"pickl\", \"pie\", \"pie\", \"pie\", \"pie\", \"piec\", \"pig\", \"pin\", \"pineappl\", \"pink\", \"pinterest\", \"pizza\", \"plan\", \"plan\", \"plant\", \"plant\", \"plant\", \"plant\", \"plant\", \"plantbas\", \"plantbas\", \"plantbas\", \"plantbas\", \"plantbas\", \"plantbasednew\", \"plantpow\", \"plastic\", \"pleas\", \"pleas\", \"pleas\", \"plete\", \"plete\", \"pls\", \"pm\", \"poor\", \"popcorn\", \"popular\", \"poshmark\", \"poshmarkapp\", \"pot\", \"potato\", \"potato\", \"powder\", \"practic\", \"pre\", \"prevent\", \"price\", \"pro\", \"product\", \"product\", \"product\", \"profit\", \"project\", \"proper\", \"protein\", \"protein\", \"protein\", \"protest\", \"proud\", \"provid\", \"public\", \"pull\", \"pull\", \"pumpkin\", \"purs\", \"push\", \"queen\", \"queso\", \"quick\", \"quick\", \"quick\", \"quick\", \"quinoa\", \"quinoa\", \"quot\", \"r\", \"r\", \"r\", \"r\", \"r\", \"racist\", \"rais\", \"ramen\", \"ranch\", \"rang\", \"rang\", \"rather\", \"raw\", \"raw\", \"rawpassionuk\", \"read\", \"read\", \"real\", \"real\", \"realli\", \"receiv\", \"recip\", \"recip\", \"recip\", \"record\", \"red\", \"red\", \"red\", \"reduc\", \"reduc\", \"referr\", \"refus\", \"religion\", \"report\", \"report\", \"repost\", \"resourc\", \"respons\", \"rest\", \"restaur\", \"restaur\", \"restaur\", \"restaur\", \"restaur\", \"restaur\", \"restaur\", \"restaur\", \"result\", \"revers\", \"review\", \"review\", \"reviveoldpost\", \"reward\", \"rice\", \"rice\", \"rice\", \"rice\", \"rice\", \"rip\", \"roast\", \"rock\", \"roll\", \"rosemari\", \"rrkxtr\", \"rt\", \"run\", \"run\", \"safe\", \"salad\", \"salad\", \"salad\", \"sale\", \"sale\", \"salsa\", \"salt\", \"salt\", \"salt\", \"sandwich\", \"sandwich\", \"sauc\", \"sauc\", \"sauc\", \"sausag\", \"say\", \"scare\", \"school\", \"seafood\", \"season\", \"season\", \"season\", \"seed\", \"seem\", \"seem\", \"seen\", \"seen\", \"select\", \"sell\", \"sentient\", \"seri\", \"servic\", \"servic\", \"sexi\", \"sh\", \"shape\", \"share\", \"share\", \"share\", \"share\", \"share\", \"share\", \"she\", \"shirt\", \"shop\", \"shop\", \"shopmycloset\", \"shortag\", \"shot\", \"shred\", \"shrimp\", \"shut\", \"side\", \"side\", \"sister\", \"size\", \"skin\", \"skin\", \"skincar\", \"skincar\", \"skinni\", \"slice\", \"slutti\", \"smell\", \"smoke\", \"smoke\", \"smoothi\", \"smoothi\", \"snack\", \"snack\", \"soap\", \"social\", \"societi\", \"soft\", \"some\", \"sooth\", \"sorbet\", \"sorri\", \"sorri\", \"sorri\", \"soup\", \"sour\", \"sourc\", \"sourc\", \"sourc\", \"sourdough\", \"south\", \"southern\", \"soy\", \"soy\", \"soy\", \"soy\", \"soy\", \"spaghetti\", \"speak\", \"special\", \"special\", \"spend\", \"sperm\", \"spice\", \"spinach\", \"spinach\", \"spot\", \"spot\", \"sprout\", \"squash\", \"statement\", \"status\", \"status\", \"status\", \"status\", \"steak\", \"stew\", \"stick\", \"still\", \"stir\", \"store\", \"store\", \"store\", \"strawberri\", \"strawberri\", \"street\", \"studi\", \"studi\", \"stuf\", \"sub\", \"suck\", \"sugar\", \"sugar\", \"sun\", \"sunday\", \"sunday\", \"super\", \"super\", \"superfood\", \"supermarket\", \"supplement\", \"supplement\", \"suppli\", \"support\", \"support\", \"support\", \"support\", \"support\", \"support\", \"surpris\", \"surpris\", \"survey\", \"sushi\", \"swear\", \"sweet\", \"sweet\", \"sweet\", \"synthet\", \"system\", \"system\", \"ta\", \"ta\", \"tabitha\", \"tabl\", \"taco\", \"taco\", \"taco\", \"taco\", \"tacotuesday\", \"tap\", \"tattoo\", \"tend\", \"thai\", \"theecologist\", \"thefoultruth\", \"them\", \"there\", \"there\", \"there\", \"these\", \"these\", \"these\", \"thing\", \"think\", \"this\", \"tho\", \"tho\", \"tho\", \"tho\", \"thousand\", \"thread\", \"three\", \"three\", \"throne\", \"tinyurl\", \"tinyurl\", \"titl\", \"toast\", \"today\", \"today\", \"today\", \"today\", \"tofu\", \"tofu\", \"tofu\", \"tofu\", \"togeth\", \"togeth\", \"togeth\", \"tomato\", \"tomorrow\", \"tomorrow\", \"ton\", \"ton\", \"tonight\", \"tonight\", \"tonight\", \"tonight\", \"tonight\", \"too\", \"tortilla\", \"toward\", \"toxic\", \"trader\", \"travel\", \"treatment\", \"tri\", \"trk\", \"troll\", \"tropic\", \"truck\", \"truli\", \"truli\", \"trust\", \"truth\", \"truth\", \"truth\", \"tuesday\", \"tuna\", \"turkey\", \"turmer\", \"tw\", \"type\", \"type\", \"uk\", \"uk\", \"uk\", \"uk\", \"uk\", \"un\", \"unfortun\", \"unit\", \"unit\", \"univers\", \"ur\", \"ur\", \"usa\", \"utm\", \"utm\", \"utm\", \"v\", \"v\", \"valid\", \"valu\", \"vanilla\", \"varieti\", \"vegan\", \"vegan\", \"vegan\", \"vegan\", \"vegan\", \"vegan\", \"vegan\", \"vegan\", \"vegan\", \"vegan\", \"vegan\", \"vegan\", \"vegan\", \"vegan\", \"veget\", \"veget\", \"veget\", \"vegetarian\", \"vegetarian\", \"vegetarian\", \"vegetarian\", \"vegnew\", \"via\", \"via\", \"via\", \"via\", \"via\", \"via\", \"victim\", \"video\", \"video\", \"video\", \"video\", \"video\", \"video\", \"vinegar\", \"virus\", \"vitamin\", \"vitamin\", \"viva\", \"w\", \"w\", \"w\", \"w\", \"waffl\", \"wait\", \"wait\", \"wait\", \"wait\", \"walk\", \"warn\", \"wash\", \"watch\", \"watch\", \"we\", \"we\", \"we\", \"web\", \"websit\", \"wednesday\", \"weightloss\", \"weird\", \"weren\", \"what\", \"what\", \"wheat\", \"whi\", \"whi\", \"who\", \"who\", \"wholefood\", \"will\", \"will\", \"will\", \"win\", \"win\", \"win\", \"win\", \"wing\", \"wingfestuk\", \"wit\", \"with\", \"with\", \"with\", \"with\", \"with\", \"with\", \"with\", \"with\", \"with\", \"with\", \"woman\", \"women\", \"women\", \"women\", \"won\", \"won\", \"wonder\", \"wonder\", \"wonder\", \"woo\", \"workout\", \"would\", \"wow\", \"wrap\", \"wtf\", \"yeah\", \"yeah\", \"year\", \"yeast\", \"yellow\", \"yesterday\", \"yesterday\", \"yo\", \"yoga\", \"you\", \"youtu\", \"youtu\", \"youtu\", \"youtu\", \"youtub\", \"youtub\", \"youtub\", \"yummi\", \"yummi\"]}, \"R\": 30, \"lambda.step\": 0.01, \"plot.opts\": {\"xlab\": \"PC1\", \"ylab\": \"PC2\"}, \"topic.order\": [18, 12, 13, 1, 3, 16, 8, 14, 15, 11, 10, 19, 4, 20, 2, 6, 17, 9, 7, 5]};\n",
              "\n",
              "function LDAvis_load_lib(url, callback){\n",
              "  var s = document.createElement('script');\n",
              "  s.src = url;\n",
              "  s.async = true;\n",
              "  s.onreadystatechange = s.onload = callback;\n",
              "  s.onerror = function(){console.warn(\"failed to load library \" + url);};\n",
              "  document.getElementsByTagName(\"head\")[0].appendChild(s);\n",
              "}\n",
              "\n",
              "if(typeof(LDAvis) !== \"undefined\"){\n",
              "   // already loaded: just create the visualization\n",
              "   !function(LDAvis){\n",
              "       new LDAvis(\"#\" + \"ldavis_el121140529669358840403254594\", ldavis_el121140529669358840403254594_data);\n",
              "   }(LDAvis);\n",
              "}else if(typeof define === \"function\" && define.amd){\n",
              "   // require.js is available: use it to load d3/LDAvis\n",
              "   require.config({paths: {d3: \"https://cdnjs.cloudflare.com/ajax/libs/d3/3.5.5/d3.min\"}});\n",
              "   require([\"d3\"], function(d3){\n",
              "      window.d3 = d3;\n",
              "      LDAvis_load_lib(\"https://cdn.rawgit.com/bmabey/pyLDAvis/files/ldavis.v1.0.0.js\", function(){\n",
              "        new LDAvis(\"#\" + \"ldavis_el121140529669358840403254594\", ldavis_el121140529669358840403254594_data);\n",
              "      });\n",
              "    });\n",
              "}else{\n",
              "    // require.js not available: dynamically load d3 & LDAvis\n",
              "    LDAvis_load_lib(\"https://cdnjs.cloudflare.com/ajax/libs/d3/3.5.5/d3.min.js\", function(){\n",
              "         LDAvis_load_lib(\"https://cdn.rawgit.com/bmabey/pyLDAvis/files/ldavis.v1.0.0.js\", function(){\n",
              "                 new LDAvis(\"#\" + \"ldavis_el121140529669358840403254594\", ldavis_el121140529669358840403254594_data);\n",
              "            })\n",
              "         });\n",
              "}\n",
              "</script>"
            ],
            "text/plain": [
              "PreparedData(topic_coordinates=              x         y  topics  cluster       Freq\n",
              "topic                                                \n",
              "17    -0.418643  0.109221       1        1  47.792397\n",
              "11     0.021215  0.196596       2        1   4.644135\n",
              "12    -0.102038 -0.047738       3        1   4.122420\n",
              "0     -0.042175  0.234737       4        1   3.705200\n",
              "2     -0.082375 -0.173509       5        1   3.266760\n",
              "15    -0.049207 -0.165863       6        1   3.186800\n",
              "7     -0.005643 -0.067776       7        1   3.148028\n",
              "13     0.049484 -0.028492       8        1   3.048759\n",
              "14    -0.014630 -0.054250       9        1   2.915936\n",
              "10    -0.028720 -0.111972      10        1   2.760430\n",
              "9      0.091276  0.132873      11        1   2.543028\n",
              "18     0.074138 -0.017414      12        1   2.478353\n",
              "3      0.053805  0.039742      13        1   2.423259\n",
              "19     0.031978 -0.036392      14        1   2.420982\n",
              "1      0.123763  0.089583      15        1   2.302796\n",
              "5      0.009368 -0.046584      16        1   2.045928\n",
              "16     0.074978  0.002662      17        1   2.036738\n",
              "8      0.025609 -0.052587      18        1   1.768991\n",
              "6      0.087280 -0.008769      19        1   1.712704\n",
              "4      0.100536  0.005933      20        1   1.676351, topic_info=         Term         Freq        Total Category  logprob  loglift\n",
              "78          i  6501.000000  6501.000000  Default  30.0000  30.0000\n",
              "50      vegan  2352.000000  2352.000000  Default  29.0000  29.0000\n",
              "143         b   619.000000   619.000000  Default  28.0000  28.0000\n",
              "45        pic  1946.000000  1946.000000  Default  27.0000  27.0000\n",
              "115      with  1729.000000  1729.000000  Default  26.0000  26.0000\n",
              "...       ...          ...          ...      ...      ...      ...\n",
              "173   chicken    40.252106   261.350067  Topic20  -4.4314   2.2179\n",
              "2496   season    21.885014    47.876656  Topic20  -5.0408   3.3057\n",
              "383     pleas    29.192953   177.122162  Topic20  -4.7527   2.2856\n",
              "485     video    20.235079   114.597008  Topic20  -5.1192   2.3545\n",
              "45        pic    19.274086  1946.453369  Topic20  -5.1678  -0.5265\n",
              "\n",
              "[1047 rows x 6 columns], token_table=      Topic      Freq    Term\n",
              "term                         \n",
              "3185      5  0.949751      00\n",
              "5398     14  0.971541     000\n",
              "1479      3  0.054167      04\n",
              "1479      6  0.433334      04\n",
              "1479     13  0.487501      04\n",
              "...     ...       ...     ...\n",
              "561       6  0.665942  youtub\n",
              "561      17  0.295038  youtub\n",
              "561      20  0.033719  youtub\n",
              "925       7  0.926606   yummi\n",
              "925      20  0.057913   yummi\n",
              "\n",
              "[1633 rows x 3 columns], R=30, lambda_step=0.01, plot_opts={'xlab': 'PC1', 'ylab': 'PC2'}, topic_order=[18, 12, 13, 1, 3, 16, 8, 14, 15, 11, 10, 19, 4, 20, 2, 6, 17, 9, 7, 5])"
            ]
          },
          "metadata": {
            "tags": []
          },
          "execution_count": 64
        }
      ]
    },
    {
      "cell_type": "code",
      "metadata": {
        "id": "5t7AdgXO4_wi",
        "colab_type": "code",
        "colab": {}
      },
      "source": [
        ""
      ],
      "execution_count": 0,
      "outputs": []
    }
  ]
}